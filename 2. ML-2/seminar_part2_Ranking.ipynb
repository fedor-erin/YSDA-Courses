{
 "cells": [
  {
   "cell_type": "code",
   "execution_count": 3,
   "id": "6b12b114",
   "metadata": {
    "ExecuteTime": {
     "end_time": "2022-03-25T16:37:14.341449Z",
     "start_time": "2022-03-25T16:37:14.337441Z"
    }
   },
   "outputs": [],
   "source": [
    "import ast\n",
    "import json\n",
    "import matplotlib.pyplot as plt\n",
    "import numpy as np\n",
    "import os\n",
    "import pandas as pd\n",
    "import pickle\n",
    "import tensorflow as tf\n",
    "import tensorflow.keras.backend as K\n",
    "import warnings\n",
    "warnings.filterwarnings('ignore')\n",
    "\n",
    "from collections import Counter\n",
    "from random import randint, random\n",
    "from scipy.sparse import coo_matrix, hstack\n",
    "from sklearn.metrics.pairwise import euclidean_distances, cosine_distances, cosine_similarity\n",
    "from tensorflow import keras\n",
    "from tqdm import tqdm"
   ]
  },
  {
   "cell_type": "markdown",
   "id": "a1026459",
   "metadata": {},
   "source": [
    "## Считаем препроцессные данные из прошлого ноутбучка"
   ]
  },
  {
   "cell_type": "code",
   "execution_count": 4,
   "id": "45ba2b51",
   "metadata": {
    "ExecuteTime": {
     "end_time": "2022-03-25T16:37:25.250810Z",
     "start_time": "2022-03-25T16:37:25.156211Z"
    }
   },
   "outputs": [],
   "source": [
    "interactions_df = pd.read_pickle('data/interactions_preprocessed.pickle')\n",
    "users_df = pd.read_pickle('data/users_preprocessed.pickle')\n",
    "items_df = pd.read_pickle('data/items_preprocessed.pickle')"
   ]
  },
  {
   "cell_type": "code",
   "execution_count": 5,
   "id": "7550e33e",
   "metadata": {
    "ExecuteTime": {
     "end_time": "2022-03-25T16:37:26.676838Z",
     "start_time": "2022-03-25T16:37:26.664977Z"
    }
   },
   "outputs": [
    {
     "data": {
      "text/html": [
       "<div>\n",
       "<style scoped>\n",
       "    .dataframe tbody tr th:only-of-type {\n",
       "        vertical-align: middle;\n",
       "    }\n",
       "\n",
       "    .dataframe tbody tr th {\n",
       "        vertical-align: top;\n",
       "    }\n",
       "\n",
       "    .dataframe thead th {\n",
       "        text-align: right;\n",
       "    }\n",
       "</style>\n",
       "<table border=\"1\" class=\"dataframe\">\n",
       "  <thead>\n",
       "    <tr style=\"text-align: right;\">\n",
       "      <th></th>\n",
       "      <th>user_id</th>\n",
       "      <th>age</th>\n",
       "      <th>sex</th>\n",
       "    </tr>\n",
       "  </thead>\n",
       "  <tbody>\n",
       "    <tr>\n",
       "      <th>0</th>\n",
       "      <td>1</td>\n",
       "      <td>45_54</td>\n",
       "      <td>NaN</td>\n",
       "    </tr>\n",
       "    <tr>\n",
       "      <th>1</th>\n",
       "      <td>2</td>\n",
       "      <td>18_24</td>\n",
       "      <td>0.0</td>\n",
       "    </tr>\n",
       "    <tr>\n",
       "      <th>2</th>\n",
       "      <td>3</td>\n",
       "      <td>65_inf</td>\n",
       "      <td>0.0</td>\n",
       "    </tr>\n",
       "    <tr>\n",
       "      <th>3</th>\n",
       "      <td>4</td>\n",
       "      <td>18_24</td>\n",
       "      <td>0.0</td>\n",
       "    </tr>\n",
       "    <tr>\n",
       "      <th>4</th>\n",
       "      <td>5</td>\n",
       "      <td>35_44</td>\n",
       "      <td>0.0</td>\n",
       "    </tr>\n",
       "  </tbody>\n",
       "</table>\n",
       "</div>"
      ],
      "text/plain": [
       "   user_id     age  sex\n",
       "0        1   45_54  NaN\n",
       "1        2   18_24  0.0\n",
       "2        3  65_inf  0.0\n",
       "3        4   18_24  0.0\n",
       "4        5   35_44  0.0"
      ]
     },
     "execution_count": 5,
     "metadata": {},
     "output_type": "execute_result"
    }
   ],
   "source": [
    "users_df.head()"
   ]
  },
  {
   "cell_type": "code",
   "execution_count": 6,
   "id": "79db763a",
   "metadata": {
    "ExecuteTime": {
     "end_time": "2022-03-25T16:37:41.901644Z",
     "start_time": "2022-03-25T16:37:41.892545Z"
    }
   },
   "outputs": [],
   "source": [
    "items_df = items_df.rename(columns = {'id' : 'item_id'})"
   ]
  },
  {
   "cell_type": "code",
   "execution_count": 7,
   "id": "b102a2c6",
   "metadata": {
    "ExecuteTime": {
     "end_time": "2022-03-25T16:37:42.353561Z",
     "start_time": "2022-03-25T16:37:42.345695Z"
    }
   },
   "outputs": [
    {
     "data": {
      "text/html": [
       "<div>\n",
       "<style scoped>\n",
       "    .dataframe tbody tr th:only-of-type {\n",
       "        vertical-align: middle;\n",
       "    }\n",
       "\n",
       "    .dataframe tbody tr th {\n",
       "        vertical-align: top;\n",
       "    }\n",
       "\n",
       "    .dataframe thead th {\n",
       "        text-align: right;\n",
       "    }\n",
       "</style>\n",
       "<table border=\"1\" class=\"dataframe\">\n",
       "  <thead>\n",
       "    <tr style=\"text-align: right;\">\n",
       "      <th></th>\n",
       "      <th>item_id</th>\n",
       "      <th>title</th>\n",
       "      <th>genres</th>\n",
       "      <th>authors</th>\n",
       "      <th>year</th>\n",
       "    </tr>\n",
       "  </thead>\n",
       "  <tbody>\n",
       "    <tr>\n",
       "      <th>0</th>\n",
       "      <td>128115</td>\n",
       "      <td>Ворон-челобитчик</td>\n",
       "      <td>Зарубежные детские книги,Сказки,Зарубежная кла...</td>\n",
       "      <td>Михаил Салтыков-Щедрин</td>\n",
       "      <td>1886</td>\n",
       "    </tr>\n",
       "    <tr>\n",
       "      <th>1</th>\n",
       "      <td>210979</td>\n",
       "      <td>Скрипка Ротшильда</td>\n",
       "      <td>Классическая проза,Литература 19 века,Русская ...</td>\n",
       "      <td>Антон Чехов</td>\n",
       "      <td>1894</td>\n",
       "    </tr>\n",
       "    <tr>\n",
       "      <th>2</th>\n",
       "      <td>95632</td>\n",
       "      <td>Испорченные дети</td>\n",
       "      <td>Зарубежная классика,Классическая проза,Литерат...</td>\n",
       "      <td>Михаил Салтыков-Щедрин</td>\n",
       "      <td>1869</td>\n",
       "    </tr>\n",
       "    <tr>\n",
       "      <th>3</th>\n",
       "      <td>247906</td>\n",
       "      <td>Странный человек</td>\n",
       "      <td>Пьесы и драматургия,Литература 19 века</td>\n",
       "      <td>Михаил Лермонтов</td>\n",
       "      <td>1831</td>\n",
       "    </tr>\n",
       "    <tr>\n",
       "      <th>4</th>\n",
       "      <td>294280</td>\n",
       "      <td>Господа ташкентцы</td>\n",
       "      <td>Зарубежная классика,Классическая проза,Литерат...</td>\n",
       "      <td>Михаил Салтыков-Щедрин</td>\n",
       "      <td>1873</td>\n",
       "    </tr>\n",
       "  </tbody>\n",
       "</table>\n",
       "</div>"
      ],
      "text/plain": [
       "   item_id              title  \\\n",
       "0   128115   Ворон-челобитчик   \n",
       "1   210979  Скрипка Ротшильда   \n",
       "2    95632   Испорченные дети   \n",
       "3   247906   Странный человек   \n",
       "4   294280  Господа ташкентцы   \n",
       "\n",
       "                                              genres                 authors  \\\n",
       "0  Зарубежные детские книги,Сказки,Зарубежная кла...  Михаил Салтыков-Щедрин   \n",
       "1  Классическая проза,Литература 19 века,Русская ...             Антон Чехов   \n",
       "2  Зарубежная классика,Классическая проза,Литерат...  Михаил Салтыков-Щедрин   \n",
       "3             Пьесы и драматургия,Литература 19 века        Михаил Лермонтов   \n",
       "4  Зарубежная классика,Классическая проза,Литерат...  Михаил Салтыков-Щедрин   \n",
       "\n",
       "   year  \n",
       "0  1886  \n",
       "1  1894  \n",
       "2  1869  \n",
       "3  1831  \n",
       "4  1873  "
      ]
     },
     "execution_count": 7,
     "metadata": {},
     "output_type": "execute_result"
    }
   ],
   "source": [
    "items_df.head()"
   ]
  },
  {
   "cell_type": "code",
   "execution_count": 8,
   "id": "f6c228f7",
   "metadata": {
    "ExecuteTime": {
     "end_time": "2022-03-25T16:37:45.179521Z",
     "start_time": "2022-03-25T16:37:45.171498Z"
    }
   },
   "outputs": [
    {
     "data": {
      "text/html": [
       "<div>\n",
       "<style scoped>\n",
       "    .dataframe tbody tr th:only-of-type {\n",
       "        vertical-align: middle;\n",
       "    }\n",
       "\n",
       "    .dataframe tbody tr th {\n",
       "        vertical-align: top;\n",
       "    }\n",
       "\n",
       "    .dataframe thead th {\n",
       "        text-align: right;\n",
       "    }\n",
       "</style>\n",
       "<table border=\"1\" class=\"dataframe\">\n",
       "  <thead>\n",
       "    <tr style=\"text-align: right;\">\n",
       "      <th></th>\n",
       "      <th>user_id</th>\n",
       "      <th>item_id</th>\n",
       "      <th>progress</th>\n",
       "      <th>rating</th>\n",
       "      <th>start_date</th>\n",
       "    </tr>\n",
       "  </thead>\n",
       "  <tbody>\n",
       "    <tr>\n",
       "      <th>0</th>\n",
       "      <td>126706</td>\n",
       "      <td>14433</td>\n",
       "      <td>80</td>\n",
       "      <td>NaN</td>\n",
       "      <td>2018-01-01</td>\n",
       "    </tr>\n",
       "    <tr>\n",
       "      <th>1</th>\n",
       "      <td>127290</td>\n",
       "      <td>140952</td>\n",
       "      <td>58</td>\n",
       "      <td>NaN</td>\n",
       "      <td>2018-01-01</td>\n",
       "    </tr>\n",
       "    <tr>\n",
       "      <th>2</th>\n",
       "      <td>66991</td>\n",
       "      <td>198453</td>\n",
       "      <td>89</td>\n",
       "      <td>NaN</td>\n",
       "      <td>2018-01-01</td>\n",
       "    </tr>\n",
       "    <tr>\n",
       "      <th>3</th>\n",
       "      <td>46791</td>\n",
       "      <td>83486</td>\n",
       "      <td>23</td>\n",
       "      <td>5.0</td>\n",
       "      <td>2018-01-01</td>\n",
       "    </tr>\n",
       "    <tr>\n",
       "      <th>4</th>\n",
       "      <td>79313</td>\n",
       "      <td>188770</td>\n",
       "      <td>88</td>\n",
       "      <td>5.0</td>\n",
       "      <td>2018-01-01</td>\n",
       "    </tr>\n",
       "  </tbody>\n",
       "</table>\n",
       "</div>"
      ],
      "text/plain": [
       "   user_id  item_id  progress  rating start_date\n",
       "0   126706    14433        80     NaN 2018-01-01\n",
       "1   127290   140952        58     NaN 2018-01-01\n",
       "2    66991   198453        89     NaN 2018-01-01\n",
       "3    46791    83486        23     5.0 2018-01-01\n",
       "4    79313   188770        88     5.0 2018-01-01"
      ]
     },
     "execution_count": 8,
     "metadata": {},
     "output_type": "execute_result"
    }
   ],
   "source": [
    "interactions_df.head()"
   ]
  },
  {
   "cell_type": "markdown",
   "id": "db895814",
   "metadata": {},
   "source": [
    "## Готовим фичи пользователей"
   ]
  },
  {
   "cell_type": "code",
   "execution_count": 9,
   "id": "933397af",
   "metadata": {
    "ExecuteTime": {
     "end_time": "2022-03-25T16:38:01.345127Z",
     "start_time": "2022-03-25T16:38:01.327456Z"
    }
   },
   "outputs": [
    {
     "data": {
      "text/html": [
       "<div>\n",
       "<style scoped>\n",
       "    .dataframe tbody tr th:only-of-type {\n",
       "        vertical-align: middle;\n",
       "    }\n",
       "\n",
       "    .dataframe tbody tr th {\n",
       "        vertical-align: top;\n",
       "    }\n",
       "\n",
       "    .dataframe thead th {\n",
       "        text-align: right;\n",
       "    }\n",
       "</style>\n",
       "<table border=\"1\" class=\"dataframe\">\n",
       "  <thead>\n",
       "    <tr style=\"text-align: right;\">\n",
       "      <th></th>\n",
       "      <th>user_id</th>\n",
       "      <th>age_18_24</th>\n",
       "      <th>age_25_34</th>\n",
       "      <th>age_35_44</th>\n",
       "      <th>age_45_54</th>\n",
       "      <th>age_55_64</th>\n",
       "      <th>age_65_inf</th>\n",
       "      <th>sex_0.0</th>\n",
       "      <th>sex_1.0</th>\n",
       "    </tr>\n",
       "  </thead>\n",
       "  <tbody>\n",
       "    <tr>\n",
       "      <th>0</th>\n",
       "      <td>1</td>\n",
       "      <td>0</td>\n",
       "      <td>0</td>\n",
       "      <td>0</td>\n",
       "      <td>1</td>\n",
       "      <td>0</td>\n",
       "      <td>0</td>\n",
       "      <td>0</td>\n",
       "      <td>0</td>\n",
       "    </tr>\n",
       "    <tr>\n",
       "      <th>1</th>\n",
       "      <td>2</td>\n",
       "      <td>1</td>\n",
       "      <td>0</td>\n",
       "      <td>0</td>\n",
       "      <td>0</td>\n",
       "      <td>0</td>\n",
       "      <td>0</td>\n",
       "      <td>1</td>\n",
       "      <td>0</td>\n",
       "    </tr>\n",
       "    <tr>\n",
       "      <th>2</th>\n",
       "      <td>3</td>\n",
       "      <td>0</td>\n",
       "      <td>0</td>\n",
       "      <td>0</td>\n",
       "      <td>0</td>\n",
       "      <td>0</td>\n",
       "      <td>1</td>\n",
       "      <td>1</td>\n",
       "      <td>0</td>\n",
       "    </tr>\n",
       "    <tr>\n",
       "      <th>3</th>\n",
       "      <td>4</td>\n",
       "      <td>1</td>\n",
       "      <td>0</td>\n",
       "      <td>0</td>\n",
       "      <td>0</td>\n",
       "      <td>0</td>\n",
       "      <td>0</td>\n",
       "      <td>1</td>\n",
       "      <td>0</td>\n",
       "    </tr>\n",
       "    <tr>\n",
       "      <th>4</th>\n",
       "      <td>5</td>\n",
       "      <td>0</td>\n",
       "      <td>0</td>\n",
       "      <td>1</td>\n",
       "      <td>0</td>\n",
       "      <td>0</td>\n",
       "      <td>0</td>\n",
       "      <td>1</td>\n",
       "      <td>0</td>\n",
       "    </tr>\n",
       "  </tbody>\n",
       "</table>\n",
       "</div>"
      ],
      "text/plain": [
       "   user_id  age_18_24  age_25_34  age_35_44  age_45_54  age_55_64  age_65_inf  \\\n",
       "0        1          0          0          0          1          0           0   \n",
       "1        2          1          0          0          0          0           0   \n",
       "2        3          0          0          0          0          0           1   \n",
       "3        4          1          0          0          0          0           0   \n",
       "4        5          0          0          1          0          0           0   \n",
       "\n",
       "   sex_0.0  sex_1.0  \n",
       "0        0        0  \n",
       "1        1        0  \n",
       "2        1        0  \n",
       "3        1        0  \n",
       "4        1        0  "
      ]
     },
     "execution_count": 9,
     "metadata": {},
     "output_type": "execute_result"
    }
   ],
   "source": [
    "user_cat_feats = [\"age\", \"sex\"]\n",
    "\n",
    "users_ohe_df = users_df.user_id\n",
    "for feat in user_cat_feats:\n",
    "  # получаем датафрейм с one-hot encoding для каждой категориальной фичи\n",
    "    ohe_feat_df = pd.get_dummies(users_df[feat], prefix=feat)\n",
    "  # конкатенируем ohe-hot датафрейм с датафреймом, \n",
    "  # который мы получили на предыдущем шаге\n",
    "    users_ohe_df = pd.concat([users_ohe_df, ohe_feat_df], axis=1)\n",
    "\n",
    "users_ohe_df.head()\n"
   ]
  },
  {
   "cell_type": "markdown",
   "id": "0824e2ab",
   "metadata": {},
   "source": [
    "## Готовим фичи айтемов"
   ]
  },
  {
   "cell_type": "code",
   "execution_count": 10,
   "id": "2750ab86",
   "metadata": {
    "ExecuteTime": {
     "end_time": "2022-03-25T16:38:16.733164Z",
     "start_time": "2022-03-25T16:38:16.472904Z"
    }
   },
   "outputs": [
    {
     "data": {
      "text/html": [
       "<div>\n",
       "<style scoped>\n",
       "    .dataframe tbody tr th:only-of-type {\n",
       "        vertical-align: middle;\n",
       "    }\n",
       "\n",
       "    .dataframe tbody tr th {\n",
       "        vertical-align: top;\n",
       "    }\n",
       "\n",
       "    .dataframe thead th {\n",
       "        text-align: right;\n",
       "    }\n",
       "</style>\n",
       "<table border=\"1\" class=\"dataframe\">\n",
       "  <thead>\n",
       "    <tr style=\"text-align: right;\">\n",
       "      <th></th>\n",
       "      <th>item_id</th>\n",
       "      <th>year_04.01.2014</th>\n",
       "      <th>year_04.08.2010</th>\n",
       "      <th>year_1000</th>\n",
       "      <th>year_1048–1123</th>\n",
       "      <th>year_1260–1327</th>\n",
       "      <th>year_1307–1321</th>\n",
       "      <th>year_1350</th>\n",
       "      <th>year_1353</th>\n",
       "      <th>year_1486</th>\n",
       "      <th>...</th>\n",
       "      <th>year_до 1937 г.</th>\n",
       "      <th>year_до 1940 г.</th>\n",
       "      <th>year_до 1942 г.</th>\n",
       "      <th>year_до 1959 г., 2018 г.</th>\n",
       "      <th>year_до 1968 г.</th>\n",
       "      <th>year_до 1972 г.</th>\n",
       "      <th>year_ок. 355 г. до н. э.</th>\n",
       "      <th>year_около 1900 г.</th>\n",
       "      <th>year_около 500 г. до н.э.</th>\n",
       "      <th>year_первая половина XIX dtrf</th>\n",
       "    </tr>\n",
       "  </thead>\n",
       "  <tbody>\n",
       "    <tr>\n",
       "      <th>0</th>\n",
       "      <td>128115</td>\n",
       "      <td>0</td>\n",
       "      <td>0</td>\n",
       "      <td>0</td>\n",
       "      <td>0</td>\n",
       "      <td>0</td>\n",
       "      <td>0</td>\n",
       "      <td>0</td>\n",
       "      <td>0</td>\n",
       "      <td>0</td>\n",
       "      <td>...</td>\n",
       "      <td>0</td>\n",
       "      <td>0</td>\n",
       "      <td>0</td>\n",
       "      <td>0</td>\n",
       "      <td>0</td>\n",
       "      <td>0</td>\n",
       "      <td>0</td>\n",
       "      <td>0</td>\n",
       "      <td>0</td>\n",
       "      <td>0</td>\n",
       "    </tr>\n",
       "    <tr>\n",
       "      <th>1</th>\n",
       "      <td>210979</td>\n",
       "      <td>0</td>\n",
       "      <td>0</td>\n",
       "      <td>0</td>\n",
       "      <td>0</td>\n",
       "      <td>0</td>\n",
       "      <td>0</td>\n",
       "      <td>0</td>\n",
       "      <td>0</td>\n",
       "      <td>0</td>\n",
       "      <td>...</td>\n",
       "      <td>0</td>\n",
       "      <td>0</td>\n",
       "      <td>0</td>\n",
       "      <td>0</td>\n",
       "      <td>0</td>\n",
       "      <td>0</td>\n",
       "      <td>0</td>\n",
       "      <td>0</td>\n",
       "      <td>0</td>\n",
       "      <td>0</td>\n",
       "    </tr>\n",
       "    <tr>\n",
       "      <th>2</th>\n",
       "      <td>95632</td>\n",
       "      <td>0</td>\n",
       "      <td>0</td>\n",
       "      <td>0</td>\n",
       "      <td>0</td>\n",
       "      <td>0</td>\n",
       "      <td>0</td>\n",
       "      <td>0</td>\n",
       "      <td>0</td>\n",
       "      <td>0</td>\n",
       "      <td>...</td>\n",
       "      <td>0</td>\n",
       "      <td>0</td>\n",
       "      <td>0</td>\n",
       "      <td>0</td>\n",
       "      <td>0</td>\n",
       "      <td>0</td>\n",
       "      <td>0</td>\n",
       "      <td>0</td>\n",
       "      <td>0</td>\n",
       "      <td>0</td>\n",
       "    </tr>\n",
       "    <tr>\n",
       "      <th>3</th>\n",
       "      <td>247906</td>\n",
       "      <td>0</td>\n",
       "      <td>0</td>\n",
       "      <td>0</td>\n",
       "      <td>0</td>\n",
       "      <td>0</td>\n",
       "      <td>0</td>\n",
       "      <td>0</td>\n",
       "      <td>0</td>\n",
       "      <td>0</td>\n",
       "      <td>...</td>\n",
       "      <td>0</td>\n",
       "      <td>0</td>\n",
       "      <td>0</td>\n",
       "      <td>0</td>\n",
       "      <td>0</td>\n",
       "      <td>0</td>\n",
       "      <td>0</td>\n",
       "      <td>0</td>\n",
       "      <td>0</td>\n",
       "      <td>0</td>\n",
       "    </tr>\n",
       "    <tr>\n",
       "      <th>4</th>\n",
       "      <td>294280</td>\n",
       "      <td>0</td>\n",
       "      <td>0</td>\n",
       "      <td>0</td>\n",
       "      <td>0</td>\n",
       "      <td>0</td>\n",
       "      <td>0</td>\n",
       "      <td>0</td>\n",
       "      <td>0</td>\n",
       "      <td>0</td>\n",
       "      <td>...</td>\n",
       "      <td>0</td>\n",
       "      <td>0</td>\n",
       "      <td>0</td>\n",
       "      <td>0</td>\n",
       "      <td>0</td>\n",
       "      <td>0</td>\n",
       "      <td>0</td>\n",
       "      <td>0</td>\n",
       "      <td>0</td>\n",
       "      <td>0</td>\n",
       "    </tr>\n",
       "  </tbody>\n",
       "</table>\n",
       "<p>5 rows × 1054 columns</p>\n",
       "</div>"
      ],
      "text/plain": [
       "   item_id  year_04.01.2014  year_04.08.2010  year_1000  year_1048–1123  \\\n",
       "0   128115                0                0          0               0   \n",
       "1   210979                0                0          0               0   \n",
       "2    95632                0                0          0               0   \n",
       "3   247906                0                0          0               0   \n",
       "4   294280                0                0          0               0   \n",
       "\n",
       "   year_1260–1327  year_1307–1321  year_1350  year_1353  year_1486  ...  \\\n",
       "0               0               0          0          0          0  ...   \n",
       "1               0               0          0          0          0  ...   \n",
       "2               0               0          0          0          0  ...   \n",
       "3               0               0          0          0          0  ...   \n",
       "4               0               0          0          0          0  ...   \n",
       "\n",
       "   year_до 1937 г.  year_до 1940 г.  year_до 1942 г.  \\\n",
       "0                0                0                0   \n",
       "1                0                0                0   \n",
       "2                0                0                0   \n",
       "3                0                0                0   \n",
       "4                0                0                0   \n",
       "\n",
       "   year_до 1959 г., 2018 г.  year_до 1968 г.  year_до 1972 г.  \\\n",
       "0                         0                0                0   \n",
       "1                         0                0                0   \n",
       "2                         0                0                0   \n",
       "3                         0                0                0   \n",
       "4                         0                0                0   \n",
       "\n",
       "   year_ок. 355 г. до н. э.  year_около 1900 г.  year_около 500 г. до н.э.  \\\n",
       "0                         0                   0                          0   \n",
       "1                         0                   0                          0   \n",
       "2                         0                   0                          0   \n",
       "3                         0                   0                          0   \n",
       "4                         0                   0                          0   \n",
       "\n",
       "   year_первая половина XIX dtrf  \n",
       "0                              0  \n",
       "1                              0  \n",
       "2                              0  \n",
       "3                              0  \n",
       "4                              0  \n",
       "\n",
       "[5 rows x 1054 columns]"
      ]
     },
     "execution_count": 10,
     "metadata": {},
     "output_type": "execute_result"
    }
   ],
   "source": [
    "item_cat_feats = ['year']\n",
    "\n",
    "items_ohe_df = items_df.item_id\n",
    "\n",
    "for feat in item_cat_feats:\n",
    "    ohe_feat_df = pd.get_dummies(items_df[feat], prefix=feat)\n",
    "    items_ohe_df = pd.concat([items_ohe_df, ohe_feat_df], axis=1) \n",
    "\n",
    "items_ohe_df.head()"
   ]
  },
  {
   "cell_type": "markdown",
   "id": "71ebb212",
   "metadata": {},
   "source": [
    "## Сделаем матрицу взаимодействий"
   ]
  },
  {
   "cell_type": "code",
   "execution_count": 11,
   "id": "ceae7aed",
   "metadata": {
    "ExecuteTime": {
     "end_time": "2022-03-25T16:38:23.434403Z",
     "start_time": "2022-03-25T16:38:23.403532Z"
    }
   },
   "outputs": [
    {
     "data": {
      "text/plain": [
       "99357     6575\n",
       "316995    2706\n",
       "109201    2585\n",
       "241026    2300\n",
       "28889     2287\n",
       "          ... \n",
       "180212       4\n",
       "93290        3\n",
       "132600       3\n",
       "171910       3\n",
       "285283       2\n",
       "Name: item_id, Length: 59599, dtype: int64"
      ]
     },
     "execution_count": 11,
     "metadata": {},
     "output_type": "execute_result"
    }
   ],
   "source": [
    "interactions_df.item_id.value_counts()"
   ]
  },
  {
   "cell_type": "code",
   "execution_count": 12,
   "id": "d6d38416",
   "metadata": {
    "ExecuteTime": {
     "end_time": "2022-03-25T16:38:29.396016Z",
     "start_time": "2022-03-25T16:38:29.365352Z"
    }
   },
   "outputs": [
    {
     "data": {
      "text/plain": [
       "41297     2091\n",
       "150282    1352\n",
       "155199     850\n",
       "143558     832\n",
       "86301      822\n",
       "          ... \n",
       "61054        1\n",
       "62524        1\n",
       "131211       1\n",
       "101207       1\n",
       "62409        1\n",
       "Name: user_id, Length: 151600, dtype: int64"
      ]
     },
     "execution_count": 12,
     "metadata": {},
     "output_type": "execute_result"
    }
   ],
   "source": [
    "interactions_df.user_id.value_counts()"
   ]
  },
  {
   "cell_type": "code",
   "execution_count": 13,
   "id": "f7e30952",
   "metadata": {
    "ExecuteTime": {
     "end_time": "2022-03-25T16:38:29.775569Z",
     "start_time": "2022-03-25T16:38:29.624186Z"
    }
   },
   "outputs": [
    {
     "data": {
      "text/plain": [
       "<AxesSubplot:>"
      ]
     },
     "execution_count": 13,
     "metadata": {},
     "output_type": "execute_result"
    },
    {
     "data": {
      "image/png": "[encoded data removed]",
      "text/plain": [
       "<Figure size 432x288 with 1 Axes>"
      ]
     },
     "metadata": {
      "needs_background": "light"
     },
     "output_type": "display_data"
    }
   ],
   "source": [
    "interactions_df.progress.hist()"
   ]
  },
  {
   "cell_type": "code",
   "execution_count": null,
   "id": "c52b2b5b",
   "metadata": {},
   "outputs": [],
   "source": []
  },
  {
   "cell_type": "code",
   "execution_count": 14,
   "id": "972f0014",
   "metadata": {
    "ExecuteTime": {
     "end_time": "2022-03-25T16:39:08.953400Z",
     "start_time": "2022-03-25T16:39:07.964931Z"
    }
   },
   "outputs": [
    {
     "name": "stdout",
     "output_type": "stream",
     "text": [
      "N users before: 151600\n",
      "N items before: 59599\n",
      "\n",
      "N users after: 81243\n",
      "N items after: 49405\n"
     ]
    }
   ],
   "source": [
    "print(f\"N users before: {interactions_df.user_id.nunique()}\")\n",
    "print(f\"N items before: {interactions_df.item_id.nunique()}\\n\")\n",
    "\n",
    "# отфильтруем все события взаимодействий, в которых пользователь прочитал\n",
    "# книгу менее чем на 5 процентов\n",
    "interactions_df = interactions_df[interactions_df.progress > 5]\n",
    "\n",
    "# соберем всех пользователей, которые прочитали \n",
    "# больше 5 книг \n",
    "valid_users = []\n",
    "\n",
    "c = Counter(interactions_df.user_id)\n",
    "for user_id, entries in c.most_common():\n",
    "    if entries > 5:\n",
    "        valid_users.append(user_id)\n",
    "\n",
    "# и соберем все книги, которые прочитали больше 10 пользователей\n",
    "valid_items = []\n",
    "\n",
    "c = Counter(interactions_df.item_id)\n",
    "for item_id, entries in c.most_common():\n",
    "    if entries > 10:\n",
    "        valid_items.append(item_id)\n",
    "\n",
    "# отбросим непопулярные книги и неактивных юзеров\n",
    "interactions_df = interactions_df[interactions_df.user_id.isin(valid_users)]\n",
    "interactions_df = interactions_df[interactions_df.item_id.isin(valid_items)]\n",
    "\n",
    "print(f\"N users after: {interactions_df.user_id.nunique()}\")\n",
    "print(f\"N items after: {interactions_df.item_id.nunique()}\")"
   ]
  },
  {
   "cell_type": "markdown",
   "id": "33bb36d1",
   "metadata": {},
   "source": [
    "После фильтрации может получиться так, что некоторые айтемы/юзеры есть в датасете взаимодействий, но при этом они отсутствуют в датасетах айтемов/юзеров или наоборот. Поэтому найдем id айтемов и id юзеров, которые есть во всех датасетах и оставим только их."
   ]
  },
  {
   "cell_type": "code",
   "execution_count": 15,
   "id": "fd47167b",
   "metadata": {
    "ExecuteTime": {
     "end_time": "2022-03-25T16:39:42.951096Z",
     "start_time": "2022-03-25T16:39:42.373765Z"
    }
   },
   "outputs": [
    {
     "name": "stdout",
     "output_type": "stream",
     "text": [
      "73069\n",
      "49405\n"
     ]
    }
   ],
   "source": [
    "common_users = set(interactions_df.user_id.unique()).intersection(set(users_ohe_df.user_id.unique()))\n",
    "common_items = set(interactions_df.item_id.unique()).intersection(set(items_ohe_df.item_id.unique()))\n",
    "\n",
    "print(len(common_users))\n",
    "print(len(common_items))\n",
    "\n",
    "interactions_df = interactions_df[interactions_df.item_id.isin(common_items)]\n",
    "interactions_df = interactions_df[interactions_df.user_id.isin(common_users)]\n",
    "\n",
    "items_ohe_df = items_ohe_df[items_ohe_df.item_id.isin(common_items)]\n",
    "users_ohe_df = users_ohe_df[users_ohe_df.user_id.isin(common_users)]"
   ]
  },
  {
   "cell_type": "markdown",
   "id": "11bc8b13",
   "metadata": {},
   "source": [
    "Соберем взаимодействия в матрицу user*item так, чтобы в строках этой матрицы были user_id, в столбцах - item_id, а на пересечениях строк и столбцов - единица, если пользователь взаимодействовал с айтемом и ноль, если нет.\n",
    "\n",
    "Такую матрицу удобно собирать в numpy array, однако нужно помнить, что numpy array индексируется порядковыми индексами, а нам же удобнее использовать item_id и user_id.\n",
    "\n",
    "Создадим некие внутренние индексы для user_id и item_id - uid и iid. Для этого просто соберем все user_id и item_id и пронумеруем их по порядку."
   ]
  },
  {
   "cell_type": "code",
   "execution_count": 16,
   "id": "284d5164",
   "metadata": {
    "ExecuteTime": {
     "end_time": "2022-03-25T16:40:25.231914Z",
     "start_time": "2022-03-25T16:40:25.110924Z"
    }
   },
   "outputs": [
    {
     "name": "stdout",
     "output_type": "stream",
     "text": [
      "[0, 1, 2, 3, 4]\n",
      "[0, 1, 2, 3, 4]\n"
     ]
    },
    {
     "data": {
      "text/html": [
       "<div>\n",
       "<style scoped>\n",
       "    .dataframe tbody tr th:only-of-type {\n",
       "        vertical-align: middle;\n",
       "    }\n",
       "\n",
       "    .dataframe tbody tr th {\n",
       "        vertical-align: top;\n",
       "    }\n",
       "\n",
       "    .dataframe thead th {\n",
       "        text-align: right;\n",
       "    }\n",
       "</style>\n",
       "<table border=\"1\" class=\"dataframe\">\n",
       "  <thead>\n",
       "    <tr style=\"text-align: right;\">\n",
       "      <th></th>\n",
       "      <th>user_id</th>\n",
       "      <th>item_id</th>\n",
       "      <th>progress</th>\n",
       "      <th>rating</th>\n",
       "      <th>start_date</th>\n",
       "      <th>uid</th>\n",
       "      <th>iid</th>\n",
       "    </tr>\n",
       "  </thead>\n",
       "  <tbody>\n",
       "    <tr>\n",
       "      <th>0</th>\n",
       "      <td>126706</td>\n",
       "      <td>14433</td>\n",
       "      <td>80</td>\n",
       "      <td>NaN</td>\n",
       "      <td>2018-01-01</td>\n",
       "      <td>57964</td>\n",
       "      <td>2181</td>\n",
       "    </tr>\n",
       "    <tr>\n",
       "      <th>3</th>\n",
       "      <td>46791</td>\n",
       "      <td>83486</td>\n",
       "      <td>23</td>\n",
       "      <td>5.0</td>\n",
       "      <td>2018-01-01</td>\n",
       "      <td>21551</td>\n",
       "      <td>12799</td>\n",
       "    </tr>\n",
       "    <tr>\n",
       "      <th>4</th>\n",
       "      <td>79313</td>\n",
       "      <td>188770</td>\n",
       "      <td>88</td>\n",
       "      <td>5.0</td>\n",
       "      <td>2018-01-01</td>\n",
       "      <td>36542</td>\n",
       "      <td>29033</td>\n",
       "    </tr>\n",
       "    <tr>\n",
       "      <th>5</th>\n",
       "      <td>63454</td>\n",
       "      <td>78434</td>\n",
       "      <td>87</td>\n",
       "      <td>NaN</td>\n",
       "      <td>2018-01-01</td>\n",
       "      <td>29280</td>\n",
       "      <td>12007</td>\n",
       "    </tr>\n",
       "    <tr>\n",
       "      <th>6</th>\n",
       "      <td>127451</td>\n",
       "      <td>14876</td>\n",
       "      <td>69</td>\n",
       "      <td>NaN</td>\n",
       "      <td>2018-01-01</td>\n",
       "      <td>58304</td>\n",
       "      <td>2251</td>\n",
       "    </tr>\n",
       "  </tbody>\n",
       "</table>\n",
       "</div>"
      ],
      "text/plain": [
       "   user_id  item_id  progress  rating start_date    uid    iid\n",
       "0   126706    14433        80     NaN 2018-01-01  57964   2181\n",
       "3    46791    83486        23     5.0 2018-01-01  21551  12799\n",
       "4    79313   188770        88     5.0 2018-01-01  36542  29033\n",
       "5    63454    78434        87     NaN 2018-01-01  29280  12007\n",
       "6   127451    14876        69     NaN 2018-01-01  58304   2251"
      ]
     },
     "execution_count": 16,
     "metadata": {},
     "output_type": "execute_result"
    }
   ],
   "source": [
    "interactions_df[\"uid\"] = interactions_df[\"user_id\"].astype(\"category\")\n",
    "interactions_df[\"uid\"] = interactions_df[\"uid\"].cat.codes\n",
    "\n",
    "interactions_df[\"iid\"] = interactions_df[\"item_id\"].astype(\"category\")\n",
    "interactions_df[\"iid\"] = interactions_df[\"iid\"].cat.codes\n",
    "\n",
    "print(sorted(interactions_df.iid.unique())[:5])\n",
    "print(sorted(interactions_df.uid.unique())[:5])\n",
    "interactions_df.head()"
   ]
  },
  {
   "cell_type": "markdown",
   "id": "4a5da053",
   "metadata": {},
   "source": [
    "Отнормируем матрицу взаимодействий"
   ]
  },
  {
   "cell_type": "code",
   "execution_count": 17,
   "id": "645db4f2",
   "metadata": {
    "ExecuteTime": {
     "end_time": "2022-03-25T16:41:07.942146Z",
     "start_time": "2022-03-25T16:40:39.455342Z"
    }
   },
   "outputs": [],
   "source": [
    "interactions_vec = np.zeros((interactions_df.uid.nunique(), \n",
    "                             interactions_df.iid.nunique())) \n",
    "\n",
    "for user_id, item_id in zip(interactions_df.uid, interactions_df.iid):\n",
    "    interactions_vec[user_id, item_id] += 1\n",
    "\n",
    "\n",
    "res = interactions_vec.sum(axis=1)\n",
    "for i in range(len(interactions_vec)):\n",
    "    interactions_vec[i] /= res[i]"
   ]
  },
  {
   "cell_type": "code",
   "execution_count": 18,
   "id": "4d62eda4",
   "metadata": {
    "ExecuteTime": {
     "end_time": "2022-03-25T16:41:07.997294Z",
     "start_time": "2022-03-25T16:41:07.943747Z"
    }
   },
   "outputs": [
    {
     "name": "stdout",
     "output_type": "stream",
     "text": [
      "49405\n",
      "49405\n",
      "73069\n",
      "73069\n"
     ]
    },
    {
     "data": {
      "text/plain": [
       "set()"
      ]
     },
     "execution_count": 18,
     "metadata": {},
     "output_type": "execute_result"
    }
   ],
   "source": [
    "print(interactions_df.item_id.nunique())\n",
    "print(items_ohe_df.item_id.nunique())\n",
    "print(interactions_df.user_id.nunique())\n",
    "print(users_ohe_df.user_id.nunique())\n",
    "\n",
    "set(items_ohe_df.item_id.unique()) - set(interactions_df.item_id.unique())"
   ]
  },
  {
   "cell_type": "markdown",
   "id": "581b38ff",
   "metadata": {},
   "source": [
    "Для того, чтобы можно было удобно превратить iid/uid в item_id/user_id и наоборот соберем словари \n",
    "\n",
    "{iid: item_id}, {uid: user_id} и {item_id: iid}, {user_id: uid}."
   ]
  },
  {
   "cell_type": "code",
   "execution_count": 19,
   "id": "aae1c0e9",
   "metadata": {
    "ExecuteTime": {
     "end_time": "2022-03-25T16:41:08.226743Z",
     "start_time": "2022-03-25T16:41:07.998402Z"
    }
   },
   "outputs": [],
   "source": [
    "iid_to_item_id = interactions_df[[\"iid\", \"item_id\"]].drop_duplicates().set_index(\"iid\").to_dict()[\"item_id\"]\n",
    "item_id_to_iid = interactions_df[[\"iid\", \"item_id\"]].drop_duplicates().set_index(\"item_id\").to_dict()[\"iid\"]\n",
    "\n",
    "uid_to_user_id = interactions_df[[\"uid\", \"user_id\"]].drop_duplicates().set_index(\"uid\").to_dict()[\"user_id\"]\n",
    "user_id_to_uid = interactions_df[[\"uid\", \"user_id\"]].drop_duplicates().set_index(\"user_id\").to_dict()[\"uid\"]"
   ]
  },
  {
   "cell_type": "markdown",
   "id": "1fa6c883",
   "metadata": {},
   "source": [
    "И проиндексируем датасеты users_ohe_df и items_ohe_df по внутренним айди:"
   ]
  },
  {
   "cell_type": "code",
   "execution_count": 20,
   "id": "5dea8c38",
   "metadata": {
    "ExecuteTime": {
     "end_time": "2022-03-25T16:41:08.362577Z",
     "start_time": "2022-03-25T16:41:08.228216Z"
    }
   },
   "outputs": [],
   "source": [
    "items_ohe_df[\"iid\"] = items_ohe_df[\"item_id\"].apply(lambda x: item_id_to_iid[x])\n",
    "items_ohe_df = items_ohe_df.set_index(\"iid\")\n",
    "\n",
    "users_ohe_df[\"uid\"] = users_ohe_df[\"user_id\"].apply(lambda x: user_id_to_uid[x])\n",
    "users_ohe_df = users_ohe_df.set_index(\"uid\")"
   ]
  },
  {
   "cell_type": "code",
   "execution_count": null,
   "id": "48342c8a",
   "metadata": {},
   "outputs": [],
   "source": []
  },
  {
   "cell_type": "code",
   "execution_count": 21,
   "id": "f7cfd549",
   "metadata": {
    "ExecuteTime": {
     "end_time": "2022-03-25T16:42:48.445484Z",
     "start_time": "2022-03-25T16:42:48.441727Z"
    }
   },
   "outputs": [],
   "source": [
    "def triplet_loss(y_true, y_pred, n_dims=128, alpha=0.4):\n",
    "    # будем ожидать, что на вход функции прилетит три сконкатенированных \n",
    "    # вектора - вектор юзера и два вектора айтема\n",
    "    anchor = y_pred[:, 0:n_dims]\n",
    "    positive = y_pred[:, n_dims:n_dims*2]\n",
    "    negative = y_pred[:, n_dims*2:n_dims*3]\n",
    "\n",
    "    # считаем расстояния от вектора юзера до вектора хорошего айтема\n",
    "    pos_dist = K.sum(K.square(anchor - positive), axis=1)\n",
    "    # и до плохого\n",
    "    neg_dist = K.sum(K.square(anchor - negative), axis=1)\n",
    "\n",
    "    # считаем лосс\n",
    "    basic_loss = pos_dist - neg_dist + alpha\n",
    "    loss = K.maximum(basic_loss, 0.0) # возвращаем ноль, если лосс отрицательный\n",
    " \n",
    "    return loss"
   ]
  },
  {
   "cell_type": "markdown",
   "id": "d884a049",
   "metadata": {
    "ExecuteTime": {
     "end_time": "2021-10-28T19:19:05.615364Z",
     "start_time": "2021-10-28T19:19:05.612463Z"
    }
   },
   "source": [
    "Попробуйте другие лоссы, например, BPR Triplet loss"
   ]
  },
  {
   "cell_type": "markdown",
   "id": "892f55d4",
   "metadata": {
    "ExecuteTime": {
     "end_time": "2021-10-23T11:20:03.327838Z",
     "start_time": "2021-10-23T11:20:03.324389Z"
    }
   },
   "source": [
    "## Генератор и семплирование\n",
    "\n",
    "Сделаем простой генератор. Он будет брать рандромного юзера, и два разных айтема - хороший пример и плохой:\n",
    "- хорошим примером будет тот айтем, который был взят из датасета взаимодействий в соответствии с распределением просмотренных айтемов для этого юзера;\n",
    "- а плохим айтемом будет просто любой другой _случайный айтем_*\n",
    "\n",
    "\n",
    "\\* _подумайте, как можно использовать информацию о качестве взаимодействия юзеров с айтемами для более репрезентативного сэмплирования?_"
   ]
  },
  {
   "cell_type": "code",
   "execution_count": 22,
   "id": "d5a2066f",
   "metadata": {
    "ExecuteTime": {
     "end_time": "2022-03-25T16:44:03.676051Z",
     "start_time": "2022-03-25T16:44:03.671222Z"
    }
   },
   "outputs": [],
   "source": [
    "def generator(items, users, interactions, batch_size=1024):\n",
    "    while True:\n",
    "        uid_meta = []\n",
    "        uid_interaction = []\n",
    "        pos = []\n",
    "        neg = []\n",
    "        for _ in range(batch_size):\n",
    "            # берем рандомный uid\n",
    "            uid_i = randint(0, interactions.shape[0]-1)\n",
    "            # id хорошего айтема\n",
    "            pos_i = np.random.choice(range(interactions.shape[1]), p=interactions[uid_i])\n",
    "            # id плохого айтема\n",
    "            neg_i = np.random.choice(range(interactions.shape[1]))\n",
    "            # фичи юзера\n",
    "            uid_meta.append(users.iloc[uid_i])\n",
    "            # вектор айтемов, с которыми юзер взаимодействовал\n",
    "            uid_interaction.append(interactions_vec[uid_i])\n",
    "            # фичи хорошего айтема\n",
    "            pos.append(items.iloc[pos_i])\n",
    "            # фичи плохого айтема\n",
    "            neg.append(items.iloc[neg_i])\n",
    "            \n",
    "        yield [np.array(uid_meta), np.array(uid_interaction), np.array(pos), np.array(neg)], [np.array(uid_meta), np.array(uid_interaction)]\n"
   ]
  },
  {
   "cell_type": "code",
   "execution_count": 23,
   "id": "1dc696ce",
   "metadata": {
    "ExecuteTime": {
     "end_time": "2022-03-25T16:44:17.370350Z",
     "start_time": "2022-03-25T16:44:04.516474Z"
    }
   },
   "outputs": [
    {
     "name": "stdout",
     "output_type": "stream",
     "text": [
      "вектор фичей юзера: (1024, 8)\n",
      "вектор взаимодействий юзера с айтемами: (1024, 49405)\n",
      "вектор 'хорошего' айтема: (1024, 1053)\n",
      "вектор 'плохого' айтема: (1024, 1053)\n",
      "\n",
      "вектор фичей юзера: (1024, 8)\n",
      "вектор взаимодействий юзера с айтемами: (1024, 49405)\n"
     ]
    }
   ],
   "source": [
    "# инициализируем генератор\n",
    "gen = generator(items=items_ohe_df.drop([\"item_id\"], axis=1), \n",
    "                users=users_ohe_df.drop([\"user_id\"], axis=1), \n",
    "                interactions=interactions_vec)\n",
    "\n",
    "ret = next(gen)\n",
    "\n",
    "\n",
    "print(f\"вектор фичей юзера: {ret[0][0].shape}\")\n",
    "print(f\"вектор взаимодействий юзера с айтемами: {ret[0][1].shape}\")\n",
    "print(f\"вектор 'хорошего' айтема: {ret[0][2].shape}\")\n",
    "print(f\"вектор 'плохого' айтема: {ret[0][3].shape}\")\n",
    "print()\n",
    "print(f\"вектор фичей юзера: {ret[1][0].shape}\")\n",
    "print(f\"вектор взаимодействий юзера с айтемами: {ret[1][1].shape}\")"
   ]
  },
  {
   "cell_type": "markdown",
   "id": "6091fb7b",
   "metadata": {},
   "source": [
    "### Сделайте генаратор, который будет использовать информацию о качестве взаимодействия юзеров с айтемами для более репрезентативного сэмплирования"
   ]
  },
  {
   "cell_type": "code",
   "execution_count": 24,
   "id": "16688731",
   "metadata": {
    "ExecuteTime": {
     "end_time": "2022-03-25T16:45:48.272360Z",
     "start_time": "2022-03-25T16:45:48.112458Z"
    }
   },
   "outputs": [
    {
     "name": "stdout",
     "output_type": "stream",
     "text": [
      "N_FACTORS: 128\n",
      "ITEM_MODEL_SHAPE: (1053,)\n",
      "USER_META_MODEL_SHAPE: (8,)\n",
      "USER_INTERACTION_MODEL_SHAPE: (49405,)\n"
     ]
    }
   ],
   "source": [
    "N_FACTORS = 128\n",
    "\n",
    "# в датасетах есть столбец user_id/item_id, помним, что он не является фичей для обучения!\n",
    "ITEM_MODEL_SHAPE = (items_ohe_df.drop([\"item_id\"], axis=1).shape[1], ) \n",
    "USER_META_MODEL_SHAPE = (users_ohe_df.drop([\"user_id\"], axis=1).shape[1], )\n",
    "\n",
    "USER_INTERACTION_MODEL_SHAPE = (interactions_vec.shape[1], )\n",
    "\n",
    "print(f\"N_FACTORS: {N_FACTORS}\")\n",
    "print(f\"ITEM_MODEL_SHAPE: {ITEM_MODEL_SHAPE}\")\n",
    "print(f\"USER_META_MODEL_SHAPE: {USER_META_MODEL_SHAPE}\")\n",
    "print(f\"USER_INTERACTION_MODEL_SHAPE: {USER_INTERACTION_MODEL_SHAPE}\")"
   ]
  },
  {
   "cell_type": "code",
   "execution_count": 25,
   "id": "b89ac4a9",
   "metadata": {
    "ExecuteTime": {
     "end_time": "2022-03-25T16:48:14.900803Z",
     "start_time": "2022-03-25T16:48:14.663182Z"
    }
   },
   "outputs": [
    {
     "name": "stderr",
     "output_type": "stream",
     "text": [
      "2022-03-25 19:48:14.690779: W tensorflow/stream_executor/platform/default/dso_loader.cc:64] Could not load dynamic library 'libcudart.so.11.0'; dlerror: libcudart.so.11.0: cannot open shared object file: No such file or directory\n",
      "2022-03-25 19:48:14.690839: W tensorflow/stream_executor/platform/default/dso_loader.cc:64] Could not load dynamic library 'libcublas.so.11'; dlerror: libcublas.so.11: cannot open shared object file: No such file or directory\n",
      "2022-03-25 19:48:14.690995: W tensorflow/stream_executor/platform/default/dso_loader.cc:64] Could not load dynamic library 'libcublasLt.so.11'; dlerror: libcublasLt.so.11: cannot open shared object file: No such file or directory\n",
      "2022-03-25 19:48:14.694038: W tensorflow/stream_executor/platform/default/dso_loader.cc:64] Could not load dynamic library 'libcusolver.so.11'; dlerror: libcusolver.so.11: cannot open shared object file: No such file or directory\n",
      "2022-03-25 19:48:14.694082: W tensorflow/stream_executor/platform/default/dso_loader.cc:64] Could not load dynamic library 'libcusparse.so.11'; dlerror: libcusparse.so.11: cannot open shared object file: No such file or directory\n",
      "2022-03-25 19:48:14.694119: W tensorflow/stream_executor/platform/default/dso_loader.cc:64] Could not load dynamic library 'libcudnn.so.8'; dlerror: libcudnn.so.8: cannot open shared object file: No such file or directory\n",
      "2022-03-25 19:48:14.694130: W tensorflow/core/common_runtime/gpu/gpu_device.cc:1850] Cannot dlopen some GPU libraries. Please make sure the missing libraries mentioned above are installed properly if you would like to use GPU. Follow the guide at https://www.tensorflow.org/install/gpu for how to download and setup the required libraries for your platform.\n",
      "Skipping registering GPU devices...\n",
      "2022-03-25 19:48:14.694524: I tensorflow/core/platform/cpu_feature_guard.cc:151] This TensorFlow binary is optimized with oneAPI Deep Neural Network Library (oneDNN) to use the following CPU instructions in performance-critical operations:  AVX2 AVX512F FMA\n",
      "To enable them in other operations, rebuild TensorFlow with the appropriate compiler flags.\n"
     ]
    }
   ],
   "source": [
    "def item_model(n_factors=N_FACTORS):\n",
    "    # входной слой\n",
    "    inp = keras.layers.Input(shape=ITEM_MODEL_SHAPE)\n",
    "    \n",
    "    # полносвязный слой\n",
    "    layer_1 = keras.layers.Dense(N_FACTORS, activation='elu', use_bias=False,\n",
    "                               kernel_regularizer=keras.regularizers.l2(1e-6),\n",
    "                               activity_regularizer=keras.regularizers.l2(l2=1e-6))(inp)\n",
    "\n",
    "    # делаем residual connection - складываем два слоя, \n",
    "    # чтобы градиенты не затухали во время обучения\n",
    "    layer_2 = keras.layers.Dense(N_FACTORS, activation='elu', use_bias=False,\n",
    "                             kernel_regularizer=keras.regularizers.l2(1e-6),\n",
    "                             activity_regularizer=keras.regularizers.l2(l2=1e-6))(layer_1)\n",
    "    \n",
    "    add = keras.layers.Add()([layer_1, layer_2])\n",
    "    \n",
    "    # выходной слой\n",
    "    out = keras.layers.Dense(N_FACTORS, activation='linear', use_bias=False,\n",
    "                             kernel_regularizer=keras.regularizers.l2(1e-6),\n",
    "                             activity_regularizer=keras.regularizers.l2(l2=1e-6))(add)\n",
    "    \n",
    "    return keras.models.Model(inp, out)\n",
    "\n",
    "\n",
    "def user_model(n_factors=N_FACTORS):\n",
    "    # входной слой для вектора фичей юзера (из users_ohe_df)\n",
    "    inp_meta = keras.layers.Input(shape=USER_META_MODEL_SHAPE)\n",
    "    # входной слой для вектора прочтений (из iteractions_vec)\n",
    "    inp_interaction = keras.layers.Input(shape=USER_INTERACTION_MODEL_SHAPE)\n",
    "\n",
    "    # полносвязный слой\n",
    "    layer_1_meta = keras.layers.Dense(N_FACTORS, activation='elu', use_bias=False,\n",
    "                                 kernel_regularizer=keras.regularizers.l2(1e-6),\n",
    "                                 activity_regularizer=keras.regularizers.l2(l2=1e-6))(inp_meta)\n",
    "\n",
    "    layer_1_interaction = keras.layers.Dense(N_FACTORS, activation='elu', use_bias=False,\n",
    "                                 kernel_regularizer=keras.regularizers.l2(1e-6),\n",
    "                                 activity_regularizer=keras.regularizers.l2(l2=1e-6))(inp_interaction)\n",
    "\n",
    "    # делаем residual connection - складываем два слоя,\n",
    "    # чтобы градиенты не затухали во время обучения\n",
    "    layer_2_meta = keras.layers.Dense(N_FACTORS, activation='elu', use_bias=False,\n",
    "                                 kernel_regularizer=keras.regularizers.l2(1e-6),\n",
    "                                 activity_regularizer=keras.regularizers.l2(l2=1e-6))(layer_1_meta)\n",
    "    \n",
    "\n",
    "    add = keras.layers.Add()([layer_1_meta, layer_2_meta])\n",
    "    \n",
    "    # конкатенируем вектор фичей с вектором прочтений\n",
    "    concat_meta_interaction = keras.layers.Concatenate()([add, layer_1_interaction])\n",
    "    \n",
    "    # выходной слой\n",
    "    out = keras.layers.Dense(N_FACTORS, activation='linear', use_bias=False,\n",
    "                             kernel_regularizer=keras.regularizers.l2(1e-6),\n",
    "                             activity_regularizer=keras.regularizers.l2(l2=1e-6))(concat_meta_interaction)\n",
    "    \n",
    "    return keras.models.Model([inp_meta, inp_interaction], out)\n",
    "\n",
    "# инициализируем модели юзера и айтема\n",
    "i2v = item_model()\n",
    "u2v = user_model()\n",
    "\n",
    "# вход для вектора фичей юзера (из users_ohe_df)\n",
    "ancor_meta_in = keras.layers.Input(shape=USER_META_MODEL_SHAPE)\n",
    "# вход для вектора прочтений юзера (из interactions_vec)\n",
    "ancor_interaction_in = keras.layers.Input(shape=USER_INTERACTION_MODEL_SHAPE)\n",
    "\n",
    "# вход для вектора \"хорошего\" айтема\n",
    "pos_in = keras.layers.Input(shape=ITEM_MODEL_SHAPE)\n",
    "# вход для вектора \"плохого\" айтема\n",
    "neg_in = keras.layers.Input(shape=ITEM_MODEL_SHAPE)\n",
    "\n",
    "# получаем вектор юзера\n",
    "ancor = u2v([ancor_meta_in, ancor_interaction_in])\n",
    "# получаем вектор \"хорошего\" айтема\n",
    "pos = i2v(pos_in)\n",
    "# получаем вектор \"плохого\" айтема\n",
    "neg = i2v(neg_in)\n",
    "\n",
    "# конкатенируем полученные векторы\n",
    "res = keras.layers.Concatenate(name=\"concat_ancor_pos_neg\")([ancor, pos, neg])\n",
    "\n",
    "# собираем модель\n",
    "model = keras.models.Model([ancor_meta_in, ancor_interaction_in, pos_in, neg_in], res)"
   ]
  },
  {
   "cell_type": "markdown",
   "id": "2ce97cdf",
   "metadata": {},
   "source": [
    "### Попробуйте передать текстовые признаки в модель"
   ]
  },
  {
   "cell_type": "code",
   "execution_count": 26,
   "id": "3a21ad65",
   "metadata": {
    "ExecuteTime": {
     "end_time": "2022-03-25T16:48:37.984519Z",
     "start_time": "2022-03-25T16:48:37.981349Z"
    }
   },
   "outputs": [],
   "source": [
    "model_name = 'recsys_resnet_linear'\n",
    "\n",
    "# логируем процесс обучения в тензорборд\n",
    "t_board = keras.callbacks.TensorBoard(log_dir=f'runs/{model_name}')\n",
    "\n",
    "# уменьшаем learning_rate, если лосс долго не уменьшается (в течение двух эпох)\n",
    "decay = keras.callbacks.ReduceLROnPlateau(monitor='loss', patience=2, factor=0.8, verbose=1)\n",
    "\n",
    "# сохраняем модель после каждой эпохи, если лосс уменьшился\n",
    "check = keras.callbacks.ModelCheckpoint(filepath=model_name + '/epoch{epoch}-{loss:.2f}.h5', monitor=\"loss\")\n"
   ]
  },
  {
   "cell_type": "code",
   "execution_count": 27,
   "id": "b632eaca",
   "metadata": {
    "ExecuteTime": {
     "end_time": "2022-03-25T16:48:52.931534Z",
     "start_time": "2022-03-25T16:48:52.921317Z"
    }
   },
   "outputs": [],
   "source": [
    "# компилируем модель, используем оптимайзер Adam и triplet loss\n",
    "opt = keras.optimizers.Adam(lr=0.001)\n",
    "model.compile(loss=triplet_loss, optimizer=opt)"
   ]
  },
  {
   "cell_type": "code",
   "execution_count": 28,
   "id": "f695ed3b",
   "metadata": {
    "ExecuteTime": {
     "end_time": "2022-03-25T16:48:59.574388Z",
     "start_time": "2022-03-25T16:48:59.534563Z"
    }
   },
   "outputs": [
    {
     "name": "stdout",
     "output_type": "stream",
     "text": [
      "Model: \"model_3\"\n",
      "__________________________________________________________________________________________________\n",
      " Layer (type)                   Output Shape         Param #     Connected to                     \n",
      "==================================================================================================\n",
      " input_8 (InputLayer)           [(None, 1053)]       0           []                               \n",
      "                                                                                                  \n",
      " dense_7 (Dense)                (None, 128)          134784      ['input_8[0][0]']                \n",
      "                                                                                                  \n",
      " dense_8 (Dense)                (None, 128)          16384       ['dense_7[0][0]']                \n",
      "                                                                                                  \n",
      " add_2 (Add)                    (None, 128)          0           ['dense_7[0][0]',                \n",
      "                                                                  'dense_8[0][0]']                \n",
      "                                                                                                  \n",
      " dense_9 (Dense)                (None, 128)          16384       ['add_2[0][0]']                  \n",
      "                                                                                                  \n",
      "==================================================================================================\n",
      "Total params: 167,552\n",
      "Trainable params: 167,552\n",
      "Non-trainable params: 0\n",
      "__________________________________________________________________________________________________\n"
     ]
    }
   ],
   "source": [
    "# модель айтема\n",
    "item_model().summary()"
   ]
  },
  {
   "cell_type": "code",
   "execution_count": 29,
   "id": "d0d787d8",
   "metadata": {
    "ExecuteTime": {
     "end_time": "2022-03-25T16:49:05.559180Z",
     "start_time": "2022-03-25T16:49:05.499692Z"
    }
   },
   "outputs": [
    {
     "name": "stdout",
     "output_type": "stream",
     "text": [
      "Model: \"model_4\"\n",
      "__________________________________________________________________________________________________\n",
      " Layer (type)                   Output Shape         Param #     Connected to                     \n",
      "==================================================================================================\n",
      " input_9 (InputLayer)           [(None, 8)]          0           []                               \n",
      "                                                                                                  \n",
      " dense_10 (Dense)               (None, 128)          1024        ['input_9[0][0]']                \n",
      "                                                                                                  \n",
      " dense_12 (Dense)               (None, 128)          16384       ['dense_10[0][0]']               \n",
      "                                                                                                  \n",
      " input_10 (InputLayer)          [(None, 49405)]      0           []                               \n",
      "                                                                                                  \n",
      " add_3 (Add)                    (None, 128)          0           ['dense_10[0][0]',               \n",
      "                                                                  'dense_12[0][0]']               \n",
      "                                                                                                  \n",
      " dense_11 (Dense)               (None, 128)          6323840     ['input_10[0][0]']               \n",
      "                                                                                                  \n",
      " concatenate_1 (Concatenate)    (None, 256)          0           ['add_3[0][0]',                  \n",
      "                                                                  'dense_11[0][0]']               \n",
      "                                                                                                  \n",
      " dense_13 (Dense)               (None, 128)          32768       ['concatenate_1[0][0]']          \n",
      "                                                                                                  \n",
      "==================================================================================================\n",
      "Total params: 6,374,016\n",
      "Trainable params: 6,374,016\n",
      "Non-trainable params: 0\n",
      "__________________________________________________________________________________________________\n"
     ]
    }
   ],
   "source": [
    "# модель юзера\n",
    "user_model().summary()"
   ]
  },
  {
   "cell_type": "code",
   "execution_count": 30,
   "id": "a3ef98d3",
   "metadata": {
    "ExecuteTime": {
     "end_time": "2022-03-25T16:49:08.487326Z",
     "start_time": "2022-03-25T16:49:08.482594Z"
    }
   },
   "outputs": [
    {
     "name": "stdout",
     "output_type": "stream",
     "text": [
      "Model: \"model_2\"\n",
      "__________________________________________________________________________________________________\n",
      " Layer (type)                   Output Shape         Param #     Connected to                     \n",
      "==================================================================================================\n",
      " input_4 (InputLayer)           [(None, 8)]          0           []                               \n",
      "                                                                                                  \n",
      " input_5 (InputLayer)           [(None, 49405)]      0           []                               \n",
      "                                                                                                  \n",
      " input_6 (InputLayer)           [(None, 1053)]       0           []                               \n",
      "                                                                                                  \n",
      " input_7 (InputLayer)           [(None, 1053)]       0           []                               \n",
      "                                                                                                  \n",
      " model_1 (Functional)           (None, 128)          6374016     ['input_4[0][0]',                \n",
      "                                                                  'input_5[0][0]']                \n",
      "                                                                                                  \n",
      " model (Functional)             (None, 128)          167552      ['input_6[0][0]',                \n",
      "                                                                  'input_7[0][0]']                \n",
      "                                                                                                  \n",
      " concat_ancor_pos_neg (Concaten  (None, 384)         0           ['model_1[0][0]',                \n",
      " ate)                                                             'model[0][0]',                  \n",
      "                                                                  'model[1][0]']                  \n",
      "                                                                                                  \n",
      "==================================================================================================\n",
      "Total params: 6,541,568\n",
      "Trainable params: 6,541,568\n",
      "Non-trainable params: 0\n",
      "__________________________________________________________________________________________________\n"
     ]
    }
   ],
   "source": [
    "# общая модель\n",
    "model.summary()"
   ]
  },
  {
   "cell_type": "code",
   "execution_count": 31,
   "id": "b27e029a",
   "metadata": {
    "ExecuteTime": {
     "end_time": "2022-03-25T16:50:26.186190Z",
     "start_time": "2022-03-25T16:49:10.235095Z"
    }
   },
   "outputs": [
    {
     "name": "stdout",
     "output_type": "stream",
     "text": [
      "Epoch 1/10\n",
      "10/10 [==============================] - 9s 819ms/step - loss: 0.4309 - lr: 0.0010\n",
      "Epoch 2/10\n",
      "10/10 [==============================] - 8s 827ms/step - loss: 0.4422 - lr: 0.0010\n",
      "Epoch 3/10\n",
      "10/10 [==============================] - 7s 821ms/step - loss: 0.4282 - lr: 0.0010\n",
      "Epoch 4/10\n",
      "10/10 [==============================] - 8s 827ms/step - loss: 0.4010 - lr: 0.0010\n",
      "Epoch 5/10\n",
      "10/10 [==============================] - 7s 783ms/step - loss: 0.4046 - lr: 0.0010\n",
      "Epoch 6/10\n",
      "10/10 [==============================] - ETA: 0s - loss: 0.4232\n",
      "Epoch 00006: ReduceLROnPlateau reducing learning rate to 0.000800000037997961.\n",
      "10/10 [==============================] - 7s 780ms/step - loss: 0.4232 - lr: 0.0010\n",
      "Epoch 7/10\n",
      "10/10 [==============================] - 7s 787ms/step - loss: 0.4181 - lr: 8.0000e-04\n",
      "Epoch 8/10\n",
      "10/10 [==============================] - ETA: 0s - loss: 0.4035\n",
      "Epoch 00008: ReduceLROnPlateau reducing learning rate to 0.0006400000303983689.\n",
      "10/10 [==============================] - 7s 787ms/step - loss: 0.4035 - lr: 8.0000e-04\n",
      "Epoch 9/10\n",
      "10/10 [==============================] - 7s 794ms/step - loss: 0.4024 - lr: 6.4000e-04\n",
      "Epoch 10/10\n",
      "10/10 [==============================] - 7s 791ms/step - loss: 0.3861 - lr: 6.4000e-04\n"
     ]
    },
    {
     "data": {
      "text/plain": [
       "<keras.callbacks.History at 0x7ef911aa3278>"
      ]
     },
     "execution_count": 31,
     "metadata": {},
     "output_type": "execute_result"
    }
   ],
   "source": [
    "# начинаем обучение, не забывая дропнуть столбцы item_id и user_id \n",
    "# из датафреймов при инициализации генератора.\n",
    "\n",
    "# batch_size можно (и лучше) поставить побольше, если вы не органичены в ресурсах\n",
    "\n",
    "model.fit(generator(items=items_ohe_df.drop([\"item_id\"], axis=1), \n",
    "                    users=users_ohe_df.drop([\"user_id\"], axis=1), \n",
    "                    interactions=interactions_vec,\n",
    "                    batch_size=64), \n",
    "          steps_per_epoch=10, \n",
    "          epochs=10, \n",
    "          initial_epoch=0,\n",
    "          callbacks=[decay, t_board, check]\n",
    ")"
   ]
  },
  {
   "cell_type": "code",
   "execution_count": 32,
   "id": "7bd119b7",
   "metadata": {
    "ExecuteTime": {
     "end_time": "2022-03-25T16:50:26.638471Z",
     "start_time": "2022-03-25T16:50:26.188005Z"
    }
   },
   "outputs": [
    {
     "data": {
      "text/plain": [
       "array([[1.3175488]], dtype=float32)"
      ]
     },
     "execution_count": 32,
     "metadata": {},
     "output_type": "execute_result"
    }
   ],
   "source": [
    "# берем рандомного юзера\n",
    "rand_uid = np.random.choice(list(users_ohe_df.index))\n",
    "\n",
    "# получаем фичи юзера и вектор его прочтений айтемов\n",
    "user_meta_feats = users_ohe_df.drop([\"user_id\"], axis=1).iloc[rand_uid]\n",
    "user_interaction_vec = interactions_vec[rand_uid]\n",
    "\n",
    "# берем рандомный айтем\n",
    "rand_iid = np.random.choice(list(items_ohe_df.index))\n",
    "# получаем фичи айтема\n",
    "item_feats = items_ohe_df.drop([\"item_id\"], axis=1).iloc[rand_iid]\n",
    "\n",
    "# получаем вектор юзера\n",
    "user_vec = u2v.predict([np.array(user_meta_feats).reshape(1, -1), \n",
    "                        np.array(user_interaction_vec).reshape(1, -1)])\n",
    "\n",
    "# и вектор айтема\n",
    "item_vec = i2v.predict(np.array(item_feats).reshape(1, -1))\n",
    "\n",
    "# считаем расстояние между вектором юзера и вектором айтема\n",
    "from sklearn.metrics.pairwise import euclidean_distances as ED\n",
    "\n",
    "ED(user_vec, item_vec)"
   ]
  },
  {
   "cell_type": "code",
   "execution_count": 33,
   "id": "a12ff82a",
   "metadata": {
    "ExecuteTime": {
     "end_time": "2022-03-25T16:50:26.644234Z",
     "start_time": "2022-03-25T16:50:26.639759Z"
    },
    "scrolled": true
   },
   "outputs": [
    {
     "data": {
      "text/plain": [
       "array([[-1.47005320e-02, -1.93223506e-01, -1.47019699e-01,\n",
       "         4.21393476e-02,  2.48807490e-01,  1.29894624e-02,\n",
       "        -1.53392432e-02,  4.42417264e-02,  2.25073118e-02,\n",
       "         1.81198016e-01, -3.24286781e-02,  9.18467790e-02,\n",
       "         8.35282505e-02,  7.53866434e-02, -2.24320125e-02,\n",
       "        -3.53401266e-02,  2.30907314e-02,  9.36663300e-02,\n",
       "        -4.42252867e-02, -1.87661961e-01, -4.74157743e-02,\n",
       "         1.10008866e-02, -2.08519623e-02,  3.09535824e-02,\n",
       "        -1.93237528e-01, -1.45721287e-01,  4.85737137e-02,\n",
       "        -4.52427380e-02,  1.35906273e-02,  9.94011983e-02,\n",
       "         7.96716064e-02, -9.35771540e-02, -1.37814045e-01,\n",
       "        -1.03831284e-01,  1.17299236e-01,  4.33496991e-03,\n",
       "         3.36484499e-02, -5.77991307e-02,  9.75737870e-02,\n",
       "         2.73947343e-02, -1.22138873e-01,  4.77692299e-02,\n",
       "        -6.14956021e-02,  3.48672867e-02,  9.91697684e-02,\n",
       "        -2.23741218e-01,  6.73848912e-02, -3.31121124e-02,\n",
       "        -1.96660347e-02, -2.52641924e-02, -7.22821578e-02,\n",
       "        -3.48211154e-02, -3.55082639e-02, -3.14705539e-04,\n",
       "        -2.35963133e-04, -5.17446138e-02,  7.46827498e-02,\n",
       "         2.70449579e-01,  1.20515423e-02,  2.58512139e-01,\n",
       "        -7.01042190e-02,  9.79398191e-02, -7.42601305e-02,\n",
       "         6.14652112e-02,  3.36887538e-01,  1.25488579e-01,\n",
       "         1.93310782e-01,  1.73826572e-02, -1.05695747e-01,\n",
       "         1.97363216e-02,  5.30336872e-02, -4.78413031e-02,\n",
       "        -1.06884405e-01,  1.37209043e-01,  2.74820793e-02,\n",
       "        -1.44151002e-01, -3.72302830e-01, -1.56706467e-01,\n",
       "        -8.43744501e-02, -5.21684438e-02,  5.21536358e-02,\n",
       "        -7.06957430e-02,  1.00853279e-01,  1.05023170e-02,\n",
       "        -2.28300616e-02,  1.44127026e-01, -1.83473490e-02,\n",
       "         5.02437074e-03,  1.22962557e-01, -5.48451487e-03,\n",
       "        -8.07117596e-02,  3.09551340e-02, -1.65443763e-01,\n",
       "         7.95655400e-02,  3.36760618e-02, -1.67633910e-02,\n",
       "        -5.03098890e-02,  1.09309871e-02, -1.43664300e-01,\n",
       "         1.55785397e-01, -1.48944393e-01, -6.51880875e-02,\n",
       "         7.40311742e-02, -1.16019867e-01,  4.66224030e-02,\n",
       "        -6.16604611e-02, -4.66283895e-02,  8.14448148e-02,\n",
       "        -1.28145754e-01,  1.32930785e-01,  1.43354222e-01,\n",
       "        -1.33117706e-01, -2.15195268e-02,  1.05086900e-03,\n",
       "         9.37570259e-02,  1.26265856e-02, -7.43868724e-02,\n",
       "        -1.19609773e-01,  1.23148084e-01, -1.65386140e-01,\n",
       "        -1.58705637e-01, -4.54166606e-02,  2.41674902e-03,\n",
       "        -3.65478173e-02,  2.31677573e-02,  2.16664210e-01,\n",
       "         9.71524417e-03,  1.18538858e-02]], dtype=float32)"
      ]
     },
     "execution_count": 33,
     "metadata": {},
     "output_type": "execute_result"
    }
   ],
   "source": [
    "user_vec"
   ]
  },
  {
   "cell_type": "code",
   "execution_count": 34,
   "id": "eab557e0",
   "metadata": {
    "ExecuteTime": {
     "end_time": "2022-03-25T16:50:26.649785Z",
     "start_time": "2022-03-25T16:50:26.646020Z"
    }
   },
   "outputs": [
    {
     "data": {
      "text/plain": [
       "array([[ 0.00131433, -0.03466852, -0.07290763,  0.05060743,  0.02380628,\n",
       "        -0.03762262, -0.02138716, -0.03987746, -0.04066788, -0.08234528,\n",
       "         0.02235205,  0.04046446,  0.04477913,  0.02629855,  0.06323895,\n",
       "        -0.02777346,  0.00042664,  0.0202487 , -0.03179989, -0.09246481,\n",
       "         0.09919274, -0.02959276,  0.05547597, -0.04081825,  0.06075792,\n",
       "         0.03754909, -0.05437966,  0.00704147,  0.08419368,  0.0494138 ,\n",
       "        -0.05806733, -0.00776458, -0.08601099,  0.05509662, -0.02440422,\n",
       "        -0.0752933 , -0.03586897, -0.00301363, -0.04516621,  0.04792394,\n",
       "        -0.05786549,  0.03010905,  0.03373662, -0.04762375,  0.02746732,\n",
       "         0.12177229, -0.05340029,  0.03588503, -0.0372989 ,  0.00512118,\n",
       "         0.00943576, -0.05171439,  0.04285187,  0.02933875, -0.0083212 ,\n",
       "         0.00182216,  0.00187037, -0.0116553 ,  0.06024579, -0.01713607,\n",
       "        -0.02548593,  0.01210699, -0.04749813, -0.01235499, -0.02456915,\n",
       "        -0.04844279, -0.0268911 ,  0.05531415, -0.08443435,  0.01089926,\n",
       "         0.11209604, -0.00621896,  0.04225402,  0.07142989, -0.04369476,\n",
       "         0.02189977, -0.02827107,  0.01372265,  0.06005313, -0.01173658,\n",
       "         0.03648205,  0.06737357, -0.02985179,  0.04077351,  0.02666196,\n",
       "         0.02926357, -0.01773515,  0.00183784,  0.03793547,  0.03228646,\n",
       "         0.01677478, -0.01689043,  0.03914772, -0.04621469,  0.02078328,\n",
       "        -0.01045209,  0.00366922, -0.03519441, -0.09684881,  0.00975597,\n",
       "        -0.04870798, -0.01318511,  0.02581404,  0.04334223,  0.0391868 ,\n",
       "        -0.07009538, -0.04346231, -0.02907619,  0.05369847,  0.00537565,\n",
       "         0.00947229,  0.03359871, -0.09041198,  0.0167708 , -0.01452868,\n",
       "         0.02948554, -0.06334978, -0.00080043,  0.03803917,  0.0310402 ,\n",
       "        -0.02670901,  0.07733274, -0.05682118, -0.03648109,  0.01953639,\n",
       "         0.00017084, -0.03207211,  0.03681088]], dtype=float32)"
      ]
     },
     "execution_count": 34,
     "metadata": {},
     "output_type": "execute_result"
    }
   ],
   "source": [
    "item_vec"
   ]
  },
  {
   "cell_type": "code",
   "execution_count": 35,
   "id": "cfb5b376",
   "metadata": {
    "ExecuteTime": {
     "end_time": "2022-03-25T16:50:28.127951Z",
     "start_time": "2022-03-25T16:50:26.651047Z"
    }
   },
   "outputs": [],
   "source": [
    "# получаем фичи всех айтемов\n",
    "items_feats = items_ohe_df.drop([\"item_id\"], axis=1).to_numpy()\n",
    "# получаем векторы всех айтемов\n",
    "items_vecs = i2v.predict(items_feats)\n",
    "\n",
    "# считаем расстояния\n",
    "dists = ED(user_vec, items_vecs)"
   ]
  },
  {
   "cell_type": "code",
   "execution_count": 36,
   "id": "e6126303",
   "metadata": {
    "ExecuteTime": {
     "end_time": "2022-03-25T16:50:28.136252Z",
     "start_time": "2022-03-25T16:50:28.129815Z"
    }
   },
   "outputs": [
    {
     "data": {
      "text/plain": [
       "array([ 9207,  3849, 18737, 13370,  5026])"
      ]
     },
     "execution_count": 36,
     "metadata": {},
     "output_type": "execute_result"
    }
   ],
   "source": [
    "top5_iids = np.argsort(dists, axis=1)[0][:5]\n",
    "top5_iids"
   ]
  },
  {
   "cell_type": "code",
   "execution_count": 37,
   "id": "37be0570",
   "metadata": {
    "ExecuteTime": {
     "end_time": "2022-03-25T16:50:28.141784Z",
     "start_time": "2022-03-25T16:50:28.137767Z"
    }
   },
   "outputs": [
    {
     "data": {
      "text/plain": [
       "[59943, 25614, 121419, 87178, 33170]"
      ]
     },
     "execution_count": 37,
     "metadata": {},
     "output_type": "execute_result"
    }
   ],
   "source": [
    "top5_item_ids = [iid_to_item_id[iid] for iid in top5_iids]\n",
    "top5_item_ids"
   ]
  },
  {
   "cell_type": "code",
   "execution_count": 38,
   "id": "1eddf9ee",
   "metadata": {
    "ExecuteTime": {
     "end_time": "2022-03-25T16:50:28.151092Z",
     "start_time": "2022-03-25T16:50:28.143346Z"
    }
   },
   "outputs": [
    {
     "data": {
      "text/plain": [
       "42086                             Моя прекрасная принцесса\n",
       "45785                            Интерес-Кроссворд 48-2014\n",
       "48854                                      Лекции о Солнце\n",
       "51418    Страдания от бессмысленности жизни. Das Leiden...\n",
       "57475                                Красота как наказание\n",
       "Name: title, dtype: object"
      ]
     },
     "execution_count": 38,
     "metadata": {},
     "output_type": "execute_result"
    }
   ],
   "source": [
    "recommended_titles = items_df.loc[items_df.item_id.isin(top5_item_ids)].title\n",
    "recommended_titles"
   ]
  },
  {
   "cell_type": "code",
   "execution_count": 39,
   "id": "b9b6eb9f",
   "metadata": {
    "ExecuteTime": {
     "end_time": "2022-03-25T16:50:28.158584Z",
     "start_time": "2022-03-25T16:50:28.152461Z"
    }
   },
   "outputs": [
    {
     "data": {
      "text/plain": [
       "3678     Ремонт и изменение дизайна квартиры\n",
       "16125                  Звездный час адвоката\n",
       "16797                    Скажи миру – «нет!»\n",
       "23315                     Бог-Император Дюны\n",
       "26938                   Свидание под мантией\n",
       "27343                                Партнер\n",
       "Name: title, dtype: object"
      ]
     },
     "execution_count": 39,
     "metadata": {},
     "output_type": "execute_result"
    }
   ],
   "source": [
    "iids_viewed = np.where(interactions_vec[rand_uid] > 0)\n",
    "viewed_titles = items_df.iloc[iids_viewed].title\n",
    "viewed_titles"
   ]
  },
  {
   "cell_type": "code",
   "execution_count": null,
   "id": "cc5c7225",
   "metadata": {},
   "outputs": [],
   "source": []
  },
  {
   "cell_type": "code",
   "execution_count": null,
   "id": "e3fc49f6",
   "metadata": {},
   "outputs": [],
   "source": []
  }
 ],
 "metadata": {
  "kernelspec": {
   "display_name": "MTS ED",
   "language": "python",
   "name": "shad"
  },
  "language_info": {
   "codemirror_mode": {
    "name": "ipython",
    "version": 3
   },
   "file_extension": ".py",
   "mimetype": "text/x-python",
   "name": "python",
   "nbconvert_exporter": "python",
   "pygments_lexer": "ipython3",
   "version": "3.7.3"
  }
 },
 "nbformat": 4,
 "nbformat_minor": 5
}
