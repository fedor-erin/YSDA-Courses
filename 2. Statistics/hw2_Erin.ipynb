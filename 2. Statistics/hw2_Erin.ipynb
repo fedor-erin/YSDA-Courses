{
 "cells": [
  {
   "cell_type": "markdown",
   "metadata": {},
   "source": [
    "$\\newcommand{\\Sum}{\\sum\\limits}\n",
    "\\newcommand{\\Int}{\\int\\limits}\n",
    "\\newcommand{\\Intf}{\\int\\limits_{-\\infty}^{+\\infty}}\n",
    "\\newcommand{\\Prod}{\\prod\\limits}\n",
    "\\newcommand{\\Max}{\\max\\limits}\n",
    "\\newcommand{\\Min}{\\min\\limits}\n",
    "\\newcommand{\\Lim}{\\lim\\limits}\n",
    "\\newcommand{\\Var}{\\mathbb{V}}\n",
    "\\newcommand{\\Exp}{\\mathbb{E}}\n",
    "\\newcommand{\\argmax}{\\arg\\max}\n",
    "\\newcommand{\\Cov}{\\mathrm{Cov}}\n",
    "\\newcommand{\\makebold}[1]{\\boldsymbol{#1}}\n",
    "\\newcommand{\\mean}[1]{\\overline{#1}}\n",
    "\\newcommand{\\Prob}{\\mathcal{P}}\n",
    "\\newcommand{\\lp}{\\left}\n",
    "\\newcommand{\\rp}{\\right}\n",
    "\\newcommand{\\boldX}{\\boldsymbol{X}}\n",
    "\\newcommand{\\boldY}{\\boldsymbol{Y}}\n",
    "\\newcommand{\\boldZ}{\\boldsymbol{Z}}\n",
    "\\newcommand{\\Poisson}{\\mathrm{Poisson}}\n",
    "\\newcommand{\\Uniform}{\\mathrm{Uniform}}\n",
    "\\newcommand{\\Binomial}{\\mathrm{Binomial}}\n",
    "\\newcommand{\\Gammap}{\\mathrm{Gamma}}\n",
    "\\newcommand{\\Normal}{\\mathcal{N}}\n",
    "\\newcommand{\\LogN}{\\mathrm{LogN}}\n",
    "\\newcommand{\\Exponential}{\\mathrm{Exp}}\n",
    "\\newcommand{\\Erlang}{\\mathrm{Erlang}}\n",
    "\\newcommand{\\Cauchy}{C}$"
   ]
  },
  {
   "cell_type": "markdown",
   "metadata": {},
   "source": [
    "## Математическая статистика в машинном обучении"
   ]
  },
  {
   "cell_type": "markdown",
   "metadata": {},
   "source": [
    "## Д/З №2"
   ]
  },
  {
   "cell_type": "code",
   "execution_count": 1,
   "metadata": {},
   "outputs": [],
   "source": [
    "import os\n",
    "import sys\n",
    "import numpy as np\n",
    "import pandas as pd\n",
    "import scipy\n",
    "from scipy import stats"
   ]
  },
  {
   "cell_type": "markdown",
   "metadata": {},
   "source": [
    "## Задача 2: параметрический бутстреп для $\\psi = p_1 - p_2$"
   ]
  },
  {
   "cell_type": "code",
   "execution_count": 2,
   "metadata": {},
   "outputs": [
    {
     "name": "stdout",
     "output_type": "stream",
     "text": [
      "Бутстреп оценка psi: 0.0608\n",
      "Бутстреп оценка se: 0.0422\n",
      "Квантиль норм. распр. для alpha=0.1: 1.6449\n",
      "90%-доверительный интервал: (-0.0086, 0.1302)\n"
     ]
    }
   ],
   "source": [
    "n1 = n2 = 200\n",
    "X1 = 160\n",
    "X2 = 148\n",
    "alpha = 0.1\n",
    "\n",
    "# MLE оценки параметров распределений Bin(n1,p1) и Bin(n2,p2)\n",
    "p1_est = X1 / n1\n",
    "p2_est = X2 / n2\n",
    "\n",
    "# Псевдовыборки из Bin(n1,p1_est) и Bin(n2,p2_est)\n",
    "B = 1000\n",
    "statistics = []\n",
    "for i in range(B):\n",
    "    p1_bootstrap = scipy.stats.binom.rvs(n1, p1_est, size=1)[0] / n1\n",
    "    p2_bootstrap = scipy.stats.binom.rvs(n2, p2_est, size=1)[0] / n2\n",
    "    statistics.append(p1_bootstrap - p2_bootstrap)\n",
    "psi_boot = np.mean(statistics)\n",
    "se_boot = np.sqrt(((np.array(statistics) - psi_boot)**2).sum() / B)\n",
    "z = abs(stats.norm().ppf(alpha / 2))\n",
    "\n",
    "print(f'Бутстреп оценка psi: {psi_boot:.4f}')\n",
    "print(f'Бутстреп оценка se: {se_boot:.4f}')\n",
    "print(f'Квантиль норм. распр. для alpha={alpha}: {z:.4f}')\n",
    "print(f'{int(100*(1-alpha))}%-доверительный интервал: ({psi_boot - z*se_boot:.4f}, \\\n",
    "{psi_boot + z*se_boot:.4f})')"
   ]
  },
  {
   "cell_type": "markdown",
   "metadata": {},
   "source": [
    "## Задача 10: цифры числа $\\pi$"
   ]
  },
  {
   "cell_type": "code",
   "execution_count": 3,
   "metadata": {},
   "outputs": [],
   "source": [
    "n_digits = 10\n",
    "digits_occurencies = [968, 1026,1021, 974, 1014, 1046, 1021, 970, 948, 1014]\n",
    "N = sum(digits_occurencies)\n",
    "expected_occurencies = [N/n_digits for _ in range(n_digits)]"
   ]
  },
  {
   "cell_type": "code",
   "execution_count": 4,
   "metadata": {},
   "outputs": [
    {
     "data": {
      "text/plain": [
       "Power_divergenceResult(statistic=9.367726454709057, pvalue=0.40404520751503087)"
      ]
     },
     "execution_count": 4,
     "metadata": {},
     "output_type": "execute_result"
    }
   ],
   "source": [
    "from scipy.stats import chisquare\n",
    "\n",
    "chisquare(digits_occurencies, f_exp=expected_occurencies)"
   ]
  },
  {
   "cell_type": "markdown",
   "metadata": {},
   "source": [
    "## Задача 11: проверка автора по 4-буквенным словам в статьях"
   ]
  },
  {
   "cell_type": "code",
   "execution_count": 5,
   "metadata": {},
   "outputs": [
    {
     "name": "stdout",
     "output_type": "stream",
     "text": [
      "p-value: 0.000075\n",
      "Точечная оценка разности средних: 0.022\n",
      "95%-доверительный интервал: (0.011, 0.033)\n"
     ]
    }
   ],
   "source": [
    "alpha = 0.05\n",
    "X = np.array([.224, .261, .216, .239, .229, .228, .234, .216])\n",
    "Y = np.array([.207, .204, .195, .209, .201, .206, .223, .222, .219, .200])\n",
    "\n",
    "theta = 0. # H0: различий нет\n",
    "theta_est = X.mean() - Y.mean()\n",
    "se_est = np.sqrt(np.std(X, ddof=0)**2/X.size + np.std(Y, ddof=0)**2/Y.size)\n",
    "wald = abs((theta_est - theta) / se_est)\n",
    "z_alpha = scipy.stats.norm.ppf(1 - alpha / 2)\n",
    "conf_interval = (theta_est - z_alpha * se_est, theta_est + z_alpha * se_est)\n",
    "p_value = 2 * (1 - scipy.stats.norm.cdf(wald))\n",
    "\n",
    "print(f'p-value: {p_value:.6f}')\n",
    "print(f'Точечная оценка разности средних: {theta_est:.3f}')\n",
    "print(f'95%-доверительный интервал: ({conf_interval[0]:.3f}, {conf_interval[1]:.3f})')"
   ]
  },
  {
   "cell_type": "code",
   "execution_count": 6,
   "metadata": {},
   "outputs": [
    {
     "name": "stdout",
     "output_type": "stream",
     "text": [
      "p-value: 0.00084\n"
     ]
    }
   ],
   "source": [
    "permutations = 100_000\n",
    "XY = np.hstack([X, Y])\n",
    "m = X.size\n",
    "differences = []\n",
    "\n",
    "for _ in range(permutations):\n",
    "    np.random.shuffle(XY)\n",
    "    X_permuted, Y_permuted = XY[:m], XY[m:]\n",
    "    T = abs(X_permuted.mean() - Y_permuted.mean())\n",
    "    differences.append(T > theta_est)\n",
    "        \n",
    "p_value = np.mean(differences)\n",
    "print(f'p-value: {p_value:.5f}')"
   ]
  },
  {
   "cell_type": "markdown",
   "metadata": {},
   "source": [
    "## Задача 12: проверка частот поездов"
   ]
  },
  {
   "cell_type": "code",
   "execution_count": 7,
   "metadata": {},
   "outputs": [
    {
     "name": "stdout",
     "output_type": "stream",
     "text": [
      "to_B = 34, to_C = 12\n",
      "p_0 = 0.5, p_B = 0.7391, p_C = 0.2609\n",
      "T_lambda = 10.9648\n",
      "95% chi2 = 3.8415\n",
      "p-value = 0.0009\n"
     ]
    }
   ],
   "source": [
    "trains = pd.read_csv('trains.csv')\n",
    "to_B = trains.loc[trains['train_to_B'] == 1].shape[0]\n",
    "to_C = trains.loc[trains['train_to_B'] == 0].shape[0]\n",
    "p_0 = 0.5\n",
    "total = to_B + to_C\n",
    "half = p_0 * total\n",
    "\n",
    "print(f'to_B = {to_B}, to_C = {to_C}')\n",
    "print(f'p_0 = {p_0}, p_B = {to_B/total:.4f}, p_C = {to_C/total:.4f}')\n",
    "\n",
    "alpha = 0.05\n",
    "lambda_ = 2 * (to_B * np.log(to_B / total) + to_C * np.log(to_C / total) - total * np.log(p_0))\n",
    "chi2_value = scipy.stats.chi2.ppf(1 - alpha, 1)\n",
    "p_value = 1 - scipy.stats.chi2.cdf(lambda_, 1)\n",
    "\n",
    "print(f'T_lambda = {lambda_:.4f}')\n",
    "print(f'95% chi2 = {chi2_value:.4f}')\n",
    "print(f'p-value = {p_value:.4f}')"
   ]
  },
  {
   "cell_type": "code",
   "execution_count": 8,
   "metadata": {},
   "outputs": [
    {
     "name": "stdout",
     "output_type": "stream",
     "text": [
      "p-value: 0.000221\n",
      "Точечная оценка разности средних: 0.739\n",
      "95%-доверительный интервал: (0.612, 0.866)\n"
     ]
    }
   ],
   "source": [
    "theta = 0.5\n",
    "theta_est = to_B / total\n",
    "se_est = np.sqrt(theta_est * (1 - theta_est) / total)\n",
    "wald = abs((theta_est - theta) / se_est)\n",
    "z_alpha = scipy.stats.norm.ppf(1 - alpha / 2)\n",
    "conf_interval = (theta_est - z_alpha * se_est, theta_est + z_alpha * se_est)\n",
    "p_value = 2 * (1 - scipy.stats.norm.cdf(wald))\n",
    "\n",
    "print(f'p-value: {p_value:.6f}')\n",
    "print(f'Точечная оценка разности средних: {theta_est:.3f}')\n",
    "print(f'95%-доверительный интервал: ({conf_interval[0]:.3f}, {conf_interval[1]:.3f})')"
   ]
  },
  {
   "cell_type": "code",
   "execution_count": null,
   "metadata": {},
   "outputs": [],
   "source": []
  }
 ],
 "metadata": {
  "anaconda-cloud": {},
  "kernelspec": {
   "display_name": "Python 3",
   "language": "python",
   "name": "python3"
  },
  "language_info": {
   "codemirror_mode": {
    "name": "ipython",
    "version": 3
   },
   "file_extension": ".py",
   "mimetype": "text/x-python",
   "name": "python",
   "nbconvert_exporter": "python",
   "pygments_lexer": "ipython3",
   "version": "3.8.3"
  }
 },
 "nbformat": 4,
 "nbformat_minor": 2
}
