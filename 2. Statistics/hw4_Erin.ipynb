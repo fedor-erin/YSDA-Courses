{
 "cells": [
  {
   "cell_type": "markdown",
   "metadata": {},
   "source": [
    "$\\newcommand{\\Sum}{\\sum\\limits}\n",
    "\\newcommand{\\Int}{\\int\\limits}\n",
    "\\newcommand{\\Intf}{\\int\\limits_{-\\infty}^{+\\infty}}\n",
    "\\newcommand{\\Prod}{\\prod\\limits}\n",
    "\\newcommand{\\Max}{\\max\\limits}\n",
    "\\newcommand{\\Min}{\\min\\limits}\n",
    "\\newcommand{\\Lim}{\\lim\\limits}\n",
    "\\newcommand{\\Var}{\\mathbb{V}}\n",
    "\\newcommand{\\Exp}{\\mathbb{E}}\n",
    "\\newcommand{\\argmax}{\\arg\\max}\n",
    "\\newcommand{\\Cov}{\\mathrm{Cov}}\n",
    "\\newcommand{\\makebold}[1]{\\boldsymbol{#1}}\n",
    "\\newcommand{\\mean}[1]{\\overline{#1}}\n",
    "\\newcommand{\\Prob}{\\mathcal{P}}\n",
    "\\newcommand{\\lp}{\\left}\n",
    "\\newcommand{\\rp}{\\right}\n",
    "\\newcommand{\\boldX}{\\boldsymbol{X}}\n",
    "\\newcommand{\\boldY}{\\boldsymbol{Y}}\n",
    "\\newcommand{\\boldZ}{\\boldsymbol{Z}}\n",
    "\\newcommand{\\Poisson}{\\mathrm{Poisson}}\n",
    "\\newcommand{\\Uniform}{\\mathrm{Uniform}}\n",
    "\\newcommand{\\Binomial}{\\mathrm{Binomial}}\n",
    "\\newcommand{\\Gammap}{\\mathrm{Gamma}}\n",
    "\\newcommand{\\Normal}{\\mathcal{N}}\n",
    "\\newcommand{\\LogN}{\\mathrm{LogN}}\n",
    "\\newcommand{\\Exponential}{\\mathrm{Exp}}\n",
    "\\newcommand{\\Erlang}{\\mathrm{Erlang}}\n",
    "\\newcommand{\\Cauchy}{C}$"
   ]
  },
  {
   "cell_type": "markdown",
   "metadata": {},
   "source": [
    "## Математическая статистика в машинном обучении"
   ]
  },
  {
   "cell_type": "markdown",
   "metadata": {},
   "source": [
    "## Д/З №4"
   ]
  },
  {
   "cell_type": "code",
   "execution_count": 1,
   "metadata": {},
   "outputs": [],
   "source": [
    "import os\n",
    "import sys\n",
    "import numpy as np\n",
    "import pandas as pd\n",
    "import scipy\n",
    "from scipy import stats\n",
    "import matplotlib.pyplot as plt\n",
    "import tqdm.notebook as tq\n",
    "from itertools import product\n",
    "\n",
    "from sklearn.model_selection import train_test_split\n",
    "from sklearn.datasets import make_classification\n",
    "from sklearn.metrics import roc_auc_score\n",
    "from sklearn.svm import SVC\n",
    "from sklearn.gaussian_process.kernels import WhiteKernel, RBF\n",
    "from sklearn.gaussian_process import GaussianProcessRegressor\n",
    "\n",
    "import warnings\n",
    "warnings.filterwarnings(\"ignore\")"
   ]
  },
  {
   "cell_type": "markdown",
   "metadata": {},
   "source": [
    "## Задача 7: подбор гиперпараметров модели байесовской оптимизацией"
   ]
  },
  {
   "cell_type": "markdown",
   "metadata": {},
   "source": [
    "#### Создание датасета и разбивка трейн/тест"
   ]
  },
  {
   "cell_type": "code",
   "execution_count": 2,
   "metadata": {},
   "outputs": [
    {
     "data": {
      "text/plain": [
       "(500, 500)"
      ]
     },
     "execution_count": 2,
     "metadata": {},
     "output_type": "execute_result"
    }
   ],
   "source": [
    "X, y = make_classification(n_samples=1000, \n",
    "                           n_features=20, \n",
    "                           n_informative=15, \n",
    "                           n_redundant=5, \n",
    "                           n_classes=2,\n",
    "                           random_state=42)\n",
    "\n",
    "X_train, X_test, y_train, y_test = train_test_split(X, y, test_size=0.5, random_state=42)\n",
    "X_train.shape[0], X_test.shape[0]"
   ]
  },
  {
   "cell_type": "markdown",
   "metadata": {},
   "source": [
    "#### Модель Kernel SVM с RBF-ядром, сетка параметров для $(C, \\gamma)$"
   ]
  },
  {
   "cell_type": "code",
   "execution_count": 3,
   "metadata": {},
   "outputs": [],
   "source": [
    "model = SVC(kernel='rbf', \n",
    "            C=1.0, \n",
    "            gamma=0.05,  \n",
    "            probability=True,\n",
    "            random_state=42)\n",
    "n = 71\n",
    "C_grid = np.logspace(-4, 3, n)\n",
    "gamma_grid = np.logspace(-4, 3, n)"
   ]
  },
  {
   "cell_type": "code",
   "execution_count": 4,
   "metadata": {},
   "outputs": [],
   "source": [
    "def get_score(model, C, gamma, X_train, y_train, X_test, y_test):\n",
    "    model.set_params(**{'C': C, 'gamma': gamma})\n",
    "    model.fit(X_train, y_train)\n",
    "    y_pred = model.decision_function(X_test)\n",
    "    return roc_auc_score(y_test, y_pred)"
   ]
  },
  {
   "cell_type": "markdown",
   "metadata": {},
   "source": [
    "#### Визуализация ROC-AUC на тесте при поиске по сетке параметров полным перебором (GridSearch)"
   ]
  },
  {
   "cell_type": "code",
   "execution_count": 5,
   "metadata": {},
   "outputs": [
    {
     "data": {
      "application/vnd.jupyter.widget-view+json": {
       "model_id": "2acb299381f646c8afe7d68de5252b7a",
       "version_major": 2,
       "version_minor": 0
      },
      "text/plain": [
       "  0%|          | 0/71 [00:00<?, ?it/s]"
      ]
     },
     "metadata": {},
     "output_type": "display_data"
    }
   ],
   "source": [
    "roc_aucs = np.zeros(shape=(n, n))\n",
    "\n",
    "for index_c, C in tq.tqdm(enumerate(C_grid), total=n):\n",
    "    for index_g, gamma in enumerate(gamma_grid):\n",
    "        roc_aucs[index_g, index_c] = get_score(model, C, gamma, X_train, y_train, X_test, y_test)"
   ]
  },
  {
   "cell_type": "code",
   "execution_count": 6,
   "metadata": {},
   "outputs": [
    {
     "name": "stdout",
     "output_type": "stream",
     "text": [
      "Best ROC-AUC: 0.9849 (C=1.9952623149688788, gamma=0.01)\n"
     ]
    }
   ],
   "source": [
    "index_g, index_c = np.unravel_index(roc_aucs.argmax(), roc_aucs.shape)\n",
    "best_C_gs = C_grid[index_c]\n",
    "best_gamma_gs = gamma_grid[index_g]\n",
    "print(f'Best ROC-AUC: {roc_aucs[index_g, index_c]:.4f} (C={best_C_gs}, gamma={best_gamma_gs})')"
   ]
  },
  {
   "cell_type": "code",
   "execution_count": 7,
   "metadata": {
    "scrolled": false
   },
   "outputs": [
    {
     "data": {
      "image/png": "[encoded data removed]",
      "text/plain": [
       "<Figure size 864x720 with 2 Axes>"
      ]
     },
     "metadata": {
      "needs_background": "light"
     },
     "output_type": "display_data"
    }
   ],
   "source": [
    "XX, YY = np.meshgrid(C_grid, gamma_grid)\n",
    "plt.figure(figsize=(12, 10))\n",
    "plt.pcolormesh(XX, YY, roc_aucs, cmap='afmhot')\n",
    "plt.colorbar()\n",
    "plt.scatter([best_C_gs], [best_gamma_gs], marker='*', color='r', s=100, label='Grid Search')\n",
    "plt.title('ROC-AUC depending on (C, gamma) parameters')\n",
    "plt.xscale('log')\n",
    "plt.yscale('log')\n",
    "plt.xlabel('C')\n",
    "plt.ylabel('gamma')\n",
    "plt.legend();"
   ]
  },
  {
   "cell_type": "markdown",
   "metadata": {},
   "source": [
    "#### Алгоритм подбора параметров $(C, \\gamma)$  байесовской оптимизацией"
   ]
  },
  {
   "cell_type": "markdown",
   "metadata": {},
   "source": [
    "* Определим начальный сэмпл из 10 значений $(C, \\gamma)$ и выберем из них с лучшим качеством"
   ]
  },
  {
   "cell_type": "code",
   "execution_count": 8,
   "metadata": {},
   "outputs": [],
   "source": [
    "m = 701\n",
    "C_grid_bayes = np.logspace(-4, 3, m)\n",
    "gamma_grid_bayes = np.logspace(-4, 3, m)\n",
    "grid_bayes = np.vstack(product(C_grid_bayes, gamma_grid_bayes))\n",
    "np.random.seed(42)\n",
    "\n",
    "size = 10\n",
    "random_indices = list(np.random.randint(0, m*m, size))\n",
    "params_sample = grid_bayes[random_indices]\n",
    "scores = []\n",
    "\n",
    "for C, gamma in params_sample:\n",
    "    score = get_score(model, C, gamma, X_train, y_train, X_test, y_test)\n",
    "    scores.append(score)"
   ]
  },
  {
   "cell_type": "code",
   "execution_count": 10,
   "metadata": {},
   "outputs": [
    {
     "name": "stdout",
     "output_type": "stream",
     "text": [
      "Sample best ROC-AUC: 0.9420 (C=0.003715352290971728, gamma=0.012882495516931335)\n"
     ]
    }
   ],
   "source": [
    "i = np.argmax(scores)\n",
    "best_C, best_gamma = params_sample[i]\n",
    "best_score = np.max(scores)\n",
    "\n",
    "print(f'Sample best ROC-AUC: {best_score:.4f} (C={best_C}, gamma={best_gamma})')"
   ]
  },
  {
   "cell_type": "markdown",
   "metadata": {},
   "source": [
    "* Выполним оптимизацию, обучая гауссовскую регрессию для подмножестве параметров, соответствующих наибольшим std целевой переменной roc_auc"
   ]
  },
  {
   "cell_type": "code",
   "execution_count": 11,
   "metadata": {},
   "outputs": [
    {
     "data": {
      "application/vnd.jupyter.widget-view+json": {
       "model_id": "405d3a27062243ec86f86ac08c03be8c",
       "version_major": 2,
       "version_minor": 0
      },
      "text/plain": [
       "  0%|          | 0/100 [00:00<?, ?it/s]"
      ]
     },
     "metadata": {},
     "output_type": "display_data"
    },
    {
     "name": "stdout",
     "output_type": "stream",
     "text": [
      "New best ROC-AUC: 0.9596!\n",
      "New best ROC-AUC: 0.9812!\n",
      "New best ROC-AUC: 0.9818!\n",
      "New best ROC-AUC: 0.9836!\n",
      "Best ROC-AUC: 0.9836 (C=5.011872336272725, gamma=0.006456542290346556)\n"
     ]
    }
   ],
   "source": [
    "max_iter = 100\n",
    "var_threshold = 0.01\n",
    "kernel = RBF() + WhiteKernel()\n",
    "\n",
    "for n_iter in  tq.tqdm(range(max_iter)):\n",
    "    gpr = GaussianProcessRegressor(kernel, random_state=42, n_restarts_optimizer=10)\n",
    "    gpr.fit(np.log(params_sample), scores)\n",
    "    pred, stds = gpr.predict(np.log(grid_bayes), return_std=True)\n",
    "    C, gamma = grid_bayes[np.argmax(stds)]\n",
    "    score = get_score(model, C, gamma, X_train, y_train, X_test, y_test)\n",
    "    \n",
    "    scores.append(score)\n",
    "    params_sample = np.vstack([params_sample, [C, gamma]])\n",
    "    \n",
    "    if all(stds < var_threshold):\n",
    "        print(f'All of stds are below {var_threshold}, finish!')\n",
    "        break\n",
    "\n",
    "    if score > best_score:\n",
    "        best_C = C\n",
    "        best_gamma = gamma\n",
    "        best_score = score\n",
    "        print(f'New best ROC-AUC: {best_score:.4f}!')\n",
    "    \n",
    "print(f'Best ROC-AUC: {best_score:.4f} (C={best_C}, gamma={best_gamma})')"
   ]
  },
  {
   "cell_type": "markdown",
   "metadata": {},
   "source": [
    "#### Сравним полный перебор и байесовскую оптимизацию"
   ]
  },
  {
   "cell_type": "code",
   "execution_count": 12,
   "metadata": {},
   "outputs": [
    {
     "data": {
      "image/png": "[encoded data removed]",
      "text/plain": [
       "<Figure size 864x720 with 2 Axes>"
      ]
     },
     "metadata": {
      "needs_background": "light"
     },
     "output_type": "display_data"
    }
   ],
   "source": [
    "XX, YY = np.meshgrid(C_grid, gamma_grid)\n",
    "plt.figure(figsize=(12, 10))\n",
    "plt.pcolormesh(XX, YY, roc_aucs, cmap='afmhot')\n",
    "plt.colorbar()\n",
    "plt.scatter([best_C_gs], [best_gamma_gs], marker='*', color='r', s=100, label='Grid Search')\n",
    "plt.scatter([best_C], [best_gamma], marker='*', color='g', s=100, label='Bayesian Search')\n",
    "plt.title('ROC-AUC depending on (C, gamma) parameters')\n",
    "plt.xscale('log')\n",
    "plt.yscale('log')\n",
    "plt.xlabel('C')\n",
    "plt.ylabel('gamma')\n",
    "plt.legend();"
   ]
  },
  {
   "cell_type": "markdown",
   "metadata": {},
   "source": [
    "__Выводы:__\n",
    "\n",
    "* Grid Search дал ROC-AUC __0.9849__ за __~12__ минут поиска по сетке __71х71__\n",
    "* Bayesian Seach дошел до схожего ROC-AUC __0.9836__ за __~2__ минуты поиска по сетке __701х701__ и продолжает улучшаться"
   ]
  },
  {
   "cell_type": "code",
   "execution_count": null,
   "metadata": {},
   "outputs": [],
   "source": []
  }
 ],
 "metadata": {
  "anaconda-cloud": {},
  "kernelspec": {
   "display_name": "Python 3",
   "language": "python",
   "name": "python3"
  },
  "language_info": {
   "codemirror_mode": {
    "name": "ipython",
    "version": 3
   },
   "file_extension": ".py",
   "mimetype": "text/x-python",
   "name": "python",
   "nbconvert_exporter": "python",
   "pygments_lexer": "ipython3",
   "version": "3.8.3"
  }
 },
 "nbformat": 4,
 "nbformat_minor": 2
}
