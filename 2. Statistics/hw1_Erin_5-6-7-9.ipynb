{
 "cells": [
  {
   "cell_type": "markdown",
   "metadata": {},
   "source": [
    "$\\newcommand{\\Sum}{\\sum\\limits}\n",
    "\\newcommand{\\Int}{\\int\\limits}\n",
    "\\newcommand{\\Intf}{\\int\\limits_{-\\infty}^{+\\infty}}\n",
    "\\newcommand{\\Prod}{\\prod\\limits}\n",
    "\\newcommand{\\Max}{\\max\\limits}\n",
    "\\newcommand{\\Min}{\\min\\limits}\n",
    "\\newcommand{\\Lim}{\\lim\\limits}\n",
    "\\newcommand{\\Var}{\\mathbb{V}}\n",
    "\\newcommand{\\Exp}{\\mathbb{E}}\n",
    "\\newcommand{\\argmax}{\\arg\\max}\n",
    "\\newcommand{\\Cov}{\\mathrm{Cov}}\n",
    "\\newcommand{\\makebold}[1]{\\boldsymbol{#1}}\n",
    "\\newcommand{\\mean}[1]{\\overline{#1}}\n",
    "\\newcommand{\\Prob}{\\mathcal{P}}\n",
    "\\newcommand{\\lp}{\\left}\n",
    "\\newcommand{\\rp}{\\right}\n",
    "\\newcommand{\\boldX}{\\boldsymbol{X}}\n",
    "\\newcommand{\\boldY}{\\boldsymbol{Y}}\n",
    "\\newcommand{\\boldZ}{\\boldsymbol{Z}}\n",
    "\\newcommand{\\Poisson}{\\mathrm{Poisson}}\n",
    "\\newcommand{\\Uniform}{\\mathrm{Uniform}}\n",
    "\\newcommand{\\Binomial}{\\mathrm{Binomial}}\n",
    "\\newcommand{\\Gammap}{\\mathrm{Gamma}}\n",
    "\\newcommand{\\Normal}{\\mathcal{N}}\n",
    "\\newcommand{\\LogN}{\\mathrm{LogN}}\n",
    "\\newcommand{\\Exponential}{\\mathrm{Exp}}\n",
    "\\newcommand{\\Erlang}{\\mathrm{Erlang}}\n",
    "\\newcommand{\\Cauchy}{C}$"
   ]
  },
  {
   "cell_type": "markdown",
   "metadata": {},
   "source": [
    "## Математическая статистика в машинном обучении"
   ]
  },
  {
   "cell_type": "markdown",
   "metadata": {},
   "source": [
    "## Д/З №1"
   ]
  },
  {
   "cell_type": "code",
   "execution_count": 1,
   "metadata": {},
   "outputs": [],
   "source": [
    "import os\n",
    "import sys\n",
    "import numpy as np\n",
    "import pandas as pd\n",
    "import scipy\n",
    "from scipy import stats\n",
    "from itertools import product\n",
    "from collections import OrderedDict\n",
    "\n",
    "# Настройка matplotlib-а\n",
    "import matplotlib\n",
    "import matplotlib as mp\n",
    "import matplotlib.pyplot as plt\n",
    "from mpl_toolkits.mplot3d import Axes3D\n",
    "from matplotlib.collections import PolyCollection\n",
    "from matplotlib.colors import colorConverter\n",
    "%matplotlib inline\n",
    "\n",
    "titlesize = 20\n",
    "labelsize = 16\n",
    "legendsize = labelsize\n",
    "xticksize = 14\n",
    "yticksize = xticksize\n",
    "\n",
    "matplotlib.rcParams['legend.markerscale'] = 1.5     # the relative size of legend markers vs. original\n",
    "matplotlib.rcParams['legend.handletextpad'] = 0.5\n",
    "matplotlib.rcParams['legend.labelspacing'] = 0.4    # the vertical space between the legend entries in fraction of fontsize\n",
    "matplotlib.rcParams['legend.borderpad'] = 0.5       # border whitespace in fontsize units\n",
    "matplotlib.rcParams['font.size'] = 12\n",
    "matplotlib.rcParams['font.family'] = 'serif'\n",
    "matplotlib.rcParams['font.serif'] = 'Times New Roman'\n",
    "matplotlib.rcParams['axes.labelsize'] = labelsize\n",
    "matplotlib.rcParams['axes.titlesize'] = titlesize\n",
    "\n",
    "matplotlib.rc('xtick', labelsize=xticksize)\n",
    "matplotlib.rc('ytick', labelsize=yticksize)\n",
    "matplotlib.rc('legend', fontsize=legendsize)\n",
    "\n",
    "matplotlib.rc('font', **{'family':'serif'})\n",
    "# matplotlib.rc('text', usetex=True) \n",
    "matplotlib.rc('text', usetex=False)  \n",
    "# matplotlib.rc('text.latex', unicode=True)\n",
    "matplotlib.rc('text.latex', preamble=r'\\usepackage[utf8]{inputenc}')\n",
    "matplotlib.rc('text.latex', preamble=r'\\usepackage[english]{babel}')\n",
    "matplotlib.rc('text.latex', preamble=r'\\usepackage{amsmath}')"
   ]
  },
  {
   "cell_type": "markdown",
   "metadata": {},
   "source": [
    "## Классы и методы"
   ]
  },
  {
   "cell_type": "markdown",
   "metadata": {},
   "source": [
    "### 1. EmpiricalDistribution"
   ]
  },
  {
   "cell_type": "code",
   "execution_count": 2,
   "metadata": {},
   "outputs": [],
   "source": [
    "class EmpiricalDistribution:\n",
    "    \"\"\"This class provides empirical distribution functionality. It can be used to\n",
    "    - estimate empirical cdf and pdf at any points;\n",
    "    - sample from the empirical distribution;\n",
    "    - get point masses and cdf arrays for plotting.\n",
    "\n",
    "    This implementations assumes that\n",
    "    F(x) = P(X <= x) = Sum_i I[X_i <= x]\n",
    "    \"\"\"\n",
    "    def __init__(self, samples, include=True, seed=None):\n",
    "        \"\"\"Initialize empirical distribution.\n",
    "\n",
    "        Arguments:\n",
    "        - samples: numpy array, list or tuple of 1D samples\n",
    "        :param include: bool\n",
    "        - seed:    random seed for inner generator\n",
    "        \"\"\"\n",
    "        self.set_samples(samples)\n",
    "        self.set_seed(seed)\n",
    "        self._include = include  # TODO: setter\n",
    "\n",
    "    def __len__(self):\n",
    "        return self.n_samples\n",
    "\n",
    "    def __str__(self):\n",
    "        return type(self).__name__\n",
    "\n",
    "    def set_samples(self, samples):\n",
    "        \"\"\"(Re)set samples. Samples are sorted before being stored that takes about O(N logN) operations.\n",
    "        - samples: numpy array, list or tuple of 1D samples;\n",
    "        \"\"\"\n",
    "        if not isinstance(samples, (list, tuple, np.ndarray)):\n",
    "            raise TypeError('\"samples\" must be either np.array, list or tuple.')\n",
    "        self.n_samples = len(samples)\n",
    "        self.samples = np.sort(samples)\n",
    "        self.cdf_data_calculated = False\n",
    "        self.pdf_data_calculated = False\n",
    "\n",
    "    def set_seed(self, seed):\n",
    "        \"\"\"\n",
    "        Create an inner generator used to sample data from empirical distribution.\n",
    "        \"\"\"\n",
    "        self.seed = seed\n",
    "        self.gen = np.random.RandomState(seed)\n",
    "\n",
    "    def add_sample(self, sample):\n",
    "        self.add_samples(np.array([sample]))\n",
    "\n",
    "    def add_samples(self, samples):\n",
    "        \"\"\"\n",
    "        Add additional samples. This operation can be quite costly, since it requires all samples to be sorted,\n",
    "            that takes about O((n + m) log (n + m)) operations where n is initial number of samples and\n",
    "            m is the number of samples to add.\n",
    "\n",
    "        Arguments:\n",
    "        - samples: numpy array, list or tuple of 1D samples\n",
    "        \"\"\"\n",
    "        self.samples = np.concatenate(self.samples, samples)\n",
    "        self.samples = np.sort(self.samples)\n",
    "        self.cdf_data_calculated = False\n",
    "        self.pdf_data_calculated = False\n",
    "\n",
    "    def cdf(self, x):\n",
    "        \"\"\"\n",
    "        Returns the CDF value of the empirical distribution at the given point x.\n",
    "\n",
    "        Arguments:\n",
    "        - x: number; it is the value to estimate CDF at.\n",
    "\n",
    "        Returns:\n",
    "        - F(x): an estimated CDF value.\n",
    "        \"\"\"\n",
    "        if self._include:\n",
    "            return np.sum(self.samples <= x) / self.n_samples\n",
    "        return np.sum(self.samples < x) / self.n_samples\n",
    "\n",
    "    def pdf(self, x):\n",
    "        \"\"\"\n",
    "        Returns the PDF value of the empirical distribution at the given point x.\n",
    "\n",
    "        Arguments:\n",
    "        - x: number; it is the value to estimate PDF at.\n",
    "\n",
    "        Returns:\n",
    "        - p(x): an estimated PDF value.\n",
    "        \"\"\"\n",
    "        assert False, 'Not defined.'\n",
    "\n",
    "    def sample(self, size=None, replace=True):\n",
    "        \"\"\"Take random uniform samples from inner samples.\n",
    "\n",
    "        Arguments:\n",
    "        - size:    the number of samples to return;\n",
    "        - replace: if True, repeating samples are possible; otherwise, each sample can appear only once,\n",
    "                   but in this case one could not request more samples that empirical distribution is built upon.\n",
    "\n",
    "        Returns:\n",
    "        - numpy array if shape (size,) containing size samples from the stored ones.\n",
    "        \"\"\"\n",
    "        return self.gen.random.choice(self.samples, size=size, replace=replace)\n",
    "\n",
    "    def get_cdf_data(self, append_borders=0.1):\n",
    "        \"\"\"Get data required to plot CDF. This function correctly handles repeating samples (which are typical\n",
    "        in case of discrete distributions). This function caches the calculated data, so that consecutive calls\n",
    "        do not require additional computations. This is true until new samples are added\n",
    "        to the empirical distribution.\n",
    "\n",
    "        Arguments:\n",
    "        - append_borders: nonegative number.\n",
    "            If append_borders > 0, adds border points x_left and x_right such that F(x_left) = 0, F(x_right) = 1.\n",
    "            It is required for appropriate plotting since otherwise the plots do not show levels 0 and 1 of CDF.\n",
    "            The values of x_left and x_right are found as follows:\n",
    "                x_left = min(samples) - append_borders * (max(samples) - min(samples))\n",
    "                x_right = max(samples) +  append_borders * (max(samples) - min(samples))\n",
    "            If append_boreders = 0, then does not add these additional points. In this case the lengths of\n",
    "            returned arrays are equal to the number of samples stored inside.\n",
    "\n",
    "        Returns shape (points, cumulatives):\n",
    "        - points: numpy array which contains stored samples (and border points if append_borders > 0)\n",
    "            in ascending order.\n",
    "        - cumulatives: numpy array which contains CDF values for the returned points.\n",
    "            Attention! cumulatives[i] contains CDF value between points points[i] and points[i + 1].\n",
    "            Thus, if CDF is plotted by means of plt.step(...), then \"which='post'\" must be used to plot\n",
    "            it correctly.\n",
    "        \"\"\"\n",
    "        assert append_borders >= 0\n",
    "        if self.cdf_data_calculated:\n",
    "            points, cumulatives = self.points, self.cumulatives\n",
    "        else:\n",
    "            points, masses = self.get_pdf_data()\n",
    "            cumulatives = np.array(masses)\n",
    "            for i in range(1, len(cumulatives)):\n",
    "                cumulatives[i] += cumulatives[i - 1]\n",
    "            assert abs(cumulatives[-1] - 1) < 1e-8\n",
    "            self.cumulatives = cumulatives\n",
    "            self.cdf_data_calculated = True\n",
    "        if append_borders > 0:\n",
    "            x_width = points[-1] - points[0]\n",
    "            x_low = points[0] - append_borders * x_width\n",
    "            x_high = points[-1] + append_borders * x_width\n",
    "            points = np.concatenate([[x_low], points, [x_high]])\n",
    "            cumulatives = np.concatenate([[0.0], cumulatives, [1.0]])\n",
    "        return points, cumulatives\n",
    "\n",
    "    def get_pdf_data(self):\n",
    "        \"\"\"\n",
    "        Get data required to plot PDF. This function correctly handles repeating samples (which are typical\n",
    "        in case of discrete distributions). This function caches the calculated data, so that consecutive calls\n",
    "        do not require additional computations. This is true until new samples are added\n",
    "        to the empirical distribution.\n",
    "        \"\"\"\n",
    "        if self.pdf_data_calculated:\n",
    "            return self.points, self.masses\n",
    "        prev_x = -np.inf\n",
    "        x = []\n",
    "        y = []\n",
    "        for curr_x in self.samples:\n",
    "            if curr_x == prev_x:\n",
    "                y[-1] += 1\n",
    "            else:\n",
    "                y.append(1)\n",
    "                x.append(curr_x)\n",
    "                prev_x = curr_x\n",
    "        self.points = np.array(x)\n",
    "        self.masses = np.array(y) / self.n_samples\n",
    "        self.pdf_data_calculated = True\n",
    "        return self.points, self.masses"
   ]
  },
  {
   "cell_type": "markdown",
   "metadata": {},
   "source": [
    "### 2. Plotters"
   ]
  },
  {
   "cell_type": "code",
   "execution_count": 3,
   "metadata": {},
   "outputs": [],
   "source": [
    "def plot_empirical_pdf(x, y, ax, grid=True, color='k', border_ext=0.05,\n",
    "                       xlim=None, ylim=None,\n",
    "                       xlabel=None, ylabel=None, title=None, label=None,\n",
    "                       arrowwidth=None, headwidth=3, headlength=5,\n",
    "                       verbose=False):\n",
    "    \"\"\"\n",
    "    Plot PDF of empirical (discrete) distribution.\n",
    "    - ax:          This is the axis to plot data in.\n",
    "    - grid:        If True, grid is plotted; default is True.\n",
    "    - color:       Color for plotting arrows (delta-functions); default is black ('k').\n",
    "    - border_ext:  Vertical and horizontal ranges will be expaned by (bordered_ext * 100)% of data ranges; \n",
    "        this parameter is not taken into account for axis X or Y if xlim or ylim are passed, respectively.\n",
    "    - xlim:        Tuple (xmin, xmax); eliminates effect of border_ext.\n",
    "    - ylim:        Tuple (ymin, ymax); eliminates effect of border_ext.\n",
    "    - xlabel:      Lable for axis X.\n",
    "    - ylabel:      Label for axis Y.\n",
    "    - title:       title.\n",
    "    - label:       Label to be shown in legend.\n",
    "    - arrowwidth:  The absolute width of arrows used to represent delta functions of discrete PDF.\n",
    "    - headwidth:   The relative width of arrows' heads; the default value is 3 absolute arrow widths.\n",
    "    - headlength: \n",
    "    - verbose:     If True, prints debug information; default is False.\n",
    "    \"\"\"\n",
    "    assert len(x) == len(y)\n",
    "    x_width = np.max(x) - np.min(x) # ширина по оси X\n",
    "    y_width = np.max(y)             # ширина по оси Y (минимальное значение - 0)\n",
    "    if verbose:\n",
    "        print('plot_point_masses: x_width = {}, y_width = {}, border_ext = {}'.format(x_width, y_width, border_ext))\n",
    "    if arrowwidth is None:\n",
    "        arrowwidth = 0.005 * y_width\n",
    "    else:\n",
    "        arrowwidth = arrowwidth * y_width\n",
    "    X = x\n",
    "    Y = np.zeros_like(X)\n",
    "    U = np.zeros_like(X)\n",
    "    V = y\n",
    "    ax.quiver(X, Y, U, V, units='y', scale=1, scale_units='y', zorder=2,\n",
    "              width=arrowwidth, headwidth=headwidth, headlength=headlength, color=color, label=label)\n",
    "    \n",
    "    x_low  = np.min(x) - border_ext * x_width\n",
    "    x_high = np.max(x) + border_ext * x_width\n",
    "    y_low = 0\n",
    "    y_high = np.max(y) + border_ext * y_width\n",
    "    # GRID\n",
    "    if grid: ax.grid(which='both', linestyle='--', alpha=0.5)\n",
    "    # LIMITS\n",
    "    if xlim is None: xlim = (x_low, x_high)\n",
    "    if ylim is None: ylim = (y_low, y_high)\n",
    "    ax.set_xlim(xlim)\n",
    "    ax.set_ylim(ylim)\n",
    "    if verbose:\n",
    "        print('plot_point_masses: xlim is set to ({:.2f}, {:.2f})'.format(xlim[0], xlim[1]))\n",
    "        print('plot_point_masses: ylim is set to ({:.2f}, {:.2f})'.format(ylim[0], ylim[1]))\n",
    "    # LABELS\n",
    "    if xlabel is not None: ax.set_xlabel(xlabel)\n",
    "    if ylabel is not None: ax.set_ylabel(ylabel)\n",
    "    if title is not None:  ax.set_title(title)\n",
    "    return ax\n",
    "\n",
    "\n",
    "def plot_empirical_cdf(points, cumulatives, ax, grid=True, color='b', border_ext=0.05, \n",
    "                       xlim=None, ylim=None, xlabel=None, ylabel=None, title=None, label=None,\n",
    "                       verbose=False):\n",
    "    \"\"\"\n",
    "    Plot CDF of empirical (discrete) distribution.\n",
    "    - points:      Coordinates of point masses\n",
    "    - cumulatives: CDF values.\n",
    "        It is assumed, that cumulatives[i] gives CDF value at intervals [points[i], points[i + 1]]\n",
    "    - ax:          This is the axis to plot data in.\n",
    "    - grid:        If True, grid is plotted; default is True.\n",
    "    - color:       Color for plotting CDF; default is blue ('b').\n",
    "    - border_ext:  Vertical and horizontal ranges will be expaned by (bordered_ext * 100)% of data ranges; \n",
    "        this parameter is not taken into account for axis X or Y if xlim or ylim are passed, respectively.\n",
    "    - xlim:        Tuple (xmin, xmax); eliminates effect of border_ext.\n",
    "    - ylim:        Tuple (ymin, ymax); eliminates effect of border_ext.\n",
    "    - xlabel:      Lable for axis X.\n",
    "    - ylabel:      Label for axis Y.\n",
    "    - title:       title.\n",
    "    - label:       Label to be shown in legend.\n",
    "    - verbose:     If True, prints debug information; default is False.\n",
    "    \"\"\"\n",
    "    y_low = 0; y_high = 1.0 + border_ext\n",
    "    \n",
    "    x_min = points[0]\n",
    "    x_max = points[-1]\n",
    "    x_width = x_max - x_min\n",
    "    x_low  = x_min - border_ext * x_width\n",
    "    x_high = x_max + border_ext * x_width\n",
    "\n",
    "    ax.step(points, cumulatives, where='post', label=label, color=color, zorder=2)\n",
    "    # GRID\n",
    "    if grid: ax.grid(which='both', linestyle='--', alpha=0.5)\n",
    "    # LIMITS\n",
    "    if xlim is None: xlim = (x_low, x_high)\n",
    "    if ylim is None: ylim = (y_low, y_high)\n",
    "    ax.set_xlim(xlim)\n",
    "    ax.set_ylim(ylim)\n",
    "    if verbose:\n",
    "        print('plot_point_masses: xlim is set to ({:.2f}, {:.2f})'.format(xlim[0], xlim[1]))\n",
    "        print('plot_point_masses: ylim is set to ({:.2f}, {:.2f})'.format(ylim[0], ylim[1]))\n",
    "    # LABELS\n",
    "    if xlabel is not None:\n",
    "        ax.set_xlabel(xlabel)\n",
    "    if ylabel is not None:\n",
    "        ax.set_ylabel(ylabel)\n",
    "    if title  is not None:\n",
    "        ax.set_title(title)\n",
    "    return ax "
   ]
  },
  {
   "cell_type": "markdown",
   "metadata": {},
   "source": [
    "### 3. Bootstrap"
   ]
  },
  {
   "cell_type": "code",
   "execution_count": 4,
   "metadata": {},
   "outputs": [],
   "source": [
    "class Bootstrap:\n",
    "    \"\"\"This class provides bootstrap functionality:\n",
    "    - it can be used to generate bootstrap samples\n",
    "    - it can be used to estimate three types of bootstrap confidence intervals\n",
    "    \"\"\"\n",
    "    def __init__(self, samples, functional=None, seed=1):\n",
    "        \"\"\"\n",
    "        - samples:    Numpy array, list or tuple of samples.\n",
    "        - seed:       Nonnegative integer; seed to initialize inner generator used for subsampling.\n",
    "        - functional: A callable entity which accepts bootstrap samples and finds required statistic.\n",
    "        \"\"\"\n",
    "        self.samples = np.array(samples)\n",
    "        self.set_seed(seed)\n",
    "        self.functional = functional\n",
    "        self.statistics = []\n",
    "        if self.functional is not None:\n",
    "            self.func_init = self.functional(self.samples)\n",
    "\n",
    "    def set_seed(self, seed):\n",
    "        \"\"\"Initializes inner generator with provided seed.\n",
    "        \"\"\"\n",
    "        self.seed = seed\n",
    "        self.gen = np.random.RandomState(seed)\n",
    "\n",
    "    def generate(self, size=None, return_samples=True):\n",
    "        \"\"\"\n",
    "        Arguments:\n",
    "        - size:            Number of samples to bootstrap; by default it is the number of stored samples.\n",
    "        - return_samples:  If True, function returns generated samples; otherwise returns nothing.\n",
    "\n",
    "        Returns generated samples in numpy array of shape (size, ) if return_samples is True.\n",
    "        Otherwise returns None.\n",
    "        \"\"\"\n",
    "        if size is None:\n",
    "            size = len(self.samples)\n",
    "        subsamples = self.gen.choice(self.samples, size=size)\n",
    "        if self.functional is not None:\n",
    "            self.statistics.append(self.functional(subsamples))\n",
    "        if return_samples:\n",
    "            return subsamples\n",
    "\n",
    "    def get_statistics(self):\n",
    "        \"\"\"\n",
    "        Returns all calculated estimates in a list. It makes sense only if \"functional\" passed to the constructor is not None.\n",
    "        \"\"\"\n",
    "        return list(self.statistics)\n",
    "\n",
    "    def get_init_estimate(self):\n",
    "        \"\"\"\n",
    "        Returns the value of statistics calculated on initial samples passed to the constructor.\n",
    "        \"\"\"\n",
    "        return self.func_init\n",
    "\n",
    "    def get_interval(self, alpha=0.05, conf_type='normal'):\n",
    "        \"\"\"\n",
    "        Returns 1 - alpha confidence interval of type \"normal\".\n",
    "\n",
    "        Arguments:\n",
    "        - alpha:     (1-alpha) confidence intervals.\n",
    "        - conf_type: \"normal\", \"centra\", \"percentile\".\n",
    "        \"\"\"\n",
    "        if conf_type == 'normal':\n",
    "            return self.get_normal_interval(alpha)\n",
    "        if conf_type == 'central':\n",
    "            return self.get_central_interval(alpha)\n",
    "        if conf_type == 'percentile':\n",
    "            return self.get_percentile_interval(alpha)\n",
    "        assert False\n",
    "\n",
    "    def get_normal_interval(self, alpha):\n",
    "        # Нормальная оценка\n",
    "        z = abs(stats.norm().ppf(alpha / 2))\n",
    "        func_std = np.std(self.statistics)\n",
    "        left, right = self.func_init - z * func_std, self.func_init + z * func_std\n",
    "        return (left, right)\n",
    "\n",
    "    def get_central_interval(self, alpha):\n",
    "        # Центральный интервал\n",
    "        left = 2 * self.func_init - np.percentile(self.statistics, 100 * (1 - alpha / 2))\n",
    "        right = 2 * self.func_init - np.percentile(self.statistics, 100 * (alpha / 2))\n",
    "        return (left, right)\n",
    "\n",
    "    def get_percentile_interval(self, alpha):\n",
    "        # Интервал на основе процентилей\n",
    "        left = np.percentile(self.statistics, 100 * alpha / 2)\n",
    "        right = np.percentile(self.statistics, 100 * (1 - alpha / 2))\n",
    "        return (left, right)"
   ]
  },
  {
   "cell_type": "code",
   "execution_count": 5,
   "metadata": {},
   "outputs": [],
   "source": [
    "def get_all_bootstrap_intervals(bootstrap, alpha):\n",
    "    \"\"\"\n",
    "    Given Bootstrap object this function aggregates all bootstrap confendence intervals into a dict object.\n",
    "    \"\"\"\n",
    "    data = OrderedDict()\n",
    "    data['alpha'] = alpha\n",
    "    data['estimate'] = bootstrap.get_init_estimate()\n",
    "    data['normal'] = bootstrap.get_normal_interval(alpha)\n",
    "    data['central'] = bootstrap.get_central_interval(alpha)\n",
    "    data['percentile'] = bootstrap.get_percentile_interval(alpha)\n",
    "    return data\n",
    "\n",
    "def plot_confidence_intervals(data, ax, grid=True, legend=True, ylabel=None, title=None):\n",
    "    \"\"\"\n",
    "    This function plots confidence intervals based on the provided data.\n",
    "    \n",
    "    Arguments:\n",
    "    - data:   (dict) Dictionary must contain 'alpha' and 'estimate' values where:\n",
    "      - alpha: is the parameter of the confidence intervals to plot;\n",
    "      - estimate: is the estimated value of the parameter of interest.\n",
    "    - ax:     (Axis) \n",
    "    - grid:   (bool)\n",
    "    - legend: (bool)\n",
    "    - ylabel: (str)\n",
    "    - title:  (str)\n",
    "    \n",
    "    Returns the axis object passed to the function.\n",
    "    \"\"\"\n",
    "    n = 1\n",
    "    alpha = data['alpha']\n",
    "    if 'true' in data:\n",
    "        low, upp = data['true']\n",
    "        if 'true_estimate' in data:\n",
    "            estimate = data['true_estimate']\n",
    "        else:\n",
    "            estimate = data['estimate']\n",
    "        ax.errorbar([n], [estimate], yerr=[[estimate - low], [upp - estimate]], \n",
    "                    fmt='s', color='r', ecolor='k', elinewidth=2, capsize=10, \n",
    "                    capthick=1, label='True {}%-interval'.format(int(100 * (1 - alpha))))\n",
    "        n += 1\n",
    "        \n",
    "    estimate = data['estimate']\n",
    "    if 'normal' in data:\n",
    "        low, upp = data['normal']\n",
    "        ax.errorbar([n], [estimate], yerr=[[estimate - low], [upp - estimate]], \n",
    "                    fmt='s', color='r', ecolor='g', elinewidth=2, capsize=10, \n",
    "                    capthick=1, label='Normal {}%-interval'.format(int(100 * (1 - alpha))))\n",
    "        n += 1\n",
    "    if 'central' in data:\n",
    "        low, upp = data['central']\n",
    "        ax.errorbar([n], [estimate], yerr=[[estimate - low], [upp - estimate]], \n",
    "                    fmt='s', color='r', ecolor='b', elinewidth=2, capsize=10, \n",
    "                    capthick=1, label='Central {}%-interval'.format(int(100 * (1 - alpha))))\n",
    "        n += 1\n",
    "    if 'percentile' in data:\n",
    "        low, upp = data['percentile']\n",
    "        ax.errorbar([n], [estimate], yerr=[[estimate - low], [upp - estimate]], \n",
    "                    fmt='s', color='r', ecolor='m', elinewidth=2, capsize=10, \n",
    "                    capthick=1, label='Percentile {}%-interval'.format(int(100 * (1 - alpha))))\n",
    "        n += 1\n",
    "    # Горизонтальные линии\n",
    "    if 'true' in data:\n",
    "        low, upp = data['true']\n",
    "        ax.plot([1, n - 1], [low, low], color='k', linestyle='--')\n",
    "        ax.plot([1, n - 1], [upp, upp], color='k', linestyle='--')\n",
    "        \n",
    "    ax.set_xlim([0, n + 3])\n",
    "    ax.grid(which='both', linestyle='--', alpha=0.5)\n",
    "    ax.legend(loc='center right', numpoints=1, fontsize=20)\n",
    "    if ylabel is not None:\n",
    "        ax.set_ylabel(ylabel)\n",
    "    if title is not None:\n",
    "        ax.set_title(title)\n",
    "    return ax"
   ]
  },
  {
   "cell_type": "markdown",
   "metadata": {},
   "source": [
    "## Эмпирическая функция распределения"
   ]
  },
  {
   "cell_type": "markdown",
   "metadata": {},
   "source": [
    "## Задача 5 [2 балла]"
   ]
  },
  {
   "cell_type": "markdown",
   "metadata": {},
   "source": [
    "Скачайте данные о качестве красных вин. Постройте график для $\\hat{F_n}(x; x^n)$ для уровня кислотности (pH). Для каждой точки $x$ постройте:\n",
    "* 95%-ый доверительный интервал на основе неравенства Дворецкого-Кифера-Вольфовица.\n",
    "* Асимптотический нормальный 95\\%-ый доверительный интервал для значения $F(x)$.\n",
    "\n",
    "По значениям уровня кислотности $x^n$ подсчитайте оценку $T(x^n)$ для функционала $T(F) = F(3.5) - F(3.4)$ и найдите аналитически стандартное отклонение $\\hat{se}$ оценки $T(x^n)$. Постройте асимптотический нормальный 95%-ый доверительный интервал для $T(F)$."
   ]
  },
  {
   "cell_type": "markdown",
   "metadata": {},
   "source": [
    "### График $\\hat{F}_n(x)$"
   ]
  },
  {
   "cell_type": "code",
   "execution_count": 6,
   "metadata": {},
   "outputs": [
    {
     "data": {
      "text/plain": [
       "<matplotlib.axes._subplots.AxesSubplot at 0x7fccd88a0640>"
      ]
     },
     "execution_count": 6,
     "metadata": {},
     "output_type": "execute_result"
    },
    {
     "data": {
      "image/png": "[encoded data removed]",
      "text/plain": [
       "<Figure size 1008x432 with 2 Axes>"
      ]
     },
     "metadata": {
      "needs_background": "light"
     },
     "output_type": "display_data"
    }
   ],
   "source": [
    "wines_ph = pd.read_csv('winequality-red.csv', sep=';')['pH'].values\n",
    "\n",
    "edist = EmpiricalDistribution(wines_ph, seed=0)\n",
    "\n",
    "figsize = (14, 6)\n",
    "f, axarr = plt.subplots(1, 2, figsize=figsize)\n",
    "\n",
    "points, cumulatives = edist.get_cdf_data(append_borders=0.1)\n",
    "plot_empirical_cdf(points, cumulatives, axarr[0], xlabel='$x$', ylabel='$F(x)$', title='CDF')\n",
    "\n",
    "points, masses = edist.get_pdf_data()\n",
    "plot_empirical_pdf(points, masses, axarr[1], xlabel='$x$', ylabel='$p(x)$', title='PDF', \n",
    "                   arrowwidth=None, headwidth=3, headlength=4, color='r')"
   ]
  },
  {
   "cell_type": "markdown",
   "metadata": {},
   "source": [
    "### Доверительные интервалы для $F(x)$"
   ]
  },
  {
   "cell_type": "code",
   "execution_count": 7,
   "metadata": {},
   "outputs": [
    {
     "name": "stdout",
     "output_type": "stream",
     "text": [
      "Размах интервала Дворецкого-Кифера-Вольфовица: 0.03396315303771529\n",
      "Размах асим. норм. интервала: 0.012782730861463008\n"
     ]
    },
    {
     "data": {
      "image/png": "[encoded data removed]",
      "text/plain": [
       "<Figure size 1152x576 with 1 Axes>"
      ]
     },
     "metadata": {
      "needs_background": "light"
     },
     "output_type": "display_data"
    }
   ],
   "source": [
    "plt.figure(figsize = (16, 8))\n",
    "matplotlib.rcParams['legend.handletextpad'] = 0.5\n",
    "n_plot_points = 100\n",
    "append_borders = 0.1\n",
    "base_kwargs = {'zorder': 3}\n",
    "n_samples = len(wines_ph)\n",
    "\n",
    "plot_dkw_conf = True\n",
    "plot_asymp_norm_conf = True\n",
    "\n",
    "# Эмпирическое распределение\n",
    "empr_kwargs = dict(base_kwargs)\n",
    "empr_kwargs['color'] = 'b'\n",
    "empr_kwargs['where'] = 'post'\n",
    "empr_kwargs['linewidth'] = 3\n",
    "empr_kwargs['label'] = '$\\hat{F}_n(x)$'\n",
    "\n",
    "# Доверительные интервалы\n",
    "alpha = 0.05\n",
    "dkw_conf_kwargs = dict(base_kwargs)\n",
    "dkw_conf_kwargs['color'] = 'r'\n",
    "dkw_conf_kwargs['linewidth'] = 2\n",
    "dkw_conf_kwargs['linestyle'] = '--'\n",
    "dkw_conf_kwargs['where'] = 'post'\n",
    "\n",
    "norm_conf_kwargs = dict(base_kwargs)\n",
    "norm_conf_kwargs['color'] = 'g'\n",
    "norm_conf_kwargs['linewidth'] = 2\n",
    "norm_conf_kwargs['linestyle'] = '-.'\n",
    "norm_conf_kwargs['where'] = 'post'\n",
    "\n",
    "dkw_fill_kwargs = {}\n",
    "dkw_fill_kwargs['color'] = 'r'\n",
    "dkw_fill_kwargs['step'] = 'post'\n",
    "dkw_fill_kwargs['alpha'] = 0.2\n",
    "dkw_fill_kwargs['label'] = '{}% DKW conf. interval'.format(int((1 - alpha) * 100))\n",
    "dkw_fill_kwargs['zorder'] = 2\n",
    "\n",
    "norm_fill_kwargs = {}\n",
    "norm_fill_kwargs['color'] = 'g'\n",
    "norm_fill_kwargs['step'] = 'post'\n",
    "norm_fill_kwargs['alpha'] = 0.2\n",
    "norm_fill_kwargs['label'] = '{}% asymp. norm. conf. interval'.format(int((1 - alpha) * 100))\n",
    "norm_fill_kwargs['zorder'] = 2\n",
    "\n",
    "# Построение эмпирического распределения и его доверительных интервалов\n",
    "edist = EmpiricalDistribution(wines_ph)\n",
    "points, cumulatives = edist.get_cdf_data(append_borders=append_borders)\n",
    "\n",
    "plt.step(points, cumulatives, **empr_kwargs)\n",
    "\n",
    "# Доверительный интервал Дворецкого-Кифера-Вольфовица\n",
    "if plot_dkw_conf:\n",
    "    dkw = np.sqrt(np.log(2 / alpha) / (2 * n_samples))\n",
    "    print(f'Размах интервала Дворецкого-Кифера-Вольфовица: {dkw}')\n",
    "    dkw_upper_bound = np.minimum(cumulatives + dkw, 1)\n",
    "    dkw_lower_bound = np.maximum(cumulatives - dkw, 0)\n",
    "    plt.step(points, dkw_upper_bound, **dkw_conf_kwargs)\n",
    "    plt.step(points, dkw_lower_bound, **dkw_conf_kwargs)\n",
    "    plt.fill_between(points, dkw_lower_bound, dkw_upper_bound, **dkw_fill_kwargs)\n",
    "\n",
    "# Асимптотический нормальный доверительный интервал\n",
    "if plot_asymp_norm_conf:\n",
    "    z_alpha = scipy.stats.norm.ppf(1 - alpha / 2)\n",
    "    std = np.sqrt(np.maximum(cumulatives * (1 - cumulatives) / n_samples, 0.0))\n",
    "    print(f'Размах асим. норм. интервала: {(z_alpha * std).mean()}')\n",
    "    norm_upper_bound = np.minimum(cumulatives + z_alpha * std, 1)\n",
    "    norm_lower_bound = np.maximum(cumulatives - z_alpha * std, 0)\n",
    "    plt.step(points, norm_upper_bound, **norm_conf_kwargs)\n",
    "    plt.step(points, norm_lower_bound, **norm_conf_kwargs)\n",
    "    plt.fill_between(points, norm_lower_bound, norm_upper_bound, **norm_fill_kwargs)\n",
    "\n",
    "plt.legend(loc='upper left', fontsize=24)\n",
    "plt.xlabel('$x$'); plt.ylabel('$F(x)$')\n",
    "plt.title('Empirical distribution with confidence intervals')\n",
    "plt.grid(which='both', linestyle='--', alpha=0.5)\n",
    "plt.show()"
   ]
  },
  {
   "cell_type": "markdown",
   "metadata": {},
   "source": [
    "### Оценка функционала $T(F) = F(3.5) - F(3.4)$"
   ]
  },
  {
   "cell_type": "markdown",
   "metadata": {},
   "source": [
    "Точечная оценка функционала по выборке: $T(X_n) = \\hat{F}_n(3.5) - \\hat{F}_n(3.4)$"
   ]
  },
  {
   "cell_type": "code",
   "execution_count": 9,
   "metadata": {},
   "outputs": [],
   "source": [
    "Fn_35 = cumulatives[points.searchsorted(3.5)]\n",
    "Fn_34 = cumulatives[points.searchsorted(3.4)]\n",
    "T_Fn = Fn_35 - Fn_34"
   ]
  },
  {
   "cell_type": "markdown",
   "metadata": {},
   "source": [
    "Из задачи 4 аналитически получили $\\hat{se}$ оценки $T(X_n)$:\n",
    "\n",
    "$$\n",
    "\\hat{se}^2 = \\frac{T(\\hat{F}_n)(1-T(\\hat{F}_n))}{n}.\n",
    "$$\n",
    "\n",
    "При этом асимптотический нормальный 95% доверительный интервал для $T(F)$ будет равен (при $\\alpha = 0.05$):\n",
    "\n",
    "$$\n",
    "\\big(T(\\hat{F}_n) - z_{1-\\alpha/2} \\cdot \\hat{se}, \\space T(\\hat{F}_n) + z_{1-\\alpha/2} \\cdot \\hat{se}\\big)\n",
    "$$"
   ]
  },
  {
   "cell_type": "code",
   "execution_count": 10,
   "metadata": {},
   "outputs": [
    {
     "name": "stdout",
     "output_type": "stream",
     "text": [
      "Оценка se = 0.0086\n",
      "Точечная оценка T(Xn) = 0.1370\n",
      "Доверительный интвервал для T(F): (0.1201, 0.1538)\n"
     ]
    }
   ],
   "source": [
    "alpha = 0.05\n",
    "z_alpha = scipy.stats.norm.ppf(1 - alpha / 2)\n",
    "n = len(wines_ph)\n",
    "\n",
    "se = np.sqrt(T_Fn * (1 - T_Fn) / n)\n",
    "conf_int = (T_Fn - z_alpha * se, T_Fn + z_alpha * se)\n",
    "\n",
    "print(f'Оценка se = {se:.4f}')\n",
    "print(f'Точечная оценка T(Xn) = {T_Fn:.4f}')\n",
    "print(f'Доверительный интвервал для T(F): ({conf_int[0]:.4f}, {conf_int[1]:.4f})')"
   ]
  },
  {
   "cell_type": "markdown",
   "metadata": {},
   "source": [
    "## Задача 6 [2 балла]"
   ]
  },
  {
   "cell_type": "markdown",
   "metadata": {},
   "source": [
    "В процессе очистки питьевой воды выпадает значительный осадок. Для его уменьшения можно воздействовать на разные факторы,\n",
    "в т.ч. на количество микроорганизмов в жидкости, способствующих окислению органики. В группу из $261$ очистительных установок\n",
    "был добавлен реагент, подавляющих активность микроорганизмов, а состав остальных $119$ остался без изменений.\n",
    "Пусть $\\theta$ - разность в средних значениях количества твердых частиц в этих двух группах установок.\n",
    "Оценить по данным _WaterTreatment_ величину $\\theta$, оценить стандартную ошибку оценки, построить $95\\%$ и $99\\%$ доверительные интервалы. Какие выводы можно сделать на основе полученных результатов?"
   ]
  },
  {
   "cell_type": "markdown",
   "metadata": {},
   "source": [
    "### Теоретический вывод"
   ]
  },
  {
   "cell_type": "markdown",
   "metadata": {},
   "source": [
    "Назовем группу очистительных установок с реагентов - $test$ (размера $n_1$), а без - $control$ (размера $n_2$). Рассматриваем величину: \n",
    "\n",
    "$$\n",
    "\\theta = \\mu_{test} - \\mu_{control},\n",
    "$$\n",
    "\n",
    "где $\\mu = T(F) = \\int xdF(x)$ - матожидание (статистический функционал).\n",
    "\n",
    "Имея выборку из $F(x)$, знаем оценку: $\\hat{\\mu} = \\int xd\\hat{F_n}(x) = \\overline{X_n}$, откуда получаем точечную оценку: \n",
    "$$\\hat{\\theta_n} = \\overline{X_{test}} - \\overline{X_{control}}.$$\n",
    "\n",
    "Оценим стандартную ошибку оценки: \n",
    "$$\\hat{se}^2 = \\mathbb{V}(\\hat{\\theta_n}) = \\mathbb{V}(\\overline{X_{test}}) + \\mathbb{V}(\\overline{X_{control}}) = \\frac{\\hat{\\sigma}_{test}^2}{n_1} + \\frac{\\hat{\\sigma}_{control}^2}{n_2},$$\n",
    "\n",
    "т.к. выборки независимы и ковариация равна 0.\n",
    "\n",
    "Используем (смещенную) оценку дисперсии для каждой из выборок (отдельно $test$ и $control$): \n",
    "$$\\hat{\\sigma}^2 = \\frac{1}{n}\\sum_{i=1}^{n}(X_i-\\overline{X_n})^2, \\space n \\in \\{n_1, n_2\\}.$$ \n",
    "\n",
    "Доверительным интервалом для оценки будет: \n",
    "$$\\big(\\hat{\\theta_n} - z_{1-\\alpha/2} \\cdot \\sqrt{\\frac{\\hat{\\sigma}_{test}^2}{n_1} + \\frac{\\hat{\\sigma}_{control}^2}{n_2}}, \\space \\hat{\\theta_n} + z_{1-\\alpha/2} \\cdot \\sqrt{\\frac{\\hat{\\sigma}_{test}^2}{n_1} + \\frac{\\hat{\\sigma}_{control}^2}{n_2}} \\big)$$"
   ]
  },
  {
   "cell_type": "markdown",
   "metadata": {},
   "source": [
    "### Расчет на данных"
   ]
  },
  {
   "cell_type": "code",
   "execution_count": 10,
   "metadata": {},
   "outputs": [],
   "source": [
    "water = pd.read_csv('WaterTreatment.csv', sep=',')\n",
    "water_test = water[water['reduced_microorganism'] == 1]['sediment'].values\n",
    "water_control = water[water['reduced_microorganism'] == 0]['sediment'].values"
   ]
  },
  {
   "cell_type": "code",
   "execution_count": 11,
   "metadata": {},
   "outputs": [],
   "source": [
    "alpha_1 = 0.05\n",
    "alpha_2 = 0.01\n",
    "z_alpha_1 = scipy.stats.norm.ppf(1 - alpha_1 / 2)\n",
    "z_alpha_2 = scipy.stats.norm.ppf(1 - alpha_2 / 2)\n",
    "\n",
    "theta = water_test.mean() - water_control.mean()\n",
    "n_1 = len(water_test)\n",
    "n_2 = len(water_control)\n",
    "sigma_test = np.std(water_test, ddof=0)\n",
    "sigma_control = np.std(water_control, ddof=0)\n",
    "root = np.sqrt(sigma_test**2 / n_1 + sigma_control**2 / n_2)\n",
    "\n",
    "conf_int_95 = (theta - z_alpha_1 * root, theta + z_alpha_1 * root)\n",
    "conf_int_99 = (theta - z_alpha_2 * root, theta + z_alpha_2 * root)"
   ]
  },
  {
   "cell_type": "code",
   "execution_count": 12,
   "metadata": {},
   "outputs": [
    {
     "name": "stdout",
     "output_type": "stream",
     "text": [
      "Точечная оценка theta: -0.0713\n",
      "95% доверительный интервал: (-0.1346, -0.0081)\n",
      "99% доверительный интервал: (-0.1544, 0.0118)\n"
     ]
    }
   ],
   "source": [
    "print(f'Точечная оценка theta: {theta:.4f}')\n",
    "print(f'95% доверительный интервал: ({conf_int_95[0]:.4f}, {conf_int_95[1]:.4f})')\n",
    "print(f'99% доверительный интервал: ({conf_int_99[0]:.4f}, {conf_int_99[1]:.4f})')"
   ]
  },
  {
   "cell_type": "markdown",
   "metadata": {},
   "source": [
    "### Выводы"
   ]
  },
  {
   "cell_type": "markdown",
   "metadata": {},
   "source": [
    "* На уровне значимости $\\alpha = 0.05$ __есть__ стат. значимая разница в среднем кол-ве твердых частиц, в тестовой выборке с реагентом их меньше, __95% доверительный интервал не содержит точки 0__\n",
    "* На уровне значимости $\\alpha = 0.01$ __нет__ стат. значимой разницы в среднем кол-ве твердых частиц, __99% доверительный интервал содержит точку 0__"
   ]
  },
  {
   "cell_type": "markdown",
   "metadata": {},
   "source": [
    "## Бутстреп"
   ]
  },
  {
   "cell_type": "markdown",
   "metadata": {},
   "source": [
    "## Задача 7 [3 балла]"
   ]
  },
  {
   "cell_type": "markdown",
   "metadata": {},
   "source": [
    "Провести моделирование, чтобы сравнить различные типы доверительных интервалов, построенных с помощью бутстрепа. Пусть $n = 50$, $T(F) = \\int (x-\\mu)^3 dF(x) / \\sigma^{3}$ - коэффициент асимметрии, где $F$ - логнормальное распределение. Постройте 95\\% доверительные интервалы для $T(F)$ (под $F$ понимается распределение элементов выборки $X_1,\\ldots,X_n$) по данным $X^n = \\{X_1,\\ldots,X_n\\}$, используя три подхода на основе бутстрепа.\n",
    "\n",
    "_Замечение:_ Выборку из логнормального распределения можно сгенерировать из нормального, сначала сгенерировав выборку н.о.р. величин $Y^n = \\{Y_1, \\ldots,Y_n\\} \\sim N(0,1)$, после чего положив $X_i = e^{Y_i}$, $i = 1,2,\\ldots,n$."
   ]
  },
  {
   "cell_type": "markdown",
   "metadata": {},
   "source": [
    "### Генерация выборки"
   ]
  },
  {
   "cell_type": "code",
   "execution_count": 13,
   "metadata": {},
   "outputs": [],
   "source": [
    "n = 50\n",
    "gen = scipy.stats.norm(loc=0, scale=1)\n",
    "norm_sample = gen.rvs(size=n, random_state=42)\n",
    "log_norm_sample = np.exp(norm_sample)"
   ]
  },
  {
   "cell_type": "code",
   "execution_count": 14,
   "metadata": {
    "scrolled": true
   },
   "outputs": [
    {
     "data": {
      "image/png": "[encoded data removed]",
      "text/plain": [
       "<Figure size 432x288 with 1 Axes>"
      ]
     },
     "metadata": {
      "needs_background": "light"
     },
     "output_type": "display_data"
    }
   ],
   "source": [
    "plt.hist(log_norm_sample, bins=20)\n",
    "plt.show()"
   ]
  },
  {
   "cell_type": "markdown",
   "metadata": {},
   "source": [
    "### Оценка статистического функционала"
   ]
  },
  {
   "cell_type": "markdown",
   "metadata": {},
   "source": [
    "$$T(F) = \\int\\frac{(x-\\mu)^3}{\\sigma^3}dF(x) = \\int\\frac{(x-\\mu)^3}{\\mathbb{V}^{3/2}}dF(x), \\space F(x) \\sim LogN(\\mu,\\sigma^2)$$"
   ]
  },
  {
   "cell_type": "markdown",
   "metadata": {},
   "source": [
    "По выборке $X_n$ из $F(x)$ оценим $T(\\hat{F_n})$, посчитав выборочные моменты 2 и 3 порядков, т.к. $(x-\\mu)^3$ - третий момент, $\\mathbb{V}$ - второй момент. Возьмем несмещенные оценки моментов:"
   ]
  },
  {
   "cell_type": "markdown",
   "metadata": {},
   "source": [
    "$$\n",
    "T(\\hat{F_n}) = \\int\\frac{(x-\\mu)^3}{\\mathbb{V}^{3/2}}dF(x) = \\frac{\\mathbb{E}(X-\\mathbb{E}X)^3}{[\\mathbb{E}(X-\\mathbb{E}X)^2]^{3/2}} = \\frac{n^2}{(n-1)(n-2)} \\cdot \\big(\\frac{n-1}{n}\\big)^{3/2} \\cdot \\frac{\\frac{1}{n}\\sum_{i=1}^{n}(X_i-\\overline{X})^3}{(\\frac{1}{n}\\sum_{i=1}^{n}(X_i-\\overline{X})^2)^{3/2}} = \\frac{\\sqrt{n(n-1)}}{n-2} \\cdot \\frac{\\frac{1}{n}\\sum_{i=1}^{n}(X_i-\\overline{X})^3}{(\\frac{1}{n}\\sum_{i=1}^{n}(X_i-\\overline{X})^2)^{3/2}}\n",
    "$$"
   ]
  },
  {
   "cell_type": "code",
   "execution_count": 15,
   "metadata": {},
   "outputs": [],
   "source": [
    "def get_T_Fn(sample):\n",
    "    return (\n",
    "        (np.sqrt(n * (n - 1)) / (n - 2)) *\n",
    "        (stats.moment(sample, moment=3) / \n",
    "         stats.moment(sample, moment=2) ** (3/2))\n",
    "    )"
   ]
  },
  {
   "cell_type": "markdown",
   "metadata": {},
   "source": [
    "### Бутстреп и доверительные интервалы"
   ]
  },
  {
   "cell_type": "code",
   "execution_count": 16,
   "metadata": {},
   "outputs": [],
   "source": [
    "alpha = 0.05\n",
    "\n",
    "bootstrap = Bootstrap(log_norm_sample, get_T_Fn, seed=1)\n",
    "bootstrap_size = 5000\n",
    "\n",
    "for i in range(bootstrap_size):\n",
    "    bootstrap.generate(return_samples=False)"
   ]
  },
  {
   "cell_type": "code",
   "execution_count": 17,
   "metadata": {},
   "outputs": [
    {
     "name": "stdout",
     "output_type": "stream",
     "text": [
      "Оценка статистики на основе начальной выборки: 2.2964352504475247\n",
      "Бутстрепная оценка статистики: 2.202403331427309\n",
      "Нормальный доверительный интервал:  (1.3427340703099477, 3.2501364305851017)\n",
      "Центральный доверительный интервал: (1.308025682738426, 3.216689248973787)\n",
      "Квантильный доверительный интервал: (1.3761812519212626, 3.2848448181566234)\n"
     ]
    }
   ],
   "source": [
    "print('Оценка статистики на основе начальной выборки:', get_T_Fn(log_norm_sample))\n",
    "print('Бутстрепная оценка статистики:', np.mean(bootstrap.get_statistics()))\n",
    "print('Нормальный доверительный интервал: ', bootstrap.get_normal_interval(alpha))\n",
    "print('Центральный доверительный интервал:', bootstrap.get_central_interval(alpha))\n",
    "print('Квантильный доверительный интервал:', bootstrap.get_percentile_interval(alpha))"
   ]
  },
  {
   "cell_type": "code",
   "execution_count": 18,
   "metadata": {},
   "outputs": [
    {
     "data": {
      "text/plain": [
       "<matplotlib.axes._subplots.AxesSubplot at 0x7f7fd1157670>"
      ]
     },
     "execution_count": 18,
     "metadata": {},
     "output_type": "execute_result"
    },
    {
     "data": {
      "image/png": "[encoded data removed]",
      "text/plain": [
       "<Figure size 720x360 with 1 Axes>"
      ]
     },
     "metadata": {
      "needs_background": "light"
     },
     "output_type": "display_data"
    }
   ],
   "source": [
    "f, ax = plt.subplots(1, 1, figsize=(10, 5))\n",
    "\n",
    "conf_data = get_all_bootstrap_intervals(bootstrap, alpha)\n",
    "plot_confidence_intervals(conf_data, \n",
    "                          ax, \n",
    "                          ylabel=r'$\\hat{\\theta}=A_S$',\n",
    "                          title='Confidence intervals of various types for T(F) (skewness)')"
   ]
  },
  {
   "cell_type": "markdown",
   "metadata": {},
   "source": [
    "### Выводы"
   ]
  },
  {
   "cell_type": "markdown",
   "metadata": {},
   "source": [
    "* Доверительные интервалы, построенные тремя разными способами, дали схожие результаты\n",
    "* Все доверительные интервалы лежат правее 0, что стат. значимо означает, что коэффициент ассиметрии положительный, то есть правый хвост распределения длинее, что согласуется с гистограммой сэмпла распределения"
   ]
  },
  {
   "cell_type": "markdown",
   "metadata": {},
   "source": [
    "## Задача 9 [2 балла]"
   ]
  },
  {
   "cell_type": "markdown",
   "metadata": {},
   "source": [
    "Пусть $X^n = \\{X_1,\\ldots, X_n\\} \\sim N(\\mu, 1)$, $\\theta = e^{\\mu}$ и $\\hat{\\theta} = e^{\\overline{X^n}}$. \n",
    "Сгенерируйте выборку $X^n$ из $n = 100$ наблюдений для $\\mu = 10$.\n",
    "Нарисуйте гистограмму  значений $\\{\\hat{\\theta}^*_i\\}_{i=1}^B$ бутстрепных оценок. Эта гистограмма является оценкой распределения $p_{\\hat{\\theta}}(x)$. Сравните ее с настоящим распределением $p_{\\hat{\\theta}}(x)$.\n",
    "Используя бутстреп, подсчитайте величину $se$ и постройте тремя способами $95\\%$ доверительный интервал для $\\theta$."
   ]
  },
  {
   "cell_type": "markdown",
   "metadata": {},
   "source": [
    "### Генерация выборки"
   ]
  },
  {
   "cell_type": "code",
   "execution_count": 19,
   "metadata": {},
   "outputs": [],
   "source": [
    "n = 100\n",
    "mu = 10\n",
    "std = 1\n",
    "gen = scipy.stats.norm(loc=mu, scale=std)\n",
    "norm_sample = gen.rvs(size=n, random_state=42)"
   ]
  },
  {
   "cell_type": "code",
   "execution_count": 20,
   "metadata": {
    "scrolled": true
   },
   "outputs": [
    {
     "data": {
      "image/png": "[encoded data removed]",
      "text/plain": [
       "<Figure size 432x288 with 1 Axes>"
      ]
     },
     "metadata": {
      "needs_background": "light"
     },
     "output_type": "display_data"
    }
   ],
   "source": [
    "plt.hist(norm_sample, bins=20)\n",
    "plt.show()"
   ]
  },
  {
   "cell_type": "markdown",
   "metadata": {},
   "source": [
    "### Стат. функционалы $\\theta, se$ и $p_{\\hat{\\theta}}(x)$ из задачи 8"
   ]
  },
  {
   "cell_type": "code",
   "execution_count": 21,
   "metadata": {},
   "outputs": [],
   "source": [
    "def theta(samples):\n",
    "    return np.exp(samples.mean())\n",
    "\n",
    "def se(samples):\n",
    "    return np.std(samples, ddof=0)\n",
    "\n",
    "def p_theta(x, mu, sigma, n):\n",
    "    return (\n",
    "        np.sqrt(n)/(x*sigma*np.sqrt(2*np.pi)) * \n",
    "        np.exp(-n*(np.log(x)-mu)**2/(2*sigma**2))\n",
    "    )"
   ]
  },
  {
   "cell_type": "markdown",
   "metadata": {},
   "source": [
    "### Гистограмма бустреп оценок $\\{\\hat{\\theta^{*}_i}\\}^{B}_{i=1}$ vs. истинное распределение $p_{\\hat{\\theta}}(x)$"
   ]
  },
  {
   "cell_type": "markdown",
   "metadata": {},
   "source": [
    "Бутстреп"
   ]
  },
  {
   "cell_type": "code",
   "execution_count": 23,
   "metadata": {},
   "outputs": [],
   "source": [
    "bootstrap = Bootstrap(norm_sample, theta, seed=1)\n",
    "bootstrap_size = 5000\n",
    "\n",
    "for i in range(bootstrap_size):\n",
    "    bootstrap.generate(return_samples=False)"
   ]
  },
  {
   "cell_type": "markdown",
   "metadata": {},
   "source": [
    "Истинное распределение (+проверка scipy vs. аналитически полученное)"
   ]
  },
  {
   "cell_type": "code",
   "execution_count": 27,
   "metadata": {},
   "outputs": [],
   "source": [
    "lognorm = scipy.stats.lognorm(scale=np.exp(mu), s=1/np.sqrt(n))\n",
    "x = np.linspace(lognorm.ppf(0.001),\n",
    "                lognorm.ppf(0.999), 100)\n",
    "y = p_theta(x, mu, std, n)\n",
    "\n",
    "assert np.allclose(lognorm.pdf(x), y), 'PDFs do not match!'"
   ]
  },
  {
   "cell_type": "code",
   "execution_count": 28,
   "metadata": {},
   "outputs": [
    {
     "data": {
      "image/png": "[encoded data removed]",
      "text/plain": [
       "<Figure size 576x432 with 1 Axes>"
      ]
     },
     "metadata": {
      "needs_background": "light"
     },
     "output_type": "display_data"
    }
   ],
   "source": [
    "plt.figure(figsize=(8,6))\n",
    "plt.hist(bootstrap.get_statistics(), bins=100, density=True, label='bootstrap')\n",
    "plt.plot(x, y, 'k-', lw=2, label='true density')\n",
    "plt.title('Бутстреп vs. истинная плотность')\n",
    "plt.legend()\n",
    "plt.show()"
   ]
  },
  {
   "cell_type": "markdown",
   "metadata": {},
   "source": [
    "* Бутстреп распределение не точно совпадает и смещено слево, это из-за маленькой выборки (n=100), так как небольшой сэмпл данных плохо описывает случайную величину. При бОльших n (>10k) распределения практически совпадают."
   ]
  },
  {
   "cell_type": "markdown",
   "metadata": {},
   "source": [
    "### Оценка $se$ и доверительные интервалы для $\\theta$"
   ]
  },
  {
   "cell_type": "code",
   "execution_count": 29,
   "metadata": {},
   "outputs": [
    {
     "name": "stdout",
     "output_type": "stream",
     "text": [
      "Бутстреп оценка se: 1822.5081119600297\n"
     ]
    }
   ],
   "source": [
    "se_boot = np.mean(se(bootstrap.get_statistics()))\n",
    "print('Бутстреп оценка se:', se_boot)"
   ]
  },
  {
   "cell_type": "code",
   "execution_count": 31,
   "metadata": {},
   "outputs": [
    {
     "name": "stdout",
     "output_type": "stream",
     "text": [
      "Оценка theta на основе начальной выборки: 19853.85517465637\n",
      "Бутстрепная оценка theta: 19906.369113926175\n",
      "Нормальный доверительный интервал:  (16281.80491368262, 23425.905435630124)\n",
      "Центральный доверительный интервал: (15954.096627711431, 23154.30987147862)\n",
      "Квантильный доверительный интервал: (16553.400477834122, 23753.613721601312)\n"
     ]
    }
   ],
   "source": [
    "print('Оценка theta на основе начальной выборки:', theta(norm_sample))\n",
    "print('Бутстрепная оценка theta:', np.mean(bootstrap.get_statistics()))\n",
    "print('Нормальный доверительный интервал: ', bootstrap.get_normal_interval(alpha))\n",
    "print('Центральный доверительный интервал:', bootstrap.get_central_interval(alpha))\n",
    "print('Квантильный доверительный интервал:', bootstrap.get_percentile_interval(alpha))"
   ]
  },
  {
   "cell_type": "code",
   "execution_count": 32,
   "metadata": {},
   "outputs": [
    {
     "data": {
      "text/plain": [
       "<matplotlib.axes._subplots.AxesSubplot at 0x7f7fc071ab80>"
      ]
     },
     "execution_count": 32,
     "metadata": {},
     "output_type": "execute_result"
    },
    {
     "data": {
      "image/png": "[encoded data removed]",
      "text/plain": [
       "<Figure size 720x360 with 1 Axes>"
      ]
     },
     "metadata": {
      "needs_background": "light"
     },
     "output_type": "display_data"
    }
   ],
   "source": [
    "f, ax = plt.subplots(1, 1, figsize=(10, 5))\n",
    "\n",
    "alpha = 0.05\n",
    "conf_data = get_all_bootstrap_intervals(bootstrap, alpha)\n",
    "plot_confidence_intervals(conf_data, \n",
    "                          ax, \n",
    "                          ylabel=r'$\\hat{\\theta}$',\n",
    "                          title='Confidence intervals of various types for theta')"
   ]
  },
  {
   "cell_type": "markdown",
   "metadata": {},
   "source": [
    "### Вывод"
   ]
  },
  {
   "cell_type": "markdown",
   "metadata": {},
   "source": [
    "* Доверительные интервалы, построенные тремя разными способами, дали схожие результаты\n",
    "* Интервал на основе перцентилей чуть лучше приближает истинное распределение - находится правее по оси, ближе к $p_{\\hat{\\theta}}(x)$"
   ]
  },
  {
   "cell_type": "code",
   "execution_count": null,
   "metadata": {},
   "outputs": [],
   "source": []
  }
 ],
 "metadata": {
  "anaconda-cloud": {},
  "kernelspec": {
   "display_name": "Python 3",
   "language": "python",
   "name": "python3"
  },
  "language_info": {
   "codemirror_mode": {
    "name": "ipython",
    "version": 3
   },
   "file_extension": ".py",
   "mimetype": "text/x-python",
   "name": "python",
   "nbconvert_exporter": "python",
   "pygments_lexer": "ipython3",
   "version": "3.8.3"
  }
 },
 "nbformat": 4,
 "nbformat_minor": 2
}
