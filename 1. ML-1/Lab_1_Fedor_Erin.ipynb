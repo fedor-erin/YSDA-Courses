{
 "cells": [
  {
   "cell_type": "markdown",
   "metadata": {},
   "source": [
    "# Лабораторная работа 1\n",
    "\n",
    "Результат лабораторной работы − отчет. Мы предпочитаем принимать отчеты в формате ноутбуков Jupyter (ipynb-файл). Постарайтесь сделать ваш отчет интересным рассказом, последовательно отвечающим на вопросы из заданий, а также подкреплённый грамотной визуализацией. Помимо ответов на вопросы, в отчете так же должен быть код, однако чем меньше кода, тем лучше всем: нам − меньше проверять, вам —  проще найти ошибку или дополнить эксперимент. При проверке оценивается четкость ответов на вопросы, аккуратность отчета, кода и графиков. \n",
    "\n",
    "## Оценивание и штрафы\n",
    "\n",
    "* Каждая из задач имеет определенную «стоимость» (указана в скобках около задачи)\n",
    "* Максимально допустимая оценка за работу — 15 баллов\n",
    "* Сдавать задание после указанного срока сдачи нельзя\n",
    "* «Похожие» решения считаются плагиатом и все задействованные студенты (в том числе те, у кого списали) не могут получить за него больше 0 баллов и понижают свою карму\n",
    "* Если вы нашли решение какого-то из заданий в открытом источнике, необходимо прислать ссылку на этот источник (скорее всего вы будете не единственным, кто это нашел, поэтому, чтобы исключить подозрение в плагиате, необходима ссылка на источник)\n",
    "* Не оцениваются задания с удалёнными формулировкам\n",
    "* Не оценивается лабораторная работа целиком, если она была выложена в открытый источник\n",
    "\n",
    "## Данные\n",
    "\n",
    "В данной лабораторной работе вы будете работать с данными из Dota2. \n",
    "\n",
    "Скачать датасет и подробно ознакомится с его описанием вы можете на странице первого конкурсного [соревнования](https://www.kaggle.com/t/8ddaf99c566b4d088b3e352ce1bbbc19).\n",
    "\n",
    "## Маштабирование признаков\n",
    "\n",
    "Масштабирование признаков можно выполнить, например, одним из следующих способов:\n",
    " - $x_{new} = \\dfrac{x - \\mu}{\\sigma}$, где $\\mu, \\sigma$ — среднее и стандартное отклонение значения признака по всей выборке (см. функцию [scale](http://scikit-learn.org/stable/modules/generated/sklearn.preprocessing.scale.html))\n",
    " - $x_{new} = \\dfrac{x - x_{min}}{x_{max} - x_{min}}$, где $[x_{min}, x_{max}]$ — минимальный интервал значений признака\n",
    "\n",
    "Похожие схемы масштабирования приведены в классах [sklearn.preprocessing.StandardScaler](http://scikit-learn.org/stable/modules/generated/sklearn.preprocessing.StandardScaler.html#sklearn.preprocessing.StandardScaler) и [sklearn.preprocessing.MinMaxScaler](http://scikit-learn.org/stable/modules/generated/sklearn.preprocessing.MinMaxScaler.html#sklearn.preprocessing.MinMaxScaler).\n",
    "\n",
    "## Подбор гиперпараметров модели\n",
    "\n",
    "В задачах машинного обучения следует различать параметры модели и гиперпараметры (структурные параметры). Обычно параметры модели настраиваются в ходе обучения (например, веса в линейной модели), в то время как гиперпараметры задаются заранее (например, значение силы регуляризации в линейной модели). Каждая модель, как правило, имеет множество гиперпараметров и нет универсальных наборов гиперпараметров, оптимально работающих во всех задачах, поэтому для каждой задачи нужно подбирать свой набор.\n",
    "\n",
    "Для оптимизации гиперпараметров модели часто используют _перебор по сетке (grid search)_: для каждого гиперпараметра выбирается несколько значений, далее перебираются все комбинации значений и выбирается комбинация, на которой модель показывает лучшее качество (с точки зрения оптимизируемой метрики). Однако, в этом случае нужно грамотно оценивать построенную модель, а именно делать разбиение на обучающую и тестовую выборку.\n",
    "\n",
    "В этом случае сравнение большого числа моделей при переборе гиперпараметров приводит к ситуации, когда лучшая на тестовой подвыборке модель не сохраняет свои качества на новых данных. Можно сказать, что происходит _переобучение_ на тестовую выборку.\n",
    "\n",
    "Для устранения описанной выше проблемы, **можно разбить данные на 3 непересекающихся подвыборки: обучение, валидация и тест**. Валидационную подвыборку используют для сравнения моделей, а тестовую — для окончательной оценки качества и сравнения семейств моделей с подобранными гиперпараметрами.\n",
    "\n",
    "**Другой способ сравнения моделей — [кросс-валидация](http://bit.ly/1CHXsNH)**. \n",
    "\n",
    "Существуют различные **схемы кросс-валидации**:\n",
    "  - Leave-One-Out\n",
    "  - K-Fold\n",
    "  - Многократное случайное разбиение выборки\n",
    "  \n",
    "Кросс-валидация вычислительно затратна, особенно если вы делаете перебор по сетке с очень большим числом комбинации. С учетом конечности времени на выполнение задания, возникает ряд компромиссов: \n",
    "  - сетку гиперпараметров можно делать более разреженной, перебирая меньше значений каждого гиперпараметра; однако, не стоит забывать, что в таком случае можно пропустить хорошую комбинацию гиперпараметров;\n",
    "  - кросс-валидацию можно делать с меньшим числом разбиений или фолдов, но в таком случае оценка качества становится более шумной и увеличивается риск выбрать неоптимальный набор гиперпараметров из-за случайности разбиения;\n",
    "  - гиперпараметры можно оптимизировать последовательно (жадно) — один за другим, а не перебирать все комбинации; такая стратегия не всегда приводит к оптимальному набору;\n",
    "  - перебирать не все комбинации гиперпараметров, а небольшое число случайно выбранных."
   ]
  },
  {
   "cell_type": "code",
   "execution_count": 3,
   "metadata": {},
   "outputs": [],
   "source": [
    "import pandas as pd\n",
    "import numpy as np\n",
    "import seaborn as sns\n",
    "import matplotlib.pyplot as plt\n",
    "\n",
    "from sklearn.utils import shuffle\n",
    "from sklearn.base import RegressorMixin, ClassifierMixin\n",
    "from sklearn.preprocessing import MinMaxScaler\n",
    "from sklearn.metrics import mean_squared_error, log_loss, precision_score, recall_score, roc_auc_score\n",
    "from sklearn.linear_model import SGDRegressor, SGDClassifier, LogisticRegression\n",
    "from sklearn.model_selection import train_test_split, GridSearchCV, KFold\n",
    "from sklearn.svm import SVC\n",
    "from sklearn.neural_network import MLPClassifier\n",
    "\n",
    "import warnings\n",
    "warnings.filterwarnings('ignore')"
   ]
  },
  {
   "cell_type": "markdown",
   "metadata": {},
   "source": [
    "## Линейная регрессия и SGD\n",
    "\n",
    "В данном блоке вам предстоит предсказать суммарное количество золота для команды `radiant` \n",
    "\n",
    "(игроки: `player_0`, `player_1`, `player_2`, `player_3`, `player_4`) на 600 секунде матча."
   ]
  },
  {
   "cell_type": "code",
   "execution_count": 4,
   "metadata": {},
   "outputs": [],
   "source": [
    "X = pd.read_csv('../Kaggle/competition-1-sem-1-yandex-shad-fall-2021/gold.csv', index_col=[0, 1])\n",
    "\n",
    "radiant_team = ['player_0', 'player_1', 'player_2', 'player_3', 'player_4']\n",
    "dire_team = ['player_5', 'player_6', 'player_7', 'player_8', 'player_9']\n",
    "\n",
    "Y = X.loc[pd.IndexSlice[:, 600], radiant_team].sum(axis=1).droplevel('times')\n",
    "X = X.unstack().drop([(player, 600) for player in radiant_team], axis=1)\n",
    "\n",
    "X.columns = ['{}_{}'.format(*column) for column in X.columns]"
   ]
  },
  {
   "cell_type": "markdown",
   "metadata": {},
   "source": [
    "Для оценки качества предсказания будем использовать [sklearn.metrics.mean_squared_error](https://scikit-learn.org/stable/modules/generated/sklearn.metrics.mean_squared_error.html). "
   ]
  },
  {
   "cell_type": "markdown",
   "metadata": {},
   "source": [
    "**Задание 1** (3 балла)\n",
    "\n",
    "Реализуйте класс `CustomSGDRegressor`, который бы обучал многомерную линейную регрессию минимизируя сумму квадратов ошибки, используя `SGD`.\n",
    "\n",
    "Класс, должен принимать следующие параметры при инициализации:\n",
    "    \n",
    "    learning_rate : float : параметр задающий скорось обучения\n",
    "    fit_intercept : bool : если True, то добавляем свободный член\n",
    "    max_iter : int : максимальное число эпох\n",
    "    shuffle : bool : если True, то перемещиваем данные обучения перед каждой эпохой\n",
    "    \n",
    "и иметь методы `fit` и `predict`.\n",
    "\n",
    "После обучения (запуска метода `fit`) мы должны мочь обратиться к атрибутам класса: \n",
    "    \n",
    "    coef_  : ndarray of shape (n_features,)\n",
    "    intercept_ : ndarray of shape (1,)"
   ]
  },
  {
   "cell_type": "code",
   "execution_count": 8,
   "metadata": {},
   "outputs": [],
   "source": [
    "class CustomSGDRegressor(RegressorMixin):\n",
    "    def __init__(self, \n",
    "                 learning_rate = 0.01,\n",
    "                 fit_intercept = True, \n",
    "                 max_iter = 100, \n",
    "                 shuffle = False, \n",
    "                 batch_size = 1, \n",
    "                 verbose=False,\n",
    "                 random_state=42):\n",
    "        self.learning_rate = learning_rate\n",
    "        self.fit_intercept = fit_intercept\n",
    "        self.max_iter = max_iter\n",
    "        self.shuffle = shuffle\n",
    "        self.batch_size = batch_size\n",
    "        self.verbose = verbose\n",
    "        self.random_state = random_state\n",
    "        \n",
    "    @staticmethod\n",
    "    def _add_intercept(X):\n",
    "        I = np.ones(len(X))[:, np.newaxis]\n",
    "        X = np.hstack([I, X])\n",
    "        return X\n",
    "    \n",
    "    def fit(self, X, Y):\n",
    "        if self.fit_intercept:\n",
    "            X = self._add_intercept(X)\n",
    "        \n",
    "        self.W = np.random.rand(X.shape[1])\n",
    "        Y = Y[:, np.newaxis]\n",
    "        \n",
    "        mses = []\n",
    "        epoch = 1\n",
    "        \n",
    "        np.random.seed(self.random_state)\n",
    "        \n",
    "        while epoch <= self.max_iter:\n",
    "            dataset = np.hstack([X, Y])\n",
    "            if self.shuffle:\n",
    "                shuffle(dataset)\n",
    "                \n",
    "            X_epoch = dataset[:, :-1]\n",
    "            Y_epoch = dataset[:, -1:]\n",
    "            \n",
    "            batch_ids = np.random.randint(low=0, high=X.shape[0], size=self.batch_size)\n",
    "            X_batch = X_epoch[batch_ids]\n",
    "            Y_batch = Y_epoch[batch_ids]\n",
    "            \n",
    "            Y_batch_pred = X_batch @ self.W[:, np.newaxis]\n",
    "            self.W += self.learning_rate * ((Y_batch - Y_batch_pred) * X_batch).sum(axis=0)\n",
    "            \n",
    "            mse = mean_squared_error(Y_batch, Y_batch_pred)\n",
    "            mses.append(mse)\n",
    "\n",
    "            if (epoch % int(self.verbose) == 0):\n",
    "                print(f'epoch: {epoch}, MSE: {mse}')\n",
    "                \n",
    "            epoch += 1\n",
    "        \n",
    "        self.losses_ = mses\n",
    "        self.coef_ = self.W[1:]\n",
    "        self.intercept_ = self.W[0]\n",
    "    \n",
    "    def predict(self, X):\n",
    "        if self.fit_intercept:\n",
    "            X = self._add_intercept(X)\n",
    "        return X @ self.W[:, np.newaxis]"
   ]
  },
  {
   "cell_type": "markdown",
   "metadata": {},
   "source": [
    "Разбейте `X` и `Y` на `train` и `test`, используя [sklearn.model_selection.train_test_split](https://scikit-learn.org/stable/modules/generated/sklearn.metrics.mean_squared_error.html).\n",
    "\n",
    "Далее вам нужно подобрать такой `learning_rate`, на котором достигается минимум среднеквадратичная ошибка, \n",
    "\n",
    "а также принять решение о необходимости масштабирования признаков.\n",
    "\n",
    "Постройте соответствующие кривые обучения и сделайте выводы."
   ]
  },
  {
   "cell_type": "markdown",
   "metadata": {},
   "source": [
    "---"
   ]
  },
  {
   "cell_type": "code",
   "execution_count": 9,
   "metadata": {},
   "outputs": [],
   "source": [
    "scaler = MinMaxScaler()\n",
    "X_scaled = scaler.fit_transform(X)\n",
    "\n",
    "X_train, X_test, y_train, y_test = train_test_split(X_scaled, Y, test_size=0.3, random_state=42)"
   ]
  },
  {
   "cell_type": "code",
   "execution_count": 28,
   "metadata": {
    "scrolled": false
   },
   "outputs": [
    {
     "name": "stdout",
     "output_type": "stream",
     "text": [
      "epoch: 100, MSE: 159211466.9956345\n",
      "epoch: 200, MSE: 193771028.59582618\n",
      "epoch: 300, MSE: 25856404.310871124\n",
      "epoch: 400, MSE: 729946.277262415\n",
      "epoch: 500, MSE: 21837200.659665257\n",
      "epoch: 600, MSE: 11314798.003907613\n",
      "epoch: 700, MSE: 16147539.322991636\n",
      "epoch: 800, MSE: 13172034.495385092\n",
      "epoch: 900, MSE: 178568.99978825293\n",
      "epoch: 1000, MSE: 44400.7577848736\n",
      "CPU times: user 13.9 s, sys: 5.46 s, total: 19.4 s\n",
      "Wall time: 19.4 s\n"
     ]
    }
   ],
   "source": [
    "%%time\n",
    "sgd_reg = CustomSGDRegressor(learning_rate=1e-3,\n",
    "                             fit_intercept=True, \n",
    "                             max_iter=1000, \n",
    "                             shuffle=True, \n",
    "                             batch_size=1, \n",
    "                             verbose=100)\n",
    "sgd_reg.fit(X_train, y_train)"
   ]
  },
  {
   "cell_type": "code",
   "execution_count": 29,
   "metadata": {},
   "outputs": [
    {
     "data": {
      "text/plain": [
       "[<matplotlib.lines.Line2D at 0x7fbbe860a6d0>]"
      ]
     },
     "execution_count": 29,
     "metadata": {},
     "output_type": "execute_result"
    },
    {
     "data": {
      "image/png": "[encoded data removed]",
      "text/plain": [
       "<Figure size 432x288 with 1 Axes>"
      ]
     },
     "metadata": {
      "needs_background": "light"
     },
     "output_type": "display_data"
    }
   ],
   "source": [
    "plt.plot(sgd_reg.losses_)"
   ]
  },
  {
   "cell_type": "code",
   "execution_count": 30,
   "metadata": {},
   "outputs": [
    {
     "name": "stdout",
     "output_type": "stream",
     "text": [
      "MSE on test sample: 4863875.37639015\n"
     ]
    }
   ],
   "source": [
    "y_pred = sgd_reg.predict(X_test)\n",
    "print(\"MSE on test sample:\", mean_squared_error(y_test, y_pred))"
   ]
  },
  {
   "cell_type": "markdown",
   "metadata": {},
   "source": [
    "---"
   ]
  },
  {
   "cell_type": "markdown",
   "metadata": {},
   "source": [
    "__Выводы:__\n",
    "\n",
    "* Масштабирование MinMax, значения признаков в интервале от 0 до 1, без масштабирования MSE может переполниться до np.inf\n",
    "* MSE сходится стохастически, часть итераций увеличивают MSE, часть уменьшают, но в целом MSE падает\n",
    "* С некоторой эпохи MSE начинает стагнировать, можно понижать шаг обучения в нужный момент на некоторую величину для продолжения эффективного спуска, например, так\n",
    "    * if (epoch % int(self.max_iter/3) == 0): \n",
    "        * self.learning_rate /= 2"
   ]
  },
  {
   "cell_type": "markdown",
   "metadata": {},
   "source": [
    "---"
   ]
  },
  {
   "cell_type": "markdown",
   "metadata": {},
   "source": [
    "Обучите [sklearn.linear_model.SGDRegressor](https://scikit-learn.org/stable/modules/generated/sklearn.linear_model.SGDRegressor.html) выставив его параметры при инициализации так, что бы он максимально был близок к реализованной вами модели.\n",
    "\n",
    "Сравните вашу реализацию и реализацию из sklearn: \n",
    "    \n",
    "    1. Достигают ли они сравнимого качества на данном наборе данных?\n",
    "    2. Одинаковая ли у них скорость сходимости? \n",
    "    3. Одинаковая ли скорость обучения при заданном количестве эпох?\n",
    "    4. Похожие ли веса модели были найдены?\n",
    "    \n",
    "Если ваша реализация сильно отличается по данным параметрам от реализации из sklearn, то проанализируйте почему."
   ]
  },
  {
   "cell_type": "code",
   "execution_count": 32,
   "metadata": {
    "scrolled": true
   },
   "outputs": [
    {
     "name": "stdout",
     "output_type": "stream",
     "text": [
      "-- Epoch 1\n",
      "Norm: 10008.34, NNZs: 95, Bias: 6620.909004, T: 34963, Avg. loss: 2016602.075524\n",
      "Total training time: 0.01 seconds.\n",
      "-- Epoch 2\n",
      "Norm: 10889.24, NNZs: 95, Bias: 7574.876279, T: 69926, Avg. loss: 755614.560418\n",
      "Total training time: 0.03 seconds.\n",
      "-- Epoch 3\n",
      "Norm: 11707.88, NNZs: 95, Bias: 8181.044702, T: 104889, Avg. loss: 612300.686817\n",
      "Total training time: 0.04 seconds.\n",
      "-- Epoch 4\n",
      "Norm: 12409.39, NNZs: 95, Bias: 8509.919896, T: 139852, Avg. loss: 537073.005580\n",
      "Total training time: 0.06 seconds.\n",
      "-- Epoch 5\n",
      "Norm: 13092.61, NNZs: 95, Bias: 8770.539714, T: 174815, Avg. loss: 492369.796907\n",
      "Total training time: 0.07 seconds.\n",
      "-- Epoch 6\n",
      "Norm: 13636.67, NNZs: 95, Bias: 8875.814807, T: 209778, Avg. loss: 463233.457453\n",
      "Total training time: 0.08 seconds.\n",
      "-- Epoch 7\n",
      "Norm: 14123.18, NNZs: 95, Bias: 8935.714895, T: 244741, Avg. loss: 442045.641390\n",
      "Total training time: 0.10 seconds.\n",
      "-- Epoch 8\n",
      "Norm: 14557.33, NNZs: 95, Bias: 8980.827366, T: 279704, Avg. loss: 426289.826377\n",
      "Total training time: 0.11 seconds.\n",
      "-- Epoch 9\n",
      "Norm: 14967.74, NNZs: 95, Bias: 9012.324924, T: 314667, Avg. loss: 413393.839467\n",
      "Total training time: 0.13 seconds.\n",
      "-- Epoch 10\n",
      "Norm: 15328.45, NNZs: 95, Bias: 9025.246122, T: 349630, Avg. loss: 402753.739988\n",
      "Total training time: 0.14 seconds.\n",
      "-- Epoch 11\n",
      "Norm: 15646.13, NNZs: 95, Bias: 9010.532973, T: 384593, Avg. loss: 394188.117469\n",
      "Total training time: 0.15 seconds.\n",
      "-- Epoch 12\n",
      "Norm: 15963.53, NNZs: 95, Bias: 9027.750390, T: 419556, Avg. loss: 386490.043884\n",
      "Total training time: 0.17 seconds.\n",
      "-- Epoch 13\n",
      "Norm: 16261.78, NNZs: 95, Bias: 9037.794842, T: 454519, Avg. loss: 379973.991804\n",
      "Total training time: 0.18 seconds.\n",
      "-- Epoch 14\n",
      "Norm: 16520.56, NNZs: 95, Bias: 9029.003349, T: 489482, Avg. loss: 374498.341278\n",
      "Total training time: 0.19 seconds.\n",
      "-- Epoch 15\n",
      "Norm: 16776.47, NNZs: 95, Bias: 9026.385440, T: 524445, Avg. loss: 369511.978299\n",
      "Total training time: 0.21 seconds.\n",
      "-- Epoch 16\n",
      "Norm: 17017.33, NNZs: 95, Bias: 9031.304569, T: 559408, Avg. loss: 365067.188080\n",
      "Total training time: 0.22 seconds.\n",
      "-- Epoch 17\n",
      "Norm: 17245.20, NNZs: 95, Bias: 9026.284753, T: 594371, Avg. loss: 361185.442209\n",
      "Total training time: 0.23 seconds.\n",
      "-- Epoch 18\n",
      "Norm: 17457.98, NNZs: 95, Bias: 9029.457748, T: 629334, Avg. loss: 357864.141788\n",
      "Total training time: 0.25 seconds.\n",
      "-- Epoch 19\n",
      "Norm: 17670.28, NNZs: 95, Bias: 9027.851487, T: 664297, Avg. loss: 354771.634475\n",
      "Total training time: 0.26 seconds.\n",
      "-- Epoch 20\n",
      "Norm: 17860.77, NNZs: 95, Bias: 9026.814312, T: 699260, Avg. loss: 351899.880439\n",
      "Total training time: 0.28 seconds.\n",
      "-- Epoch 21\n",
      "Norm: 18028.29, NNZs: 95, Bias: 8996.413587, T: 734223, Avg. loss: 349358.292821\n",
      "Total training time: 0.29 seconds.\n",
      "-- Epoch 22\n",
      "Norm: 18212.53, NNZs: 95, Bias: 9005.139854, T: 769186, Avg. loss: 347310.204265\n",
      "Total training time: 0.31 seconds.\n",
      "-- Epoch 23\n",
      "Norm: 18378.70, NNZs: 95, Bias: 8990.932674, T: 804149, Avg. loss: 345103.993842\n",
      "Total training time: 0.32 seconds.\n",
      "-- Epoch 24\n",
      "Norm: 18540.86, NNZs: 95, Bias: 8998.289572, T: 839112, Avg. loss: 343423.760154\n",
      "Total training time: 0.33 seconds.\n",
      "-- Epoch 25\n",
      "Norm: 18691.31, NNZs: 95, Bias: 8993.267577, T: 874075, Avg. loss: 341421.310987\n",
      "Total training time: 0.35 seconds.\n",
      "-- Epoch 26\n",
      "Norm: 18834.82, NNZs: 95, Bias: 8983.478455, T: 909038, Avg. loss: 339915.813202\n",
      "Total training time: 0.36 seconds.\n",
      "-- Epoch 27\n",
      "Norm: 18980.18, NNZs: 95, Bias: 8980.582523, T: 944001, Avg. loss: 338591.753968\n",
      "Total training time: 0.37 seconds.\n",
      "-- Epoch 28\n",
      "Norm: 19105.13, NNZs: 95, Bias: 8977.017799, T: 978964, Avg. loss: 337017.156841\n",
      "Total training time: 0.39 seconds.\n",
      "-- Epoch 29\n",
      "Norm: 19233.00, NNZs: 95, Bias: 8972.778083, T: 1013927, Avg. loss: 335930.290145\n",
      "Total training time: 0.40 seconds.\n",
      "-- Epoch 30\n",
      "Norm: 19368.71, NNZs: 95, Bias: 8971.134597, T: 1048890, Avg. loss: 334665.764932\n",
      "Total training time: 0.41 seconds.\n",
      "-- Epoch 31\n",
      "Norm: 19487.85, NNZs: 95, Bias: 8975.335795, T: 1083853, Avg. loss: 333549.304522\n",
      "Total training time: 0.43 seconds.\n",
      "-- Epoch 32\n",
      "Norm: 19594.62, NNZs: 95, Bias: 8958.237429, T: 1118816, Avg. loss: 332550.039534\n",
      "Total training time: 0.44 seconds.\n",
      "-- Epoch 33\n",
      "Norm: 19710.89, NNZs: 95, Bias: 8963.111478, T: 1153779, Avg. loss: 331667.511339\n",
      "Total training time: 0.45 seconds.\n",
      "-- Epoch 34\n",
      "Norm: 19809.29, NNZs: 95, Bias: 8960.629740, T: 1188742, Avg. loss: 330672.916533\n",
      "Total training time: 0.47 seconds.\n",
      "-- Epoch 35\n",
      "Norm: 19916.91, NNZs: 95, Bias: 8951.391387, T: 1223705, Avg. loss: 329906.361040\n",
      "Total training time: 0.48 seconds.\n",
      "-- Epoch 36\n",
      "Norm: 20002.00, NNZs: 95, Bias: 8935.558404, T: 1258668, Avg. loss: 329078.192475\n",
      "Total training time: 0.49 seconds.\n",
      "-- Epoch 37\n",
      "Norm: 20114.58, NNZs: 95, Bias: 8948.401856, T: 1293631, Avg. loss: 328430.058880\n",
      "Total training time: 0.51 seconds.\n",
      "-- Epoch 38\n",
      "Norm: 20196.93, NNZs: 95, Bias: 8942.552427, T: 1328594, Avg. loss: 327722.872838\n",
      "Total training time: 0.52 seconds.\n",
      "-- Epoch 39\n",
      "Norm: 20286.33, NNZs: 95, Bias: 8931.072152, T: 1363557, Avg. loss: 327053.374332\n",
      "Total training time: 0.53 seconds.\n",
      "-- Epoch 40\n",
      "Norm: 20373.72, NNZs: 95, Bias: 8929.640029, T: 1398520, Avg. loss: 326310.625759\n",
      "Total training time: 0.55 seconds.\n",
      "-- Epoch 41\n",
      "Norm: 20465.45, NNZs: 95, Bias: 8933.343482, T: 1433483, Avg. loss: 325768.676203\n",
      "Total training time: 0.56 seconds.\n",
      "-- Epoch 42\n",
      "Norm: 20541.03, NNZs: 95, Bias: 8935.002507, T: 1468446, Avg. loss: 325248.141952\n",
      "Total training time: 0.57 seconds.\n",
      "-- Epoch 43\n",
      "Norm: 20618.30, NNZs: 95, Bias: 8932.196384, T: 1503409, Avg. loss: 324719.660952\n",
      "Total training time: 0.59 seconds.\n",
      "-- Epoch 44\n",
      "Norm: 20691.43, NNZs: 95, Bias: 8923.187481, T: 1538372, Avg. loss: 324253.411488\n",
      "Total training time: 0.60 seconds.\n",
      "-- Epoch 45\n",
      "Norm: 20772.46, NNZs: 95, Bias: 8906.389304, T: 1573335, Avg. loss: 323809.746987\n",
      "Total training time: 0.61 seconds.\n",
      "-- Epoch 46\n",
      "Norm: 20845.90, NNZs: 95, Bias: 8921.861279, T: 1608298, Avg. loss: 323355.949586\n",
      "Total training time: 0.62 seconds.\n",
      "-- Epoch 47\n",
      "Norm: 20909.86, NNZs: 95, Bias: 8909.630139, T: 1643261, Avg. loss: 323106.749791\n",
      "Total training time: 0.64 seconds.\n",
      "-- Epoch 48\n",
      "Norm: 20981.53, NNZs: 95, Bias: 8917.627785, T: 1678224, Avg. loss: 322475.189583\n",
      "Total training time: 0.65 seconds.\n",
      "-- Epoch 49\n",
      "Norm: 21052.99, NNZs: 95, Bias: 8912.623000, T: 1713187, Avg. loss: 322164.595386\n",
      "Total training time: 0.66 seconds.\n",
      "-- Epoch 50\n",
      "Norm: 21123.33, NNZs: 95, Bias: 8912.835981, T: 1748150, Avg. loss: 321852.078521\n",
      "Total training time: 0.68 seconds.\n",
      "-- Epoch 51\n",
      "Norm: 21186.84, NNZs: 95, Bias: 8913.513445, T: 1783113, Avg. loss: 321387.526531\n",
      "Total training time: 0.69 seconds.\n",
      "-- Epoch 52\n",
      "Norm: 21244.48, NNZs: 95, Bias: 8911.393239, T: 1818076, Avg. loss: 321048.937254\n",
      "Total training time: 0.70 seconds.\n",
      "-- Epoch 53\n",
      "Norm: 21298.98, NNZs: 95, Bias: 8900.586006, T: 1853039, Avg. loss: 320836.162349\n",
      "Total training time: 0.71 seconds.\n",
      "-- Epoch 54\n",
      "Norm: 21357.06, NNZs: 95, Bias: 8892.485760, T: 1888002, Avg. loss: 320580.685160\n",
      "Total training time: 0.72 seconds.\n",
      "-- Epoch 55\n",
      "Norm: 21410.64, NNZs: 95, Bias: 8893.670490, T: 1922965, Avg. loss: 320240.640221\n",
      "Total training time: 0.73 seconds.\n",
      "-- Epoch 56\n",
      "Norm: 21464.48, NNZs: 95, Bias: 8881.434966, T: 1957928, Avg. loss: 319999.000238\n",
      "Total training time: 0.75 seconds.\n",
      "-- Epoch 57\n",
      "Norm: 21517.72, NNZs: 95, Bias: 8886.250588, T: 1992891, Avg. loss: 319549.184692\n",
      "Total training time: 0.76 seconds.\n",
      "-- Epoch 58\n",
      "Norm: 21577.04, NNZs: 95, Bias: 8891.764454, T: 2027854, Avg. loss: 319382.534922\n",
      "Total training time: 0.77 seconds.\n",
      "-- Epoch 59\n",
      "Norm: 21628.36, NNZs: 95, Bias: 8890.025998, T: 2062817, Avg. loss: 319300.339021\n",
      "Total training time: 0.78 seconds.\n",
      "-- Epoch 60\n",
      "Norm: 21676.43, NNZs: 95, Bias: 8874.614077, T: 2097780, Avg. loss: 319004.553544\n",
      "Total training time: 0.79 seconds.\n",
      "-- Epoch 61\n",
      "Norm: 21715.49, NNZs: 95, Bias: 8868.355457, T: 2132743, Avg. loss: 318728.404281\n",
      "Total training time: 0.80 seconds.\n",
      "-- Epoch 62\n",
      "Norm: 21766.37, NNZs: 95, Bias: 8871.879741, T: 2167706, Avg. loss: 318712.260055\n",
      "Total training time: 0.82 seconds.\n",
      "-- Epoch 63\n",
      "Norm: 21821.13, NNZs: 95, Bias: 8881.007783, T: 2202669, Avg. loss: 318478.271793\n",
      "Total training time: 0.83 seconds.\n",
      "-- Epoch 64\n",
      "Norm: 21869.60, NNZs: 95, Bias: 8884.341892, T: 2237632, Avg. loss: 318163.047581\n",
      "Total training time: 0.84 seconds.\n",
      "-- Epoch 65\n",
      "Norm: 21915.06, NNZs: 95, Bias: 8880.151310, T: 2272595, Avg. loss: 318064.286900\n",
      "Total training time: 0.85 seconds.\n",
      "-- Epoch 66\n",
      "Norm: 21958.88, NNZs: 95, Bias: 8872.387124, T: 2307558, Avg. loss: 317879.535411\n",
      "Total training time: 0.86 seconds.\n",
      "-- Epoch 67\n",
      "Norm: 22003.16, NNZs: 95, Bias: 8884.747276, T: 2342521, Avg. loss: 317738.055636\n",
      "Total training time: 0.87 seconds.\n",
      "-- Epoch 68\n",
      "Norm: 22037.83, NNZs: 95, Bias: 8873.652854, T: 2377484, Avg. loss: 317526.077313\n",
      "Total training time: 0.89 seconds.\n",
      "-- Epoch 69\n",
      "Norm: 22078.64, NNZs: 95, Bias: 8874.587344, T: 2412447, Avg. loss: 317377.091262\n",
      "Total training time: 0.90 seconds.\n",
      "-- Epoch 70\n",
      "Norm: 22112.34, NNZs: 95, Bias: 8861.254544, T: 2447410, Avg. loss: 317221.825600\n",
      "Total training time: 0.91 seconds.\n",
      "-- Epoch 71\n",
      "Norm: 22156.91, NNZs: 95, Bias: 8871.006638, T: 2482373, Avg. loss: 317100.079597\n",
      "Total training time: 0.93 seconds.\n",
      "-- Epoch 72\n",
      "Norm: 22201.60, NNZs: 95, Bias: 8879.140200, T: 2517336, Avg. loss: 316963.947418\n",
      "Total training time: 0.94 seconds.\n",
      "-- Epoch 73\n",
      "Norm: 22235.31, NNZs: 95, Bias: 8872.653057, T: 2552299, Avg. loss: 316862.573481\n",
      "Total training time: 0.95 seconds.\n",
      "-- Epoch 74\n",
      "Norm: 22280.87, NNZs: 95, Bias: 8886.579119, T: 2587262, Avg. loss: 316590.803463\n",
      "Total training time: 0.97 seconds.\n",
      "-- Epoch 75\n",
      "Norm: 22308.81, NNZs: 95, Bias: 8869.612816, T: 2622225, Avg. loss: 316586.373564\n",
      "Total training time: 0.98 seconds.\n",
      "-- Epoch 76\n",
      "Norm: 22355.13, NNZs: 95, Bias: 8881.962052, T: 2657188, Avg. loss: 316498.247280\n",
      "Total training time: 0.99 seconds.\n",
      "-- Epoch 77\n",
      "Norm: 22385.84, NNZs: 95, Bias: 8885.297445, T: 2692151, Avg. loss: 316358.294383\n",
      "Total training time: 1.00 seconds.\n",
      "-- Epoch 78\n",
      "Norm: 22407.79, NNZs: 95, Bias: 8860.657376, T: 2727114, Avg. loss: 316219.071551\n",
      "Total training time: 1.01 seconds.\n",
      "-- Epoch 79\n",
      "Norm: 22446.36, NNZs: 95, Bias: 8860.011183, T: 2762077, Avg. loss: 316283.293798\n",
      "Total training time: 1.03 seconds.\n",
      "-- Epoch 80\n",
      "Norm: 22483.52, NNZs: 95, Bias: 8879.351666, T: 2797040, Avg. loss: 316095.622104\n",
      "Total training time: 1.04 seconds.\n",
      "-- Epoch 81\n"
     ]
    },
    {
     "name": "stdout",
     "output_type": "stream",
     "text": [
      "Norm: 22511.41, NNZs: 95, Bias: 8871.552922, T: 2832003, Avg. loss: 315869.446796\n",
      "Total training time: 1.05 seconds.\n",
      "-- Epoch 82\n",
      "Norm: 22545.15, NNZs: 95, Bias: 8864.992693, T: 2866966, Avg. loss: 315837.235589\n",
      "Total training time: 1.06 seconds.\n",
      "-- Epoch 83\n",
      "Norm: 22564.67, NNZs: 95, Bias: 8852.354379, T: 2901929, Avg. loss: 315725.719271\n",
      "Total training time: 1.07 seconds.\n",
      "-- Epoch 84\n",
      "Norm: 22603.95, NNZs: 95, Bias: 8872.504339, T: 2936892, Avg. loss: 315577.690999\n",
      "Total training time: 1.09 seconds.\n",
      "-- Epoch 85\n",
      "Norm: 22628.77, NNZs: 95, Bias: 8861.670037, T: 2971855, Avg. loss: 315487.081817\n",
      "Total training time: 1.10 seconds.\n",
      "-- Epoch 86\n",
      "Norm: 22654.41, NNZs: 95, Bias: 8867.142043, T: 3006818, Avg. loss: 315378.489417\n",
      "Total training time: 1.11 seconds.\n",
      "-- Epoch 87\n",
      "Norm: 22691.30, NNZs: 95, Bias: 8868.380558, T: 3041781, Avg. loss: 315321.024177\n",
      "Total training time: 1.12 seconds.\n",
      "-- Epoch 88\n",
      "Norm: 22703.17, NNZs: 95, Bias: 8844.106563, T: 3076744, Avg. loss: 315343.620948\n",
      "Total training time: 1.13 seconds.\n",
      "-- Epoch 89\n",
      "Norm: 22728.70, NNZs: 95, Bias: 8833.758519, T: 3111707, Avg. loss: 315295.397452\n",
      "Total training time: 1.14 seconds.\n",
      "-- Epoch 90\n",
      "Norm: 22764.98, NNZs: 95, Bias: 8856.683724, T: 3146670, Avg. loss: 315075.802863\n",
      "Total training time: 1.16 seconds.\n",
      "-- Epoch 91\n",
      "Norm: 22802.24, NNZs: 95, Bias: 8871.882265, T: 3181633, Avg. loss: 315189.727124\n",
      "Total training time: 1.17 seconds.\n",
      "-- Epoch 92\n",
      "Norm: 22822.10, NNZs: 95, Bias: 8863.623538, T: 3216596, Avg. loss: 314870.786468\n",
      "Total training time: 1.18 seconds.\n",
      "-- Epoch 93\n",
      "Norm: 22827.71, NNZs: 95, Bias: 8850.932935, T: 3251559, Avg. loss: 315016.814539\n",
      "Total training time: 1.19 seconds.\n",
      "-- Epoch 94\n",
      "Norm: 22861.83, NNZs: 95, Bias: 8858.758981, T: 3286522, Avg. loss: 314879.464506\n",
      "Total training time: 1.20 seconds.\n",
      "-- Epoch 95\n",
      "Norm: 22884.04, NNZs: 95, Bias: 8839.954699, T: 3321485, Avg. loss: 314898.805590\n",
      "Total training time: 1.21 seconds.\n",
      "-- Epoch 96\n",
      "Norm: 22917.47, NNZs: 95, Bias: 8858.880001, T: 3356448, Avg. loss: 314813.896520\n",
      "Total training time: 1.22 seconds.\n",
      "-- Epoch 97\n",
      "Norm: 22938.59, NNZs: 95, Bias: 8854.104101, T: 3391411, Avg. loss: 314665.618896\n",
      "Total training time: 1.23 seconds.\n",
      "-- Epoch 98\n",
      "Norm: 22961.30, NNZs: 95, Bias: 8851.326591, T: 3426374, Avg. loss: 314664.656620\n",
      "Total training time: 1.24 seconds.\n",
      "-- Epoch 99\n",
      "Norm: 22975.63, NNZs: 95, Bias: 8845.265131, T: 3461337, Avg. loss: 314685.514429\n",
      "Total training time: 1.26 seconds.\n",
      "-- Epoch 100\n",
      "Norm: 23003.85, NNZs: 95, Bias: 8861.989901, T: 3496300, Avg. loss: 314616.306976\n",
      "Total training time: 1.27 seconds.\n",
      "-- Epoch 101\n",
      "Norm: 23020.04, NNZs: 95, Bias: 8848.349244, T: 3531263, Avg. loss: 314467.259839\n",
      "Total training time: 1.28 seconds.\n",
      "-- Epoch 102\n",
      "Norm: 23045.96, NNZs: 95, Bias: 8860.785671, T: 3566226, Avg. loss: 314403.066458\n",
      "Total training time: 1.29 seconds.\n",
      "-- Epoch 103\n",
      "Norm: 23067.62, NNZs: 95, Bias: 8866.210937, T: 3601189, Avg. loss: 314423.723844\n",
      "Total training time: 1.30 seconds.\n",
      "-- Epoch 104\n",
      "Norm: 23088.24, NNZs: 95, Bias: 8863.528224, T: 3636152, Avg. loss: 314359.754132\n",
      "Total training time: 1.31 seconds.\n",
      "-- Epoch 105\n",
      "Norm: 23097.57, NNZs: 95, Bias: 8847.161219, T: 3671115, Avg. loss: 314291.250709\n",
      "Total training time: 1.32 seconds.\n",
      "-- Epoch 106\n",
      "Norm: 23120.38, NNZs: 95, Bias: 8849.914820, T: 3706078, Avg. loss: 314404.745621\n",
      "Total training time: 1.34 seconds.\n",
      "-- Epoch 107\n",
      "Norm: 23134.15, NNZs: 95, Bias: 8841.866476, T: 3741041, Avg. loss: 314387.817999\n",
      "Total training time: 1.35 seconds.\n",
      "-- Epoch 108\n",
      "Norm: 23150.98, NNZs: 95, Bias: 8841.567808, T: 3776004, Avg. loss: 314168.212220\n",
      "Total training time: 1.36 seconds.\n",
      "-- Epoch 109\n",
      "Norm: 23176.93, NNZs: 95, Bias: 8841.286157, T: 3810967, Avg. loss: 314058.634927\n",
      "Total training time: 1.37 seconds.\n",
      "-- Epoch 110\n",
      "Norm: 23194.68, NNZs: 95, Bias: 8849.191957, T: 3845930, Avg. loss: 314016.353540\n",
      "Total training time: 1.38 seconds.\n",
      "-- Epoch 111\n",
      "Norm: 23223.03, NNZs: 95, Bias: 8858.931991, T: 3880893, Avg. loss: 314014.043138\n",
      "Total training time: 1.39 seconds.\n",
      "-- Epoch 112\n",
      "Norm: 23236.52, NNZs: 95, Bias: 8842.806849, T: 3915856, Avg. loss: 314029.940382\n",
      "Total training time: 1.40 seconds.\n",
      "-- Epoch 113\n",
      "Norm: 23248.21, NNZs: 95, Bias: 8840.257105, T: 3950819, Avg. loss: 313915.776699\n",
      "Total training time: 1.42 seconds.\n",
      "-- Epoch 114\n",
      "Norm: 23277.98, NNZs: 95, Bias: 8857.276157, T: 3985782, Avg. loss: 313918.467621\n",
      "Total training time: 1.43 seconds.\n",
      "-- Epoch 115\n",
      "Norm: 23286.79, NNZs: 95, Bias: 8848.011210, T: 4020745, Avg. loss: 313993.901403\n",
      "Total training time: 1.44 seconds.\n",
      "-- Epoch 116\n",
      "Norm: 23310.33, NNZs: 95, Bias: 8849.584880, T: 4055708, Avg. loss: 313999.566454\n",
      "Total training time: 1.45 seconds.\n",
      "-- Epoch 117\n",
      "Norm: 23318.40, NNZs: 95, Bias: 8853.127768, T: 4090671, Avg. loss: 313905.480410\n",
      "Total training time: 1.46 seconds.\n",
      "-- Epoch 118\n",
      "Norm: 23339.86, NNZs: 95, Bias: 8851.569124, T: 4125634, Avg. loss: 313812.759910\n",
      "Total training time: 1.48 seconds.\n",
      "-- Epoch 119\n",
      "Norm: 23356.16, NNZs: 95, Bias: 8853.454774, T: 4160597, Avg. loss: 313868.580363\n",
      "Total training time: 1.49 seconds.\n",
      "-- Epoch 120\n",
      "Norm: 23361.31, NNZs: 95, Bias: 8845.676102, T: 4195560, Avg. loss: 313752.515094\n",
      "Total training time: 1.50 seconds.\n",
      "-- Epoch 121\n",
      "Norm: 23383.18, NNZs: 95, Bias: 8842.271794, T: 4230523, Avg. loss: 313815.826691\n",
      "Total training time: 1.52 seconds.\n",
      "-- Epoch 122\n",
      "Norm: 23393.14, NNZs: 95, Bias: 8833.965234, T: 4265486, Avg. loss: 313685.822871\n",
      "Total training time: 1.53 seconds.\n",
      "-- Epoch 123\n",
      "Norm: 23408.59, NNZs: 95, Bias: 8836.543153, T: 4300449, Avg. loss: 313769.443614\n",
      "Total training time: 1.54 seconds.\n",
      "-- Epoch 124\n",
      "Norm: 23424.22, NNZs: 95, Bias: 8840.549568, T: 4335412, Avg. loss: 313690.960381\n",
      "Total training time: 1.56 seconds.\n",
      "-- Epoch 125\n",
      "Norm: 23441.51, NNZs: 95, Bias: 8844.412764, T: 4370375, Avg. loss: 313696.784894\n",
      "Total training time: 1.57 seconds.\n",
      "-- Epoch 126\n",
      "Norm: 23447.93, NNZs: 95, Bias: 8840.120189, T: 4405338, Avg. loss: 313687.423655\n",
      "Total training time: 1.58 seconds.\n",
      "-- Epoch 127\n",
      "Norm: 23475.40, NNZs: 95, Bias: 8858.675616, T: 4440301, Avg. loss: 313586.318570\n",
      "Total training time: 1.59 seconds.\n",
      "-- Epoch 128\n",
      "Norm: 23477.85, NNZs: 95, Bias: 8849.887042, T: 4475264, Avg. loss: 313538.428627\n",
      "Total training time: 1.60 seconds.\n",
      "-- Epoch 129\n",
      "Norm: 23493.21, NNZs: 95, Bias: 8839.120755, T: 4510227, Avg. loss: 313595.255690\n",
      "Total training time: 1.61 seconds.\n",
      "-- Epoch 130\n",
      "Norm: 23508.45, NNZs: 95, Bias: 8844.482468, T: 4545190, Avg. loss: 313490.654949\n",
      "Total training time: 1.63 seconds.\n",
      "-- Epoch 131\n",
      "Norm: 23524.03, NNZs: 95, Bias: 8846.863652, T: 4580153, Avg. loss: 313521.322582\n",
      "Total training time: 1.64 seconds.\n",
      "-- Epoch 132\n",
      "Norm: 23525.95, NNZs: 95, Bias: 8821.580111, T: 4615116, Avg. loss: 313451.572120\n",
      "Total training time: 1.65 seconds.\n",
      "-- Epoch 133\n",
      "Norm: 23538.33, NNZs: 95, Bias: 8815.431586, T: 4650079, Avg. loss: 313451.332834\n",
      "Total training time: 1.66 seconds.\n",
      "-- Epoch 134\n",
      "Norm: 23559.57, NNZs: 95, Bias: 8839.879749, T: 4685042, Avg. loss: 313573.652423\n",
      "Total training time: 1.67 seconds.\n",
      "-- Epoch 135\n",
      "Norm: 23568.54, NNZs: 95, Bias: 8842.088958, T: 4720005, Avg. loss: 313506.583003\n",
      "Total training time: 1.68 seconds.\n",
      "-- Epoch 136\n",
      "Norm: 23586.71, NNZs: 95, Bias: 8841.625366, T: 4754968, Avg. loss: 313375.072817\n",
      "Total training time: 1.69 seconds.\n",
      "-- Epoch 137\n",
      "Norm: 23595.87, NNZs: 95, Bias: 8844.005904, T: 4789931, Avg. loss: 313442.092538\n",
      "Total training time: 1.71 seconds.\n",
      "-- Epoch 138\n",
      "Norm: 23601.42, NNZs: 95, Bias: 8827.421623, T: 4824894, Avg. loss: 313440.114469\n",
      "Total training time: 1.72 seconds.\n",
      "-- Epoch 139\n",
      "Norm: 23620.04, NNZs: 95, Bias: 8840.448614, T: 4859857, Avg. loss: 313305.295542\n",
      "Total training time: 1.73 seconds.\n",
      "-- Epoch 140\n",
      "Norm: 23627.95, NNZs: 95, Bias: 8829.509684, T: 4894820, Avg. loss: 313552.697358\n",
      "Total training time: 1.74 seconds.\n",
      "-- Epoch 141\n",
      "Norm: 23647.07, NNZs: 95, Bias: 8851.148184, T: 4929783, Avg. loss: 313141.522919\n",
      "Total training time: 1.76 seconds.\n",
      "-- Epoch 142\n",
      "Norm: 23639.22, NNZs: 95, Bias: 8832.528470, T: 4964746, Avg. loss: 313353.388803\n",
      "Total training time: 1.77 seconds.\n",
      "-- Epoch 143\n",
      "Norm: 23655.05, NNZs: 95, Bias: 8828.667579, T: 4999709, Avg. loss: 313198.605283\n",
      "Total training time: 1.78 seconds.\n",
      "-- Epoch 144\n",
      "Norm: 23673.38, NNZs: 95, Bias: 8849.508977, T: 5034672, Avg. loss: 313290.215539\n",
      "Total training time: 1.80 seconds.\n",
      "-- Epoch 145\n",
      "Norm: 23678.58, NNZs: 95, Bias: 8836.066579, T: 5069635, Avg. loss: 313397.171498\n",
      "Total training time: 1.81 seconds.\n",
      "-- Epoch 146\n",
      "Norm: 23692.82, NNZs: 95, Bias: 8848.009584, T: 5104598, Avg. loss: 313355.553733\n",
      "Total training time: 1.83 seconds.\n",
      "Convergence after 146 epochs took 1.83 seconds\n",
      "CPU times: user 1.86 s, sys: 22.6 ms, total: 1.88 s\n",
      "Wall time: 1.83 s\n"
     ]
    },
    {
     "data": {
      "text/plain": [
       "SGDRegressor(alpha=0, eta0=0.001, learning_rate='constant', random_state=42,\n",
       "             verbose=100)"
      ]
     },
     "execution_count": 32,
     "metadata": {},
     "output_type": "execute_result"
    }
   ],
   "source": [
    "%%time\n",
    "regressor = SGDRegressor(loss='squared_loss',\n",
    "                         alpha=0,\n",
    "                         fit_intercept=True,\n",
    "                         max_iter=1000,\n",
    "                         shuffle=True,\n",
    "                         verbose=100,\n",
    "                         random_state=42,\n",
    "                         learning_rate='constant',\n",
    "                         eta0=1e-3,\n",
    "                         early_stopping=False)\n",
    "regressor.fit(X_train, y_train)"
   ]
  },
  {
   "cell_type": "code",
   "execution_count": 39,
   "metadata": {},
   "outputs": [
    {
     "name": "stdout",
     "output_type": "stream",
     "text": [
      "MSE on test sample: 637915.2917077597\n"
     ]
    }
   ],
   "source": [
    "y_pred_sklearn = regressor.predict(X_test)\n",
    "print(\"MSE on test sample:\", mean_squared_error(y_test, y_pred_sklearn))"
   ]
  },
  {
   "cell_type": "markdown",
   "metadata": {},
   "source": [
    "1. Достигают ли они сравнимого качества на данном наборе данных?\n",
    "    * __Да, значение MSE выходит на порядок 1e5: в Custom на 900 и 1000 эпохе MSE 178k и 44k соответственно, однако, на тестовой выборке MSE повыше, 4.8kk, то есть на некоторых эпохах качество уже приемлемое, но можно подобрать еще более оптимальные параметры__\n",
    "\n",
    "\n",
    "2. Одинаковая ли у них скорость сходимости? \n",
    "    * __Схожая, первую треть эпох сходимость активная, а дальше \"плато\"__\n",
    "    \n",
    "    \n",
    "3. Одинаковая ли скорость обучения при заданном количестве эпох?\n",
    "    * __19 сек vs. 2 ms, версия sklearn работает заметно быстрее в силу оптимизации, в CustomSGDRegressor часть лишних операций могут быть упрощены__\n",
    "\n",
    "\n",
    "4. Похожие ли веса модели были найдены?\n",
    "    * __У версии sklearn веса в основном меньше, но intercept выше, они друг друга ± компенсируют__"
   ]
  },
  {
   "cell_type": "markdown",
   "metadata": {},
   "source": [
    "__Различие весов и intercept__"
   ]
  },
  {
   "cell_type": "code",
   "execution_count": 33,
   "metadata": {},
   "outputs": [
    {
     "data": {
      "image/png": "[encoded data removed]",
      "text/plain": [
       "<Figure size 432x288 with 1 Axes>"
      ]
     },
     "metadata": {
      "needs_background": "light"
     },
     "output_type": "display_data"
    }
   ],
   "source": [
    "plt.hist(regressor.coef_ - sgd_reg.coef_, bins=30)\n",
    "plt.grid(True)\n",
    "plt.show()"
   ]
  },
  {
   "cell_type": "code",
   "execution_count": 34,
   "metadata": {},
   "outputs": [
    {
     "name": "stdout",
     "output_type": "stream",
     "text": [
      "Intercept CustomSGDRegressor: 4935\n",
      "Intercept SGDRegressor: 8848\n"
     ]
    }
   ],
   "source": [
    "print('Intercept CustomSGDRegressor:', int(sgd_reg.intercept_))\n",
    "print('Intercept SGDRegressor:', int(regressor.intercept_[0]))"
   ]
  },
  {
   "cell_type": "markdown",
   "metadata": {},
   "source": [
    "**Задание 2** (2 балла)\n",
    "\n",
    "Повысьте качество модели `SGDRegressor` проведя эксперименты со стратегией обучения, а также с регуляризацией. \n",
    "\n",
    "Для подбора гиперпараметров воспользуйтесь перебором по сетке, который реализован в классе [GridSearchCV](http://scikit-learn.org/stable/modules/generated/sklearn.model_selection.GridSearchCV.html#sklearn.model_selection.GridSearchCV). В качестве схемы кросс-валидации используйте 5-Fold CV, которую можно задать с помощью класса [KFoldCV](http://scikit-learn.org/stable/modules/generated/sklearn.model_selection.KFold.html#sklearn.model_selection.KFold).\n",
    "\n",
    "Постройте график среднего значения качества по кросс-валидации алгоритма при заданном значении гиперпараметра, на котором также отобразите доверительный интервал. Для получения значения качества на каждом фолде, среднего значение качества и другой полезной информации можно воспользоваться полем [*cv results_*](http://scikit-learn.org/stable/modules/generated/sklearn.model_selection.GridSearchCV.html#sklearn.model_selection.GridSearchCV)\n",
    "\n",
    "Какая комбинация стратегии обучения и регуляризации оказалась выигрышной?"
   ]
  },
  {
   "cell_type": "code",
   "execution_count": 35,
   "metadata": {},
   "outputs": [
    {
     "name": "stdout",
     "output_type": "stream",
     "text": [
      "Fitting 5 folds for each of 27 candidates, totalling 135 fits\n"
     ]
    },
    {
     "name": "stderr",
     "output_type": "stream",
     "text": [
      "[Parallel(n_jobs=1)]: Using backend SequentialBackend with 1 concurrent workers.\n",
      "[Parallel(n_jobs=1)]: Done 135 out of 135 | elapsed:  3.3min finished\n"
     ]
    },
    {
     "name": "stdout",
     "output_type": "stream",
     "text": [
      "CPU times: user 5min 51s, sys: 2.13 s, total: 5min 53s\n",
      "Wall time: 3min 17s\n"
     ]
    },
    {
     "data": {
      "text/plain": [
       "GridSearchCV(cv=KFold(n_splits=5, random_state=42, shuffle=True),\n",
       "             estimator=SGDRegressor(alpha=0, eta0=0.001,\n",
       "                                    learning_rate='constant', random_state=42,\n",
       "                                    verbose=False),\n",
       "             param_grid={'alpha': [0, 0.01, 0.1],\n",
       "                         'eta0': [0.001, 0.0005, 0.0001],\n",
       "                         'max_iter': [1000, 2000, 4000]},\n",
       "             scoring='neg_mean_squared_error', verbose=True)"
      ]
     },
     "execution_count": 35,
     "metadata": {},
     "output_type": "execute_result"
    }
   ],
   "source": [
    "%%time\n",
    "regressor.verbose = False\n",
    "grid = {'max_iter': [1000, 2000, 4000], \n",
    "        'eta0':[1e-3, 5e-4, 1e-4], \n",
    "        'alpha': [0, 0.01, 0.1]}\n",
    "kf = KFold(n_splits=5, random_state=42, shuffle=True)\n",
    "\n",
    "gs_cv = GridSearchCV(estimator=regressor, \n",
    "                     param_grid=grid, \n",
    "                     cv=kf, \n",
    "                     scoring='neg_mean_squared_error',\n",
    "                     verbose=True)\n",
    "gs_cv.fit(X_train, y_train)"
   ]
  },
  {
   "cell_type": "code",
   "execution_count": 36,
   "metadata": {},
   "outputs": [
    {
     "data": {
      "image/png": "[encoded data removed]",
      "text/plain": [
       "<Figure size 432x288 with 1 Axes>"
      ]
     },
     "metadata": {
      "needs_background": "light"
     },
     "output_type": "display_data"
    }
   ],
   "source": [
    "mean_mse_per_folds = -gs_cv.cv_results_['mean_test_score']\n",
    "std_mse_per_folds = gs_cv.cv_results_['std_test_score']\n",
    "\n",
    "plt.bar(range(27), mean_mse_per_folds, yerr=std_mse_per_folds, align='center', alpha=0.8, ecolor='black', capsize=4)\n",
    "plt.ylabel('MSE')\n",
    "plt.xlabel('Index of combination')\n",
    "plt.title('MSE per hypeparams. combinations')\n",
    "# plt.ylim(6_500_000, 7_100_000)\n",
    "plt.grid(True)\n",
    "plt.tight_layout()\n",
    "plt.show()"
   ]
  },
  {
   "cell_type": "code",
   "execution_count": 38,
   "metadata": {},
   "outputs": [
    {
     "name": "stdout",
     "output_type": "stream",
     "text": [
      "MSE on test sample: 637915.2917077597\n"
     ]
    }
   ],
   "source": [
    "y_pred_cv = gs_cv.predict(X_test)\n",
    "print(\"MSE on test sample:\", mean_squared_error(y_test, y_pred_cv))"
   ]
  },
  {
   "cell_type": "markdown",
   "metadata": {},
   "source": [
    "Ранги лучших комбинаций по MSE и соответствующие гиперпараметры"
   ]
  },
  {
   "cell_type": "code",
   "execution_count": 40,
   "metadata": {},
   "outputs": [
    {
     "data": {
      "text/plain": [
       "array([ 1,  1,  1,  4,  4,  4,  7,  7,  7, 16, 16, 16, 10, 10, 10, 13, 13,\n",
       "       13, 25, 25, 25, 22, 22, 22, 19, 19, 19], dtype=int32)"
      ]
     },
     "execution_count": 40,
     "metadata": {},
     "output_type": "execute_result"
    }
   ],
   "source": [
    "gs_cv.cv_results_['rank_test_score']"
   ]
  },
  {
   "cell_type": "code",
   "execution_count": 41,
   "metadata": {},
   "outputs": [
    {
     "data": {
      "text/plain": [
       "array([{'alpha': 0, 'eta0': 0.001, 'max_iter': 1000},\n",
       "       {'alpha': 0, 'eta0': 0.001, 'max_iter': 2000},\n",
       "       {'alpha': 0, 'eta0': 0.001, 'max_iter': 4000}], dtype=object)"
      ]
     },
     "execution_count": 41,
     "metadata": {},
     "output_type": "execute_result"
    }
   ],
   "source": [
    "ids_best = [i for i, rank in enumerate(gs_cv.cv_results_['rank_test_score']) if rank == 1]\n",
    "np.array(gs_cv.cv_results_['params'])[ids_best]"
   ]
  },
  {
   "cell_type": "markdown",
   "metadata": {},
   "source": [
    "---"
   ]
  },
  {
   "cell_type": "markdown",
   "metadata": {},
   "source": [
    "__Выводы:__\n",
    "\n",
    "* Кросс-валидация и перебор гиперпараметров по сетке позволили убедиться, что выбранные изначально гиперпараметры довольно оптимальны, так при них лучшее качество, но при более тонкой настройке возможно еще улучшить MSE\n",
    "* MSE на тестовой выборке остался на уровне ~637k\n",
    "* Наилучшая комбинация гиперпараметров была на первых комбинациях - при отсутствии регуляризации (alpha=0), наибольшем шаге (eta0=0.0001) и не было различий для заданного кол-ва эпох (max_iter=1000/2000/4000)"
   ]
  },
  {
   "cell_type": "markdown",
   "metadata": {},
   "source": [
    "---"
   ]
  },
  {
   "cell_type": "markdown",
   "metadata": {},
   "source": [
    "**Задание 3** (3 балла)\n",
    "\n",
    "Попробуйте обогатить `X` данными из остальных таблиц, так что бы повысить качество модели `SGDRegressor`.\n",
    "\n",
    "Проведите ряд экспериментов, целью которых будет выявить оптимальный набор данных для решения данной задачи. \n",
    "\n",
    "Все эксперименты должны быть подкреплены корректными и понятными графиками.\n",
    "\n",
    "Опишите вашу стратегию добавления признаков и оценки их значимости, а также ответьте на вопросы:\n",
    "\n",
    "1. Удалось ли повысить качество предсказания за счёт добавления новых признаков?\n",
    "2. Есть ли признаки, добавление которых, ухудшило качество модели? Как вы думаете, почему так произошло?"
   ]
  },
  {
   "cell_type": "markdown",
   "metadata": {},
   "source": [
    "---"
   ]
  },
  {
   "cell_type": "markdown",
   "metadata": {},
   "source": [
    "Предполагая, что мы не знаем других факторов для команды Radiant на момент 600 секунды, для которых предсказываем кол-ва золота, поэтому будем использовать другие данные вплоть до момента 540 секунд для Radiant. Для Dire, как и раньше, используем все данные.\n",
    "\n",
    "В игре золото получают за выполнение действий, таких как убийство крипов, героев и др., за это также игрок получает опыт. В силу механики игры, конкретные предметы и выбранные герои влияют на кол-во заметно меньшее влияние. \n",
    "\n",
    "Добавим в датасет данные о убийстве крипов (__lh.csv__) и опыте(__xp.csv__)."
   ]
  },
  {
   "cell_type": "code",
   "execution_count": 42,
   "metadata": {},
   "outputs": [],
   "source": [
    "lasthit = pd.read_csv('../Kaggle/competition-1-sem-1-yandex-shad-fall-2021/lh.csv', index_col=[0, 1])\n",
    "xp = pd.read_csv('../Kaggle/competition-1-sem-1-yandex-shad-fall-2021/xp.csv', index_col=[0, 1])\n",
    "\n",
    "lasthit_features = lasthit.unstack().drop([(player, 600) for player in radiant_team], axis=1)\n",
    "lasthit_features.columns = ['lh_{}_{}'.format(*column) for column in lasthit_features.columns]\n",
    "\n",
    "xp_features = xp.unstack().drop([(player, 600) for player in radiant_team], axis=1)\n",
    "xp_features.columns = ['xp_{}_{}'.format(*column) for column in xp_features.columns]"
   ]
  },
  {
   "cell_type": "code",
   "execution_count": 43,
   "metadata": {},
   "outputs": [],
   "source": [
    "dataset = pd.merge(X, lasthit_features, on='mid', how='inner')\n",
    "dataset = pd.merge(dataset, xp_features, on='mid', how='inner')\n",
    "\n",
    "dataset_scaled = scaler.fit_transform(dataset)\n",
    "dataset_train, dataset_test, y_train, y_test = train_test_split(dataset_scaled, Y, test_size=0.3, random_state=42)"
   ]
  },
  {
   "cell_type": "code",
   "execution_count": 44,
   "metadata": {},
   "outputs": [
    {
     "name": "stdout",
     "output_type": "stream",
     "text": [
      "MSE on test sample: 622717.253336694\n"
     ]
    }
   ],
   "source": [
    "regressor.fit(dataset_train, y_train)\n",
    "y_pred_dataset = regressor.predict(dataset_test)\n",
    "print(\"MSE on test sample:\", mean_squared_error(y_test, y_pred_dataset))"
   ]
  },
  {
   "cell_type": "markdown",
   "metadata": {},
   "source": [
    "1. Удалось ли повысить качество предсказания за счёт добавления новых признаков?\n",
    "    * __MSE уменьшилось с 637k до 622k. Новые признаки добавили немного точности предсказания.__"
   ]
  },
  {
   "cell_type": "markdown",
   "metadata": {},
   "source": [
    "Посмотрим важность признаков: чем больше значение веса признака, тем он значимее. Веса признаков сравнимы друг с другом в силу приведения их к одному масштабу (MinMax)."
   ]
  },
  {
   "cell_type": "code",
   "execution_count": 45,
   "metadata": {},
   "outputs": [],
   "source": [
    "features_weights = pd.DataFrame(zip(dataset.columns, regressor.coef_), columns=['feature', 'weight'])\\\n",
    "                    .sort_values(by='weight', ascending=False).reset_index(drop=True)\n",
    "features_weights_best = pd.concat([features_weights.head(20), features_weights.tail(20)]) "
   ]
  },
  {
   "cell_type": "code",
   "execution_count": 46,
   "metadata": {},
   "outputs": [
    {
     "data": {
      "text/plain": [
       "Text(0.5, 1.0, 'Features Weights (Top-10 per high/low)')"
      ]
     },
     "execution_count": 46,
     "metadata": {},
     "output_type": "execute_result"
    },
    {
     "data": {
      "image/png": "[encoded data removed]",
      "text/plain": [
       "<Figure size 864x864 with 1 Axes>"
      ]
     },
     "metadata": {
      "needs_background": "light"
     },
     "output_type": "display_data"
    }
   ],
   "source": [
    "plt.figure(figsize=(12,12))\n",
    "sns.barplot(x=\"weight\", y=\"feature\", data=features_weights_best)\n",
    "plt.title('Features Weights (Top-10 per high/low)')"
   ]
  },
  {
   "cell_type": "markdown",
   "metadata": {},
   "source": [
    "В топе важных фичей, влияющих __положительно__ на кол-во золота в команде Radiant, опыт игроков Radiant, накопленный к последнему моменту накануне 600 секунды (xp_player_1_540, например), также в топе убийство крипов игроками Radiant (lh_player_6_540). Это логично: опыт тесно связан с золотом, а признак для временного ряда с лагом -1 зачастую является сильным предиктором - это ближайшая достоверная информация перед событием таргета.\n",
    "\n",
    "Топ-1 в важных фичах, влияющих __отрицательно__, убийство крипов игроками Dire на 600 секунде и накопленный опыт. Это тоже логично: чем успешнее одна команда, тем менее успешна противоположная. Если игрок Dire набрал много опыта, то он вероятно убивал героев Radiant, а значит золота у команды Radiant будет меньше."
   ]
  },
  {
   "cell_type": "markdown",
   "metadata": {},
   "source": [
    "Попробуем добавить вместо xp/lh другие признаки, которые менее очевидно связаны с таргетом, например, __купленные игроками предметы (items.csv)__. Посчитаем признаки: __сколько каких предметов собрали игроки команды Radiant и Dire__."
   ]
  },
  {
   "cell_type": "code",
   "execution_count": 47,
   "metadata": {},
   "outputs": [],
   "source": [
    "items = pd.read_csv('../Kaggle/competition-1-sem-1-yandex-shad-fall-2021/items.csv')\n",
    "\n",
    "items['team'] = items['player'].apply(lambda x: 'radiant' if x < 5 else 'dire')\n",
    "items_per_team = items.drop('player', axis=1).groupby(['mid', 'team']).sum().reset_index()\n",
    "\n",
    "items_pivoted = items_per_team.pivot(index='mid', columns='team', values=[f'item_{x}' for x in range(121)])\n",
    "items_pivoted.columns = [f'{x[1]}_{x[0]}' for x in items_pivoted.columns]\n",
    "items_features = items_pivoted.reset_index()"
   ]
  },
  {
   "cell_type": "code",
   "execution_count": 48,
   "metadata": {},
   "outputs": [
    {
     "data": {
      "text/html": [
       "<div>\n",
       "<style scoped>\n",
       "    .dataframe tbody tr th:only-of-type {\n",
       "        vertical-align: middle;\n",
       "    }\n",
       "\n",
       "    .dataframe tbody tr th {\n",
       "        vertical-align: top;\n",
       "    }\n",
       "\n",
       "    .dataframe thead th {\n",
       "        text-align: right;\n",
       "    }\n",
       "</style>\n",
       "<table border=\"1\" class=\"dataframe\">\n",
       "  <thead>\n",
       "    <tr style=\"text-align: right;\">\n",
       "      <th></th>\n",
       "      <th>mid</th>\n",
       "      <th>dire_item_0</th>\n",
       "      <th>radiant_item_0</th>\n",
       "      <th>dire_item_1</th>\n",
       "      <th>radiant_item_1</th>\n",
       "      <th>dire_item_2</th>\n",
       "      <th>radiant_item_2</th>\n",
       "      <th>dire_item_3</th>\n",
       "      <th>radiant_item_3</th>\n",
       "      <th>dire_item_4</th>\n",
       "      <th>...</th>\n",
       "      <th>dire_item_116</th>\n",
       "      <th>radiant_item_116</th>\n",
       "      <th>dire_item_117</th>\n",
       "      <th>radiant_item_117</th>\n",
       "      <th>dire_item_118</th>\n",
       "      <th>radiant_item_118</th>\n",
       "      <th>dire_item_119</th>\n",
       "      <th>radiant_item_119</th>\n",
       "      <th>dire_item_120</th>\n",
       "      <th>radiant_item_120</th>\n",
       "    </tr>\n",
       "  </thead>\n",
       "  <tbody>\n",
       "    <tr>\n",
       "      <th>0</th>\n",
       "      <td>0</td>\n",
       "      <td>0.0</td>\n",
       "      <td>0.0</td>\n",
       "      <td>2.0</td>\n",
       "      <td>0.0</td>\n",
       "      <td>0.0</td>\n",
       "      <td>0.0</td>\n",
       "      <td>0.0</td>\n",
       "      <td>1.0</td>\n",
       "      <td>0.0</td>\n",
       "      <td>...</td>\n",
       "      <td>0.0</td>\n",
       "      <td>0.0</td>\n",
       "      <td>0.0</td>\n",
       "      <td>0.0</td>\n",
       "      <td>0.0</td>\n",
       "      <td>0.0</td>\n",
       "      <td>0.0</td>\n",
       "      <td>0.0</td>\n",
       "      <td>0.0</td>\n",
       "      <td>0.0</td>\n",
       "    </tr>\n",
       "    <tr>\n",
       "      <th>1</th>\n",
       "      <td>1</td>\n",
       "      <td>0.0</td>\n",
       "      <td>0.0</td>\n",
       "      <td>2.0</td>\n",
       "      <td>2.0</td>\n",
       "      <td>0.0</td>\n",
       "      <td>0.0</td>\n",
       "      <td>0.0</td>\n",
       "      <td>0.0</td>\n",
       "      <td>0.0</td>\n",
       "      <td>...</td>\n",
       "      <td>0.0</td>\n",
       "      <td>0.0</td>\n",
       "      <td>0.0</td>\n",
       "      <td>0.0</td>\n",
       "      <td>0.0</td>\n",
       "      <td>0.0</td>\n",
       "      <td>0.0</td>\n",
       "      <td>0.0</td>\n",
       "      <td>0.0</td>\n",
       "      <td>0.0</td>\n",
       "    </tr>\n",
       "  </tbody>\n",
       "</table>\n",
       "<p>2 rows × 243 columns</p>\n",
       "</div>"
      ],
      "text/plain": [
       "   mid  dire_item_0  radiant_item_0  dire_item_1  radiant_item_1  dire_item_2  \\\n",
       "0    0          0.0             0.0          2.0             0.0          0.0   \n",
       "1    1          0.0             0.0          2.0             2.0          0.0   \n",
       "\n",
       "   radiant_item_2  dire_item_3  radiant_item_3  dire_item_4  ...  \\\n",
       "0             0.0          0.0             1.0          0.0  ...   \n",
       "1             0.0          0.0             0.0          0.0  ...   \n",
       "\n",
       "   dire_item_116  radiant_item_116  dire_item_117  radiant_item_117  \\\n",
       "0            0.0               0.0            0.0               0.0   \n",
       "1            0.0               0.0            0.0               0.0   \n",
       "\n",
       "   dire_item_118  radiant_item_118  dire_item_119  radiant_item_119  \\\n",
       "0            0.0               0.0            0.0               0.0   \n",
       "1            0.0               0.0            0.0               0.0   \n",
       "\n",
       "   dire_item_120  radiant_item_120  \n",
       "0            0.0               0.0  \n",
       "1            0.0               0.0  \n",
       "\n",
       "[2 rows x 243 columns]"
      ]
     },
     "execution_count": 48,
     "metadata": {},
     "output_type": "execute_result"
    }
   ],
   "source": [
    "items_features.head(2)"
   ]
  },
  {
   "cell_type": "code",
   "execution_count": 49,
   "metadata": {},
   "outputs": [],
   "source": [
    "dataset_items = pd.merge(X, items_features, on='mid', how='inner').drop('mid', axis=1)\n",
    "\n",
    "dataset_items_scaled = scaler.fit_transform(dataset_items)\n",
    "dataset_items_train, dataset_items_test, y_train, y_test = \\\n",
    "    train_test_split(dataset_items_scaled, Y, test_size=0.3, random_state=42)"
   ]
  },
  {
   "cell_type": "code",
   "execution_count": 50,
   "metadata": {},
   "outputs": [
    {
     "name": "stdout",
     "output_type": "stream",
     "text": [
      "MSE on test sample: 605913.8765786348\n"
     ]
    }
   ],
   "source": [
    "regressor.fit(dataset_items_train, y_train)\n",
    "y_pred_dataset_items = regressor.predict(dataset_items_test)\n",
    "print(\"MSE on test sample:\", mean_squared_error(y_test, y_pred_dataset_items))"
   ]
  },
  {
   "cell_type": "markdown",
   "metadata": {},
   "source": [
    "2. Есть ли признаки, добавление которых, ухудшило качество модели? Как вы думаете, почему так произошло \n",
    "    * __MSE уменьшилось с 637k до 605k, что даже больше, чем добавление xp/lh! Оказалось, что предметы влияют даже больше, чем опыт или убийство крипов. Однако, предметы покупаются за деньги, поэтому объяснение такому находится быстро.__\n",
    "    * __Так как данные в целом немного и все они качественно описывают игру, то добавление только очень выборочного и специфичного набора признаков может привести к ухудшению качества. Добавление текущих признаков все еще улучшает прогноз.__"
   ]
  },
  {
   "cell_type": "markdown",
   "metadata": {},
   "source": [
    "Убедимся, что предметы и правда есть в топе признаков:"
   ]
  },
  {
   "cell_type": "code",
   "execution_count": 51,
   "metadata": {},
   "outputs": [],
   "source": [
    "features_weights = pd.DataFrame(zip(dataset_items.columns, regressor.coef_), columns=['feature', 'weight'])\\\n",
    "                    .sort_values(by='weight', ascending=False).reset_index(drop=True)\n",
    "features_weights_best = pd.concat([features_weights.head(10), features_weights.tail(10)]) "
   ]
  },
  {
   "cell_type": "code",
   "execution_count": 52,
   "metadata": {},
   "outputs": [
    {
     "data": {
      "text/plain": [
       "Text(0.5, 1.0, 'Features Weights (Top-5 per high/low)')"
      ]
     },
     "execution_count": 52,
     "metadata": {},
     "output_type": "execute_result"
    },
    {
     "data": {
      "image/png": "[encoded data removed]",
      "text/plain": [
       "<Figure size 864x432 with 1 Axes>"
      ]
     },
     "metadata": {
      "needs_background": "light"
     },
     "output_type": "display_data"
    }
   ],
   "source": [
    "plt.figure(figsize=(12,6))\n",
    "sns.barplot(x=\"weight\", y=\"feature\", data=features_weights_best)\n",
    "plt.title('Features Weights (Top-5 per high/low)')"
   ]
  },
  {
   "cell_type": "markdown",
   "metadata": {},
   "source": [
    "## Бинарная классификация"
   ]
  },
  {
   "cell_type": "markdown",
   "metadata": {},
   "source": [
    "**Задание 4** (3 балла)\n",
    "\n",
    "Реализуйте класс `CustomSGDClassifier`, который бы обучал логистическую регрессию, используя `SGD`.\n",
    "\n",
    "Класс, должен принимать следующие параметры при инициализации:\n",
    "    \n",
    "    learning_rate : float : параметр задающий скорось обучения\n",
    "    fit_intercept : bool : если True, то добавляем свободный член\n",
    "    max_iter : int : максимальное число эпох\n",
    "    shuffle : bool : если True, то перемещиваем данные обучения перед каждой эпохой\n",
    "    \n",
    "и иметь методы `fit`, `predict` и `predict_proba`.\n",
    "\n",
    "После обучения (запуска метода `fit`) мы должны мочь обратиться к атрибутам класса: \n",
    "    \n",
    "    coef_  : ndarray of shape (n_features,)\n",
    "    intercept_ : ndarray of shape (1,)"
   ]
  },
  {
   "cell_type": "code",
   "execution_count": 53,
   "metadata": {},
   "outputs": [],
   "source": [
    "class CustomSGDClassifier(ClassifierMixin):\n",
    "    def __init__(self, \n",
    "                 learning_rate = 0.01,\n",
    "                 fit_intercept = True, \n",
    "                 max_iter = 100, \n",
    "                 shuffle = False, \n",
    "                 batch_size = 1, \n",
    "                 verbose=False,\n",
    "                 random_state=42):\n",
    "        self.learning_rate = learning_rate\n",
    "        self.fit_intercept = fit_intercept\n",
    "        self.max_iter = max_iter\n",
    "        self.shuffle = shuffle\n",
    "        self.batch_size = batch_size\n",
    "        self.verbose = verbose\n",
    "        self.random_state = random_state\n",
    "        \n",
    "    @staticmethod\n",
    "    def _add_intercept(X):\n",
    "        I = np.ones(len(X))[:, np.newaxis]\n",
    "        X = np.hstack([I, X])\n",
    "        return X\n",
    "    \n",
    "    @staticmethod\n",
    "    def _sigmoid(X):\n",
    "        return (1 / (1 + np.exp(-X))) + 0.000001\n",
    "    \n",
    "    def fit(self, X, Y):\n",
    "        if self.fit_intercept:\n",
    "            X = self._add_intercept(X)\n",
    "        \n",
    "        self.W = np.random.rand(X.shape[1])\n",
    "        Y = Y[:, np.newaxis]\n",
    "        \n",
    "        losses = []\n",
    "        epoch = 1\n",
    "        \n",
    "        np.random.seed(self.random_state)\n",
    "        \n",
    "        while epoch <= self.max_iter:\n",
    "            dataset = np.hstack([X, Y])\n",
    "            if self.shuffle:\n",
    "                shuffle(dataset)\n",
    "                \n",
    "            X_epoch = dataset[:, :-1]\n",
    "            Y_epoch = dataset[:, -1:]\n",
    "            \n",
    "            batch_ids = np.random.randint(low=0, high=X.shape[0], size=self.batch_size)\n",
    "            X_batch = X_epoch[batch_ids]\n",
    "            Y_batch = Y_epoch[batch_ids]\n",
    "            \n",
    "            Y_batch_pred = self._sigmoid(X_batch @ self.W[:, np.newaxis])\n",
    "            self.W += self.learning_rate * ((Y_batch - Y_batch_pred) * X_batch).sum(axis=0)\n",
    "            \n",
    "            loss = log_loss(Y_batch, Y_batch_pred, labels=[0, 1])\n",
    "            losses.append(loss)\n",
    "\n",
    "            if self.verbose != False:\n",
    "                if (epoch % int(self.verbose) == 0):\n",
    "                    print(f'epoch: {epoch}, log_loss: {loss}')\n",
    "                \n",
    "            epoch += 1\n",
    "        \n",
    "        self.losses_ = losses\n",
    "        self.coef_ = self.W[1:]\n",
    "        self.intercept_ = self.W[0]\n",
    "    \n",
    "    \n",
    "    def predict_proba(self, X):\n",
    "        if self.fit_intercept:\n",
    "            X = self._add_intercept(X)\n",
    "            \n",
    "        return self._sigmoid(X @ self.W[:, np.newaxis]).flatten()\n",
    "    \n",
    "    def predict(self, X):\n",
    "        return (self.predict_proba(X) >= 0.5).astype(np.int32)"
   ]
  },
  {
   "cell_type": "markdown",
   "metadata": {},
   "source": [
    "Используя `CustomSGDClassifier` научитесь прогнозировать победу команды Radiant.\n",
    "\n",
    "Оптимальный набор гиперпараметров и признаков отберите, опираясь на такие метрики, как `precision`,  `recall` и `ROC-AUC`.\n",
    "    \n",
    "Все эксперименты должны быть подкреплены корректными и понятными графиками."
   ]
  },
  {
   "cell_type": "markdown",
   "metadata": {},
   "source": [
    "---"
   ]
  },
  {
   "cell_type": "markdown",
   "metadata": {},
   "source": [
    "Загрузим таргет и в качестве признаков возьмем все то, что использовали ранее: gold, lh, xp, items."
   ]
  },
  {
   "cell_type": "code",
   "execution_count": 54,
   "metadata": {},
   "outputs": [],
   "source": [
    "train = pd.read_csv('../Kaggle/competition-1-sem-1-yandex-shad-fall-2021/train.csv', index_col=[0])\n",
    "Y = train['radiant_won']\n",
    "\n",
    "gold_features = pd.read_csv('../Kaggle/competition-1-sem-1-yandex-shad-fall-2021/gold.csv', index_col=[0, 1])\n",
    "gold_features = gold_features.unstack()\n",
    "gold_features.columns = ['{}_{}'.format(*column) for column in gold_features.columns]\n",
    "\n",
    "X = train.reset_index()[['mid']]\n",
    "X = pd.merge(X, gold_features, on='mid', how='inner')\n",
    "X = pd.merge(X, lasthit_features, on='mid', how='inner')\n",
    "X = pd.merge(X, xp_features, on='mid', how='inner')\n",
    "X = pd.merge(X, items_features, on='mid', how='inner')\n",
    "X = X.drop('mid', axis=1)"
   ]
  },
  {
   "cell_type": "code",
   "execution_count": 55,
   "metadata": {
    "scrolled": true
   },
   "outputs": [
    {
     "data": {
      "text/html": [
       "<div>\n",
       "<style scoped>\n",
       "    .dataframe tbody tr th:only-of-type {\n",
       "        vertical-align: middle;\n",
       "    }\n",
       "\n",
       "    .dataframe tbody tr th {\n",
       "        vertical-align: top;\n",
       "    }\n",
       "\n",
       "    .dataframe thead th {\n",
       "        text-align: right;\n",
       "    }\n",
       "</style>\n",
       "<table border=\"1\" class=\"dataframe\">\n",
       "  <thead>\n",
       "    <tr style=\"text-align: right;\">\n",
       "      <th></th>\n",
       "      <th>player_0_60</th>\n",
       "      <th>player_0_120</th>\n",
       "      <th>player_0_180</th>\n",
       "      <th>player_0_240</th>\n",
       "      <th>player_0_300</th>\n",
       "      <th>player_0_360</th>\n",
       "      <th>player_0_420</th>\n",
       "      <th>player_0_480</th>\n",
       "      <th>player_0_540</th>\n",
       "      <th>player_0_600</th>\n",
       "      <th>...</th>\n",
       "      <th>dire_item_116</th>\n",
       "      <th>radiant_item_116</th>\n",
       "      <th>dire_item_117</th>\n",
       "      <th>radiant_item_117</th>\n",
       "      <th>dire_item_118</th>\n",
       "      <th>radiant_item_118</th>\n",
       "      <th>dire_item_119</th>\n",
       "      <th>radiant_item_119</th>\n",
       "      <th>dire_item_120</th>\n",
       "      <th>radiant_item_120</th>\n",
       "    </tr>\n",
       "  </thead>\n",
       "  <tbody>\n",
       "    <tr>\n",
       "      <th>0</th>\n",
       "      <td>750</td>\n",
       "      <td>957</td>\n",
       "      <td>1161</td>\n",
       "      <td>1571</td>\n",
       "      <td>1721</td>\n",
       "      <td>1871</td>\n",
       "      <td>2022</td>\n",
       "      <td>2850</td>\n",
       "      <td>3303</td>\n",
       "      <td>3454</td>\n",
       "      <td>...</td>\n",
       "      <td>0.0</td>\n",
       "      <td>0.0</td>\n",
       "      <td>0.0</td>\n",
       "      <td>0.0</td>\n",
       "      <td>0.0</td>\n",
       "      <td>0.0</td>\n",
       "      <td>0.0</td>\n",
       "      <td>0.0</td>\n",
       "      <td>0.0</td>\n",
       "      <td>0.0</td>\n",
       "    </tr>\n",
       "    <tr>\n",
       "      <th>1</th>\n",
       "      <td>285</td>\n",
       "      <td>435</td>\n",
       "      <td>585</td>\n",
       "      <td>736</td>\n",
       "      <td>1334</td>\n",
       "      <td>1667</td>\n",
       "      <td>1818</td>\n",
       "      <td>2016</td>\n",
       "      <td>2328</td>\n",
       "      <td>2477</td>\n",
       "      <td>...</td>\n",
       "      <td>0.0</td>\n",
       "      <td>0.0</td>\n",
       "      <td>0.0</td>\n",
       "      <td>0.0</td>\n",
       "      <td>0.0</td>\n",
       "      <td>0.0</td>\n",
       "      <td>0.0</td>\n",
       "      <td>0.0</td>\n",
       "      <td>0.0</td>\n",
       "      <td>0.0</td>\n",
       "    </tr>\n",
       "  </tbody>\n",
       "</table>\n",
       "<p>2 rows × 532 columns</p>\n",
       "</div>"
      ],
      "text/plain": [
       "   player_0_60  player_0_120  player_0_180  player_0_240  player_0_300  \\\n",
       "0          750           957          1161          1571          1721   \n",
       "1          285           435           585           736          1334   \n",
       "\n",
       "   player_0_360  player_0_420  player_0_480  player_0_540  player_0_600  ...  \\\n",
       "0          1871          2022          2850          3303          3454  ...   \n",
       "1          1667          1818          2016          2328          2477  ...   \n",
       "\n",
       "   dire_item_116  radiant_item_116  dire_item_117  radiant_item_117  \\\n",
       "0            0.0               0.0            0.0               0.0   \n",
       "1            0.0               0.0            0.0               0.0   \n",
       "\n",
       "   dire_item_118  radiant_item_118  dire_item_119  radiant_item_119  \\\n",
       "0            0.0               0.0            0.0               0.0   \n",
       "1            0.0               0.0            0.0               0.0   \n",
       "\n",
       "   dire_item_120  radiant_item_120  \n",
       "0            0.0               0.0  \n",
       "1            0.0               0.0  \n",
       "\n",
       "[2 rows x 532 columns]"
      ]
     },
     "execution_count": 55,
     "metadata": {},
     "output_type": "execute_result"
    }
   ],
   "source": [
    "X.head(2)"
   ]
  },
  {
   "cell_type": "markdown",
   "metadata": {},
   "source": [
    "Отмасштабируем признаки, разделим на трейн/тест, обучим модель и оценим качество."
   ]
  },
  {
   "cell_type": "code",
   "execution_count": 56,
   "metadata": {},
   "outputs": [],
   "source": [
    "scaler = MinMaxScaler()\n",
    "X_scaled = scaler.fit_transform(X)\n",
    "\n",
    "X_train, X_test, y_train, y_test = train_test_split(X_scaled, Y, test_size=0.3, random_state=42)"
   ]
  },
  {
   "cell_type": "code",
   "execution_count": 57,
   "metadata": {},
   "outputs": [
    {
     "name": "stdout",
     "output_type": "stream",
     "text": [
      "epoch: 100, log_loss: 10.361872797702265\n",
      "epoch: 200, log_loss: 24.177703194638617\n",
      "epoch: 300, log_loss: 2.4332280602016434\n",
      "epoch: 400, log_loss: 1.2534975687170908\n",
      "epoch: 500, log_loss: 0.6385305787090786\n",
      "epoch: 600, log_loss: 0.8218922724990216\n",
      "epoch: 700, log_loss: 0.5330731649742214\n",
      "epoch: 800, log_loss: 0.6055768048630681\n",
      "epoch: 900, log_loss: 0.8484363426249775\n",
      "epoch: 1000, log_loss: 0.7821265885275548\n",
      "CPU times: user 30.6 s, sys: 11.8 s, total: 42.3 s\n",
      "Wall time: 42.4 s\n"
     ]
    }
   ],
   "source": [
    "%%time\n",
    "sgd_clf = CustomSGDClassifier(learning_rate=1e-3,\n",
    "                             fit_intercept=True, \n",
    "                             max_iter=1000, \n",
    "                             shuffle=True, \n",
    "                             batch_size=10, \n",
    "                             verbose=100)\n",
    "sgd_clf.fit(X_train, y_train)"
   ]
  },
  {
   "cell_type": "code",
   "execution_count": 58,
   "metadata": {},
   "outputs": [
    {
     "data": {
      "text/plain": [
       "[<matplotlib.lines.Line2D at 0x7fbb8806cca0>]"
      ]
     },
     "execution_count": 58,
     "metadata": {},
     "output_type": "execute_result"
    },
    {
     "data": {
      "image/png": "[encoded data removed]",
      "text/plain": [
       "<Figure size 432x288 with 1 Axes>"
      ]
     },
     "metadata": {
      "needs_background": "light"
     },
     "output_type": "display_data"
    }
   ],
   "source": [
    "plt.plot(sgd_clf.losses_)"
   ]
  },
  {
   "cell_type": "code",
   "execution_count": 59,
   "metadata": {},
   "outputs": [
    {
     "name": "stdout",
     "output_type": "stream",
     "text": [
      "Precision on test sample: 0.5400100654252642\n",
      "Recall on test sample: 0.5480081716036772\n",
      "ROC AUC on test sample: 0.518482699164992\n"
     ]
    }
   ],
   "source": [
    "y_pred = sgd_clf.predict(X_test)\n",
    "y_pred_proba = sgd_clf.predict(X_test)\n",
    "print(\"Precision on test sample:\", precision_score(y_test, y_pred))\n",
    "print(\"Recall on test sample:\", recall_score(y_test, y_pred))\n",
    "print(\"ROC AUC on test sample:\", roc_auc_score(y_test, y_pred_proba))"
   ]
  },
  {
   "cell_type": "markdown",
   "metadata": {},
   "source": [
    "Аналогично задаче регрессии, подберем оптимальные гиперпараметры с помощью кросс-валидации"
   ]
  },
  {
   "cell_type": "code",
   "execution_count": 60,
   "metadata": {},
   "outputs": [
    {
     "name": "stdout",
     "output_type": "stream",
     "text": [
      "Fitting 5 folds for each of 27 candidates, totalling 135 fits\n"
     ]
    },
    {
     "name": "stderr",
     "output_type": "stream",
     "text": [
      "[Parallel(n_jobs=1)]: Using backend SequentialBackend with 1 concurrent workers.\n",
      "[Parallel(n_jobs=1)]: Done 135 out of 135 | elapsed:   37.7s finished\n"
     ]
    },
    {
     "name": "stdout",
     "output_type": "stream",
     "text": [
      "CPU times: user 3min 39s, sys: 3.73 s, total: 3min 42s\n",
      "Wall time: 38.1 s\n"
     ]
    },
    {
     "data": {
      "text/plain": [
       "GridSearchCV(cv=KFold(n_splits=5, random_state=42, shuffle=True),\n",
       "             estimator=SGDClassifier(),\n",
       "             param_grid={'alpha': [0.01, 0.05, 0.1],\n",
       "                         'eta0': [0.01, 0.001, 0.0001],\n",
       "                         'max_iter': [500, 1000, 2000]},\n",
       "             scoring='roc_auc', verbose=True)"
      ]
     },
     "execution_count": 60,
     "metadata": {},
     "output_type": "execute_result"
    }
   ],
   "source": [
    "%%time\n",
    "classifier = SGDClassifier()\n",
    "\n",
    "grid = {'max_iter': [500, 1000, 2000], \n",
    "        'eta0':[1e-2, 1e-3, 1e-4], \n",
    "        'alpha': [0.01, 0.05, 0.1]}\n",
    "kf = KFold(n_splits=5, random_state=42, shuffle=True)\n",
    "\n",
    "gs_cv_clf = GridSearchCV(estimator=classifier, \n",
    "                         param_grid=grid, \n",
    "                         cv=kf, \n",
    "                         scoring='roc_auc',\n",
    "                         verbose=True)\n",
    "gs_cv_clf.fit(X_train, y_train)"
   ]
  },
  {
   "cell_type": "code",
   "execution_count": 61,
   "metadata": {},
   "outputs": [
    {
     "data": {
      "image/png": "[encoded data removed]",
      "text/plain": [
       "<Figure size 432x288 with 1 Axes>"
      ]
     },
     "metadata": {
      "needs_background": "light"
     },
     "output_type": "display_data"
    }
   ],
   "source": [
    "mean_rocauc_per_folds = gs_cv_clf.cv_results_['mean_test_score']\n",
    "std_rocauc_per_folds = gs_cv_clf.cv_results_['std_test_score']\n",
    "\n",
    "plt.bar(range(27), mean_rocauc_per_folds, yerr=std_rocauc_per_folds, align='center', \n",
    "        alpha=0.8, ecolor='black', capsize=4)\n",
    "plt.ylabel('ROC AUC')\n",
    "plt.xlabel('Index of fold')\n",
    "plt.title('ROC AUC per folds')\n",
    "plt.ylim(0.6, 0.8)\n",
    "plt.grid(True)\n",
    "plt.tight_layout()\n",
    "plt.show()"
   ]
  },
  {
   "cell_type": "code",
   "execution_count": 62,
   "metadata": {},
   "outputs": [
    {
     "name": "stdout",
     "output_type": "stream",
     "text": [
      "Precision on test sample: 0.6994328922495274\n",
      "Recall on test sample: 0.5669050051072523\n",
      "ROC AUC on test sample: 0.6501005316282698\n"
     ]
    }
   ],
   "source": [
    "y_pred_cv = gs_cv_clf.predict(X_test)\n",
    "y_pred_proba_cv = gs_cv_clf.predict(X_test)\n",
    "print(\"Precision on test sample:\", precision_score(y_test, y_pred_cv))\n",
    "print(\"Recall on test sample:\", recall_score(y_test, y_pred_cv))\n",
    "print(\"ROC AUC on test sample:\", roc_auc_score(y_test, y_pred_proba_cv))"
   ]
  },
  {
   "cell_type": "markdown",
   "metadata": {},
   "source": [
    "Ранги лучших комбинаций по ROC AUC и соответствующие гиперпараметры"
   ]
  },
  {
   "cell_type": "code",
   "execution_count": 63,
   "metadata": {},
   "outputs": [
    {
     "data": {
      "text/plain": [
       "array([ 3,  9,  5,  4,  2,  1,  7,  8,  6, 11, 15, 18, 17, 12, 10, 14, 16,\n",
       "       13, 22, 27, 20, 24, 25, 19, 21, 23, 26], dtype=int32)"
      ]
     },
     "execution_count": 63,
     "metadata": {},
     "output_type": "execute_result"
    }
   ],
   "source": [
    "gs_cv_clf.cv_results_['rank_test_score']"
   ]
  },
  {
   "cell_type": "code",
   "execution_count": 64,
   "metadata": {},
   "outputs": [
    {
     "data": {
      "text/plain": [
       "array([{'alpha': 0.01, 'eta0': 0.001, 'max_iter': 2000}], dtype=object)"
      ]
     },
     "execution_count": 64,
     "metadata": {},
     "output_type": "execute_result"
    }
   ],
   "source": [
    "ids_best = [i for i, rank in enumerate(gs_cv_clf.cv_results_['rank_test_score']) if rank == 1]\n",
    "np.array(gs_cv_clf.cv_results_['params'])[ids_best]"
   ]
  },
  {
   "cell_type": "markdown",
   "metadata": {},
   "source": [
    "---"
   ]
  },
  {
   "cell_type": "markdown",
   "metadata": {},
   "source": [
    "__Выводы:__\n",
    "\n",
    "* Кросс-валидация и перебор гиперпараметров по сетке позволил найти более оптимальные параметры\n",
    "* Все основные метрики на тестовой выборке заметно улучшились:\n",
    "    * precision: 0.54 -> 0.70\n",
    "    * recall: 0.55 -> 0.57\n",
    "    * roc auc: 0.52 -> 0.65\n",
    "* Наилучшая комбинация гиперпараметров была на фолде с минимальной регуляризацией (alpha=0.01), среднем шаге (eta0=0.001) и наибольшем кол-ве эпох (max_iter=2000)"
   ]
  },
  {
   "cell_type": "markdown",
   "metadata": {},
   "source": [
    "---"
   ]
  },
  {
   "cell_type": "markdown",
   "metadata": {},
   "source": [
    "**Задание 5** (2 балла)"
   ]
  },
  {
   "cell_type": "markdown",
   "metadata": {},
   "source": [
    "Попробуйте повысить качество предсказания, используя:\n",
    "\n",
    " - [Logistic Regression Classifier](https://scikit-learn.org/stable/modules/generated/sklearn.linear_model.LogisticRegression.html)\n",
    " - [C-Support Vector Classification](https://scikit-learn.org/stable/modules/generated/sklearn.svm.SVC.html)\n",
    " - [Multi-layer Perceptron Classifier](https://scikit-learn.org/stable/modules/generated/sklearn.neural_network.MLPClassifier.html)\n",
    " \n",
    "Проведите эксперементы по подбору гиперпараметров. Какой алгоритм показал наилучшее качество?"
   ]
  },
  {
   "cell_type": "markdown",
   "metadata": {},
   "source": [
    "Попробуем модели с базовыми гиперпараметрами. Некоторые модели долго обучаются на большом кол-ве итераций, поэтому ограничим кол-во итераций."
   ]
  },
  {
   "cell_type": "code",
   "execution_count": 65,
   "metadata": {},
   "outputs": [],
   "source": [
    "logit = LogisticRegression(max_iter=500)\n",
    "svc = SVC(max_iter=1000)\n",
    "mlpc = MLPClassifier(max_iter=100)"
   ]
  },
  {
   "cell_type": "code",
   "execution_count": 66,
   "metadata": {},
   "outputs": [
    {
     "name": "stdout",
     "output_type": "stream",
     "text": [
      "<class 'sklearn.linear_model._logistic.LogisticRegression'>\n",
      "Precision on test sample: 0.6680080482897385\n",
      "Recall on test sample: 0.6782431052093973\n",
      "ROC AUC on test sample: 0.6546093915759036\n",
      "--------------------\n",
      "<class 'sklearn.svm._classes.SVC'>\n",
      "Precision on test sample: 0.5579944049924682\n",
      "Recall on test sample: 0.6621552604698672\n",
      "ROC AUC on test sample: 0.5439655251189146\n",
      "--------------------\n",
      "<class 'sklearn.neural_network._multilayer_perceptron.MLPClassifier'>\n",
      "Precision on test sample: 0.6386228319958581\n",
      "Recall on test sample: 0.6299795709908069\n",
      "ROC AUC on test sample: 0.6198541970134354\n",
      "--------------------\n",
      "CPU times: user 2min 55s, sys: 2 s, total: 2min 57s\n",
      "Wall time: 1min\n"
     ]
    }
   ],
   "source": [
    "%%time\n",
    "for model in [logit, svc, mlpc]:\n",
    "    print(model.__class__)\n",
    "    model.fit(X_train, y_train)\n",
    "    \n",
    "    y_pred = model.predict(X_test)\n",
    "    y_pred_proba = model.predict(X_test)\n",
    "    print(\"Precision on test sample:\", precision_score(y_test, y_pred))\n",
    "    print(\"Recall on test sample:\", recall_score(y_test, y_pred))\n",
    "    print(\"ROC AUC on test sample:\", roc_auc_score(y_test, y_pred_proba))\n",
    "    print(\"-\"*20)"
   ]
  },
  {
   "cell_type": "markdown",
   "metadata": {},
   "source": [
    "Лучшие результаты по ROC AUC показала LogisticRegression, подберем более оптимальные параметры для этой модели:"
   ]
  },
  {
   "cell_type": "code",
   "execution_count": 67,
   "metadata": {
    "scrolled": true
   },
   "outputs": [
    {
     "name": "stdout",
     "output_type": "stream",
     "text": [
      "Fitting 5 folds for each of 27 candidates, totalling 135 fits\n"
     ]
    },
    {
     "name": "stderr",
     "output_type": "stream",
     "text": [
      "[Parallel(n_jobs=1)]: Using backend SequentialBackend with 1 concurrent workers.\n",
      "[Parallel(n_jobs=1)]: Done 135 out of 135 | elapsed:  5.0min finished\n"
     ]
    },
    {
     "name": "stdout",
     "output_type": "stream",
     "text": [
      "CPU times: user 39min 28s, sys: 31.3 s, total: 39min 59s\n",
      "Wall time: 5min 4s\n"
     ]
    },
    {
     "data": {
      "text/plain": [
       "GridSearchCV(cv=KFold(n_splits=5, random_state=42, shuffle=True),\n",
       "             estimator=LogisticRegression(max_iter=500),\n",
       "             param_grid={'C': [0.5, 1.0, 2.0], 'l1_ratio': [0.2, 0.5, 0.8],\n",
       "                         'max_iter': [200, 500, 1000]},\n",
       "             scoring='roc_auc', verbose=True)"
      ]
     },
     "execution_count": 67,
     "metadata": {},
     "output_type": "execute_result"
    }
   ],
   "source": [
    "%%time\n",
    "grid = {'C': [0.5, 1.0, 2.0],\n",
    "        'l1_ratio': [0.2, 0.5, 0.8],\n",
    "        'max_iter': [200, 500, 1000]}\n",
    "kf = KFold(n_splits=5, random_state=42, shuffle=True)\n",
    "\n",
    "gs_cv_logit = GridSearchCV(estimator=logit, \n",
    "                             param_grid=grid, \n",
    "                             cv=kf, \n",
    "                             scoring='roc_auc',\n",
    "                             verbose=True)\n",
    "gs_cv_logit.fit(X_train, y_train)"
   ]
  },
  {
   "cell_type": "code",
   "execution_count": 68,
   "metadata": {},
   "outputs": [
    {
     "name": "stdout",
     "output_type": "stream",
     "text": [
      "Precision on test sample: 0.6679197994987469\n",
      "Recall on test sample: 0.6805413687436159\n",
      "ROC AUC on test sample: 0.6550596136421463\n"
     ]
    }
   ],
   "source": [
    "y_pred_logit = gs_cv_logit.predict(X_test)\n",
    "y_pred_proba_logit = gs_cv_logit.predict(X_test)\n",
    "print(\"Precision on test sample:\", precision_score(y_test, y_pred_logit))\n",
    "print(\"Recall on test sample:\", recall_score(y_test, y_pred_logit))\n",
    "print(\"ROC AUC on test sample:\", roc_auc_score(y_test, y_pred_proba_logit))"
   ]
  },
  {
   "cell_type": "markdown",
   "metadata": {},
   "source": [
    "Получили, что настроенная модель LogisticRegression чуть лучше настроенного SGDClassifier из предыдущего пункта в терминах ROC AUC, при этом precision уменьшился, а recall вырос:\n",
    "* precision: 0.70 -> 0.67\n",
    "* recall: 0.57 -> 0.68\n",
    "* roc auc: 0.650 -> 0.655"
   ]
  },
  {
   "cell_type": "markdown",
   "metadata": {},
   "source": [
    "Может ли масштабирование повлиять на работу этих алгоритмов?"
   ]
  },
  {
   "cell_type": "markdown",
   "metadata": {},
   "source": [
    "__Да, это может влиять на скорость сходимости, сравнимость и интерпретируемость весов модели, а также корректность работы некоторых алгоритмов, например Support Vector Machine, для него крайне рекомендуется масштабировать признаки.__"
   ]
  },
  {
   "cell_type": "markdown",
   "metadata": {},
   "source": [
    "### Сравнение построенных моделей\n",
    "\n",
    "![](http://cdn.shopify.com/s/files/1/0870/1066/files/compare_e8b89647-3cb6-4871-a976-2e36e5987773.png?1750043340268621065)\n",
    "\n",
    "После того как было построено много моделей, правильным продолжением является сравнение их между собой.  Воспользуйтесь диаграммой размаха (\"ящик с усами\") для сравнения алгоритмов между собой. Эту диаграмму можно построить при помощи [boxplot](https://matplotlib.org/3.1.0/api/_as_gen/matplotlib.pyplot.boxplot.html) из matplotlib либо через [обертку](https://pandas.pydata.org/pandas-docs/stable/reference/api/pandas.DataFrame.boxplot.html) над ней из pandas.\n",
    "\n",
    "**Задание 6** (2 балла)\n",
    "\n",
    "Для каждого типа классификатора, выберите тот, которых давал наилучшее качество на кросс-валидации и постройте диаграмму размаха. Все классификаторы должны быть изображены на одном графике.\n",
    " \n",
    "Сделайте общие итоговые выводы о классификаторах с точки зрения их работы с признаками и сложности самой модели (какие гиперпараметры есть у модели, сильно ли изменение значения гиперпараметра влияет на качество модели)."
   ]
  },
  {
   "cell_type": "markdown",
   "metadata": {},
   "source": [
    "---"
   ]
  },
  {
   "cell_type": "markdown",
   "metadata": {},
   "source": [
    "Среди классификаторов в двух предыдущих пунктах лучшими были настроенный SGDClassifier и LogisticRegression. Использую данные кроссвалидации этих моделей, сравним их:"
   ]
  },
  {
   "cell_type": "code",
   "execution_count": 69,
   "metadata": {},
   "outputs": [],
   "source": [
    "comparison = pd.DataFrame({'SGDClassifier': gs_cv_clf.cv_results_['mean_test_score'],\n",
    "                           'LogisticRegression': gs_cv_logit.cv_results_['mean_test_score']})"
   ]
  },
  {
   "cell_type": "code",
   "execution_count": 70,
   "metadata": {},
   "outputs": [
    {
     "data": {
      "image/png": "[encoded data removed]",
      "text/plain": [
       "<Figure size 432x288 with 1 Axes>"
      ]
     },
     "metadata": {
      "needs_background": "light"
     },
     "output_type": "display_data"
    }
   ],
   "source": [
    "sns.boxplot(data=comparison, orient=\"h\")\n",
    "plt.xlabel('ROC AUC')\n",
    "plt.title('Models comparison')\n",
    "plt.grid(True)\n",
    "plt.tight_layout()\n",
    "plt.show()"
   ]
  },
  {
   "cell_type": "markdown",
   "metadata": {},
   "source": [
    "__Выводы:__\n",
    "\n",
    "* При сравнение двух данных классификаторов (стохастического и обычного) по boxplot с заметной разницей лидирует LogisticRegression\n",
    "* Классификаторы обучаются на трейн выборке, используя все признаки, что есть в датасете, и пытаются уменьшить ошибку предсказания целевой переменной (y_train) на всем датасете, либо на его части (SGD), обновляя вектор весом модели в соответствии с формулой градиентного спуска\n",
    "* Полезно масштабировать признаки для улучшения работы модели (скорость сходимости, не переполнение лосса), а для некоторых алгоритмов это критически важно (SVC, а также, например, пространственные kNN, k-means)\n",
    "* Наиболее чувствительными являются параметры шаг обучения и кол-во итераций, ими можно заметно влиять на сходимость спуска и конечное качество, настройка одних этих параметров позволяет достичь хорошего качества\n",
    "* Параметр fit_intercept отвечает за наличие свободного члена в многочлене регрессии\n",
    "* Есть параметры регуляризации, которые штрафуют веса модели за большие значения, контролируя переобучение\n",
    "* Параметр shuffle перемешивает выборку на каждом шаге и чуть \"поворачивает\" вектор антиградиента в пространстве, что в целом положительно сказывается на сходимости (не по одному \"склону\" функции делаем спуск, а с разных сторон)\n",
    "* Для SGD можем указать размер батча - размер выборки по которой минимизируем ошибку на каждом шаге, чем меньше, тем более \"стохастичен\" спуск, влияет на стабильность сходимости\n",
    "* Есть технические параметры: n_jobs, который может укорить обучение, распараллелив процесс\n",
    "* Есть l1_ratio, который позволяет \"балансировать\" между L1/L2 регуляризациями, делая ElasticNet регуляризацию, если 0 < l1_ratio < 1"
   ]
  },
  {
   "cell_type": "code",
   "execution_count": null,
   "metadata": {},
   "outputs": [],
   "source": []
  }
 ],
 "metadata": {
  "kernelspec": {
   "display_name": "Python 3",
   "language": "python",
   "name": "python3"
  },
  "language_info": {
   "codemirror_mode": {
    "name": "ipython",
    "version": 3
   },
   "file_extension": ".py",
   "mimetype": "text/x-python",
   "name": "python",
   "nbconvert_exporter": "python",
   "pygments_lexer": "ipython3",
   "version": "3.8.3"
  }
 },
 "nbformat": 4,
 "nbformat_minor": 5
}
