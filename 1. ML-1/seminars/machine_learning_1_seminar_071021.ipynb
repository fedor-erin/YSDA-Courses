{
 "cells": [
  {
   "cell_type": "markdown",
   "metadata": {},
   "source": [
    "# Занятие 5. Линейная регрессия\n",
    "\n",
    "**Цель данного занятия** состоит в освоении на практике линейной регрессии на примере задачи прогнозирования цены вина. \n",
    "\n",
    "Далее будем использовать датасет [Wine Reviews](https://www.kaggle.com/zynicide/wine-reviews), также его можно найти в [Лабораторной работе №0](https://lk.yandexdataschool.ru/teaching/assignments/2683/). \n",
    "\n",
    "Прочитайте только следующие колонки:\n",
    "\n",
    "    country : страна производитель\n",
    "    variety : сорт винограда\n",
    "    winery : винодельня\n",
    "    points : оценка экспертов\n",
    "    price : цена за бутылку\n",
    "    \n",
    "и удалите все строки содержащие пропущенные значения:"
   ]
  },
  {
   "cell_type": "code",
   "execution_count": 1,
   "metadata": {},
   "outputs": [
    {
     "data": {
      "text/html": [
       "<div>\n",
       "<style scoped>\n",
       "    .dataframe tbody tr th:only-of-type {\n",
       "        vertical-align: middle;\n",
       "    }\n",
       "\n",
       "    .dataframe tbody tr th {\n",
       "        vertical-align: top;\n",
       "    }\n",
       "\n",
       "    .dataframe thead th {\n",
       "        text-align: right;\n",
       "    }\n",
       "</style>\n",
       "<table border=\"1\" class=\"dataframe\">\n",
       "  <thead>\n",
       "    <tr style=\"text-align: right;\">\n",
       "      <th></th>\n",
       "      <th>country</th>\n",
       "      <th>points</th>\n",
       "      <th>price</th>\n",
       "      <th>variety</th>\n",
       "      <th>winery</th>\n",
       "    </tr>\n",
       "  </thead>\n",
       "  <tbody>\n",
       "    <tr>\n",
       "      <th>1</th>\n",
       "      <td>Portugal</td>\n",
       "      <td>87</td>\n",
       "      <td>15.0</td>\n",
       "      <td>Portuguese Red</td>\n",
       "      <td>Quinta dos Avidagos</td>\n",
       "    </tr>\n",
       "    <tr>\n",
       "      <th>2</th>\n",
       "      <td>US</td>\n",
       "      <td>87</td>\n",
       "      <td>14.0</td>\n",
       "      <td>Pinot Gris</td>\n",
       "      <td>Rainstorm</td>\n",
       "    </tr>\n",
       "    <tr>\n",
       "      <th>3</th>\n",
       "      <td>US</td>\n",
       "      <td>87</td>\n",
       "      <td>13.0</td>\n",
       "      <td>Riesling</td>\n",
       "      <td>St. Julian</td>\n",
       "    </tr>\n",
       "  </tbody>\n",
       "</table>\n",
       "</div>"
      ],
      "text/plain": [
       "    country  points  price         variety               winery\n",
       "1  Portugal      87   15.0  Portuguese Red  Quinta dos Avidagos\n",
       "2        US      87   14.0      Pinot Gris            Rainstorm\n",
       "3        US      87   13.0        Riesling           St. Julian"
      ]
     },
     "execution_count": 1,
     "metadata": {},
     "output_type": "execute_result"
    }
   ],
   "source": [
    "import pandas as pd\n",
    "\n",
    "table = pd.read_csv('Wine Reviews.csv', usecols=['country', 'variety', 'winery', 'points', 'price']).dropna()\n",
    "\n",
    "table.head(3)"
   ]
  },
  {
   "cell_type": "markdown",
   "metadata": {},
   "source": [
    "Далее мы будем учиться предсказывать стоимость вина, т.е. колонку `price`.\n",
    "\n",
    "Выделем таргет в отдельный вектор и разобъём данные на `train` и `test`:"
   ]
  },
  {
   "cell_type": "code",
   "execution_count": 2,
   "metadata": {},
   "outputs": [],
   "source": [
    "from sklearn.model_selection import train_test_split\n",
    "\n",
    "X = table[['points', 'country', 'variety', 'winery']]\n",
    "Y = table['price']\n",
    "\n",
    "for column in ['country', 'variety', 'winery']:\n",
    "    column_counts = X[column].value_counts()\n",
    "    column_counts = column_counts[column_counts >= 10]\n",
    "    \n",
    "    X = X[X[column].isin(column_counts.index)]\n",
    "\n",
    "Y = Y.loc[X.index]\n",
    "    \n",
    "X_train, X_test, Y_train, Y_test = train_test_split(X, Y, test_size=0.33, random_state=42)"
   ]
  },
  {
   "cell_type": "markdown",
   "metadata": {},
   "source": [
    "## Метод наименьших квадратов\n",
    "\n",
    "### Двумерный случай\n",
    "\n",
    "Попытаемся найти функцию вида: \n",
    "\n",
    "$$f(x) = a + bx$$\n",
    "    \n",
    ", которая бы хорошо приближала цену, основываясь только на оценке эксперта.\n",
    "\n",
    "Построим график зависимости цены от оценки:"
   ]
  },
  {
   "cell_type": "code",
   "execution_count": 3,
   "metadata": {},
   "outputs": [
    {
     "data": {
      "image/png": "[encoded data removed]",
      "text/plain": [
       "<Figure size 720x360 with 1 Axes>"
      ]
     },
     "metadata": {
      "needs_background": "light"
     },
     "output_type": "display_data"
    }
   ],
   "source": [
    "import matplotlib.pyplot as plt\n",
    "\n",
    "table.plot.scatter(x='points', y='price', figsize=(10, 5), color='darkblue', alpha=0.3)\n",
    "\n",
    "plt.show()"
   ]
  },
  {
   "cell_type": "markdown",
   "metadata": {},
   "source": [
    "**Вопрос:** В чём суть метода наименьших квадратов? \n",
    "\n",
    "Выпишите формулы для вычисления параметров $a$ и $b$, \n",
    "\n",
    "а затем напишим класс `MLS2d`, который нужно отнаследовать от [sklearn.base.RegressorMixin](https://scikit-learn.org/stable/modules/generated/sklearn.base.RegressorMixin.html):"
   ]
  },
  {
   "cell_type": "code",
   "execution_count": 4,
   "metadata": {},
   "outputs": [],
   "source": [
    "from sklearn.base import RegressorMixin\n",
    "\n",
    "class MLS2d(RegressorMixin):\n",
    "    def fit(self, X, Y):\n",
    "        N = len(X)\n",
    "    \n",
    "        sum_X = X.sum()\n",
    "        sum_Y = Y.sum()\n",
    "    \n",
    "        self.b = N * (X * Y).sum() - sum_X * sum_Y\n",
    "        self.b /= N * (X ** 2).sum() - sum_X ** 2\n",
    "    \n",
    "        self.a = sum_Y - self.b * sum_X\n",
    "        self.a /= N\n",
    "        \n",
    "        return self\n",
    "    \n",
    "    def predict(self, X):\n",
    "        return self.a + self.b * X"
   ]
  },
  {
   "cell_type": "code",
   "execution_count": 5,
   "metadata": {},
   "outputs": [
    {
     "name": "stdout",
     "output_type": "stream",
     "text": [
      "a = -466.812668581132\n",
      "b = 5.675216795743072\n"
     ]
    }
   ],
   "source": [
    "model_2d = MLS2d().fit(X_train['points'], Y_train)\n",
    "\n",
    "print(f'a = {model_2d.a}')\n",
    "print(f'b = {model_2d.b}')"
   ]
  },
  {
   "cell_type": "markdown",
   "metadata": {},
   "source": [
    "Вычислим среднию квадратическую ошибку:"
   ]
  },
  {
   "cell_type": "code",
   "execution_count": 6,
   "metadata": {},
   "outputs": [
    {
     "name": "stdout",
     "output_type": "stream",
     "text": [
      "MSE: 1125.6275430492763\n"
     ]
    }
   ],
   "source": [
    "Y_pred = model_2d.predict(X_test['points'])\n",
    "\n",
    "MSE = lambda Y, Y_pred: ((Y - Y_pred) ** 2).sum() / len(Y)\n",
    "\n",
    "print(f'MSE: {MSE(Y_test, Y_pred)}')"
   ]
  },
  {
   "cell_type": "markdown",
   "metadata": {},
   "source": [
    "Постройте получившеюся прямую поверх предыдущего графика зависимости цены от оценки:"
   ]
  },
  {
   "cell_type": "code",
   "execution_count": 7,
   "metadata": {},
   "outputs": [
    {
     "data": {
      "image/png": "[encoded data removed]",
      "text/plain": [
       "<Figure size 720x360 with 1 Axes>"
      ]
     },
     "metadata": {
      "needs_background": "light"
     },
     "output_type": "display_data"
    }
   ],
   "source": [
    "table.plot.scatter(x='points', y='price', figsize=(10, 5), color='darkblue', alpha=0.3)\n",
    "\n",
    "plt.plot(X['points'], model_2d.predict(X['points']), color='darkred')\n",
    "plt.show()"
   ]
  },
  {
   "cell_type": "markdown",
   "metadata": {},
   "source": [
    "## Многомерный случай\n",
    "\n",
    "Мы можем использовать не только оценку экспертов для предсказания цены, но и, например, страну производителя.\n",
    "\n",
    "Для этого нам нужно закодировать подобные признаки - будем использовать [sklearn.preprocessing.OneHotEncoder](https://scikit-learn.org/stable/modules/generated/sklearn.preprocessing.OneHotEncoder.html). \n",
    "\n",
    "Напишим класс, который бы наследовался от класса OneHotEncoder, но работал бы c таблицами и в качестве аргумента принемал также список колонок, которые требуется закодировать:"
   ]
  },
  {
   "cell_type": "code",
   "execution_count": 8,
   "metadata": {},
   "outputs": [],
   "source": [
    "import numpy as np\n",
    "\n",
    "from sklearn.preprocessing import OneHotEncoder\n",
    "\n",
    "class PDEncoder(OneHotEncoder):\n",
    "    def __init__(self, columns=None, **kwargs):\n",
    "        super(PDEncoder, self).__init__(**kwargs)\n",
    "        \n",
    "        self.columns = columns\n",
    "        \n",
    "    def preprocessing(self, X):\n",
    "        if self.columns:\n",
    "            X = X[self.columns]\n",
    "        \n",
    "        return X\n",
    "    \n",
    "    def fit(self, X):\n",
    "        OneHotEncoder.fit(self, self.preprocessing(X))\n",
    "        return self\n",
    "    \n",
    "    def transform(self, X):\n",
    "        X_preproc = self.preprocessing(X)\n",
    "        vectors = OneHotEncoder.transform(self, X_preproc).toarray()\n",
    "        \n",
    "        categories = np.concatenate(self.categories_)\n",
    "        X_preproc = pd.DataFrame(vectors, columns=categories, index=X_preproc.index)\n",
    "        \n",
    "        X = X.loc[X_preproc.index].drop(columns=self.columns).join(X_preproc)\n",
    "        \n",
    "        return X"
   ]
  },
  {
   "cell_type": "code",
   "execution_count": 9,
   "metadata": {},
   "outputs": [
    {
     "data": {
      "text/html": [
       "<div>\n",
       "<style scoped>\n",
       "    .dataframe tbody tr th:only-of-type {\n",
       "        vertical-align: middle;\n",
       "    }\n",
       "\n",
       "    .dataframe tbody tr th {\n",
       "        vertical-align: top;\n",
       "    }\n",
       "\n",
       "    .dataframe thead th {\n",
       "        text-align: right;\n",
       "    }\n",
       "</style>\n",
       "<table border=\"1\" class=\"dataframe\">\n",
       "  <thead>\n",
       "    <tr style=\"text-align: right;\">\n",
       "      <th></th>\n",
       "      <th>points</th>\n",
       "      <th>Argentina</th>\n",
       "      <th>Australia</th>\n",
       "      <th>Austria</th>\n",
       "      <th>Brazil</th>\n",
       "      <th>Bulgaria</th>\n",
       "      <th>Canada</th>\n",
       "      <th>Chile</th>\n",
       "      <th>England</th>\n",
       "      <th>France</th>\n",
       "      <th>...</th>\n",
       "      <th>Mexico</th>\n",
       "      <th>Moldova</th>\n",
       "      <th>Morocco</th>\n",
       "      <th>New Zealand</th>\n",
       "      <th>Portugal</th>\n",
       "      <th>Romania</th>\n",
       "      <th>South Africa</th>\n",
       "      <th>Spain</th>\n",
       "      <th>US</th>\n",
       "      <th>Uruguay</th>\n",
       "    </tr>\n",
       "  </thead>\n",
       "  <tbody>\n",
       "    <tr>\n",
       "      <th>55315</th>\n",
       "      <td>84</td>\n",
       "      <td>0.0</td>\n",
       "      <td>0.0</td>\n",
       "      <td>0.0</td>\n",
       "      <td>0.0</td>\n",
       "      <td>0.0</td>\n",
       "      <td>0.0</td>\n",
       "      <td>1.0</td>\n",
       "      <td>0.0</td>\n",
       "      <td>0.0</td>\n",
       "      <td>...</td>\n",
       "      <td>0.0</td>\n",
       "      <td>0.0</td>\n",
       "      <td>0.0</td>\n",
       "      <td>0.0</td>\n",
       "      <td>0.0</td>\n",
       "      <td>0.0</td>\n",
       "      <td>0.0</td>\n",
       "      <td>0.0</td>\n",
       "      <td>0.0</td>\n",
       "      <td>0.0</td>\n",
       "    </tr>\n",
       "    <tr>\n",
       "      <th>40656</th>\n",
       "      <td>92</td>\n",
       "      <td>0.0</td>\n",
       "      <td>0.0</td>\n",
       "      <td>0.0</td>\n",
       "      <td>0.0</td>\n",
       "      <td>0.0</td>\n",
       "      <td>0.0</td>\n",
       "      <td>0.0</td>\n",
       "      <td>0.0</td>\n",
       "      <td>0.0</td>\n",
       "      <td>...</td>\n",
       "      <td>0.0</td>\n",
       "      <td>0.0</td>\n",
       "      <td>0.0</td>\n",
       "      <td>0.0</td>\n",
       "      <td>0.0</td>\n",
       "      <td>0.0</td>\n",
       "      <td>0.0</td>\n",
       "      <td>0.0</td>\n",
       "      <td>0.0</td>\n",
       "      <td>0.0</td>\n",
       "    </tr>\n",
       "    <tr>\n",
       "      <th>77459</th>\n",
       "      <td>89</td>\n",
       "      <td>0.0</td>\n",
       "      <td>0.0</td>\n",
       "      <td>0.0</td>\n",
       "      <td>0.0</td>\n",
       "      <td>0.0</td>\n",
       "      <td>0.0</td>\n",
       "      <td>0.0</td>\n",
       "      <td>0.0</td>\n",
       "      <td>0.0</td>\n",
       "      <td>...</td>\n",
       "      <td>0.0</td>\n",
       "      <td>0.0</td>\n",
       "      <td>0.0</td>\n",
       "      <td>0.0</td>\n",
       "      <td>0.0</td>\n",
       "      <td>0.0</td>\n",
       "      <td>0.0</td>\n",
       "      <td>0.0</td>\n",
       "      <td>1.0</td>\n",
       "      <td>0.0</td>\n",
       "    </tr>\n",
       "  </tbody>\n",
       "</table>\n",
       "<p>3 rows × 27 columns</p>\n",
       "</div>"
      ],
      "text/plain": [
       "       points  Argentina  Australia  Austria  Brazil  Bulgaria  Canada  Chile  \\\n",
       "55315      84        0.0        0.0      0.0     0.0       0.0     0.0    1.0   \n",
       "40656      92        0.0        0.0      0.0     0.0       0.0     0.0    0.0   \n",
       "77459      89        0.0        0.0      0.0     0.0       0.0     0.0    0.0   \n",
       "\n",
       "       England  France  ...  Mexico  Moldova  Morocco  New Zealand  Portugal  \\\n",
       "55315      0.0     0.0  ...     0.0      0.0      0.0          0.0       0.0   \n",
       "40656      0.0     0.0  ...     0.0      0.0      0.0          0.0       0.0   \n",
       "77459      0.0     0.0  ...     0.0      0.0      0.0          0.0       0.0   \n",
       "\n",
       "       Romania  South Africa  Spain   US  Uruguay  \n",
       "55315      0.0           0.0    0.0  0.0      0.0  \n",
       "40656      0.0           0.0    0.0  0.0      0.0  \n",
       "77459      0.0           0.0    0.0  1.0      0.0  \n",
       "\n",
       "[3 rows x 27 columns]"
      ]
     },
     "execution_count": 9,
     "metadata": {},
     "output_type": "execute_result"
    }
   ],
   "source": [
    "encoder = PDEncoder(columns=['country'])\n",
    "\n",
    "X_train_ = encoder.fit_transform(X_train[['points', 'country']])\n",
    "X_test_ = encoder.transform(X_test[['points', 'country']])\n",
    "\n",
    "X_test_.head(3)"
   ]
  },
  {
   "cell_type": "markdown",
   "metadata": {},
   "source": [
    "Выпишите формулы для многомерного случая, воспользовавшись матречным дифференцированием, \n",
    "\n",
    "а затем напишим, соответсвующий класс:"
   ]
  },
  {
   "cell_type": "code",
   "execution_count": 10,
   "metadata": {},
   "outputs": [],
   "source": [
    "class MLS(RegressorMixin):\n",
    "    def __init__(self, fit_intercept=True):\n",
    "        self.fit_intercept = fit_intercept\n",
    "    \n",
    "    @staticmethod\n",
    "    def _add_intercept(X):\n",
    "        I = np.ones(len(X))[:, np.newaxis]\n",
    "        X = np.hstack([I, X])\n",
    "        \n",
    "        return X\n",
    "        \n",
    "    def fit(self, X, Y):\n",
    "        if self.fit_intercept:\n",
    "            X = MLS._add_intercept(X)\n",
    "        \n",
    "        X_T = X.transpose()\n",
    "        A = X_T.dot(X)\n",
    "        \n",
    "        E, _ = np.linalg.eigh(A)\n",
    "        self.condition_number = E[-1] / E[0]\n",
    "        \n",
    "        self.W = X_T.dot(Y)\n",
    "        self.W = np.linalg.inv(A).dot(self.W)\n",
    "        \n",
    "        return self\n",
    "    \n",
    "    def predict(self, X):\n",
    "        if self.fit_intercept:\n",
    "            X = MLS._add_intercept(X)\n",
    "        \n",
    "        return X.dot(self.W)"
   ]
  },
  {
   "cell_type": "code",
   "execution_count": 11,
   "metadata": {},
   "outputs": [],
   "source": [
    "model = MLS().fit(X_train[['points']], Y_train)\n",
    "\n",
    "assert (model.W - np.array([model_2d.a, model_2d.b])).sum() < 10 ** -6"
   ]
  },
  {
   "cell_type": "code",
   "execution_count": 12,
   "metadata": {},
   "outputs": [],
   "source": [
    "model = MLS().fit(X_train_, Y_train)"
   ]
  },
  {
   "cell_type": "markdown",
   "metadata": {},
   "source": [
    "Вычислим среднию квадратическую ошибку:"
   ]
  },
  {
   "cell_type": "code",
   "execution_count": 13,
   "metadata": {},
   "outputs": [
    {
     "name": "stdout",
     "output_type": "stream",
     "text": [
      "MSE: 2315.472146567045\n"
     ]
    }
   ],
   "source": [
    "Y_pred = model.predict(X_test_)\n",
    "\n",
    "print(f'MSE: {MSE(Y_test, Y_pred)}')"
   ]
  },
  {
   "cell_type": "markdown",
   "metadata": {},
   "source": [
    "**Вопрос:** Удалось ли повысить качество предсказания?\n",
    "\n",
    "Построим модель без свободной переменной:"
   ]
  },
  {
   "cell_type": "code",
   "execution_count": 14,
   "metadata": {},
   "outputs": [
    {
     "name": "stdout",
     "output_type": "stream",
     "text": [
      "MSE: 1103.2469334198452\n"
     ]
    }
   ],
   "source": [
    "model = MLS(fit_intercept=False).fit(X_train_, Y_train)\n",
    "Y_pred = model.predict(X_test_)\n",
    "\n",
    "print(f'MSE: {MSE(Y_test, Y_pred)}')"
   ]
  },
  {
   "cell_type": "markdown",
   "metadata": {},
   "source": [
    "Обучите [sklearn.linear_model.LinearRegression](https://scikit-learn.org/stable/modules/generated/sklearn.linear_model.LinearRegression.html) и убедитесь в том, что получили сравнимое значение `MSE`:"
   ]
  },
  {
   "cell_type": "code",
   "execution_count": 15,
   "metadata": {},
   "outputs": [
    {
     "name": "stdout",
     "output_type": "stream",
     "text": [
      "MSE: 1103.246933419843\n"
     ]
    }
   ],
   "source": [
    "from sklearn.linear_model import LinearRegression\n",
    "\n",
    "model = LinearRegression().fit(X_train_, Y_train)\n",
    "\n",
    "Y_pred = model.predict(X_test_)\n",
    "\n",
    "print(f'MSE: {MSE(Y_test, Y_pred)}')"
   ]
  },
  {
   "cell_type": "markdown",
   "metadata": {},
   "source": [
    "**Вопрос:** Удалось ли теперь повысить качество предсказания? В чём была проблема?"
   ]
  },
  {
   "cell_type": "code",
   "execution_count": 16,
   "metadata": {},
   "outputs": [
    {
     "name": "stdout",
     "output_type": "stream",
     "text": [
      "LR with intercept\n",
      "Condition number: 2.018538891668345e+17\n"
     ]
    }
   ],
   "source": [
    "model = MLS().fit(X_train_, Y_train)\n",
    "\n",
    "print('LR with intercept')\n",
    "print(f'Condition number: {model.condition_number}')"
   ]
  },
  {
   "cell_type": "code",
   "execution_count": 17,
   "metadata": {},
   "outputs": [
    {
     "name": "stdout",
     "output_type": "stream",
     "text": [
      "LR without intercept\n",
      "Condition number: 197982359.92191002\n"
     ]
    }
   ],
   "source": [
    "model = MLS(fit_intercept=False).fit(X_train_, Y_train)\n",
    "\n",
    "print('LR without intercept')\n",
    "print(f'Condition number: {model.condition_number}')"
   ]
  },
  {
   "cell_type": "markdown",
   "metadata": {},
   "source": [
    "Расширим ещё признаковое описание, добавив сорт винограда:"
   ]
  },
  {
   "cell_type": "code",
   "execution_count": 18,
   "metadata": {},
   "outputs": [
    {
     "name": "stdout",
     "output_type": "stream",
     "text": [
      "MSE: 58315.964960996505\n",
      "Condition number: -9.482188024869054e+22\n"
     ]
    }
   ],
   "source": [
    "encoder = PDEncoder(columns=['country', 'variety'])\n",
    "\n",
    "X_train_ = encoder.fit_transform(X_train[['points', 'country', 'variety']])\n",
    "X_test_ = encoder.transform(X_test[['points', 'country', 'variety']])\n",
    "\n",
    "model = MLS(fit_intercept=False).fit(X_train_, Y_train)\n",
    "\n",
    "Y_pred = model.predict(X_test_)\n",
    "\n",
    "print(f'MSE: {MSE(Y_test, Y_pred)}')\n",
    "print(f'Condition number: {model.condition_number}')"
   ]
  },
  {
   "cell_type": "markdown",
   "metadata": {},
   "source": [
    "**Вопрос**: Удалось ли теперь повысить качество предсказания? В чём может быть проблема?"
   ]
  },
  {
   "cell_type": "markdown",
   "metadata": {},
   "source": [
    "## Ридж-регрессия"
   ]
  },
  {
   "cell_type": "code",
   "execution_count": 19,
   "metadata": {},
   "outputs": [],
   "source": [
    "class RR(MLS):\n",
    "    def __init__(self, alpha=0.01, **kwargs):\n",
    "        super(RR, self).__init__(**kwargs)\n",
    "        \n",
    "        self.alpha = alpha\n",
    "        \n",
    "    def fit(self, X, Y):\n",
    "        if self.fit_intercept:\n",
    "            X = MLS._add_intercept(X)\n",
    "        \n",
    "        X_T = X.transpose()\n",
    "        \n",
    "        A = X_T.dot(X)\n",
    "        A += self.alpha * np.eye(A.shape[0])\n",
    "        \n",
    "        E, _ = np.linalg.eigh(A)\n",
    "        self.condition_number = E[-1] / E[0]\n",
    "        \n",
    "        self.W = X_T.dot(Y)\n",
    "        self.W = np.linalg.inv(A).dot(self.W)\n",
    "        \n",
    "        return self"
   ]
  },
  {
   "cell_type": "code",
   "execution_count": 20,
   "metadata": {},
   "outputs": [
    {
     "name": "stdout",
     "output_type": "stream",
     "text": [
      "MSE: 1033.6997076072437\n",
      "Condition number: 43155673268.98437\n"
     ]
    }
   ],
   "source": [
    "model = RR(alpha=0.01, fit_intercept=False).fit(X_train_, Y_train)\n",
    "\n",
    "Y_pred = model.predict(X_test_)\n",
    "\n",
    "print(f'MSE: {MSE(Y_test, Y_pred)}')\n",
    "print(f'Condition number: {model.condition_number}')"
   ]
  },
  {
   "cell_type": "code",
   "execution_count": 21,
   "metadata": {},
   "outputs": [
    {
     "name": "stdout",
     "output_type": "stream",
     "text": [
      "MSE: 1033.6948976913304\n",
      "Condition number: 43161146038.43176\n"
     ]
    }
   ],
   "source": [
    "model = RR(alpha=0.01).fit(X_train_, Y_train)\n",
    "\n",
    "Y_pred = model.predict(X_test_)\n",
    "\n",
    "print(f'MSE: {MSE(Y_test, Y_pred)}')\n",
    "print(f'Condition number: {model.condition_number}')"
   ]
  },
  {
   "cell_type": "code",
   "execution_count": 22,
   "metadata": {},
   "outputs": [
    {
     "name": "stdout",
     "output_type": "stream",
     "text": [
      "MSE: 1033.6948406862173\n"
     ]
    }
   ],
   "source": [
    "from sklearn.linear_model import Ridge\n",
    "\n",
    "model = Ridge(alpha=0.01).fit(X_train_, Y_train)\n",
    "\n",
    "Y_pred = model.predict(X_test_)\n",
    "\n",
    "print(f'MSE: {MSE(Y_test, Y_pred)}')"
   ]
  },
  {
   "cell_type": "code",
   "execution_count": 23,
   "metadata": {},
   "outputs": [
    {
     "name": "stdout",
     "output_type": "stream",
     "text": [
      "Time: 15.239123821258545 (3696 features )\n",
      "MSE: 787.45982878944\n",
      "Condition number: 43155675919.55444\n"
     ]
    }
   ],
   "source": [
    "from time import time\n",
    "\n",
    "encoder = PDEncoder(columns=['country', 'variety', 'winery'])\n",
    "\n",
    "X_train_ = encoder.fit_transform(X_train[['points', 'country', 'variety', 'winery']])\n",
    "X_test_ = encoder.transform(X_test[['points', 'country', 'variety', 'winery']])\n",
    "\n",
    "begin_time = time()\n",
    "\n",
    "model = RR(alpha=0.01, fit_intercept=False).fit(X_train_, Y_train)\n",
    "\n",
    "print(f'Time: {time() - begin_time} ({X_train_.shape[1]} features )')\n",
    "\n",
    "Y_pred = model.predict(X_test_)\n",
    "\n",
    "print(f'MSE: {MSE(Y_test, Y_pred)}')\n",
    "print(f'Condition number: {model.condition_number}')"
   ]
  },
  {
   "cell_type": "markdown",
   "metadata": {},
   "source": [
    "## SGD"
   ]
  },
  {
   "cell_type": "markdown",
   "metadata": {},
   "source": [
    "Обучите [sklearn.linear_model.SGDRegressor](https://scikit-learn.org/stable/modules/generated/sklearn.linear_model.SGDRegressor.html) предсказывать значение цены по оценке с качеством не хуже, чем у `MLS`. \n",
    "\n",
    "Для этого вам нужно проделать ряд эксперементов и подобрать наилучшую стратегию обучения, используя [sklearn.model_selection.GridSearchCV](https://scikit-learn.org/stable/modules/generated/sklearn.model_selection.GridSearchCV.html).\n",
    "\n",
    "Визуализируйте ваши эксперементы."
   ]
  }
 ],
 "metadata": {
  "kernelspec": {
   "display_name": "Python 3",
   "language": "python",
   "name": "python3"
  },
  "language_info": {
   "codemirror_mode": {
    "name": "ipython",
    "version": 3
   },
   "file_extension": ".py",
   "mimetype": "text/x-python",
   "name": "python",
   "nbconvert_exporter": "python",
   "pygments_lexer": "ipython3",
   "version": "3.8.3"
  }
 },
 "nbformat": 4,
 "nbformat_minor": 5
}
