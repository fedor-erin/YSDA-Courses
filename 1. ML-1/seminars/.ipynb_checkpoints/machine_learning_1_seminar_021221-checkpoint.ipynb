{
 "cells": [
  {
   "cell_type": "markdown",
   "metadata": {},
   "source": [
    "# Занятие 12. Матричные разложения"
   ]
  },
  {
   "cell_type": "markdown",
   "metadata": {},
   "source": [
    "## Данные\n",
    "\n",
    "Загрузите таблицу `abstracts.csv`"
   ]
  },
  {
   "cell_type": "code",
   "execution_count": 1,
   "metadata": {},
   "outputs": [
    {
     "data": {
      "text/html": [
       "<div>\n",
       "<style scoped>\n",
       "    .dataframe tbody tr th:only-of-type {\n",
       "        vertical-align: middle;\n",
       "    }\n",
       "\n",
       "    .dataframe tbody tr th {\n",
       "        vertical-align: top;\n",
       "    }\n",
       "\n",
       "    .dataframe thead th {\n",
       "        text-align: right;\n",
       "    }\n",
       "</style>\n",
       "<table border=\"1\" class=\"dataframe\">\n",
       "  <thead>\n",
       "    <tr style=\"text-align: right;\">\n",
       "      <th></th>\n",
       "      <th>book title</th>\n",
       "      <th>author</th>\n",
       "      <th>abstract</th>\n",
       "      <th>age rating</th>\n",
       "    </tr>\n",
       "  </thead>\n",
       "  <tbody>\n",
       "    <tr>\n",
       "      <th>0</th>\n",
       "      <td>Три четверти</td>\n",
       "      <td>Анна Красильщик</td>\n",
       "      <td>Когда тебе 12 лет, мир становится с ног на гол...</td>\n",
       "      <td>12</td>\n",
       "    </tr>\n",
       "    <tr>\n",
       "      <th>1</th>\n",
       "      <td>Повести и рассказы</td>\n",
       "      <td>Аркадий Гайдар</td>\n",
       "      <td>В книгу Аркадия Гайдара «Повести и рассказы» в...</td>\n",
       "      <td>12</td>\n",
       "    </tr>\n",
       "    <tr>\n",
       "      <th>2</th>\n",
       "      <td>Оленёнок Крапинка, или Бархатистый носик</td>\n",
       "      <td>Холли Вебб</td>\n",
       "      <td>Мама Лолы сменила работу, и их семья переехала...</td>\n",
       "      <td>6</td>\n",
       "    </tr>\n",
       "    <tr>\n",
       "      <th>3</th>\n",
       "      <td>Сара и роль мечты</td>\n",
       "      <td>Холли Вебб</td>\n",
       "      <td>На своих первых профессиональных пробах Сара п...</td>\n",
       "      <td>6</td>\n",
       "    </tr>\n",
       "    <tr>\n",
       "      <th>4</th>\n",
       "      <td>Как Гитлер украл розового кролика</td>\n",
       "      <td>Джудит Керр</td>\n",
       "      <td>1933 год. Девятилетняя Анна живет обычной жизн...</td>\n",
       "      <td>6</td>\n",
       "    </tr>\n",
       "  </tbody>\n",
       "</table>\n",
       "</div>"
      ],
      "text/plain": [
       "                                 book title           author  \\\n",
       "0                              Три четверти  Анна Красильщик   \n",
       "1                        Повести и рассказы   Аркадий Гайдар   \n",
       "2  Оленёнок Крапинка, или Бархатистый носик       Холли Вебб   \n",
       "3                         Сара и роль мечты       Холли Вебб   \n",
       "4         Как Гитлер украл розового кролика      Джудит Керр   \n",
       "\n",
       "                                            abstract  age rating  \n",
       "0  Когда тебе 12 лет, мир становится с ног на гол...          12  \n",
       "1  В книгу Аркадия Гайдара «Повести и рассказы» в...          12  \n",
       "2  Мама Лолы сменила работу, и их семья переехала...           6  \n",
       "3  На своих первых профессиональных пробах Сара п...           6  \n",
       "4  1933 год. Девятилетняя Анна живет обычной жизн...           6  "
      ]
     },
     "execution_count": 1,
     "metadata": {},
     "output_type": "execute_result"
    }
   ],
   "source": [
    "import pandas as pd\n",
    "\n",
    "table = pd.read_csv('abstracts.csv')\n",
    "\n",
    "table.head()"
   ]
  },
  {
   "cell_type": "markdown",
   "metadata": {},
   "source": [
    "Сформируем вектор меток классов `Y` используя колонку `age rating`, а в качетве `X` возьмём тексты из колонки `abstract`"
   ]
  },
  {
   "cell_type": "code",
   "execution_count": 2,
   "metadata": {},
   "outputs": [],
   "source": [
    "X = table['abstract'].values\n",
    "Y = table['age rating'].values"
   ]
  },
  {
   "cell_type": "markdown",
   "metadata": {},
   "source": [
    "Разобъём данные на `train` и `test`:"
   ]
  },
  {
   "cell_type": "code",
   "execution_count": 3,
   "metadata": {},
   "outputs": [],
   "source": [
    "from sklearn.model_selection import train_test_split\n",
    "\n",
    "X_train, X_test, Y_train, Y_test = train_test_split(X, Y)"
   ]
  },
  {
   "cell_type": "markdown",
   "metadata": {},
   "source": [
    "## Векторизация текста\n",
    "\n",
    "С помощью [sklearn.feature_extraction.text.TfidfVectorizer](https://scikit-learn.org/stable/modules/generated/sklearn.feature_extraction.text.TfidfVectorizer.html) векторизуем тексты сообщений:"
   ]
  },
  {
   "cell_type": "code",
   "execution_count": 4,
   "metadata": {},
   "outputs": [],
   "source": [
    "from sklearn.feature_extraction.text import TfidfVectorizer\n",
    "\n",
    "vectorizer = TfidfVectorizer(max_df=0.97, min_df=3)\n",
    "    \n",
    "X_train = vectorizer.fit_transform(X_train)\n",
    "X_test = vectorizer.transform(X_test)"
   ]
  },
  {
   "cell_type": "markdown",
   "metadata": {},
   "source": [
    "## Сокращение размерности векторного представления"
   ]
  },
  {
   "cell_type": "markdown",
   "metadata": {
    "slideshow": {
     "slide_type": "slide"
    }
   },
   "source": [
    "**Вопрос**: Зачем понижать размерность данных?"
   ]
  },
  {
   "cell_type": "markdown",
   "metadata": {
    "slideshow": {
     "slide_type": "subslide"
    }
   },
   "source": [
    "* Визуализация данных\n",
    "* Сокращение вычислительных затрат при обработке данных\n",
    "* Борьба с переобучением\n",
    "* Извлечение новых признаков"
   ]
  },
  {
   "cell_type": "markdown",
   "metadata": {},
   "source": [
    "Для сокращения размерности будем использовать SVD разложение, но сначала подумаем:\n",
    "\n",
    "Нужно ли сначала преобразовать данные и каким образом?"
   ]
  },
  {
   "cell_type": "code",
   "execution_count": 5,
   "metadata": {},
   "outputs": [],
   "source": [
    "from sklearn.preprocessing import StandardScaler\n",
    "\n",
    "scaler = StandardScaler(with_std=False)\n",
    "\n",
    "X_train = scaler.fit_transform(X_train.toarray())\n",
    "X_test = scaler.transform(X_test.toarray())"
   ]
  },
  {
   "cell_type": "markdown",
   "metadata": {},
   "source": [
    "Обучите [sklearn.linear_model.LogisticRegression](https://scikit-learn.org/stable/modules/generated/sklearn.linear_model.LogisticRegression.html) для решения задачи многоклассой классификации и замерьте время за которое обучиться ваша модель, \n",
    "\n",
    "а после оцените её качество:"
   ]
  },
  {
   "cell_type": "code",
   "execution_count": 6,
   "metadata": {},
   "outputs": [
    {
     "name": "stdout",
     "output_type": "stream",
     "text": [
      "Time 7.090629816055298 s.\n"
     ]
    }
   ],
   "source": [
    "from time import time\n",
    "from sklearn.linear_model import LogisticRegression\n",
    "\n",
    "lr = LogisticRegression()\n",
    "\n",
    "begin_time = time()\n",
    "\n",
    "lr.fit(X_train, Y_train)\n",
    "\n",
    "print(f'Time {time() - begin_time} s.')"
   ]
  },
  {
   "cell_type": "code",
   "execution_count": 7,
   "metadata": {},
   "outputs": [
    {
     "name": "stdout",
     "output_type": "stream",
     "text": [
      "              precision    recall  f1-score   support\n",
      "\n",
      "           6       0.70      0.61      0.65       291\n",
      "          12       0.59      0.50      0.54       383\n",
      "          16       0.59      0.88      0.71       516\n",
      "          18       0.92      0.13      0.23       177\n",
      "\n",
      "    accuracy                           0.62      1367\n",
      "   macro avg       0.70      0.53      0.53      1367\n",
      "weighted avg       0.66      0.62      0.59      1367\n",
      "\n"
     ]
    }
   ],
   "source": [
    "from sklearn.metrics import classification_report\n",
    "\n",
    "Y_pred = lr.predict(X_test)\n",
    "\n",
    "print(classification_report(Y_test, Y_pred))"
   ]
  },
  {
   "cell_type": "markdown",
   "metadata": {},
   "source": [
    "Далее используя [numpy.linalg.svd](https://numpy.org/doc/stable/reference/generated/numpy.linalg.svd.html) реализуйте класс `CustomPCA`, который будет выделять нужное число главных компонент.\n",
    "\n",
    "Класс, должен принимать следующие параметры при инициализации:\n",
    "    \n",
    "    n_components : int : число главных компонент\n",
    "    \n",
    "и иметь методы `fit` и `transform`."
   ]
  },
  {
   "cell_type": "code",
   "execution_count": 8,
   "metadata": {},
   "outputs": [],
   "source": [
    "import numpy as np\n",
    "\n",
    "from sklearn.base import TransformerMixin, BaseEstimator\n",
    "\n",
    "class CustomPCA(TransformerMixin, BaseEstimator):\n",
    "    def __init__(self, n_components=2):\n",
    "        self.n_components = n_components\n",
    "        \n",
    "    def fit(self, X):\n",
    "        U, Sigma, VT = np.linalg.svd(X)\n",
    "        \n",
    "        self.W = VT.T[:, :self.n_components]\n",
    "        self.singular_values_ = Sigma[:self.n_components]\n",
    "        \n",
    "        return self\n",
    "    \n",
    "    def transform(self, X):\n",
    "        return X @ self.W"
   ]
  },
  {
   "cell_type": "code",
   "execution_count": 9,
   "metadata": {},
   "outputs": [],
   "source": [
    "pca = CustomPCA(n_components=100)\n",
    "\n",
    "X_train = pca.fit_transform(X_train)\n",
    "X_test = pca.transform(X_test)"
   ]
  },
  {
   "cell_type": "code",
   "execution_count": 10,
   "metadata": {},
   "outputs": [
    {
     "name": "stdout",
     "output_type": "stream",
     "text": [
      "Time 0.16481518745422363 s.\n"
     ]
    }
   ],
   "source": [
    "lr = LogisticRegression()\n",
    "\n",
    "begin_time = time()\n",
    "\n",
    "lr.fit(X_train, Y_train)\n",
    "\n",
    "print(f'Time {time() - begin_time} s.')"
   ]
  },
  {
   "cell_type": "code",
   "execution_count": 11,
   "metadata": {},
   "outputs": [
    {
     "name": "stdout",
     "output_type": "stream",
     "text": [
      "              precision    recall  f1-score   support\n",
      "\n",
      "           6       0.65      0.54      0.59       291\n",
      "          12       0.50      0.38      0.43       383\n",
      "          16       0.54      0.86      0.67       516\n",
      "          18       1.00      0.07      0.13       177\n",
      "\n",
      "    accuracy                           0.56      1367\n",
      "   macro avg       0.67      0.46      0.45      1367\n",
      "weighted avg       0.61      0.56      0.52      1367\n",
      "\n"
     ]
    }
   ],
   "source": [
    "Y_pred = lr.predict(X_test)\n",
    "\n",
    "print(classification_report(Y_test, Y_pred))"
   ]
  },
  {
   "cell_type": "markdown",
   "metadata": {},
   "source": [
    "Объедините всю предобработку данных используя [sklearn.pipeline.Pipeline](https://scikit-learn.org/stable/modules/generated/sklearn.pipeline.Pipeline.html#sklearn.pipeline.Pipeline.set_params)"
   ]
  },
  {
   "cell_type": "code",
   "execution_count": 12,
   "metadata": {},
   "outputs": [],
   "source": [
    "from sklearn.pipeline import Pipeline\n",
    "\n",
    "class Dense(TransformerMixin, BaseEstimator):\n",
    "    def fit(self, X):\n",
    "        return self\n",
    "    \n",
    "    def transform(self, X):\n",
    "        return X.toarray()\n",
    "\n",
    "preproc_pipeline = Pipeline([\n",
    "    ('vectorizer', TfidfVectorizer(max_df=0.97, min_df=3)),\n",
    "    ('dense', Dense()),\n",
    "    ('scaler', StandardScaler(with_std=False)),\n",
    "    ('pca', CustomPCA())\n",
    "])"
   ]
  },
  {
   "cell_type": "markdown",
   "metadata": {},
   "source": [
    "Подберите такое число главных компонент, что бы выйграть по времени обучения, но при этом не просесть по качеству. \n",
    "\n",
    "Для того что бы принять решение, постройте соответсвующие графики."
   ]
  },
  {
   "cell_type": "code",
   "execution_count": 14,
   "metadata": {},
   "outputs": [
    {
     "name": "stderr",
     "output_type": "stream",
     "text": [
      "100%|██████████| 5/5 [06:58<00:00, 83.66s/it]\n"
     ]
    }
   ],
   "source": [
    "from tqdm import tqdm\n",
    "from sklearn.metrics import accuracy_score\n",
    "\n",
    "times = []\n",
    "scores = []\n",
    "\n",
    "lr = LogisticRegression()\n",
    "\n",
    "X_train, X_test, Y_train, Y_test = train_test_split(X, Y)\n",
    "\n",
    "for param in tqdm([10, 50, 100, 500, 1000]):\n",
    "    \n",
    "    preproc_pipeline.set_params(pca__n_components=param)\n",
    "    \n",
    "    X_train_ = preproc_pipeline.fit_transform(X_train)\n",
    "    \n",
    "    begin_time = time()\n",
    "    \n",
    "    lr.fit(X_train_, Y_train)\n",
    "    \n",
    "    times.append(time() - begin_time)\n",
    "    \n",
    "    X_test_ = preproc_pipeline.transform(X_test)\n",
    "    \n",
    "    Y_pred = lr.predict(X_test_)\n",
    "    \n",
    "    scores.append(accuracy_score(Y_test, Y_pred))"
   ]
  },
  {
   "cell_type": "code",
   "execution_count": 17,
   "metadata": {},
   "outputs": [
    {
     "data": {
      "image/png": "[encoded data removed]",
      "text/plain": [
       "<Figure size 720x360 with 1 Axes>"
      ]
     },
     "metadata": {
      "needs_background": "light"
     },
     "output_type": "display_data"
    }
   ],
   "source": [
    "import matplotlib.pyplot as plt\n",
    "\n",
    "plt.figure(figsize=(10, 5))\n",
    "plt.plot([10, 50, 100, 500, 1000], times)\n",
    "plt.ylabel('Time (sec.)')\n",
    "plt.xlabel('Number components')\n",
    "plt.show()"
   ]
  },
  {
   "cell_type": "code",
   "execution_count": 18,
   "metadata": {},
   "outputs": [
    {
     "data": {
      "image/png": "[encoded data removed]",
      "text/plain": [
       "<Figure size 720x360 with 1 Axes>"
      ]
     },
     "metadata": {
      "needs_background": "light"
     },
     "output_type": "display_data"
    }
   ],
   "source": [
    "plt.figure(figsize=(10, 5))\n",
    "plt.plot([10, 50, 100, 500, 1000], scores)\n",
    "plt.ylabel('Accuracy')\n",
    "plt.xlabel('Number components')\n",
    "plt.show()"
   ]
  }
 ],
 "metadata": {
  "kernelspec": {
   "display_name": "Python 3",
   "language": "python",
   "name": "python3"
  },
  "language_info": {
   "codemirror_mode": {
    "name": "ipython",
    "version": 3
   },
   "file_extension": ".py",
   "mimetype": "text/x-python",
   "name": "python",
   "nbconvert_exporter": "python",
   "pygments_lexer": "ipython3",
   "version": "3.8.3"
  }
 },
 "nbformat": 4,
 "nbformat_minor": 4
}
