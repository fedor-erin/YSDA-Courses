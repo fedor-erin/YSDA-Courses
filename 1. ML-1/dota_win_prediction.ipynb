{
 "cells": [
  {
   "cell_type": "markdown",
   "metadata": {},
   "source": [
    "# Competition 1, Sem 1, Yandex SHAD, Fall 2021\n",
    "\n",
    "**Предскажите победу Radiant в игре Dota 2 по первым минутам матча**"
   ]
  },
  {
   "cell_type": "markdown",
   "metadata": {},
   "source": [
    "## Данные\n",
    "\n",
    "Для каждого матча вам предоставлена различная информация за первые 10 минут игры.\n",
    "\n",
    "__train.csv__\n",
    "\n",
    "Данный файл содержит информацию о том выиграла ли команда radiant в матче с идентификатором mid.\n",
    "\n",
    "Каждая строчка файла содержит следующие колонки:\n",
    "\n",
    "* mid — идентификатор матча\n",
    "* radiant_won — факт того, что в игре победила команда radiant\n",
    "\n",
    "__test.csv__\n",
    "\n",
    "В данном файле содержатся идентификаторы игр для которых нужно сделать предсказание о победе команды radiant.\n",
    "\n",
    "Каждая строчка файла содержит следующие колонки:\n",
    "\n",
    "* mid — идентификатор матча\n",
    "\n",
    "__gold.csv__\n",
    "\n",
    "Данный файл содержит снимки данных игры, содержащих количество золота для каждого игрока.\n",
    "\n",
    "Каждая строчка файла содержит следующие колонки:\n",
    "\n",
    "* mid — идентификатор матча\n",
    "* times — время в секундах когда был сделан снимок\n",
    "* player_0, player_1, player_2, player_3, player_4 — количество золота для игроков команды radiant\n",
    "* player_5, player_6, player_7, player_8, player_9 — количество золота для игроков команды dire\n",
    "\n",
    "__lh.csv__\n",
    "\n",
    "Данный файл содержит снимки данных, содержащих количество убитых нейтральных монстров (крипов) для каждого игрока.\n",
    "\n",
    "Каждая строчка файла содержит следующие колонки:\n",
    "\n",
    "* mid — идентификатор матча\n",
    "* times — время в секундах когда был сделан снимок\n",
    "* player_0, player_1, player_2, player_3, player_4 — количество убитых монстров для игроков команды radiant\n",
    "* player_5, player_6, player_7, player_8, player_9 — количество убитых монстров для игроков команды dire\n",
    "\n",
    "__xp.csv__\n",
    "\n",
    "Данный файл содержит снимки данных, содержащих количество заработанного опыта для каждого игрока.\n",
    "\n",
    "Каждая строчка файла содержит следующие колонки:\n",
    "\n",
    "* mid — идентификатор матча\n",
    "* times — время в секундах когда был сделан снимок\n",
    "* player_0, player_1, player_2, player_3, player_4 — количество заработанного опыта для игроков команды radiant\n",
    "* player_5, player_6, player_7, player_8, player_9 — количество заработанного опыта для игроков команды dire\n",
    "\n",
    "__items.csv__\n",
    "\n",
    "Разреженная матрица содержащая информацию о предметах, которые успели купить игроки за первые 10 минут игры.\n",
    "\n",
    "Каждая строчка файла содержит следующие колонки:\n",
    "\n",
    "* mid — идентификатор матча\n",
    "* player — идентификатор игрока, с 0 по 4 игроки команды radiant, с 5 по 9 игроки команды dire\n",
    "* item_0, ... , item_120 — количество купленных предметов\n",
    "\n",
    "__heroes.csv__\n",
    "\n",
    "Данный файл содержит информацию о типах героев, которые были выбраны игроки в каждом матче.\n",
    "\n",
    "Каждая строчка файла содержит следующие колонки:\n",
    "\n",
    "* mid — идентификатор матча\n",
    "* player_0, player_1, player_2, player_3, player_4 — типы героев, выбранных игроками команды radiant\n",
    "* player_5, player_6, player_7, player_8, player_9 — типы героев, выбранных игроками команды dire\n",
    "\n",
    "__events.csv__\n",
    "\n",
    "Данный файл содержит информацию о событиях, которые произошли в каждом матче.\n",
    "\n",
    "Каждая строчка файла содержит следующие колонки:\n",
    "\n",
    "* mid — идентификатор матча\n",
    "* event_type — тип события\n",
    "    * 0 — Командой был забран Aegis\n",
    "    * 1 — Командой был украден Aegis\n",
    "    * 2 — Командой были разрушены бараки соперника\n",
    "    * 3 — Командой был сделано первое убийство героя соперника\n",
    "    * 4 — Командой был убит Roshan.\n",
    "    * 5 — Командой была разрушена своя башня\n",
    "    * 6 — Командой была разрушена башня соперника\n",
    "* from_team — название команды, которое инициировало событие\n",
    "* time — время в секундах от старта игры когда событие произошло"
   ]
  },
  {
   "cell_type": "markdown",
   "metadata": {},
   "source": [
    "## Таргет\n",
    "\n",
    "В качестве метрики качества используется __ROC AUC__\n",
    "\n",
    "Отправлять необходимо файл с двумя колонками:\n",
    "\n",
    "* mid — идентификатор матча в тестовой выборке\n",
    "* radiant_won — предсказанная __вероятность__ того, что команда Radiant является победителем в игре"
   ]
  },
  {
   "cell_type": "markdown",
   "metadata": {},
   "source": [
    "## Imports"
   ]
  },
  {
   "cell_type": "code",
   "execution_count": 99,
   "metadata": {},
   "outputs": [],
   "source": [
    "import pandas as pd\n",
    "import numpy as np\n",
    "from tqdm import tqdm \n",
    "import seaborn as sns\n",
    "import matplotlib.pyplot as plt\n",
    "%matplotlib inline\n",
    "\n",
    "from sklearn.metrics import roc_auc_score, classification_report\n",
    "from sklearn.model_selection import GridSearchCV\n",
    "from sklearn.linear_model import LogisticRegression\n",
    "from sklearn.model_selection import train_test_split\n",
    "from sklearn.preprocessing import MinMaxScaler, StandardScaler\n",
    "\n",
    "import warnings\n",
    "warnings.filterwarnings('ignore')"
   ]
  },
  {
   "cell_type": "markdown",
   "metadata": {},
   "source": [
    "## EDA & Feature Generation"
   ]
  },
  {
   "cell_type": "code",
   "execution_count": 2,
   "metadata": {},
   "outputs": [],
   "source": [
    "fldr = 'competition-1-sem-1-yandex-shad-fall-2021'\n",
    "data = [\n",
    "    'train.csv', 'test.csv',\n",
    "    'gold.csv', 'lh.csv', 'xp.csv', 'items.csv', 'heroes.csv', 'events.csv'\n",
    "    'deny.csv', 'kills.csv'\n",
    "]"
   ]
  },
  {
   "cell_type": "code",
   "execution_count": 3,
   "metadata": {},
   "outputs": [],
   "source": [
    "train = pd.read_csv(f'{fldr}/train.csv')\n",
    "test = pd.read_csv(f'{fldr}/test.csv')\n",
    "gold = pd.read_csv(f'{fldr}/gold.csv')\n",
    "lasthit = pd.read_csv(f'{fldr}/lh.csv')\n",
    "xp = pd.read_csv(f'{fldr}/xp.csv')\n",
    "items = pd.read_csv(f'{fldr}/items.csv')\n",
    "heroes = pd.read_csv(f'{fldr}/heroes.csv')\n",
    "events = pd.read_csv(f'{fldr}/events.csv')\n",
    "deny = pd.read_csv(f'{fldr}/deny.csv')\n",
    "kills = pd.read_csv(f'{fldr}/kills.csv')"
   ]
  },
  {
   "cell_type": "markdown",
   "metadata": {},
   "source": [
    "### train"
   ]
  },
  {
   "cell_type": "code",
   "execution_count": 4,
   "metadata": {},
   "outputs": [
    {
     "data": {
      "text/html": [
       "<div>\n",
       "<style scoped>\n",
       "    .dataframe tbody tr th:only-of-type {\n",
       "        vertical-align: middle;\n",
       "    }\n",
       "\n",
       "    .dataframe tbody tr th {\n",
       "        vertical-align: top;\n",
       "    }\n",
       "\n",
       "    .dataframe thead th {\n",
       "        text-align: right;\n",
       "    }\n",
       "</style>\n",
       "<table border=\"1\" class=\"dataframe\">\n",
       "  <thead>\n",
       "    <tr style=\"text-align: right;\">\n",
       "      <th></th>\n",
       "      <th>mid</th>\n",
       "      <th>radiant_won</th>\n",
       "    </tr>\n",
       "  </thead>\n",
       "  <tbody>\n",
       "    <tr>\n",
       "      <th>0</th>\n",
       "      <td>0</td>\n",
       "      <td>1</td>\n",
       "    </tr>\n",
       "    <tr>\n",
       "      <th>1</th>\n",
       "      <td>1</td>\n",
       "      <td>0</td>\n",
       "    </tr>\n",
       "  </tbody>\n",
       "</table>\n",
       "</div>"
      ],
      "text/plain": [
       "   mid  radiant_won\n",
       "0    0            1\n",
       "1    1            0"
      ]
     },
     "execution_count": 4,
     "metadata": {},
     "output_type": "execute_result"
    }
   ],
   "source": [
    "train.head(2)"
   ]
  },
  {
   "cell_type": "code",
   "execution_count": 5,
   "metadata": {},
   "outputs": [
    {
     "data": {
      "text/plain": [
       "1    12974\n",
       "0    12000\n",
       "Name: radiant_won, dtype: int64"
      ]
     },
     "execution_count": 5,
     "metadata": {},
     "output_type": "execute_result"
    }
   ],
   "source": [
    "train['radiant_won'].value_counts()"
   ]
  },
  {
   "cell_type": "markdown",
   "metadata": {},
   "source": [
    "### test"
   ]
  },
  {
   "cell_type": "code",
   "execution_count": 6,
   "metadata": {},
   "outputs": [
    {
     "data": {
      "text/html": [
       "<div>\n",
       "<style scoped>\n",
       "    .dataframe tbody tr th:only-of-type {\n",
       "        vertical-align: middle;\n",
       "    }\n",
       "\n",
       "    .dataframe tbody tr th {\n",
       "        vertical-align: top;\n",
       "    }\n",
       "\n",
       "    .dataframe thead th {\n",
       "        text-align: right;\n",
       "    }\n",
       "</style>\n",
       "<table border=\"1\" class=\"dataframe\">\n",
       "  <thead>\n",
       "    <tr style=\"text-align: right;\">\n",
       "      <th></th>\n",
       "      <th>mid</th>\n",
       "    </tr>\n",
       "  </thead>\n",
       "  <tbody>\n",
       "    <tr>\n",
       "      <th>0</th>\n",
       "      <td>3</td>\n",
       "    </tr>\n",
       "    <tr>\n",
       "      <th>1</th>\n",
       "      <td>7</td>\n",
       "    </tr>\n",
       "  </tbody>\n",
       "</table>\n",
       "</div>"
      ],
      "text/plain": [
       "   mid\n",
       "0    3\n",
       "1    7"
      ]
     },
     "execution_count": 6,
     "metadata": {},
     "output_type": "execute_result"
    }
   ],
   "source": [
    "test.head(2)"
   ]
  },
  {
   "cell_type": "code",
   "execution_count": 7,
   "metadata": {},
   "outputs": [
    {
     "data": {
      "text/plain": [
       "(24974, 1)"
      ]
     },
     "execution_count": 7,
     "metadata": {},
     "output_type": "execute_result"
    }
   ],
   "source": [
    "test.shape"
   ]
  },
  {
   "cell_type": "markdown",
   "metadata": {},
   "source": [
    "### gold"
   ]
  },
  {
   "cell_type": "markdown",
   "metadata": {},
   "source": [
    "* player_0, player_1, player_2, player_3, player_4 — количество золота для игроков команды radiant\n",
    "* player_5, player_6, player_7, player_8, player_9 — количество золота для игроков команды dire"
   ]
  },
  {
   "cell_type": "code",
   "execution_count": 8,
   "metadata": {
    "scrolled": true
   },
   "outputs": [
    {
     "data": {
      "text/html": [
       "<div>\n",
       "<style scoped>\n",
       "    .dataframe tbody tr th:only-of-type {\n",
       "        vertical-align: middle;\n",
       "    }\n",
       "\n",
       "    .dataframe tbody tr th {\n",
       "        vertical-align: top;\n",
       "    }\n",
       "\n",
       "    .dataframe thead th {\n",
       "        text-align: right;\n",
       "    }\n",
       "</style>\n",
       "<table border=\"1\" class=\"dataframe\">\n",
       "  <thead>\n",
       "    <tr style=\"text-align: right;\">\n",
       "      <th></th>\n",
       "      <th>mid</th>\n",
       "      <th>times</th>\n",
       "      <th>player_0</th>\n",
       "      <th>player_1</th>\n",
       "      <th>player_2</th>\n",
       "      <th>player_3</th>\n",
       "      <th>player_4</th>\n",
       "      <th>player_5</th>\n",
       "      <th>player_6</th>\n",
       "      <th>player_7</th>\n",
       "      <th>player_8</th>\n",
       "      <th>player_9</th>\n",
       "    </tr>\n",
       "  </thead>\n",
       "  <tbody>\n",
       "    <tr>\n",
       "      <th>0</th>\n",
       "      <td>0</td>\n",
       "      <td>60</td>\n",
       "      <td>750</td>\n",
       "      <td>350</td>\n",
       "      <td>389</td>\n",
       "      <td>437</td>\n",
       "      <td>428</td>\n",
       "      <td>398</td>\n",
       "      <td>344</td>\n",
       "      <td>654</td>\n",
       "      <td>287</td>\n",
       "      <td>1056</td>\n",
       "    </tr>\n",
       "    <tr>\n",
       "      <th>1</th>\n",
       "      <td>0</td>\n",
       "      <td>120</td>\n",
       "      <td>957</td>\n",
       "      <td>1071</td>\n",
       "      <td>633</td>\n",
       "      <td>655</td>\n",
       "      <td>1080</td>\n",
       "      <td>669</td>\n",
       "      <td>1147</td>\n",
       "      <td>1164</td>\n",
       "      <td>438</td>\n",
       "      <td>1360</td>\n",
       "    </tr>\n",
       "  </tbody>\n",
       "</table>\n",
       "</div>"
      ],
      "text/plain": [
       "   mid  times  player_0  player_1  player_2  player_3  player_4  player_5  \\\n",
       "0    0     60       750       350       389       437       428       398   \n",
       "1    0    120       957      1071       633       655      1080       669   \n",
       "\n",
       "   player_6  player_7  player_8  player_9  \n",
       "0       344       654       287      1056  \n",
       "1      1147      1164       438      1360  "
      ]
     },
     "execution_count": 8,
     "metadata": {},
     "output_type": "execute_result"
    }
   ],
   "source": [
    "gold.head(2)"
   ]
  },
  {
   "cell_type": "code",
   "execution_count": 9,
   "metadata": {},
   "outputs": [],
   "source": [
    "def add_agg_features_per_team(df_, suffix):\n",
    "    df = df_.copy(deep=True)\n",
    "    radiant = pd.Series(zip(df['player_0'], df['player_1'], df['player_2'], df['player_3'], df['player_4']))\n",
    "    dire = pd.Series(zip(df['player_5'], df['player_6'], df['player_7'], df['player_8'], df['player_9']))\n",
    "\n",
    "    df[f'radiant_{suffix}_min'] = radiant.apply(np.min)\n",
    "    df[f'radiant_{suffix}_mean'] = radiant.apply(np.mean)\n",
    "    df[f'radiant_{suffix}_max'] = radiant.apply(np.max)\n",
    "    df[f'radiant_{suffix}_std'] = radiant.apply(np.std)\n",
    "\n",
    "    df[f'dire_{suffix}_min'] = dire.apply(np.min)\n",
    "    df[f'dire_{suffix}_mean'] = dire.apply(np.mean)\n",
    "    df[f'dire_{suffix}_max'] = dire.apply(np.max)\n",
    "    df[f'dire_{suffix}_std'] = dire.apply(np.std)\n",
    "    \n",
    "    return df"
   ]
  },
  {
   "cell_type": "code",
   "execution_count": 10,
   "metadata": {},
   "outputs": [
    {
     "name": "stdout",
     "output_type": "stream",
     "text": [
      "CPU times: user 4.49 s, sys: 38.7 ms, total: 4.53 s\n",
      "Wall time: 4.5 s\n"
     ]
    }
   ],
   "source": [
    "%%time\n",
    "gold_600_only = gold.loc[gold['times'] == 600].reset_index(drop=True)\n",
    "gold_new = add_agg_features_per_team(gold_600_only, 'gold')"
   ]
  },
  {
   "cell_type": "code",
   "execution_count": 11,
   "metadata": {},
   "outputs": [
    {
     "data": {
      "text/html": [
       "<div>\n",
       "<style scoped>\n",
       "    .dataframe tbody tr th:only-of-type {\n",
       "        vertical-align: middle;\n",
       "    }\n",
       "\n",
       "    .dataframe tbody tr th {\n",
       "        vertical-align: top;\n",
       "    }\n",
       "\n",
       "    .dataframe thead th {\n",
       "        text-align: right;\n",
       "    }\n",
       "</style>\n",
       "<table border=\"1\" class=\"dataframe\">\n",
       "  <thead>\n",
       "    <tr style=\"text-align: right;\">\n",
       "      <th></th>\n",
       "      <th>mid</th>\n",
       "      <th>times</th>\n",
       "      <th>player_0</th>\n",
       "      <th>player_1</th>\n",
       "      <th>player_2</th>\n",
       "      <th>player_3</th>\n",
       "      <th>player_4</th>\n",
       "      <th>player_5</th>\n",
       "      <th>player_6</th>\n",
       "      <th>player_7</th>\n",
       "      <th>player_8</th>\n",
       "      <th>player_9</th>\n",
       "      <th>radiant_gold_min</th>\n",
       "      <th>radiant_gold_mean</th>\n",
       "      <th>radiant_gold_max</th>\n",
       "      <th>radiant_gold_std</th>\n",
       "      <th>dire_gold_min</th>\n",
       "      <th>dire_gold_mean</th>\n",
       "      <th>dire_gold_max</th>\n",
       "      <th>dire_gold_std</th>\n",
       "    </tr>\n",
       "  </thead>\n",
       "  <tbody>\n",
       "    <tr>\n",
       "      <th>0</th>\n",
       "      <td>0</td>\n",
       "      <td>600</td>\n",
       "      <td>3454</td>\n",
       "      <td>5206</td>\n",
       "      <td>2613</td>\n",
       "      <td>4426</td>\n",
       "      <td>5755</td>\n",
       "      <td>4072</td>\n",
       "      <td>3997</td>\n",
       "      <td>5917</td>\n",
       "      <td>1725</td>\n",
       "      <td>6384</td>\n",
       "      <td>2613</td>\n",
       "      <td>4290.8</td>\n",
       "      <td>5755</td>\n",
       "      <td>1141.490149</td>\n",
       "      <td>1725</td>\n",
       "      <td>4419.0</td>\n",
       "      <td>6384</td>\n",
       "      <td>1652.958439</td>\n",
       "    </tr>\n",
       "    <tr>\n",
       "      <th>1</th>\n",
       "      <td>1</td>\n",
       "      <td>600</td>\n",
       "      <td>2477</td>\n",
       "      <td>5760</td>\n",
       "      <td>3816</td>\n",
       "      <td>4353</td>\n",
       "      <td>5759</td>\n",
       "      <td>7659</td>\n",
       "      <td>5066</td>\n",
       "      <td>2748</td>\n",
       "      <td>4440</td>\n",
       "      <td>4623</td>\n",
       "      <td>2477</td>\n",
       "      <td>4433.0</td>\n",
       "      <td>5760</td>\n",
       "      <td>1243.561820</td>\n",
       "      <td>2748</td>\n",
       "      <td>4907.2</td>\n",
       "      <td>7659</td>\n",
       "      <td>1584.853987</td>\n",
       "    </tr>\n",
       "    <tr>\n",
       "      <th>2</th>\n",
       "      <td>2</td>\n",
       "      <td>600</td>\n",
       "      <td>3604</td>\n",
       "      <td>1948</td>\n",
       "      <td>8581</td>\n",
       "      <td>4390</td>\n",
       "      <td>2869</td>\n",
       "      <td>3096</td>\n",
       "      <td>2301</td>\n",
       "      <td>5130</td>\n",
       "      <td>2530</td>\n",
       "      <td>2491</td>\n",
       "      <td>1948</td>\n",
       "      <td>4278.4</td>\n",
       "      <td>8581</td>\n",
       "      <td>2297.686193</td>\n",
       "      <td>2301</td>\n",
       "      <td>3109.6</td>\n",
       "      <td>5130</td>\n",
       "      <td>1044.474720</td>\n",
       "    </tr>\n",
       "    <tr>\n",
       "      <th>3</th>\n",
       "      <td>3</td>\n",
       "      <td>600</td>\n",
       "      <td>3457</td>\n",
       "      <td>5464</td>\n",
       "      <td>4432</td>\n",
       "      <td>2961</td>\n",
       "      <td>4314</td>\n",
       "      <td>3345</td>\n",
       "      <td>4791</td>\n",
       "      <td>1906</td>\n",
       "      <td>5328</td>\n",
       "      <td>2247</td>\n",
       "      <td>2961</td>\n",
       "      <td>4125.6</td>\n",
       "      <td>5464</td>\n",
       "      <td>863.019026</td>\n",
       "      <td>1906</td>\n",
       "      <td>3523.4</td>\n",
       "      <td>5328</td>\n",
       "      <td>1352.064880</td>\n",
       "    </tr>\n",
       "    <tr>\n",
       "      <th>4</th>\n",
       "      <td>4</td>\n",
       "      <td>600</td>\n",
       "      <td>3675</td>\n",
       "      <td>4103</td>\n",
       "      <td>5154</td>\n",
       "      <td>3030</td>\n",
       "      <td>2076</td>\n",
       "      <td>3920</td>\n",
       "      <td>3494</td>\n",
       "      <td>3392</td>\n",
       "      <td>4458</td>\n",
       "      <td>2220</td>\n",
       "      <td>2076</td>\n",
       "      <td>3607.6</td>\n",
       "      <td>5154</td>\n",
       "      <td>1031.575223</td>\n",
       "      <td>2220</td>\n",
       "      <td>3496.8</td>\n",
       "      <td>4458</td>\n",
       "      <td>740.839092</td>\n",
       "    </tr>\n",
       "    <tr>\n",
       "      <th>...</th>\n",
       "      <td>...</td>\n",
       "      <td>...</td>\n",
       "      <td>...</td>\n",
       "      <td>...</td>\n",
       "      <td>...</td>\n",
       "      <td>...</td>\n",
       "      <td>...</td>\n",
       "      <td>...</td>\n",
       "      <td>...</td>\n",
       "      <td>...</td>\n",
       "      <td>...</td>\n",
       "      <td>...</td>\n",
       "      <td>...</td>\n",
       "      <td>...</td>\n",
       "      <td>...</td>\n",
       "      <td>...</td>\n",
       "      <td>...</td>\n",
       "      <td>...</td>\n",
       "      <td>...</td>\n",
       "      <td>...</td>\n",
       "    </tr>\n",
       "    <tr>\n",
       "      <th>49943</th>\n",
       "      <td>49943</td>\n",
       "      <td>600</td>\n",
       "      <td>3754</td>\n",
       "      <td>3556</td>\n",
       "      <td>5388</td>\n",
       "      <td>3391</td>\n",
       "      <td>5634</td>\n",
       "      <td>2853</td>\n",
       "      <td>4447</td>\n",
       "      <td>3636</td>\n",
       "      <td>8245</td>\n",
       "      <td>5598</td>\n",
       "      <td>3391</td>\n",
       "      <td>4344.6</td>\n",
       "      <td>5634</td>\n",
       "      <td>962.422693</td>\n",
       "      <td>2853</td>\n",
       "      <td>4955.8</td>\n",
       "      <td>8245</td>\n",
       "      <td>1879.030324</td>\n",
       "    </tr>\n",
       "    <tr>\n",
       "      <th>49944</th>\n",
       "      <td>49944</td>\n",
       "      <td>600</td>\n",
       "      <td>4895</td>\n",
       "      <td>2580</td>\n",
       "      <td>4109</td>\n",
       "      <td>5610</td>\n",
       "      <td>2732</td>\n",
       "      <td>3564</td>\n",
       "      <td>5763</td>\n",
       "      <td>5538</td>\n",
       "      <td>4005</td>\n",
       "      <td>3027</td>\n",
       "      <td>2580</td>\n",
       "      <td>3985.2</td>\n",
       "      <td>5610</td>\n",
       "      <td>1185.591397</td>\n",
       "      <td>3027</td>\n",
       "      <td>4379.4</td>\n",
       "      <td>5763</td>\n",
       "      <td>1085.425373</td>\n",
       "    </tr>\n",
       "    <tr>\n",
       "      <th>49945</th>\n",
       "      <td>49945</td>\n",
       "      <td>600</td>\n",
       "      <td>2325</td>\n",
       "      <td>1813</td>\n",
       "      <td>2530</td>\n",
       "      <td>4807</td>\n",
       "      <td>5542</td>\n",
       "      <td>2242</td>\n",
       "      <td>2359</td>\n",
       "      <td>5997</td>\n",
       "      <td>5523</td>\n",
       "      <td>2044</td>\n",
       "      <td>1813</td>\n",
       "      <td>3403.4</td>\n",
       "      <td>5542</td>\n",
       "      <td>1483.162108</td>\n",
       "      <td>2044</td>\n",
       "      <td>3633.0</td>\n",
       "      <td>5997</td>\n",
       "      <td>1746.051202</td>\n",
       "    </tr>\n",
       "    <tr>\n",
       "      <th>49946</th>\n",
       "      <td>49946</td>\n",
       "      <td>600</td>\n",
       "      <td>4134</td>\n",
       "      <td>3141</td>\n",
       "      <td>4086</td>\n",
       "      <td>4405</td>\n",
       "      <td>3517</td>\n",
       "      <td>2887</td>\n",
       "      <td>7450</td>\n",
       "      <td>3634</td>\n",
       "      <td>5431</td>\n",
       "      <td>5451</td>\n",
       "      <td>3141</td>\n",
       "      <td>3856.6</td>\n",
       "      <td>4405</td>\n",
       "      <td>459.941127</td>\n",
       "      <td>2887</td>\n",
       "      <td>4970.6</td>\n",
       "      <td>7450</td>\n",
       "      <td>1594.870854</td>\n",
       "    </tr>\n",
       "    <tr>\n",
       "      <th>49947</th>\n",
       "      <td>49947</td>\n",
       "      <td>600</td>\n",
       "      <td>4371</td>\n",
       "      <td>2655</td>\n",
       "      <td>9069</td>\n",
       "      <td>4518</td>\n",
       "      <td>4494</td>\n",
       "      <td>3951</td>\n",
       "      <td>2421</td>\n",
       "      <td>4423</td>\n",
       "      <td>3963</td>\n",
       "      <td>4969</td>\n",
       "      <td>2655</td>\n",
       "      <td>5021.4</td>\n",
       "      <td>9069</td>\n",
       "      <td>2141.844868</td>\n",
       "      <td>2421</td>\n",
       "      <td>3945.4</td>\n",
       "      <td>4969</td>\n",
       "      <td>848.527572</td>\n",
       "    </tr>\n",
       "  </tbody>\n",
       "</table>\n",
       "<p>49948 rows × 20 columns</p>\n",
       "</div>"
      ],
      "text/plain": [
       "         mid  times  player_0  player_1  player_2  player_3  player_4  \\\n",
       "0          0    600      3454      5206      2613      4426      5755   \n",
       "1          1    600      2477      5760      3816      4353      5759   \n",
       "2          2    600      3604      1948      8581      4390      2869   \n",
       "3          3    600      3457      5464      4432      2961      4314   \n",
       "4          4    600      3675      4103      5154      3030      2076   \n",
       "...      ...    ...       ...       ...       ...       ...       ...   \n",
       "49943  49943    600      3754      3556      5388      3391      5634   \n",
       "49944  49944    600      4895      2580      4109      5610      2732   \n",
       "49945  49945    600      2325      1813      2530      4807      5542   \n",
       "49946  49946    600      4134      3141      4086      4405      3517   \n",
       "49947  49947    600      4371      2655      9069      4518      4494   \n",
       "\n",
       "       player_5  player_6  player_7  player_8  player_9  radiant_gold_min  \\\n",
       "0          4072      3997      5917      1725      6384              2613   \n",
       "1          7659      5066      2748      4440      4623              2477   \n",
       "2          3096      2301      5130      2530      2491              1948   \n",
       "3          3345      4791      1906      5328      2247              2961   \n",
       "4          3920      3494      3392      4458      2220              2076   \n",
       "...         ...       ...       ...       ...       ...               ...   \n",
       "49943      2853      4447      3636      8245      5598              3391   \n",
       "49944      3564      5763      5538      4005      3027              2580   \n",
       "49945      2242      2359      5997      5523      2044              1813   \n",
       "49946      2887      7450      3634      5431      5451              3141   \n",
       "49947      3951      2421      4423      3963      4969              2655   \n",
       "\n",
       "       radiant_gold_mean  radiant_gold_max  radiant_gold_std  dire_gold_min  \\\n",
       "0                 4290.8              5755       1141.490149           1725   \n",
       "1                 4433.0              5760       1243.561820           2748   \n",
       "2                 4278.4              8581       2297.686193           2301   \n",
       "3                 4125.6              5464        863.019026           1906   \n",
       "4                 3607.6              5154       1031.575223           2220   \n",
       "...                  ...               ...               ...            ...   \n",
       "49943             4344.6              5634        962.422693           2853   \n",
       "49944             3985.2              5610       1185.591397           3027   \n",
       "49945             3403.4              5542       1483.162108           2044   \n",
       "49946             3856.6              4405        459.941127           2887   \n",
       "49947             5021.4              9069       2141.844868           2421   \n",
       "\n",
       "       dire_gold_mean  dire_gold_max  dire_gold_std  \n",
       "0              4419.0           6384    1652.958439  \n",
       "1              4907.2           7659    1584.853987  \n",
       "2              3109.6           5130    1044.474720  \n",
       "3              3523.4           5328    1352.064880  \n",
       "4              3496.8           4458     740.839092  \n",
       "...               ...            ...            ...  \n",
       "49943          4955.8           8245    1879.030324  \n",
       "49944          4379.4           5763    1085.425373  \n",
       "49945          3633.0           5997    1746.051202  \n",
       "49946          4970.6           7450    1594.870854  \n",
       "49947          3945.4           4969     848.527572  \n",
       "\n",
       "[49948 rows x 20 columns]"
      ]
     },
     "execution_count": 11,
     "metadata": {},
     "output_type": "execute_result"
    }
   ],
   "source": [
    "gold_new"
   ]
  },
  {
   "cell_type": "code",
   "execution_count": 12,
   "metadata": {},
   "outputs": [],
   "source": [
    "drop_cols = ['times', \n",
    "             'player_0', 'player_1', 'player_2', 'player_3', 'player_4',\n",
    "             'player_5', 'player_6', 'player_7', 'player_8', 'player_9']\n",
    "gold_features = gold_new.drop(drop_cols, axis=1).reset_index(drop=True)"
   ]
  },
  {
   "cell_type": "code",
   "execution_count": 13,
   "metadata": {},
   "outputs": [
    {
     "data": {
      "text/html": [
       "<div>\n",
       "<style scoped>\n",
       "    .dataframe tbody tr th:only-of-type {\n",
       "        vertical-align: middle;\n",
       "    }\n",
       "\n",
       "    .dataframe tbody tr th {\n",
       "        vertical-align: top;\n",
       "    }\n",
       "\n",
       "    .dataframe thead th {\n",
       "        text-align: right;\n",
       "    }\n",
       "</style>\n",
       "<table border=\"1\" class=\"dataframe\">\n",
       "  <thead>\n",
       "    <tr style=\"text-align: right;\">\n",
       "      <th></th>\n",
       "      <th>mid</th>\n",
       "      <th>radiant_gold_min</th>\n",
       "      <th>radiant_gold_mean</th>\n",
       "      <th>radiant_gold_max</th>\n",
       "      <th>radiant_gold_std</th>\n",
       "      <th>dire_gold_min</th>\n",
       "      <th>dire_gold_mean</th>\n",
       "      <th>dire_gold_max</th>\n",
       "      <th>dire_gold_std</th>\n",
       "    </tr>\n",
       "  </thead>\n",
       "  <tbody>\n",
       "    <tr>\n",
       "      <th>0</th>\n",
       "      <td>0</td>\n",
       "      <td>2613</td>\n",
       "      <td>4290.8</td>\n",
       "      <td>5755</td>\n",
       "      <td>1141.490149</td>\n",
       "      <td>1725</td>\n",
       "      <td>4419.0</td>\n",
       "      <td>6384</td>\n",
       "      <td>1652.958439</td>\n",
       "    </tr>\n",
       "    <tr>\n",
       "      <th>1</th>\n",
       "      <td>1</td>\n",
       "      <td>2477</td>\n",
       "      <td>4433.0</td>\n",
       "      <td>5760</td>\n",
       "      <td>1243.561820</td>\n",
       "      <td>2748</td>\n",
       "      <td>4907.2</td>\n",
       "      <td>7659</td>\n",
       "      <td>1584.853987</td>\n",
       "    </tr>\n",
       "  </tbody>\n",
       "</table>\n",
       "</div>"
      ],
      "text/plain": [
       "   mid  radiant_gold_min  radiant_gold_mean  radiant_gold_max  \\\n",
       "0    0              2613             4290.8              5755   \n",
       "1    1              2477             4433.0              5760   \n",
       "\n",
       "   radiant_gold_std  dire_gold_min  dire_gold_mean  dire_gold_max  \\\n",
       "0       1141.490149           1725          4419.0           6384   \n",
       "1       1243.561820           2748          4907.2           7659   \n",
       "\n",
       "   dire_gold_std  \n",
       "0    1652.958439  \n",
       "1    1584.853987  "
      ]
     },
     "execution_count": 13,
     "metadata": {},
     "output_type": "execute_result"
    }
   ],
   "source": [
    "gold_features.head(2)"
   ]
  },
  {
   "cell_type": "markdown",
   "metadata": {},
   "source": [
    "### lasthit"
   ]
  },
  {
   "cell_type": "code",
   "execution_count": 14,
   "metadata": {
    "scrolled": true
   },
   "outputs": [
    {
     "data": {
      "text/html": [
       "<div>\n",
       "<style scoped>\n",
       "    .dataframe tbody tr th:only-of-type {\n",
       "        vertical-align: middle;\n",
       "    }\n",
       "\n",
       "    .dataframe tbody tr th {\n",
       "        vertical-align: top;\n",
       "    }\n",
       "\n",
       "    .dataframe thead th {\n",
       "        text-align: right;\n",
       "    }\n",
       "</style>\n",
       "<table border=\"1\" class=\"dataframe\">\n",
       "  <thead>\n",
       "    <tr style=\"text-align: right;\">\n",
       "      <th></th>\n",
       "      <th>mid</th>\n",
       "      <th>times</th>\n",
       "      <th>player_0</th>\n",
       "      <th>player_1</th>\n",
       "      <th>player_2</th>\n",
       "      <th>player_3</th>\n",
       "      <th>player_4</th>\n",
       "      <th>player_5</th>\n",
       "      <th>player_6</th>\n",
       "      <th>player_7</th>\n",
       "      <th>player_8</th>\n",
       "      <th>player_9</th>\n",
       "    </tr>\n",
       "  </thead>\n",
       "  <tbody>\n",
       "    <tr>\n",
       "      <th>0</th>\n",
       "      <td>0</td>\n",
       "      <td>60</td>\n",
       "      <td>1</td>\n",
       "      <td>2</td>\n",
       "      <td>1</td>\n",
       "      <td>1</td>\n",
       "      <td>2</td>\n",
       "      <td>3</td>\n",
       "      <td>2</td>\n",
       "      <td>7</td>\n",
       "      <td>1</td>\n",
       "      <td>2</td>\n",
       "    </tr>\n",
       "    <tr>\n",
       "      <th>1</th>\n",
       "      <td>0</td>\n",
       "      <td>120</td>\n",
       "      <td>1</td>\n",
       "      <td>5</td>\n",
       "      <td>1</td>\n",
       "      <td>2</td>\n",
       "      <td>6</td>\n",
       "      <td>5</td>\n",
       "      <td>6</td>\n",
       "      <td>14</td>\n",
       "      <td>1</td>\n",
       "      <td>6</td>\n",
       "    </tr>\n",
       "  </tbody>\n",
       "</table>\n",
       "</div>"
      ],
      "text/plain": [
       "   mid  times  player_0  player_1  player_2  player_3  player_4  player_5  \\\n",
       "0    0     60         1         2         1         1         2         3   \n",
       "1    0    120         1         5         1         2         6         5   \n",
       "\n",
       "   player_6  player_7  player_8  player_9  \n",
       "0         2         7         1         2  \n",
       "1         6        14         1         6  "
      ]
     },
     "execution_count": 14,
     "metadata": {},
     "output_type": "execute_result"
    }
   ],
   "source": [
    "lasthit.head(2)"
   ]
  },
  {
   "cell_type": "code",
   "execution_count": 15,
   "metadata": {},
   "outputs": [
    {
     "name": "stdout",
     "output_type": "stream",
     "text": [
      "CPU times: user 4.44 s, sys: 80.5 ms, total: 4.52 s\n",
      "Wall time: 4.46 s\n"
     ]
    }
   ],
   "source": [
    "%%time\n",
    "lasthit_600_only = lasthit.loc[lasthit['times'] == 600].reset_index(drop=True)\n",
    "lasthit_new = add_agg_features_per_team(lasthit_600_only, 'lh')"
   ]
  },
  {
   "cell_type": "code",
   "execution_count": 16,
   "metadata": {},
   "outputs": [],
   "source": [
    "lasthit_features = lasthit_new.drop(drop_cols, axis=1).reset_index(drop=True)"
   ]
  },
  {
   "cell_type": "code",
   "execution_count": 17,
   "metadata": {},
   "outputs": [
    {
     "data": {
      "text/html": [
       "<div>\n",
       "<style scoped>\n",
       "    .dataframe tbody tr th:only-of-type {\n",
       "        vertical-align: middle;\n",
       "    }\n",
       "\n",
       "    .dataframe tbody tr th {\n",
       "        vertical-align: top;\n",
       "    }\n",
       "\n",
       "    .dataframe thead th {\n",
       "        text-align: right;\n",
       "    }\n",
       "</style>\n",
       "<table border=\"1\" class=\"dataframe\">\n",
       "  <thead>\n",
       "    <tr style=\"text-align: right;\">\n",
       "      <th></th>\n",
       "      <th>mid</th>\n",
       "      <th>radiant_lh_min</th>\n",
       "      <th>radiant_lh_mean</th>\n",
       "      <th>radiant_lh_max</th>\n",
       "      <th>radiant_lh_std</th>\n",
       "      <th>dire_lh_min</th>\n",
       "      <th>dire_lh_mean</th>\n",
       "      <th>dire_lh_max</th>\n",
       "      <th>dire_lh_std</th>\n",
       "    </tr>\n",
       "  </thead>\n",
       "  <tbody>\n",
       "    <tr>\n",
       "      <th>0</th>\n",
       "      <td>0</td>\n",
       "      <td>3</td>\n",
       "      <td>29.6</td>\n",
       "      <td>57</td>\n",
       "      <td>22.014541</td>\n",
       "      <td>2</td>\n",
       "      <td>38.4</td>\n",
       "      <td>75</td>\n",
       "      <td>23.465720</td>\n",
       "    </tr>\n",
       "    <tr>\n",
       "      <th>1</th>\n",
       "      <td>1</td>\n",
       "      <td>5</td>\n",
       "      <td>31.4</td>\n",
       "      <td>63</td>\n",
       "      <td>21.228283</td>\n",
       "      <td>3</td>\n",
       "      <td>28.8</td>\n",
       "      <td>49</td>\n",
       "      <td>15.574338</td>\n",
       "    </tr>\n",
       "  </tbody>\n",
       "</table>\n",
       "</div>"
      ],
      "text/plain": [
       "   mid  radiant_lh_min  radiant_lh_mean  radiant_lh_max  radiant_lh_std  \\\n",
       "0    0               3             29.6              57       22.014541   \n",
       "1    1               5             31.4              63       21.228283   \n",
       "\n",
       "   dire_lh_min  dire_lh_mean  dire_lh_max  dire_lh_std  \n",
       "0            2          38.4           75    23.465720  \n",
       "1            3          28.8           49    15.574338  "
      ]
     },
     "execution_count": 17,
     "metadata": {},
     "output_type": "execute_result"
    }
   ],
   "source": [
    "lasthit_features.head(2)"
   ]
  },
  {
   "cell_type": "markdown",
   "metadata": {},
   "source": [
    "### xp"
   ]
  },
  {
   "cell_type": "code",
   "execution_count": 18,
   "metadata": {},
   "outputs": [
    {
     "data": {
      "text/html": [
       "<div>\n",
       "<style scoped>\n",
       "    .dataframe tbody tr th:only-of-type {\n",
       "        vertical-align: middle;\n",
       "    }\n",
       "\n",
       "    .dataframe tbody tr th {\n",
       "        vertical-align: top;\n",
       "    }\n",
       "\n",
       "    .dataframe thead th {\n",
       "        text-align: right;\n",
       "    }\n",
       "</style>\n",
       "<table border=\"1\" class=\"dataframe\">\n",
       "  <thead>\n",
       "    <tr style=\"text-align: right;\">\n",
       "      <th></th>\n",
       "      <th>mid</th>\n",
       "      <th>times</th>\n",
       "      <th>player_0</th>\n",
       "      <th>player_1</th>\n",
       "      <th>player_2</th>\n",
       "      <th>player_3</th>\n",
       "      <th>player_4</th>\n",
       "      <th>player_5</th>\n",
       "      <th>player_6</th>\n",
       "      <th>player_7</th>\n",
       "      <th>player_8</th>\n",
       "      <th>player_9</th>\n",
       "    </tr>\n",
       "  </thead>\n",
       "  <tbody>\n",
       "    <tr>\n",
       "      <th>0</th>\n",
       "      <td>0</td>\n",
       "      <td>60</td>\n",
       "      <td>79</td>\n",
       "      <td>214</td>\n",
       "      <td>147</td>\n",
       "      <td>222</td>\n",
       "      <td>147</td>\n",
       "      <td>94</td>\n",
       "      <td>78</td>\n",
       "      <td>396</td>\n",
       "      <td>94</td>\n",
       "      <td>147</td>\n",
       "    </tr>\n",
       "    <tr>\n",
       "      <th>1</th>\n",
       "      <td>0</td>\n",
       "      <td>120</td>\n",
       "      <td>321</td>\n",
       "      <td>719</td>\n",
       "      <td>423</td>\n",
       "      <td>777</td>\n",
       "      <td>421</td>\n",
       "      <td>490</td>\n",
       "      <td>607</td>\n",
       "      <td>895</td>\n",
       "      <td>241</td>\n",
       "      <td>365</td>\n",
       "    </tr>\n",
       "  </tbody>\n",
       "</table>\n",
       "</div>"
      ],
      "text/plain": [
       "   mid  times  player_0  player_1  player_2  player_3  player_4  player_5  \\\n",
       "0    0     60        79       214       147       222       147        94   \n",
       "1    0    120       321       719       423       777       421       490   \n",
       "\n",
       "   player_6  player_7  player_8  player_9  \n",
       "0        78       396        94       147  \n",
       "1       607       895       241       365  "
      ]
     },
     "execution_count": 18,
     "metadata": {},
     "output_type": "execute_result"
    }
   ],
   "source": [
    "xp.head(2)"
   ]
  },
  {
   "cell_type": "code",
   "execution_count": 19,
   "metadata": {},
   "outputs": [
    {
     "name": "stdout",
     "output_type": "stream",
     "text": [
      "CPU times: user 4.36 s, sys: 52.6 ms, total: 4.41 s\n",
      "Wall time: 4.37 s\n"
     ]
    }
   ],
   "source": [
    "%%time\n",
    "xp_600_only = xp.loc[xp['times'] == 600].reset_index(drop=True)\n",
    "xp_new = add_agg_features_per_team(xp_600_only, 'xp')"
   ]
  },
  {
   "cell_type": "code",
   "execution_count": 20,
   "metadata": {},
   "outputs": [],
   "source": [
    "xp_features = xp_new.drop(drop_cols, axis=1).reset_index(drop=True)"
   ]
  },
  {
   "cell_type": "code",
   "execution_count": 21,
   "metadata": {},
   "outputs": [
    {
     "data": {
      "text/html": [
       "<div>\n",
       "<style scoped>\n",
       "    .dataframe tbody tr th:only-of-type {\n",
       "        vertical-align: middle;\n",
       "    }\n",
       "\n",
       "    .dataframe tbody tr th {\n",
       "        vertical-align: top;\n",
       "    }\n",
       "\n",
       "    .dataframe thead th {\n",
       "        text-align: right;\n",
       "    }\n",
       "</style>\n",
       "<table border=\"1\" class=\"dataframe\">\n",
       "  <thead>\n",
       "    <tr style=\"text-align: right;\">\n",
       "      <th></th>\n",
       "      <th>mid</th>\n",
       "      <th>radiant_xp_min</th>\n",
       "      <th>radiant_xp_mean</th>\n",
       "      <th>radiant_xp_max</th>\n",
       "      <th>radiant_xp_std</th>\n",
       "      <th>dire_xp_min</th>\n",
       "      <th>dire_xp_mean</th>\n",
       "      <th>dire_xp_max</th>\n",
       "      <th>dire_xp_std</th>\n",
       "    </tr>\n",
       "  </thead>\n",
       "  <tbody>\n",
       "    <tr>\n",
       "      <th>0</th>\n",
       "      <td>0</td>\n",
       "      <td>1606</td>\n",
       "      <td>3171.2</td>\n",
       "      <td>4429</td>\n",
       "      <td>1258.062224</td>\n",
       "      <td>357</td>\n",
       "      <td>2986.0</td>\n",
       "      <td>4846</td>\n",
       "      <td>1534.721082</td>\n",
       "    </tr>\n",
       "    <tr>\n",
       "      <th>1</th>\n",
       "      <td>1</td>\n",
       "      <td>1542</td>\n",
       "      <td>3046.2</td>\n",
       "      <td>4810</td>\n",
       "      <td>1340.227055</td>\n",
       "      <td>2248</td>\n",
       "      <td>3467.4</td>\n",
       "      <td>4514</td>\n",
       "      <td>724.726045</td>\n",
       "    </tr>\n",
       "  </tbody>\n",
       "</table>\n",
       "</div>"
      ],
      "text/plain": [
       "   mid  radiant_xp_min  radiant_xp_mean  radiant_xp_max  radiant_xp_std  \\\n",
       "0    0            1606           3171.2            4429     1258.062224   \n",
       "1    1            1542           3046.2            4810     1340.227055   \n",
       "\n",
       "   dire_xp_min  dire_xp_mean  dire_xp_max  dire_xp_std  \n",
       "0          357        2986.0         4846  1534.721082  \n",
       "1         2248        3467.4         4514   724.726045  "
      ]
     },
     "execution_count": 21,
     "metadata": {},
     "output_type": "execute_result"
    }
   ],
   "source": [
    "xp_features.head(2)"
   ]
  },
  {
   "cell_type": "markdown",
   "metadata": {},
   "source": [
    "### items"
   ]
  },
  {
   "cell_type": "markdown",
   "metadata": {},
   "source": [
    "* player — идентификатор игрока, с 0 по 4 игроки команды radiant, с 5 по 9 игроки команды dire\n",
    "* item_0, ... , item_120 — количество купленных предметов"
   ]
  },
  {
   "cell_type": "code",
   "execution_count": 22,
   "metadata": {},
   "outputs": [
    {
     "data": {
      "text/html": [
       "<div>\n",
       "<style scoped>\n",
       "    .dataframe tbody tr th:only-of-type {\n",
       "        vertical-align: middle;\n",
       "    }\n",
       "\n",
       "    .dataframe tbody tr th {\n",
       "        vertical-align: top;\n",
       "    }\n",
       "\n",
       "    .dataframe thead th {\n",
       "        text-align: right;\n",
       "    }\n",
       "</style>\n",
       "<table border=\"1\" class=\"dataframe\">\n",
       "  <thead>\n",
       "    <tr style=\"text-align: right;\">\n",
       "      <th></th>\n",
       "      <th>mid</th>\n",
       "      <th>player</th>\n",
       "      <th>item_0</th>\n",
       "      <th>item_1</th>\n",
       "      <th>item_2</th>\n",
       "      <th>item_3</th>\n",
       "      <th>item_4</th>\n",
       "      <th>item_5</th>\n",
       "      <th>item_6</th>\n",
       "      <th>item_7</th>\n",
       "      <th>...</th>\n",
       "      <th>item_111</th>\n",
       "      <th>item_112</th>\n",
       "      <th>item_113</th>\n",
       "      <th>item_114</th>\n",
       "      <th>item_115</th>\n",
       "      <th>item_116</th>\n",
       "      <th>item_117</th>\n",
       "      <th>item_118</th>\n",
       "      <th>item_119</th>\n",
       "      <th>item_120</th>\n",
       "    </tr>\n",
       "  </thead>\n",
       "  <tbody>\n",
       "    <tr>\n",
       "      <th>0</th>\n",
       "      <td>0</td>\n",
       "      <td>0</td>\n",
       "      <td>NaN</td>\n",
       "      <td>NaN</td>\n",
       "      <td>NaN</td>\n",
       "      <td>NaN</td>\n",
       "      <td>NaN</td>\n",
       "      <td>NaN</td>\n",
       "      <td>NaN</td>\n",
       "      <td>NaN</td>\n",
       "      <td>...</td>\n",
       "      <td>NaN</td>\n",
       "      <td>NaN</td>\n",
       "      <td>NaN</td>\n",
       "      <td>NaN</td>\n",
       "      <td>NaN</td>\n",
       "      <td>NaN</td>\n",
       "      <td>NaN</td>\n",
       "      <td>NaN</td>\n",
       "      <td>NaN</td>\n",
       "      <td>NaN</td>\n",
       "    </tr>\n",
       "    <tr>\n",
       "      <th>1</th>\n",
       "      <td>0</td>\n",
       "      <td>1</td>\n",
       "      <td>NaN</td>\n",
       "      <td>NaN</td>\n",
       "      <td>NaN</td>\n",
       "      <td>NaN</td>\n",
       "      <td>NaN</td>\n",
       "      <td>NaN</td>\n",
       "      <td>NaN</td>\n",
       "      <td>NaN</td>\n",
       "      <td>...</td>\n",
       "      <td>NaN</td>\n",
       "      <td>NaN</td>\n",
       "      <td>NaN</td>\n",
       "      <td>NaN</td>\n",
       "      <td>NaN</td>\n",
       "      <td>NaN</td>\n",
       "      <td>NaN</td>\n",
       "      <td>NaN</td>\n",
       "      <td>NaN</td>\n",
       "      <td>NaN</td>\n",
       "    </tr>\n",
       "    <tr>\n",
       "      <th>2</th>\n",
       "      <td>0</td>\n",
       "      <td>2</td>\n",
       "      <td>NaN</td>\n",
       "      <td>NaN</td>\n",
       "      <td>NaN</td>\n",
       "      <td>NaN</td>\n",
       "      <td>NaN</td>\n",
       "      <td>NaN</td>\n",
       "      <td>NaN</td>\n",
       "      <td>NaN</td>\n",
       "      <td>...</td>\n",
       "      <td>NaN</td>\n",
       "      <td>NaN</td>\n",
       "      <td>NaN</td>\n",
       "      <td>NaN</td>\n",
       "      <td>NaN</td>\n",
       "      <td>NaN</td>\n",
       "      <td>NaN</td>\n",
       "      <td>NaN</td>\n",
       "      <td>NaN</td>\n",
       "      <td>NaN</td>\n",
       "    </tr>\n",
       "    <tr>\n",
       "      <th>3</th>\n",
       "      <td>0</td>\n",
       "      <td>3</td>\n",
       "      <td>NaN</td>\n",
       "      <td>NaN</td>\n",
       "      <td>NaN</td>\n",
       "      <td>1.0</td>\n",
       "      <td>NaN</td>\n",
       "      <td>NaN</td>\n",
       "      <td>NaN</td>\n",
       "      <td>NaN</td>\n",
       "      <td>...</td>\n",
       "      <td>NaN</td>\n",
       "      <td>NaN</td>\n",
       "      <td>NaN</td>\n",
       "      <td>NaN</td>\n",
       "      <td>NaN</td>\n",
       "      <td>NaN</td>\n",
       "      <td>NaN</td>\n",
       "      <td>NaN</td>\n",
       "      <td>NaN</td>\n",
       "      <td>NaN</td>\n",
       "    </tr>\n",
       "    <tr>\n",
       "      <th>4</th>\n",
       "      <td>0</td>\n",
       "      <td>4</td>\n",
       "      <td>NaN</td>\n",
       "      <td>NaN</td>\n",
       "      <td>NaN</td>\n",
       "      <td>NaN</td>\n",
       "      <td>NaN</td>\n",
       "      <td>NaN</td>\n",
       "      <td>NaN</td>\n",
       "      <td>NaN</td>\n",
       "      <td>...</td>\n",
       "      <td>NaN</td>\n",
       "      <td>NaN</td>\n",
       "      <td>NaN</td>\n",
       "      <td>NaN</td>\n",
       "      <td>1.0</td>\n",
       "      <td>NaN</td>\n",
       "      <td>NaN</td>\n",
       "      <td>NaN</td>\n",
       "      <td>NaN</td>\n",
       "      <td>NaN</td>\n",
       "    </tr>\n",
       "    <tr>\n",
       "      <th>5</th>\n",
       "      <td>0</td>\n",
       "      <td>5</td>\n",
       "      <td>NaN</td>\n",
       "      <td>NaN</td>\n",
       "      <td>NaN</td>\n",
       "      <td>NaN</td>\n",
       "      <td>NaN</td>\n",
       "      <td>NaN</td>\n",
       "      <td>NaN</td>\n",
       "      <td>NaN</td>\n",
       "      <td>...</td>\n",
       "      <td>NaN</td>\n",
       "      <td>NaN</td>\n",
       "      <td>NaN</td>\n",
       "      <td>NaN</td>\n",
       "      <td>1.0</td>\n",
       "      <td>NaN</td>\n",
       "      <td>NaN</td>\n",
       "      <td>NaN</td>\n",
       "      <td>NaN</td>\n",
       "      <td>NaN</td>\n",
       "    </tr>\n",
       "    <tr>\n",
       "      <th>6</th>\n",
       "      <td>0</td>\n",
       "      <td>6</td>\n",
       "      <td>NaN</td>\n",
       "      <td>2.0</td>\n",
       "      <td>NaN</td>\n",
       "      <td>NaN</td>\n",
       "      <td>NaN</td>\n",
       "      <td>NaN</td>\n",
       "      <td>NaN</td>\n",
       "      <td>NaN</td>\n",
       "      <td>...</td>\n",
       "      <td>NaN</td>\n",
       "      <td>NaN</td>\n",
       "      <td>NaN</td>\n",
       "      <td>NaN</td>\n",
       "      <td>1.0</td>\n",
       "      <td>NaN</td>\n",
       "      <td>NaN</td>\n",
       "      <td>NaN</td>\n",
       "      <td>NaN</td>\n",
       "      <td>NaN</td>\n",
       "    </tr>\n",
       "    <tr>\n",
       "      <th>7</th>\n",
       "      <td>0</td>\n",
       "      <td>7</td>\n",
       "      <td>NaN</td>\n",
       "      <td>NaN</td>\n",
       "      <td>NaN</td>\n",
       "      <td>NaN</td>\n",
       "      <td>NaN</td>\n",
       "      <td>NaN</td>\n",
       "      <td>NaN</td>\n",
       "      <td>NaN</td>\n",
       "      <td>...</td>\n",
       "      <td>NaN</td>\n",
       "      <td>NaN</td>\n",
       "      <td>NaN</td>\n",
       "      <td>NaN</td>\n",
       "      <td>NaN</td>\n",
       "      <td>NaN</td>\n",
       "      <td>NaN</td>\n",
       "      <td>NaN</td>\n",
       "      <td>NaN</td>\n",
       "      <td>NaN</td>\n",
       "    </tr>\n",
       "    <tr>\n",
       "      <th>8</th>\n",
       "      <td>0</td>\n",
       "      <td>8</td>\n",
       "      <td>NaN</td>\n",
       "      <td>NaN</td>\n",
       "      <td>NaN</td>\n",
       "      <td>NaN</td>\n",
       "      <td>NaN</td>\n",
       "      <td>NaN</td>\n",
       "      <td>NaN</td>\n",
       "      <td>NaN</td>\n",
       "      <td>...</td>\n",
       "      <td>NaN</td>\n",
       "      <td>NaN</td>\n",
       "      <td>NaN</td>\n",
       "      <td>NaN</td>\n",
       "      <td>NaN</td>\n",
       "      <td>NaN</td>\n",
       "      <td>NaN</td>\n",
       "      <td>NaN</td>\n",
       "      <td>NaN</td>\n",
       "      <td>NaN</td>\n",
       "    </tr>\n",
       "    <tr>\n",
       "      <th>9</th>\n",
       "      <td>0</td>\n",
       "      <td>9</td>\n",
       "      <td>NaN</td>\n",
       "      <td>NaN</td>\n",
       "      <td>NaN</td>\n",
       "      <td>NaN</td>\n",
       "      <td>NaN</td>\n",
       "      <td>NaN</td>\n",
       "      <td>NaN</td>\n",
       "      <td>NaN</td>\n",
       "      <td>...</td>\n",
       "      <td>NaN</td>\n",
       "      <td>NaN</td>\n",
       "      <td>NaN</td>\n",
       "      <td>NaN</td>\n",
       "      <td>NaN</td>\n",
       "      <td>NaN</td>\n",
       "      <td>NaN</td>\n",
       "      <td>NaN</td>\n",
       "      <td>NaN</td>\n",
       "      <td>NaN</td>\n",
       "    </tr>\n",
       "    <tr>\n",
       "      <th>10</th>\n",
       "      <td>1</td>\n",
       "      <td>0</td>\n",
       "      <td>NaN</td>\n",
       "      <td>NaN</td>\n",
       "      <td>NaN</td>\n",
       "      <td>NaN</td>\n",
       "      <td>NaN</td>\n",
       "      <td>NaN</td>\n",
       "      <td>NaN</td>\n",
       "      <td>NaN</td>\n",
       "      <td>...</td>\n",
       "      <td>NaN</td>\n",
       "      <td>NaN</td>\n",
       "      <td>NaN</td>\n",
       "      <td>NaN</td>\n",
       "      <td>NaN</td>\n",
       "      <td>NaN</td>\n",
       "      <td>NaN</td>\n",
       "      <td>NaN</td>\n",
       "      <td>NaN</td>\n",
       "      <td>NaN</td>\n",
       "    </tr>\n",
       "  </tbody>\n",
       "</table>\n",
       "<p>11 rows × 123 columns</p>\n",
       "</div>"
      ],
      "text/plain": [
       "    mid  player  item_0  item_1  item_2  item_3  item_4  item_5  item_6  \\\n",
       "0     0       0     NaN     NaN     NaN     NaN     NaN     NaN     NaN   \n",
       "1     0       1     NaN     NaN     NaN     NaN     NaN     NaN     NaN   \n",
       "2     0       2     NaN     NaN     NaN     NaN     NaN     NaN     NaN   \n",
       "3     0       3     NaN     NaN     NaN     1.0     NaN     NaN     NaN   \n",
       "4     0       4     NaN     NaN     NaN     NaN     NaN     NaN     NaN   \n",
       "5     0       5     NaN     NaN     NaN     NaN     NaN     NaN     NaN   \n",
       "6     0       6     NaN     2.0     NaN     NaN     NaN     NaN     NaN   \n",
       "7     0       7     NaN     NaN     NaN     NaN     NaN     NaN     NaN   \n",
       "8     0       8     NaN     NaN     NaN     NaN     NaN     NaN     NaN   \n",
       "9     0       9     NaN     NaN     NaN     NaN     NaN     NaN     NaN   \n",
       "10    1       0     NaN     NaN     NaN     NaN     NaN     NaN     NaN   \n",
       "\n",
       "    item_7  ...  item_111  item_112  item_113  item_114  item_115  item_116  \\\n",
       "0      NaN  ...       NaN       NaN       NaN       NaN       NaN       NaN   \n",
       "1      NaN  ...       NaN       NaN       NaN       NaN       NaN       NaN   \n",
       "2      NaN  ...       NaN       NaN       NaN       NaN       NaN       NaN   \n",
       "3      NaN  ...       NaN       NaN       NaN       NaN       NaN       NaN   \n",
       "4      NaN  ...       NaN       NaN       NaN       NaN       1.0       NaN   \n",
       "5      NaN  ...       NaN       NaN       NaN       NaN       1.0       NaN   \n",
       "6      NaN  ...       NaN       NaN       NaN       NaN       1.0       NaN   \n",
       "7      NaN  ...       NaN       NaN       NaN       NaN       NaN       NaN   \n",
       "8      NaN  ...       NaN       NaN       NaN       NaN       NaN       NaN   \n",
       "9      NaN  ...       NaN       NaN       NaN       NaN       NaN       NaN   \n",
       "10     NaN  ...       NaN       NaN       NaN       NaN       NaN       NaN   \n",
       "\n",
       "    item_117  item_118  item_119  item_120  \n",
       "0        NaN       NaN       NaN       NaN  \n",
       "1        NaN       NaN       NaN       NaN  \n",
       "2        NaN       NaN       NaN       NaN  \n",
       "3        NaN       NaN       NaN       NaN  \n",
       "4        NaN       NaN       NaN       NaN  \n",
       "5        NaN       NaN       NaN       NaN  \n",
       "6        NaN       NaN       NaN       NaN  \n",
       "7        NaN       NaN       NaN       NaN  \n",
       "8        NaN       NaN       NaN       NaN  \n",
       "9        NaN       NaN       NaN       NaN  \n",
       "10       NaN       NaN       NaN       NaN  \n",
       "\n",
       "[11 rows x 123 columns]"
      ]
     },
     "execution_count": 22,
     "metadata": {},
     "output_type": "execute_result"
    }
   ],
   "source": [
    "items.head(11)"
   ]
  },
  {
   "cell_type": "code",
   "execution_count": 23,
   "metadata": {},
   "outputs": [],
   "source": [
    "items['team'] = items['player'].apply(lambda x: 'radiant' if x < 5 else 'dire')\n",
    "items_per_team = items.drop('player', axis=1).groupby(['mid', 'team']).sum().reset_index()"
   ]
  },
  {
   "cell_type": "code",
   "execution_count": 24,
   "metadata": {},
   "outputs": [],
   "source": [
    "items_pivoted = items_per_team.pivot(index='mid', columns='team', values=[f'item_{x}' for x in range(121)])\n",
    "items_pivoted.columns = [f'{x[1]}_{x[0]}' for x in items_pivoted.columns]\n",
    "items_features = items_pivoted.reset_index()"
   ]
  },
  {
   "cell_type": "code",
   "execution_count": 25,
   "metadata": {},
   "outputs": [
    {
     "data": {
      "text/html": [
       "<div>\n",
       "<style scoped>\n",
       "    .dataframe tbody tr th:only-of-type {\n",
       "        vertical-align: middle;\n",
       "    }\n",
       "\n",
       "    .dataframe tbody tr th {\n",
       "        vertical-align: top;\n",
       "    }\n",
       "\n",
       "    .dataframe thead th {\n",
       "        text-align: right;\n",
       "    }\n",
       "</style>\n",
       "<table border=\"1\" class=\"dataframe\">\n",
       "  <thead>\n",
       "    <tr style=\"text-align: right;\">\n",
       "      <th></th>\n",
       "      <th>mid</th>\n",
       "      <th>dire_item_0</th>\n",
       "      <th>radiant_item_0</th>\n",
       "      <th>dire_item_1</th>\n",
       "      <th>radiant_item_1</th>\n",
       "      <th>dire_item_2</th>\n",
       "      <th>radiant_item_2</th>\n",
       "      <th>dire_item_3</th>\n",
       "      <th>radiant_item_3</th>\n",
       "      <th>dire_item_4</th>\n",
       "      <th>...</th>\n",
       "      <th>dire_item_116</th>\n",
       "      <th>radiant_item_116</th>\n",
       "      <th>dire_item_117</th>\n",
       "      <th>radiant_item_117</th>\n",
       "      <th>dire_item_118</th>\n",
       "      <th>radiant_item_118</th>\n",
       "      <th>dire_item_119</th>\n",
       "      <th>radiant_item_119</th>\n",
       "      <th>dire_item_120</th>\n",
       "      <th>radiant_item_120</th>\n",
       "    </tr>\n",
       "  </thead>\n",
       "  <tbody>\n",
       "    <tr>\n",
       "      <th>0</th>\n",
       "      <td>0</td>\n",
       "      <td>0.0</td>\n",
       "      <td>0.0</td>\n",
       "      <td>2.0</td>\n",
       "      <td>0.0</td>\n",
       "      <td>0.0</td>\n",
       "      <td>0.0</td>\n",
       "      <td>0.0</td>\n",
       "      <td>1.0</td>\n",
       "      <td>0.0</td>\n",
       "      <td>...</td>\n",
       "      <td>0.0</td>\n",
       "      <td>0.0</td>\n",
       "      <td>0.0</td>\n",
       "      <td>0.0</td>\n",
       "      <td>0.0</td>\n",
       "      <td>0.0</td>\n",
       "      <td>0.0</td>\n",
       "      <td>0.0</td>\n",
       "      <td>0.0</td>\n",
       "      <td>0.0</td>\n",
       "    </tr>\n",
       "    <tr>\n",
       "      <th>1</th>\n",
       "      <td>1</td>\n",
       "      <td>0.0</td>\n",
       "      <td>0.0</td>\n",
       "      <td>2.0</td>\n",
       "      <td>2.0</td>\n",
       "      <td>0.0</td>\n",
       "      <td>0.0</td>\n",
       "      <td>0.0</td>\n",
       "      <td>0.0</td>\n",
       "      <td>0.0</td>\n",
       "      <td>...</td>\n",
       "      <td>0.0</td>\n",
       "      <td>0.0</td>\n",
       "      <td>0.0</td>\n",
       "      <td>0.0</td>\n",
       "      <td>0.0</td>\n",
       "      <td>0.0</td>\n",
       "      <td>0.0</td>\n",
       "      <td>0.0</td>\n",
       "      <td>0.0</td>\n",
       "      <td>0.0</td>\n",
       "    </tr>\n",
       "  </tbody>\n",
       "</table>\n",
       "<p>2 rows × 243 columns</p>\n",
       "</div>"
      ],
      "text/plain": [
       "   mid  dire_item_0  radiant_item_0  dire_item_1  radiant_item_1  dire_item_2  \\\n",
       "0    0          0.0             0.0          2.0             0.0          0.0   \n",
       "1    1          0.0             0.0          2.0             2.0          0.0   \n",
       "\n",
       "   radiant_item_2  dire_item_3  radiant_item_3  dire_item_4  ...  \\\n",
       "0             0.0          0.0             1.0          0.0  ...   \n",
       "1             0.0          0.0             0.0          0.0  ...   \n",
       "\n",
       "   dire_item_116  radiant_item_116  dire_item_117  radiant_item_117  \\\n",
       "0            0.0               0.0            0.0               0.0   \n",
       "1            0.0               0.0            0.0               0.0   \n",
       "\n",
       "   dire_item_118  radiant_item_118  dire_item_119  radiant_item_119  \\\n",
       "0            0.0               0.0            0.0               0.0   \n",
       "1            0.0               0.0            0.0               0.0   \n",
       "\n",
       "   dire_item_120  radiant_item_120  \n",
       "0            0.0               0.0  \n",
       "1            0.0               0.0  \n",
       "\n",
       "[2 rows x 243 columns]"
      ]
     },
     "execution_count": 25,
     "metadata": {},
     "output_type": "execute_result"
    }
   ],
   "source": [
    "items_features.head(2)"
   ]
  },
  {
   "cell_type": "markdown",
   "metadata": {},
   "source": [
    "### heroes"
   ]
  },
  {
   "cell_type": "code",
   "execution_count": 26,
   "metadata": {
    "scrolled": true
   },
   "outputs": [
    {
     "data": {
      "text/html": [
       "<div>\n",
       "<style scoped>\n",
       "    .dataframe tbody tr th:only-of-type {\n",
       "        vertical-align: middle;\n",
       "    }\n",
       "\n",
       "    .dataframe tbody tr th {\n",
       "        vertical-align: top;\n",
       "    }\n",
       "\n",
       "    .dataframe thead th {\n",
       "        text-align: right;\n",
       "    }\n",
       "</style>\n",
       "<table border=\"1\" class=\"dataframe\">\n",
       "  <thead>\n",
       "    <tr style=\"text-align: right;\">\n",
       "      <th></th>\n",
       "      <th>mid</th>\n",
       "      <th>player_0</th>\n",
       "      <th>player_1</th>\n",
       "      <th>player_2</th>\n",
       "      <th>player_3</th>\n",
       "      <th>player_4</th>\n",
       "      <th>player_5</th>\n",
       "      <th>player_6</th>\n",
       "      <th>player_7</th>\n",
       "      <th>player_8</th>\n",
       "      <th>player_9</th>\n",
       "    </tr>\n",
       "  </thead>\n",
       "  <tbody>\n",
       "    <tr>\n",
       "      <th>0</th>\n",
       "      <td>0</td>\n",
       "      <td>91</td>\n",
       "      <td>42</td>\n",
       "      <td>87</td>\n",
       "      <td>15</td>\n",
       "      <td>65</td>\n",
       "      <td>11</td>\n",
       "      <td>6</td>\n",
       "      <td>34</td>\n",
       "      <td>69</td>\n",
       "      <td>74</td>\n",
       "    </tr>\n",
       "    <tr>\n",
       "      <th>1</th>\n",
       "      <td>1</td>\n",
       "      <td>69</td>\n",
       "      <td>85</td>\n",
       "      <td>71</td>\n",
       "      <td>24</td>\n",
       "      <td>64</td>\n",
       "      <td>74</td>\n",
       "      <td>68</td>\n",
       "      <td>39</td>\n",
       "      <td>65</td>\n",
       "      <td>11</td>\n",
       "    </tr>\n",
       "  </tbody>\n",
       "</table>\n",
       "</div>"
      ],
      "text/plain": [
       "   mid  player_0  player_1  player_2  player_3  player_4  player_5  player_6  \\\n",
       "0    0        91        42        87        15        65        11         6   \n",
       "1    1        69        85        71        24        64        74        68   \n",
       "\n",
       "   player_7  player_8  player_9  \n",
       "0        34        69        74  \n",
       "1        39        65        11  "
      ]
     },
     "execution_count": 26,
     "metadata": {},
     "output_type": "execute_result"
    }
   ],
   "source": [
    "heroes.head(2)"
   ]
  },
  {
   "cell_type": "code",
   "execution_count": 27,
   "metadata": {},
   "outputs": [
    {
     "data": {
      "text/plain": [
       "mid         49948\n",
       "player_0      111\n",
       "player_1      111\n",
       "player_2      111\n",
       "player_3      111\n",
       "player_4      111\n",
       "player_5      111\n",
       "player_6      111\n",
       "player_7      111\n",
       "player_8      111\n",
       "player_9      111\n",
       "dtype: int64"
      ]
     },
     "execution_count": 27,
     "metadata": {},
     "output_type": "execute_result"
    }
   ],
   "source": [
    "heroes.nunique()"
   ]
  },
  {
   "cell_type": "code",
   "execution_count": 28,
   "metadata": {},
   "outputs": [],
   "source": [
    "heroes_radiant = pd.Series(zip(heroes['player_0'], heroes['player_1'], heroes['player_2'], \n",
    "                               heroes['player_3'], heroes['player_4']))\n",
    "heroes_dire = pd.Series(zip(heroes['player_5'], heroes['player_6'], heroes['player_7'], \n",
    "                            heroes['player_8'], heroes['player_9']))\n",
    "heroes['radiant'] = heroes_radiant\n",
    "heroes['dire'] = heroes_dire"
   ]
  },
  {
   "cell_type": "code",
   "execution_count": 29,
   "metadata": {},
   "outputs": [
    {
     "data": {
      "text/html": [
       "<div>\n",
       "<style scoped>\n",
       "    .dataframe tbody tr th:only-of-type {\n",
       "        vertical-align: middle;\n",
       "    }\n",
       "\n",
       "    .dataframe tbody tr th {\n",
       "        vertical-align: top;\n",
       "    }\n",
       "\n",
       "    .dataframe thead th {\n",
       "        text-align: right;\n",
       "    }\n",
       "</style>\n",
       "<table border=\"1\" class=\"dataframe\">\n",
       "  <thead>\n",
       "    <tr style=\"text-align: right;\">\n",
       "      <th></th>\n",
       "      <th>mid</th>\n",
       "      <th>player_0</th>\n",
       "      <th>player_1</th>\n",
       "      <th>player_2</th>\n",
       "      <th>player_3</th>\n",
       "      <th>player_4</th>\n",
       "      <th>player_5</th>\n",
       "      <th>player_6</th>\n",
       "      <th>player_7</th>\n",
       "      <th>player_8</th>\n",
       "      <th>player_9</th>\n",
       "      <th>radiant</th>\n",
       "      <th>dire</th>\n",
       "    </tr>\n",
       "  </thead>\n",
       "  <tbody>\n",
       "    <tr>\n",
       "      <th>0</th>\n",
       "      <td>0</td>\n",
       "      <td>91</td>\n",
       "      <td>42</td>\n",
       "      <td>87</td>\n",
       "      <td>15</td>\n",
       "      <td>65</td>\n",
       "      <td>11</td>\n",
       "      <td>6</td>\n",
       "      <td>34</td>\n",
       "      <td>69</td>\n",
       "      <td>74</td>\n",
       "      <td>(91, 42, 87, 15, 65)</td>\n",
       "      <td>(11, 6, 34, 69, 74)</td>\n",
       "    </tr>\n",
       "    <tr>\n",
       "      <th>1</th>\n",
       "      <td>1</td>\n",
       "      <td>69</td>\n",
       "      <td>85</td>\n",
       "      <td>71</td>\n",
       "      <td>24</td>\n",
       "      <td>64</td>\n",
       "      <td>74</td>\n",
       "      <td>68</td>\n",
       "      <td>39</td>\n",
       "      <td>65</td>\n",
       "      <td>11</td>\n",
       "      <td>(69, 85, 71, 24, 64)</td>\n",
       "      <td>(74, 68, 39, 65, 11)</td>\n",
       "    </tr>\n",
       "    <tr>\n",
       "      <th>2</th>\n",
       "      <td>2</td>\n",
       "      <td>17</td>\n",
       "      <td>40</td>\n",
       "      <td>31</td>\n",
       "      <td>67</td>\n",
       "      <td>99</td>\n",
       "      <td>32</td>\n",
       "      <td>7</td>\n",
       "      <td>72</td>\n",
       "      <td>48</td>\n",
       "      <td>104</td>\n",
       "      <td>(17, 40, 31, 67, 99)</td>\n",
       "      <td>(32, 7, 72, 48, 104)</td>\n",
       "    </tr>\n",
       "  </tbody>\n",
       "</table>\n",
       "</div>"
      ],
      "text/plain": [
       "   mid  player_0  player_1  player_2  player_3  player_4  player_5  player_6  \\\n",
       "0    0        91        42        87        15        65        11         6   \n",
       "1    1        69        85        71        24        64        74        68   \n",
       "2    2        17        40        31        67        99        32         7   \n",
       "\n",
       "   player_7  player_8  player_9               radiant                  dire  \n",
       "0        34        69        74  (91, 42, 87, 15, 65)   (11, 6, 34, 69, 74)  \n",
       "1        39        65        11  (69, 85, 71, 24, 64)  (74, 68, 39, 65, 11)  \n",
       "2        72        48       104  (17, 40, 31, 67, 99)  (32, 7, 72, 48, 104)  "
      ]
     },
     "execution_count": 29,
     "metadata": {},
     "output_type": "execute_result"
    }
   ],
   "source": [
    "heroes.head(3)"
   ]
  },
  {
   "cell_type": "code",
   "execution_count": 30,
   "metadata": {},
   "outputs": [
    {
     "name": "stderr",
     "output_type": "stream",
     "text": [
      "100%|██████████| 111/111 [00:03<00:00, 28.99it/s]\n"
     ]
    }
   ],
   "source": [
    "heroes_new = heroes.copy(deep=True)\n",
    "\n",
    "for i in tqdm(range(111)):\n",
    "    heroes_new[f'radiant_hero_{i}'] = heroes['radiant'].apply(lambda x: int(i in x))\n",
    "    heroes_new[f'dire_hero_{i}'] = heroes['dire'].apply(lambda x: int(i in x))"
   ]
  },
  {
   "cell_type": "code",
   "execution_count": 31,
   "metadata": {},
   "outputs": [],
   "source": [
    "drop_cols = ['player_0', 'player_1', 'player_2', 'player_3', 'player_4',\n",
    "             'player_5', 'player_6', 'player_7', 'player_8', 'player_9', \n",
    "             'radiant', 'dire']\n",
    "heroes_features = heroes_new.drop(drop_cols, axis=1).reset_index(drop=True)"
   ]
  },
  {
   "cell_type": "code",
   "execution_count": 32,
   "metadata": {},
   "outputs": [
    {
     "data": {
      "text/html": [
       "<div>\n",
       "<style scoped>\n",
       "    .dataframe tbody tr th:only-of-type {\n",
       "        vertical-align: middle;\n",
       "    }\n",
       "\n",
       "    .dataframe tbody tr th {\n",
       "        vertical-align: top;\n",
       "    }\n",
       "\n",
       "    .dataframe thead th {\n",
       "        text-align: right;\n",
       "    }\n",
       "</style>\n",
       "<table border=\"1\" class=\"dataframe\">\n",
       "  <thead>\n",
       "    <tr style=\"text-align: right;\">\n",
       "      <th></th>\n",
       "      <th>mid</th>\n",
       "      <th>radiant_hero_0</th>\n",
       "      <th>dire_hero_0</th>\n",
       "      <th>radiant_hero_1</th>\n",
       "      <th>dire_hero_1</th>\n",
       "      <th>radiant_hero_2</th>\n",
       "      <th>dire_hero_2</th>\n",
       "      <th>radiant_hero_3</th>\n",
       "      <th>dire_hero_3</th>\n",
       "      <th>radiant_hero_4</th>\n",
       "      <th>...</th>\n",
       "      <th>radiant_hero_106</th>\n",
       "      <th>dire_hero_106</th>\n",
       "      <th>radiant_hero_107</th>\n",
       "      <th>dire_hero_107</th>\n",
       "      <th>radiant_hero_108</th>\n",
       "      <th>dire_hero_108</th>\n",
       "      <th>radiant_hero_109</th>\n",
       "      <th>dire_hero_109</th>\n",
       "      <th>radiant_hero_110</th>\n",
       "      <th>dire_hero_110</th>\n",
       "    </tr>\n",
       "  </thead>\n",
       "  <tbody>\n",
       "    <tr>\n",
       "      <th>0</th>\n",
       "      <td>0</td>\n",
       "      <td>0</td>\n",
       "      <td>0</td>\n",
       "      <td>0</td>\n",
       "      <td>0</td>\n",
       "      <td>0</td>\n",
       "      <td>0</td>\n",
       "      <td>0</td>\n",
       "      <td>0</td>\n",
       "      <td>0</td>\n",
       "      <td>...</td>\n",
       "      <td>0</td>\n",
       "      <td>0</td>\n",
       "      <td>0</td>\n",
       "      <td>0</td>\n",
       "      <td>0</td>\n",
       "      <td>0</td>\n",
       "      <td>0</td>\n",
       "      <td>0</td>\n",
       "      <td>0</td>\n",
       "      <td>0</td>\n",
       "    </tr>\n",
       "    <tr>\n",
       "      <th>1</th>\n",
       "      <td>1</td>\n",
       "      <td>0</td>\n",
       "      <td>0</td>\n",
       "      <td>0</td>\n",
       "      <td>0</td>\n",
       "      <td>0</td>\n",
       "      <td>0</td>\n",
       "      <td>0</td>\n",
       "      <td>0</td>\n",
       "      <td>0</td>\n",
       "      <td>...</td>\n",
       "      <td>0</td>\n",
       "      <td>0</td>\n",
       "      <td>0</td>\n",
       "      <td>0</td>\n",
       "      <td>0</td>\n",
       "      <td>0</td>\n",
       "      <td>0</td>\n",
       "      <td>0</td>\n",
       "      <td>0</td>\n",
       "      <td>0</td>\n",
       "    </tr>\n",
       "  </tbody>\n",
       "</table>\n",
       "<p>2 rows × 223 columns</p>\n",
       "</div>"
      ],
      "text/plain": [
       "   mid  radiant_hero_0  dire_hero_0  radiant_hero_1  dire_hero_1  \\\n",
       "0    0               0            0               0            0   \n",
       "1    1               0            0               0            0   \n",
       "\n",
       "   radiant_hero_2  dire_hero_2  radiant_hero_3  dire_hero_3  radiant_hero_4  \\\n",
       "0               0            0               0            0               0   \n",
       "1               0            0               0            0               0   \n",
       "\n",
       "   ...  radiant_hero_106  dire_hero_106  radiant_hero_107  dire_hero_107  \\\n",
       "0  ...                 0              0                 0              0   \n",
       "1  ...                 0              0                 0              0   \n",
       "\n",
       "   radiant_hero_108  dire_hero_108  radiant_hero_109  dire_hero_109  \\\n",
       "0                 0              0                 0              0   \n",
       "1                 0              0                 0              0   \n",
       "\n",
       "   radiant_hero_110  dire_hero_110  \n",
       "0                 0              0  \n",
       "1                 0              0  \n",
       "\n",
       "[2 rows x 223 columns]"
      ]
     },
     "execution_count": 32,
     "metadata": {},
     "output_type": "execute_result"
    }
   ],
   "source": [
    "heroes_features.head(2)"
   ]
  },
  {
   "cell_type": "markdown",
   "metadata": {},
   "source": [
    "### events"
   ]
  },
  {
   "cell_type": "markdown",
   "metadata": {},
   "source": [
    "* event_type — тип события\n",
    "    * 0 — Командой был забран Aegis\n",
    "    * 1 — Командой был украден Aegis\n",
    "    * 2 — Командой были разрушены бараки соперника\n",
    "    * 3 — Командой был сделано первое убийство героя соперника\n",
    "    * 4 — Командой был убит Roshan.\n",
    "    * 5 — Командой была разрушена своя башня\n",
    "    * 6 — Командой была разрушена башня соперника"
   ]
  },
  {
   "cell_type": "code",
   "execution_count": 33,
   "metadata": {},
   "outputs": [
    {
     "data": {
      "text/html": [
       "<div>\n",
       "<style scoped>\n",
       "    .dataframe tbody tr th:only-of-type {\n",
       "        vertical-align: middle;\n",
       "    }\n",
       "\n",
       "    .dataframe tbody tr th {\n",
       "        vertical-align: top;\n",
       "    }\n",
       "\n",
       "    .dataframe thead th {\n",
       "        text-align: right;\n",
       "    }\n",
       "</style>\n",
       "<table border=\"1\" class=\"dataframe\">\n",
       "  <thead>\n",
       "    <tr style=\"text-align: right;\">\n",
       "      <th></th>\n",
       "      <th>mid</th>\n",
       "      <th>event_type</th>\n",
       "      <th>from_team</th>\n",
       "      <th>time</th>\n",
       "    </tr>\n",
       "  </thead>\n",
       "  <tbody>\n",
       "    <tr>\n",
       "      <th>0</th>\n",
       "      <td>0</td>\n",
       "      <td>3</td>\n",
       "      <td>radiant</td>\n",
       "      <td>1</td>\n",
       "    </tr>\n",
       "    <tr>\n",
       "      <th>1</th>\n",
       "      <td>1</td>\n",
       "      <td>3</td>\n",
       "      <td>radiant</td>\n",
       "      <td>222</td>\n",
       "    </tr>\n",
       "    <tr>\n",
       "      <th>2</th>\n",
       "      <td>2</td>\n",
       "      <td>3</td>\n",
       "      <td>dire</td>\n",
       "      <td>143</td>\n",
       "    </tr>\n",
       "  </tbody>\n",
       "</table>\n",
       "</div>"
      ],
      "text/plain": [
       "   mid  event_type from_team  time\n",
       "0    0           3   radiant     1\n",
       "1    1           3   radiant   222\n",
       "2    2           3      dire   143"
      ]
     },
     "execution_count": 33,
     "metadata": {},
     "output_type": "execute_result"
    }
   ],
   "source": [
    "events.head(3)"
   ]
  },
  {
   "cell_type": "code",
   "execution_count": 34,
   "metadata": {},
   "outputs": [],
   "source": [
    "events_new = heroes_features[['mid']]\n",
    "events_radiant = events.loc[events['from_team'] == 'radiant'].groupby('mid')['event_type'].apply(list).reset_index()\\\n",
    "                    .rename(index=str, columns={'event_type': 'radiant_events'})\n",
    "events_dire = events.loc[events['from_team'] == 'dire'].groupby('mid')['event_type'].apply(list).reset_index()\\\n",
    "                    .rename(index=str, columns={'event_type': 'dire_events'})"
   ]
  },
  {
   "cell_type": "code",
   "execution_count": 35,
   "metadata": {},
   "outputs": [],
   "source": [
    "events_new_types = pd.merge(events_new, events_radiant, on='mid', how='left')\n",
    "events_new_types = pd.merge(events_new_types, events_dire, on='mid', how='left')"
   ]
  },
  {
   "cell_type": "code",
   "execution_count": 36,
   "metadata": {},
   "outputs": [
    {
     "name": "stderr",
     "output_type": "stream",
     "text": [
      "100%|██████████| 7/7 [00:00<00:00, 25.17it/s]\n"
     ]
    }
   ],
   "source": [
    "events_new_types_feats = events_new_types.copy(deep=True)\n",
    "\n",
    "for i in tqdm(range(7)):\n",
    "    events_new_types_feats[f'radiant_event_{i}'] = events_new_types['radiant_events']\\\n",
    "        .apply(lambda x: sum([1 for event in x if event == i]) if isinstance(x, list) else 0)\n",
    "    events_new_types_feats[f'dire_event_{i}'] = events_new_types['dire_events']\\\n",
    "        .apply(lambda x: sum([1 for event in x if event == i]) if isinstance(x, list) else 0)"
   ]
  },
  {
   "cell_type": "code",
   "execution_count": 37,
   "metadata": {},
   "outputs": [],
   "source": [
    "drop_cols = ['radiant_events', 'dire_events']\n",
    "events_features = events_new_types_feats.drop(drop_cols, axis=1).reset_index(drop=True)"
   ]
  },
  {
   "cell_type": "code",
   "execution_count": 38,
   "metadata": {},
   "outputs": [
    {
     "data": {
      "text/html": [
       "<div>\n",
       "<style scoped>\n",
       "    .dataframe tbody tr th:only-of-type {\n",
       "        vertical-align: middle;\n",
       "    }\n",
       "\n",
       "    .dataframe tbody tr th {\n",
       "        vertical-align: top;\n",
       "    }\n",
       "\n",
       "    .dataframe thead th {\n",
       "        text-align: right;\n",
       "    }\n",
       "</style>\n",
       "<table border=\"1\" class=\"dataframe\">\n",
       "  <thead>\n",
       "    <tr style=\"text-align: right;\">\n",
       "      <th></th>\n",
       "      <th>mid</th>\n",
       "      <th>radiant_event_0</th>\n",
       "      <th>dire_event_0</th>\n",
       "      <th>radiant_event_1</th>\n",
       "      <th>dire_event_1</th>\n",
       "      <th>radiant_event_2</th>\n",
       "      <th>dire_event_2</th>\n",
       "      <th>radiant_event_3</th>\n",
       "      <th>dire_event_3</th>\n",
       "      <th>radiant_event_4</th>\n",
       "      <th>dire_event_4</th>\n",
       "      <th>radiant_event_5</th>\n",
       "      <th>dire_event_5</th>\n",
       "      <th>radiant_event_6</th>\n",
       "      <th>dire_event_6</th>\n",
       "    </tr>\n",
       "  </thead>\n",
       "  <tbody>\n",
       "    <tr>\n",
       "      <th>0</th>\n",
       "      <td>0</td>\n",
       "      <td>0</td>\n",
       "      <td>0</td>\n",
       "      <td>0</td>\n",
       "      <td>0</td>\n",
       "      <td>0</td>\n",
       "      <td>0</td>\n",
       "      <td>1</td>\n",
       "      <td>0</td>\n",
       "      <td>0</td>\n",
       "      <td>0</td>\n",
       "      <td>0</td>\n",
       "      <td>0</td>\n",
       "      <td>0</td>\n",
       "      <td>0</td>\n",
       "    </tr>\n",
       "    <tr>\n",
       "      <th>1</th>\n",
       "      <td>1</td>\n",
       "      <td>0</td>\n",
       "      <td>0</td>\n",
       "      <td>0</td>\n",
       "      <td>0</td>\n",
       "      <td>0</td>\n",
       "      <td>0</td>\n",
       "      <td>1</td>\n",
       "      <td>0</td>\n",
       "      <td>0</td>\n",
       "      <td>0</td>\n",
       "      <td>0</td>\n",
       "      <td>0</td>\n",
       "      <td>0</td>\n",
       "      <td>0</td>\n",
       "    </tr>\n",
       "  </tbody>\n",
       "</table>\n",
       "</div>"
      ],
      "text/plain": [
       "   mid  radiant_event_0  dire_event_0  radiant_event_1  dire_event_1  \\\n",
       "0    0                0             0                0             0   \n",
       "1    1                0             0                0             0   \n",
       "\n",
       "   radiant_event_2  dire_event_2  radiant_event_3  dire_event_3  \\\n",
       "0                0             0                1             0   \n",
       "1                0             0                1             0   \n",
       "\n",
       "   radiant_event_4  dire_event_4  radiant_event_5  dire_event_5  \\\n",
       "0                0             0                0             0   \n",
       "1                0             0                0             0   \n",
       "\n",
       "   radiant_event_6  dire_event_6  \n",
       "0                0             0  \n",
       "1                0             0  "
      ]
     },
     "execution_count": 38,
     "metadata": {},
     "output_type": "execute_result"
    }
   ],
   "source": [
    "events_features.head(2)"
   ]
  },
  {
   "cell_type": "markdown",
   "metadata": {},
   "source": [
    "### deny"
   ]
  },
  {
   "cell_type": "code",
   "execution_count": 39,
   "metadata": {},
   "outputs": [
    {
     "data": {
      "text/html": [
       "<div>\n",
       "<style scoped>\n",
       "    .dataframe tbody tr th:only-of-type {\n",
       "        vertical-align: middle;\n",
       "    }\n",
       "\n",
       "    .dataframe tbody tr th {\n",
       "        vertical-align: top;\n",
       "    }\n",
       "\n",
       "    .dataframe thead th {\n",
       "        text-align: right;\n",
       "    }\n",
       "</style>\n",
       "<table border=\"1\" class=\"dataframe\">\n",
       "  <thead>\n",
       "    <tr style=\"text-align: right;\">\n",
       "      <th></th>\n",
       "      <th>mid</th>\n",
       "      <th>time</th>\n",
       "      <th>player_0</th>\n",
       "      <th>player_1</th>\n",
       "      <th>player_2</th>\n",
       "      <th>player_3</th>\n",
       "      <th>player_4</th>\n",
       "      <th>player_5</th>\n",
       "      <th>player_6</th>\n",
       "      <th>player_7</th>\n",
       "      <th>player_8</th>\n",
       "      <th>player_9</th>\n",
       "    </tr>\n",
       "  </thead>\n",
       "  <tbody>\n",
       "    <tr>\n",
       "      <th>0</th>\n",
       "      <td>0</td>\n",
       "      <td>60</td>\n",
       "      <td>-1</td>\n",
       "      <td>-1</td>\n",
       "      <td>-1</td>\n",
       "      <td>-1</td>\n",
       "      <td>-1</td>\n",
       "      <td>-1</td>\n",
       "      <td>-1</td>\n",
       "      <td>-1</td>\n",
       "      <td>-1</td>\n",
       "      <td>-1</td>\n",
       "    </tr>\n",
       "    <tr>\n",
       "      <th>1</th>\n",
       "      <td>0</td>\n",
       "      <td>120</td>\n",
       "      <td>-1</td>\n",
       "      <td>-1</td>\n",
       "      <td>-1</td>\n",
       "      <td>-1</td>\n",
       "      <td>-1</td>\n",
       "      <td>-1</td>\n",
       "      <td>-1</td>\n",
       "      <td>-1</td>\n",
       "      <td>-1</td>\n",
       "      <td>-1</td>\n",
       "    </tr>\n",
       "  </tbody>\n",
       "</table>\n",
       "</div>"
      ],
      "text/plain": [
       "   mid  time  player_0  player_1  player_2  player_3  player_4  player_5  \\\n",
       "0    0    60        -1        -1        -1        -1        -1        -1   \n",
       "1    0   120        -1        -1        -1        -1        -1        -1   \n",
       "\n",
       "   player_6  player_7  player_8  player_9  \n",
       "0        -1        -1        -1        -1  \n",
       "1        -1        -1        -1        -1  "
      ]
     },
     "execution_count": 39,
     "metadata": {},
     "output_type": "execute_result"
    }
   ],
   "source": [
    "deny.head(2)"
   ]
  },
  {
   "cell_type": "code",
   "execution_count": 40,
   "metadata": {},
   "outputs": [
    {
     "name": "stdout",
     "output_type": "stream",
     "text": [
      "CPU times: user 7.38 s, sys: 111 ms, total: 7.49 s\n",
      "Wall time: 7.41 s\n"
     ]
    }
   ],
   "source": [
    "%%time\n",
    "deny_600_only = deny.loc[deny['time'] == 600].reset_index(drop=True)\n",
    "deny_new = add_agg_features_per_team(deny_600_only, 'deny')"
   ]
  },
  {
   "cell_type": "code",
   "execution_count": 41,
   "metadata": {},
   "outputs": [],
   "source": [
    "drop_cols = ['time', \n",
    "             'player_0', 'player_1', 'player_2', 'player_3', 'player_4',\n",
    "             'player_5', 'player_6', 'player_7', 'player_8', 'player_9']\n",
    "deny_features = deny_new.drop(drop_cols, axis=1).reset_index(drop=True)"
   ]
  },
  {
   "cell_type": "code",
   "execution_count": 42,
   "metadata": {},
   "outputs": [
    {
     "data": {
      "text/html": [
       "<div>\n",
       "<style scoped>\n",
       "    .dataframe tbody tr th:only-of-type {\n",
       "        vertical-align: middle;\n",
       "    }\n",
       "\n",
       "    .dataframe tbody tr th {\n",
       "        vertical-align: top;\n",
       "    }\n",
       "\n",
       "    .dataframe thead th {\n",
       "        text-align: right;\n",
       "    }\n",
       "</style>\n",
       "<table border=\"1\" class=\"dataframe\">\n",
       "  <thead>\n",
       "    <tr style=\"text-align: right;\">\n",
       "      <th></th>\n",
       "      <th>mid</th>\n",
       "      <th>radiant_deny_min</th>\n",
       "      <th>radiant_deny_mean</th>\n",
       "      <th>radiant_deny_max</th>\n",
       "      <th>radiant_deny_std</th>\n",
       "      <th>dire_deny_min</th>\n",
       "      <th>dire_deny_mean</th>\n",
       "      <th>dire_deny_max</th>\n",
       "      <th>dire_deny_std</th>\n",
       "    </tr>\n",
       "  </thead>\n",
       "  <tbody>\n",
       "    <tr>\n",
       "      <th>0</th>\n",
       "      <td>0</td>\n",
       "      <td>-1</td>\n",
       "      <td>-1.0</td>\n",
       "      <td>-1</td>\n",
       "      <td>0.0</td>\n",
       "      <td>-1</td>\n",
       "      <td>-1.0</td>\n",
       "      <td>-1</td>\n",
       "      <td>0.0</td>\n",
       "    </tr>\n",
       "    <tr>\n",
       "      <th>1</th>\n",
       "      <td>1</td>\n",
       "      <td>-1</td>\n",
       "      <td>-1.0</td>\n",
       "      <td>-1</td>\n",
       "      <td>0.0</td>\n",
       "      <td>-1</td>\n",
       "      <td>-1.0</td>\n",
       "      <td>-1</td>\n",
       "      <td>0.0</td>\n",
       "    </tr>\n",
       "  </tbody>\n",
       "</table>\n",
       "</div>"
      ],
      "text/plain": [
       "   mid  radiant_deny_min  radiant_deny_mean  radiant_deny_max  \\\n",
       "0    0                -1               -1.0                -1   \n",
       "1    1                -1               -1.0                -1   \n",
       "\n",
       "   radiant_deny_std  dire_deny_min  dire_deny_mean  dire_deny_max  \\\n",
       "0               0.0             -1            -1.0             -1   \n",
       "1               0.0             -1            -1.0             -1   \n",
       "\n",
       "   dire_deny_std  \n",
       "0            0.0  \n",
       "1            0.0  "
      ]
     },
     "execution_count": 42,
     "metadata": {},
     "output_type": "execute_result"
    }
   ],
   "source": [
    "deny_features.head(2)"
   ]
  },
  {
   "cell_type": "markdown",
   "metadata": {},
   "source": [
    "### kills"
   ]
  },
  {
   "cell_type": "code",
   "execution_count": 43,
   "metadata": {},
   "outputs": [
    {
     "data": {
      "text/html": [
       "<div>\n",
       "<style scoped>\n",
       "    .dataframe tbody tr th:only-of-type {\n",
       "        vertical-align: middle;\n",
       "    }\n",
       "\n",
       "    .dataframe tbody tr th {\n",
       "        vertical-align: top;\n",
       "    }\n",
       "\n",
       "    .dataframe thead th {\n",
       "        text-align: right;\n",
       "    }\n",
       "</style>\n",
       "<table border=\"1\" class=\"dataframe\">\n",
       "  <thead>\n",
       "    <tr style=\"text-align: right;\">\n",
       "      <th></th>\n",
       "      <th>mid</th>\n",
       "      <th>time</th>\n",
       "      <th>killer</th>\n",
       "      <th>victim_id</th>\n",
       "    </tr>\n",
       "  </thead>\n",
       "  <tbody>\n",
       "    <tr>\n",
       "      <th>0</th>\n",
       "      <td>8004</td>\n",
       "      <td>116</td>\n",
       "      <td>player_1</td>\n",
       "      <td>103</td>\n",
       "    </tr>\n",
       "    <tr>\n",
       "      <th>1</th>\n",
       "      <td>8004</td>\n",
       "      <td>122</td>\n",
       "      <td>player_4</td>\n",
       "      <td>100</td>\n",
       "    </tr>\n",
       "  </tbody>\n",
       "</table>\n",
       "</div>"
      ],
      "text/plain": [
       "    mid  time    killer  victim_id\n",
       "0  8004   116  player_1        103\n",
       "1  8004   122  player_4        100"
      ]
     },
     "execution_count": 43,
     "metadata": {},
     "output_type": "execute_result"
    }
   ],
   "source": [
    "kills.head(2)"
   ]
  },
  {
   "cell_type": "code",
   "execution_count": 44,
   "metadata": {},
   "outputs": [],
   "source": [
    "kills['team'] = 'dire'\n",
    "kills.loc[kills['killer'].isin(['player_0', 'player_1', 'player_2', 'player_3', 'player_4']), 'team'] = 'radiant'\n",
    "kills_agg = kills.groupby(['mid', 'team'])['victim_id'].count().reset_index()"
   ]
  },
  {
   "cell_type": "code",
   "execution_count": 45,
   "metadata": {},
   "outputs": [],
   "source": [
    "kills_features = kills_agg.pivot(index='mid', columns='team', values='victim_id').reset_index()\\\n",
    "                            .rename(index=str, columns={'dire': 'dire_kills', 'radiant': 'radiant_kills'})"
   ]
  },
  {
   "cell_type": "code",
   "execution_count": 46,
   "metadata": {},
   "outputs": [
    {
     "data": {
      "text/html": [
       "<div>\n",
       "<style scoped>\n",
       "    .dataframe tbody tr th:only-of-type {\n",
       "        vertical-align: middle;\n",
       "    }\n",
       "\n",
       "    .dataframe tbody tr th {\n",
       "        vertical-align: top;\n",
       "    }\n",
       "\n",
       "    .dataframe thead th {\n",
       "        text-align: right;\n",
       "    }\n",
       "</style>\n",
       "<table border=\"1\" class=\"dataframe\">\n",
       "  <thead>\n",
       "    <tr style=\"text-align: right;\">\n",
       "      <th>team</th>\n",
       "      <th>mid</th>\n",
       "      <th>dire_kills</th>\n",
       "      <th>radiant_kills</th>\n",
       "    </tr>\n",
       "  </thead>\n",
       "  <tbody>\n",
       "    <tr>\n",
       "      <th>0</th>\n",
       "      <td>8004</td>\n",
       "      <td>1.0</td>\n",
       "      <td>7.0</td>\n",
       "    </tr>\n",
       "    <tr>\n",
       "      <th>1</th>\n",
       "      <td>12048</td>\n",
       "      <td>5.0</td>\n",
       "      <td>3.0</td>\n",
       "    </tr>\n",
       "    <tr>\n",
       "      <th>2</th>\n",
       "      <td>12920</td>\n",
       "      <td>1.0</td>\n",
       "      <td>5.0</td>\n",
       "    </tr>\n",
       "    <tr>\n",
       "      <th>3</th>\n",
       "      <td>15026</td>\n",
       "      <td>11.0</td>\n",
       "      <td>2.0</td>\n",
       "    </tr>\n",
       "    <tr>\n",
       "      <th>4</th>\n",
       "      <td>16204</td>\n",
       "      <td>10.0</td>\n",
       "      <td>6.0</td>\n",
       "    </tr>\n",
       "  </tbody>\n",
       "</table>\n",
       "</div>"
      ],
      "text/plain": [
       "team    mid  dire_kills  radiant_kills\n",
       "0      8004         1.0            7.0\n",
       "1     12048         5.0            3.0\n",
       "2     12920         1.0            5.0\n",
       "3     15026        11.0            2.0\n",
       "4     16204        10.0            6.0"
      ]
     },
     "execution_count": 46,
     "metadata": {},
     "output_type": "execute_result"
    }
   ],
   "source": [
    "kills_features.head()"
   ]
  },
  {
   "cell_type": "markdown",
   "metadata": {},
   "source": [
    "## Dataset creation & Preproccessing"
   ]
  },
  {
   "cell_type": "markdown",
   "metadata": {},
   "source": [
    "### Train"
   ]
  },
  {
   "cell_type": "code",
   "execution_count": 47,
   "metadata": {},
   "outputs": [],
   "source": [
    "y = train['radiant_won']\n",
    "X = pd.merge(train[['mid']], gold_features, on='mid', how='left')\n",
    "X = pd.merge(X, lasthit_features, on='mid', how='left')\n",
    "X = pd.merge(X, xp_features, on='mid', how='left')\n",
    "X = pd.merge(X, items_features, on='mid', how='left')\n",
    "X = pd.merge(X, heroes_features, on='mid', how='left')\n",
    "X = pd.merge(X, events_features, on='mid', how='left')\n",
    "X = pd.merge(X, deny_features, on='mid', how='left')\n",
    "X = pd.merge(X, kills_features, on='mid', how='left').fillna(0)\n",
    "X = X.drop('mid', axis=1)"
   ]
  },
  {
   "cell_type": "code",
   "execution_count": 48,
   "metadata": {},
   "outputs": [
    {
     "data": {
      "text/plain": [
       "0"
      ]
     },
     "execution_count": 48,
     "metadata": {},
     "output_type": "execute_result"
    }
   ],
   "source": [
    "X.isna().sum().max()"
   ]
  },
  {
   "cell_type": "markdown",
   "metadata": {},
   "source": [
    "### Test"
   ]
  },
  {
   "cell_type": "code",
   "execution_count": 49,
   "metadata": {},
   "outputs": [],
   "source": [
    "X_test = pd.merge(test, gold_features, on='mid', how='left')\n",
    "X_test = pd.merge(X_test, lasthit_features, on='mid', how='left')\n",
    "X_test = pd.merge(X_test, xp_features, on='mid', how='left')\n",
    "X_test = pd.merge(X_test, items_features, on='mid', how='left')\n",
    "X_test = pd.merge(X_test, heroes_features, on='mid', how='left')\n",
    "X_test = pd.merge(X_test, events_features, on='mid', how='left')\n",
    "X_test = pd.merge(X_test, deny_features, on='mid', how='left')\n",
    "X_test = pd.merge(X_test, kills_features, on='mid', how='left').fillna(0)\n",
    "X_test = X_test.drop('mid', axis=1)"
   ]
  },
  {
   "cell_type": "code",
   "execution_count": 50,
   "metadata": {
    "scrolled": true
   },
   "outputs": [
    {
     "data": {
      "text/plain": [
       "0"
      ]
     },
     "execution_count": 50,
     "metadata": {},
     "output_type": "execute_result"
    }
   ],
   "source": [
    "X_test.isna().sum().max()"
   ]
  },
  {
   "cell_type": "markdown",
   "metadata": {},
   "source": [
    "## Save dataset"
   ]
  },
  {
   "cell_type": "code",
   "execution_count": 54,
   "metadata": {},
   "outputs": [],
   "source": [
    "X_ = X.copy(deep=True)\n",
    "X_['radiant_won'] = y\n",
    "\n",
    "X_.to_csv(f'{fldr}/dataset_train.csv', index=False)\n",
    "X_test.to_csv(f'{fldr}/dataset_test.csv', index=False)"
   ]
  },
  {
   "cell_type": "markdown",
   "metadata": {},
   "source": [
    "## Load dataset"
   ]
  },
  {
   "cell_type": "code",
   "execution_count": 121,
   "metadata": {},
   "outputs": [],
   "source": [
    "X_ = pd.read_csv(f'{fldr}/dataset_train.csv')\n",
    "X = X_.drop('radiant_won', axis=1)\n",
    "y = X_['radiant_won']\n",
    "X_test = pd.read_csv(f'{fldr}/dataset_test.csv')"
   ]
  },
  {
   "cell_type": "markdown",
   "metadata": {},
   "source": [
    "#### Remove deny/kills features"
   ]
  },
  {
   "cell_type": "code",
   "execution_count": 127,
   "metadata": {},
   "outputs": [],
   "source": [
    "new_cols = [x for x in X.columns if ('kills' in x) or ('deny' in x)]\n",
    "X = X.drop(new_cols, axis=1)\n",
    "X_test = X_test.drop(new_cols, axis=1)"
   ]
  },
  {
   "cell_type": "markdown",
   "metadata": {},
   "source": [
    "### Fit scaler on union of train/test"
   ]
  },
  {
   "cell_type": "code",
   "execution_count": 141,
   "metadata": {},
   "outputs": [
    {
     "name": "stdout",
     "output_type": "stream",
     "text": [
      "CPU times: user 204 ms, sys: 36.7 ms, total: 241 ms\n",
      "Wall time: 239 ms\n"
     ]
    }
   ],
   "source": [
    "%%time\n",
    "all_data = np.vstack([X, X_test])\n",
    "\n",
    "scaler = MinMaxScaler()\n",
    "# scaler = StandardScaler()\n",
    "scaler = scaler.fit(all_data)"
   ]
  },
  {
   "cell_type": "markdown",
   "metadata": {},
   "source": [
    "### Apply scaler on train and test"
   ]
  },
  {
   "cell_type": "code",
   "execution_count": 142,
   "metadata": {},
   "outputs": [],
   "source": [
    "X_scaled = scaler.transform(X)\n",
    "X_test_scaled = scaler.transform(X_test)"
   ]
  },
  {
   "cell_type": "code",
   "execution_count": 143,
   "metadata": {},
   "outputs": [],
   "source": [
    "X_train, X_val, y_train, y_val = train_test_split(X_scaled, y, test_size=0.3, random_state=42, stratify=y)"
   ]
  },
  {
   "cell_type": "markdown",
   "metadata": {},
   "source": [
    "## Modeling & Evaluation"
   ]
  },
  {
   "cell_type": "code",
   "execution_count": 111,
   "metadata": {},
   "outputs": [
    {
     "name": "stdout",
     "output_type": "stream",
     "text": [
      "Fitting 5 folds for each of 120 candidates, totalling 600 fits\n"
     ]
    },
    {
     "name": "stderr",
     "output_type": "stream",
     "text": [
      "[Parallel(n_jobs=1)]: Using backend SequentialBackend with 1 concurrent workers.\n",
      "[Parallel(n_jobs=1)]: Done 600 out of 600 | elapsed: 99.5min finished\n"
     ]
    },
    {
     "name": "stdout",
     "output_type": "stream",
     "text": [
      "Best parameters: {'C': 1.023292992280754, 'class_weight': 'balanced', 'l1_ratio': 0.3, 'penalty': 'l1', 'solver': 'liblinear'}\n",
      "ROC AUC: 0.7587094674359551\n",
      "CPU times: user 1h 50min 36s, sys: 13.7 s, total: 1h 50min 50s\n",
      "Wall time: 1h 39min 32s\n"
     ]
    }
   ],
   "source": [
    "%%time\n",
    "grid = {\n",
    "        \"penalty\": ['l1', 'l2', 'elasticnet'],\n",
    "        \"C\": np.logspace(0.01, 2, 5), \n",
    "        \"solver\": ['liblinear', 'saga'],\n",
    "        \"class_weight\": ['balanced', None],\n",
    "        \"l1_ratio\": [0.3, 0.7]\n",
    "}\n",
    "\n",
    "clf = LogisticRegression(max_iter=300,\n",
    "                         random_state=42)\n",
    "clf_cv = GridSearchCV(clf, grid, cv=5, scoring='roc_auc', verbose=True)\n",
    "clf_cv.fit(X_train, y_train)\n",
    "\n",
    "print(\"Best parameters:\", clf_cv.best_params_)\n",
    "print(\"ROC AUC:\", clf_cv.best_score_)"
   ]
  },
  {
   "cell_type": "code",
   "execution_count": 144,
   "metadata": {},
   "outputs": [
    {
     "name": "stdout",
     "output_type": "stream",
     "text": [
      "ROC AUC: 0.7673001398521563\n"
     ]
    }
   ],
   "source": [
    "clf_best = LogisticRegression(max_iter=1000, \n",
    "                              random_state=42,\n",
    "                              **clf_cv.best_params_\n",
    "                             )\n",
    "clf_best.fit(X_train, y_train)\n",
    "\n",
    "y_val_pred = clf_best.predict(X_val)\n",
    "y_val_pred_proba = clf_best.predict_proba(X_val)[:,1]\n",
    "\n",
    "print(\"ROC AUC:\", roc_auc_score(y_val, y_val_pred_proba)) "
   ]
  },
  {
   "cell_type": "markdown",
   "metadata": {},
   "source": [
    "### Feature importance"
   ]
  },
  {
   "cell_type": "code",
   "execution_count": 146,
   "metadata": {},
   "outputs": [],
   "source": [
    "features_weights = pd.DataFrame(zip(X.columns, clf_best.coef_[0]), columns=['feature', 'weight'])\\\n",
    "                    .sort_values(by='weight', ascending=False).reset_index(drop=True)\n",
    "features_weights_best = pd.concat([features_weights.head(20), features_weights.tail(20)]) "
   ]
  },
  {
   "cell_type": "code",
   "execution_count": 147,
   "metadata": {},
   "outputs": [
    {
     "data": {
      "text/plain": [
       "Text(0.5, 1.0, 'Features Weights (Top-10 per high/low)')"
      ]
     },
     "execution_count": 147,
     "metadata": {},
     "output_type": "execute_result"
    },
    {
     "data": {
      "image/png": "[encoded data removed]",
      "text/plain": [
       "<Figure size 864x864 with 1 Axes>"
      ]
     },
     "metadata": {
      "needs_background": "light"
     },
     "output_type": "display_data"
    }
   ],
   "source": [
    "plt.figure(figsize=(12,12))\n",
    "sns.barplot(x=\"weight\", y=\"feature\", data=features_weights_best)\n",
    "plt.title('Features Weights (Top-10 per high/low)')"
   ]
  },
  {
   "cell_type": "markdown",
   "metadata": {},
   "source": [
    "## Saving prediction"
   ]
  },
  {
   "cell_type": "code",
   "execution_count": 148,
   "metadata": {},
   "outputs": [
    {
     "name": "stdout",
     "output_type": "stream",
     "text": [
      "CPU times: user 5.73 s, sys: 16.2 ms, total: 5.74 s\n",
      "Wall time: 5.72 s\n"
     ]
    }
   ],
   "source": [
    "%%time\n",
    "test_preds = test.copy(deep=True)\n",
    "clf_best.fit(X_scaled, y)\n",
    "test_preds['radiant_win'] = clf_best.predict_proba(X_test_scaled)[:,1]"
   ]
  },
  {
   "cell_type": "code",
   "execution_count": 149,
   "metadata": {},
   "outputs": [
    {
     "data": {
      "text/html": [
       "<div>\n",
       "<style scoped>\n",
       "    .dataframe tbody tr th:only-of-type {\n",
       "        vertical-align: middle;\n",
       "    }\n",
       "\n",
       "    .dataframe tbody tr th {\n",
       "        vertical-align: top;\n",
       "    }\n",
       "\n",
       "    .dataframe thead th {\n",
       "        text-align: right;\n",
       "    }\n",
       "</style>\n",
       "<table border=\"1\" class=\"dataframe\">\n",
       "  <thead>\n",
       "    <tr style=\"text-align: right;\">\n",
       "      <th></th>\n",
       "      <th>mid</th>\n",
       "      <th>radiant_win</th>\n",
       "    </tr>\n",
       "  </thead>\n",
       "  <tbody>\n",
       "    <tr>\n",
       "      <th>0</th>\n",
       "      <td>3</td>\n",
       "      <td>0.679590</td>\n",
       "    </tr>\n",
       "    <tr>\n",
       "      <th>1</th>\n",
       "      <td>7</td>\n",
       "      <td>0.527534</td>\n",
       "    </tr>\n",
       "    <tr>\n",
       "      <th>2</th>\n",
       "      <td>9</td>\n",
       "      <td>0.163711</td>\n",
       "    </tr>\n",
       "    <tr>\n",
       "      <th>3</th>\n",
       "      <td>10</td>\n",
       "      <td>0.315722</td>\n",
       "    </tr>\n",
       "    <tr>\n",
       "      <th>4</th>\n",
       "      <td>12</td>\n",
       "      <td>0.525787</td>\n",
       "    </tr>\n",
       "    <tr>\n",
       "      <th>...</th>\n",
       "      <td>...</td>\n",
       "      <td>...</td>\n",
       "    </tr>\n",
       "    <tr>\n",
       "      <th>24969</th>\n",
       "      <td>49936</td>\n",
       "      <td>0.639541</td>\n",
       "    </tr>\n",
       "    <tr>\n",
       "      <th>24970</th>\n",
       "      <td>49942</td>\n",
       "      <td>0.418771</td>\n",
       "    </tr>\n",
       "    <tr>\n",
       "      <th>24971</th>\n",
       "      <td>49943</td>\n",
       "      <td>0.400701</td>\n",
       "    </tr>\n",
       "    <tr>\n",
       "      <th>24972</th>\n",
       "      <td>49944</td>\n",
       "      <td>0.416866</td>\n",
       "    </tr>\n",
       "    <tr>\n",
       "      <th>24973</th>\n",
       "      <td>49947</td>\n",
       "      <td>0.863514</td>\n",
       "    </tr>\n",
       "  </tbody>\n",
       "</table>\n",
       "<p>24974 rows × 2 columns</p>\n",
       "</div>"
      ],
      "text/plain": [
       "         mid  radiant_win\n",
       "0          3     0.679590\n",
       "1          7     0.527534\n",
       "2          9     0.163711\n",
       "3         10     0.315722\n",
       "4         12     0.525787\n",
       "...      ...          ...\n",
       "24969  49936     0.639541\n",
       "24970  49942     0.418771\n",
       "24971  49943     0.400701\n",
       "24972  49944     0.416866\n",
       "24973  49947     0.863514\n",
       "\n",
       "[24974 rows x 2 columns]"
      ]
     },
     "execution_count": 149,
     "metadata": {},
     "output_type": "execute_result"
    }
   ],
   "source": [
    "test_preds"
   ]
  },
  {
   "cell_type": "code",
   "execution_count": 136,
   "metadata": {},
   "outputs": [],
   "source": [
    "# test_preds.to_csv('predictions_Erin_v3.csv', sep=',', index=False)"
   ]
  },
  {
   "cell_type": "code",
   "execution_count": null,
   "metadata": {},
   "outputs": [],
   "source": []
  }
 ],
 "metadata": {
  "kernelspec": {
   "display_name": "Python 3",
   "language": "python",
   "name": "python3"
  },
  "language_info": {
   "codemirror_mode": {
    "name": "ipython",
    "version": 3
   },
   "file_extension": ".py",
   "mimetype": "text/x-python",
   "name": "python",
   "nbconvert_exporter": "python",
   "pygments_lexer": "ipython3",
   "version": "3.8.3"
  }
 },
 "nbformat": 4,
 "nbformat_minor": 5
}
