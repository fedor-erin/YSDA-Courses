{
 "cells": [
  {
   "cell_type": "code",
   "execution_count": 3,
   "id": "c2bf00da",
   "metadata": {},
   "outputs": [
    {
     "name": "stdout",
     "output_type": "stream",
     "text": [
      "<string>:3: error: Incompatible return value type (got \"int\", expected \"str\")\n",
      "<string>:9: error: Incompatible return value type (got \"float\", expected \"int\")\n",
      "Found 2 errors in 1 file (checked 1 source file)\n",
      "\n"
     ]
    }
   ],
   "source": [
    "%%typecheck\n",
    "def foo(a: int) -> str:\n",
    "    return 8\n",
    "\n",
    "a = 5\n",
    "a += 1\n",
    "\n",
    "def boo() -> int:\n",
    "    return 5."
   ]
  },
  {
   "cell_type": "code",
   "execution_count": null,
   "id": "d8d540f3",
   "metadata": {},
   "outputs": [],
   "source": []
  },
  {
   "cell_type": "code",
   "execution_count": null,
   "id": "727106e4",
   "metadata": {},
   "outputs": [],
   "source": []
  },
  {
   "cell_type": "code",
   "execution_count": null,
   "id": "9e6937c9",
   "metadata": {},
   "outputs": [],
   "source": []
  }
 ],
 "metadata": {
  "kernelspec": {
   "display_name": "Python 3 (ipykernel)",
   "language": "python",
   "name": "python3"
  },
  "language_info": {
   "codemirror_mode": {
    "name": "ipython",
    "version": 3
   },
   "file_extension": ".py",
   "mimetype": "text/x-python",
   "name": "python",
   "nbconvert_exporter": "python",
   "pygments_lexer": "ipython3",
   "version": "3.9.7"
  }
 },
 "nbformat": 4,
 "nbformat_minor": 5
}
