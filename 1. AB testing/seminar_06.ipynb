{
 "cells": [
  {
   "cell_type": "code",
   "execution_count": 1,
   "metadata": {
    "executionInfo": {
     "elapsed": 1615,
     "status": "ok",
     "timestamp": 1635867182135,
     "user": {
      "displayName": "Николай Иванович Назаров",
      "photoUrl": "https://lh3.googleusercontent.com/a/default-user=s64",
      "userId": "17968987284921496701"
     },
     "user_tz": -180
    },
    "id": "NgeB8DM3MjTg"
   },
   "outputs": [],
   "source": [
    "from scipy import stats\n",
    "import numpy as np\n",
    "import pandas as pd\n",
    "import matplotlib.pyplot as plt\n",
    "from tqdm.notebook import tqdm\n",
    "import hashlib "
   ]
  },
  {
   "cell_type": "code",
   "execution_count": 2,
   "metadata": {
    "executionInfo": {
     "elapsed": 79,
     "status": "ok",
     "timestamp": 1635867182138,
     "user": {
      "displayName": "Николай Иванович Назаров",
      "photoUrl": "https://lh3.googleusercontent.com/a/default-user=s64",
      "userId": "17968987284921496701"
     },
     "user_tz": -180
    },
    "id": "y92qCzsWDPJM"
   },
   "outputs": [],
   "source": [
    "plt.rcParams['legend.markerscale'] = 1.5     # the relative size of legend markers vs. original\n",
    "plt.rcParams['legend.handletextpad'] = 0.5\n",
    "plt.rcParams['legend.labelspacing'] = 0.4    # the vertical space between the legend entries in fraction of fontsize\n",
    "plt.rcParams['legend.borderpad'] = 0.5       # border whitespace in fontsize units\n",
    "plt.rcParams['font.size'] = 12\n",
    "plt.rcParams['font.serif'] = 'Times New Roman'\n",
    "plt.rcParams['axes.labelsize'] = 22\n",
    "plt.rcParams['axes.titlesize'] = 24\n",
    "plt.rcParams['figure.figsize'] = (10, 6)\n",
    "\n",
    "plt.rc('xtick', labelsize=18)\n",
    "plt.rc('ytick', labelsize=18)\n",
    "plt.rc('legend', fontsize=22)"
   ]
  },
  {
   "cell_type": "markdown",
   "metadata": {
    "id": "ZwckTrXzMjTv"
   },
   "source": [
    "# 1. Множественное тестирование\n",
    "## 1.1. FWER - групповая вероятность ошибки первого рода\n",
    "Посмотрим как меняется FWER при увеличении кол-ва экспериментов\n",
    "$$FWER = \\mathbb{P}(FP > 0)$$\n",
    "$FP$ - число ложно положительных результатов"
   ]
  },
  {
   "cell_type": "code",
   "execution_count": 3,
   "metadata": {
    "colab": {
     "base_uri": "https://localhost:8080/",
     "height": 432
    },
    "executionInfo": {
     "elapsed": 76,
     "status": "ok",
     "timestamp": 1635867182139,
     "user": {
      "displayName": "Николай Иванович Назаров",
      "photoUrl": "https://lh3.googleusercontent.com/a/default-user=s64",
      "userId": "17968987284921496701"
     },
     "user_tz": -180
    },
    "id": "ewCFzWvEMjTx",
    "outputId": "a3593747-3c13-4bc6-f80e-6a9f37ffe605"
   },
   "outputs": [
    {
     "data": {
      "image/png": "[encoded data removed]",
      "text/plain": [
       "<Figure size 720x432 with 1 Axes>"
      ]
     },
     "metadata": {
      "needs_background": "light"
     },
     "output_type": "display_data"
    }
   ],
   "source": [
    "alpha = 0.05\n",
    "\n",
    "count_experiments = np.arange(1, 101)\n",
    "array_fwer = 1 - (1 - alpha) ** count_experiments\n",
    "\n",
    "plt.plot(count_experiments, array_fwer, '-')\n",
    "plt.grid()\n",
    "plt.ylim([0, 1])\n",
    "plt.xlim([0, 100])\n",
    "plt.xlabel('count_experiments')\n",
    "plt.title('FWER')\n",
    "plt.show()"
   ]
  },
  {
   "cell_type": "markdown",
   "metadata": {
    "id": "4PxMn6f_ofhY"
   },
   "source": [
    "При увеличении кол-ва экспериментов, вероятность допустить хоть одну ошибку I рода быстро увеличивается."
   ]
  },
  {
   "cell_type": "markdown",
   "metadata": {
    "id": "UfvOOVEaMjTy"
   },
   "source": [
    "### 1.1.1 Метод Бонферрони\n",
    "Пусть у нас есть N АА-тестов. Сгенерируем N pvalue из равномерного распределения на [0, 1], предполагая, что верна нулевая гипотеза о равенстве средних. Запомним есть ли среди этих N тестов ошибки I рода. Повторим эту процедуру много раз, чтобы оценить FWER."
   ]
  },
  {
   "cell_type": "code",
   "execution_count": 4,
   "metadata": {
    "colab": {
     "base_uri": "https://localhost:8080/"
    },
    "executionInfo": {
     "elapsed": 72,
     "status": "ok",
     "timestamp": 1635867182140,
     "user": {
      "displayName": "Николай Иванович Назаров",
      "photoUrl": "https://lh3.googleusercontent.com/a/default-user=s64",
      "userId": "17968987284921496701"
     },
     "user_tz": -180
    },
    "id": "enijisskMjTz",
    "outputId": "61af53f4-edec-4b78-ae92-1464c007cdca"
   },
   "outputs": [
    {
     "name": "stdout",
     "output_type": "stream",
     "text": [
      "FWER без поправок: 0.916\n"
     ]
    }
   ],
   "source": [
    "np.random.seed(125)\n",
    "\n",
    "alpha = 0.05\n",
    "size = 50\n",
    "\n",
    "list_pvalues = [np.random.rand(size) for _ in range(1000)]\n",
    "res = [int((pvalues <= alpha).sum() > 0) for pvalues in list_pvalues]\n",
    "print(f'FWER без поправок: {np.mean(res):0.3f}')"
   ]
  },
  {
   "cell_type": "markdown",
   "metadata": {
    "id": "zPk27kSQp2ry"
   },
   "source": [
    "Применим метод Бонферрони к сгенерированным pvalue."
   ]
  },
  {
   "cell_type": "code",
   "execution_count": 5,
   "metadata": {
    "colab": {
     "base_uri": "https://localhost:8080/"
    },
    "executionInfo": {
     "elapsed": 62,
     "status": "ok",
     "timestamp": 1635867182140,
     "user": {
      "displayName": "Николай Иванович Назаров",
      "photoUrl": "https://lh3.googleusercontent.com/a/default-user=s64",
      "userId": "17968987284921496701"
     },
     "user_tz": -180
    },
    "id": "xHeZXFIGMjTz",
    "outputId": "888b255c-4c00-4dcb-a35b-1b4e08e9449e"
   },
   "outputs": [
    {
     "name": "stdout",
     "output_type": "stream",
     "text": [
      "FWER с поправкой Бонферрони: 0.042\n"
     ]
    }
   ],
   "source": [
    "def method_bonferroni(pvalues, alpha=0.05):\n",
    "    \"\"\"Применяет метод Бонферрони для проверки значимости изменений.\n",
    "  \n",
    "    pvalues - List[float] - список pvalue.\n",
    "    alpha - float, уровень значимости.\n",
    "    return - np.array, массив из нулей и единиц, 0 - эффекта нет, 1 - эффект есть.\n",
    "    \"\"\"\n",
    "    m = len(pvalues)\n",
    "    alpha_ = alpha / m\n",
    "    res = (np.array(pvalues) <= alpha_).astype(int)\n",
    "    return res\n",
    "\n",
    "\n",
    "res_bonferroni = [int(np.sum(method_bonferroni(pvalues)) > 0) for pvalues in list_pvalues]\n",
    "print(f'FWER с поправкой Бонферрони: {np.mean(res_bonferroni):0.3f}')"
   ]
  },
  {
   "cell_type": "markdown",
   "metadata": {
    "id": "A5fNC_pwqP50"
   },
   "source": [
    "Получили FWER не превышающее значение alpha."
   ]
  },
  {
   "cell_type": "markdown",
   "metadata": {
    "id": "y54TV9NJMjT0"
   },
   "source": [
    "Есть готовая реализация функция для работы с множественным тестирование, которая корректирует pvalue.\n",
    "\n",
    "Сравним результаты"
   ]
  },
  {
   "cell_type": "code",
   "execution_count": 6,
   "metadata": {
    "colab": {
     "base_uri": "https://localhost:8080/"
    },
    "executionInfo": {
     "elapsed": 53,
     "status": "ok",
     "timestamp": 1635867182141,
     "user": {
      "displayName": "Николай Иванович Назаров",
      "photoUrl": "https://lh3.googleusercontent.com/a/default-user=s64",
      "userId": "17968987284921496701"
     },
     "user_tz": -180
    },
    "id": "V3N7QxXjMjT1",
    "outputId": "ef63c1b8-1ed9-4886-d9d8-a6f270c629fc"
   },
   "outputs": [
    {
     "name": "stderr",
     "output_type": "stream",
     "text": [
      "/usr/local/lib/python3.7/dist-packages/statsmodels/tools/_testing.py:19: FutureWarning: pandas.util.testing is deprecated. Use the functions in the public API at pandas.testing instead.\n",
      "  import pandas.util.testing as tm\n"
     ]
    }
   ],
   "source": [
    "from statsmodels.sandbox.stats.multicomp import multipletests "
   ]
  },
  {
   "cell_type": "code",
   "execution_count": 7,
   "metadata": {
    "colab": {
     "base_uri": "https://localhost:8080/"
    },
    "executionInfo": {
     "elapsed": 44,
     "status": "ok",
     "timestamp": 1635867182142,
     "user": {
      "displayName": "Николай Иванович Назаров",
      "photoUrl": "https://lh3.googleusercontent.com/a/default-user=s64",
      "userId": "17968987284921496701"
     },
     "user_tz": -180
    },
    "id": "NXuAYSOJMjT2",
    "outputId": "a06da99d-c813-4881-aa43-000171e43410"
   },
   "outputs": [
    {
     "data": {
      "text/plain": [
       "(array([False, False, False, False, False, False, False, False, False,\n",
       "        False, False, False, False, False, False, False, False, False,\n",
       "        False, False, False, False, False, False, False, False, False,\n",
       "        False, False, False, False, False, False, False, False, False,\n",
       "        False, False, False, False, False, False, False, False, False,\n",
       "        False, False, False, False, False]),\n",
       " array([1.        , 1.        , 1.        , 1.        , 1.        ,\n",
       "        1.        , 1.        , 1.        , 1.        , 1.        ,\n",
       "        1.        , 1.        , 1.        , 1.        , 1.        ,\n",
       "        1.        , 1.        , 1.        , 1.        , 1.        ,\n",
       "        1.        , 1.        , 1.        , 1.        , 1.        ,\n",
       "        1.        , 1.        , 1.        , 1.        , 1.        ,\n",
       "        1.        , 0.45381296, 1.        , 1.        , 0.11647981,\n",
       "        1.        , 1.        , 1.        , 1.        , 1.        ,\n",
       "        1.        , 1.        , 1.        , 1.        , 1.        ,\n",
       "        1.        , 1.        , 1.        , 1.        , 1.        ]),\n",
       " 0.001025339867232078,\n",
       " 0.001)"
      ]
     },
     "execution_count": 7,
     "metadata": {},
     "output_type": "execute_result"
    }
   ],
   "source": [
    "multipletests(list_pvalues[0], alpha=alpha, method='bonferroni')"
   ]
  },
  {
   "cell_type": "code",
   "execution_count": 8,
   "metadata": {
    "colab": {
     "base_uri": "https://localhost:8080/"
    },
    "executionInfo": {
     "elapsed": 34,
     "status": "ok",
     "timestamp": 1635867182142,
     "user": {
      "displayName": "Николай Иванович Назаров",
      "photoUrl": "https://lh3.googleusercontent.com/a/default-user=s64",
      "userId": "17968987284921496701"
     },
     "user_tz": -180
    },
    "id": "awq9N6EdMjT3",
    "outputId": "81a485c0-aad2-44c4-c6ce-148d071d5c59"
   },
   "outputs": [
    {
     "data": {
      "text/plain": [
       "array([1.        , 1.        , 1.        , 1.        , 1.        ,\n",
       "       1.        , 1.        , 1.        , 1.        , 1.        ,\n",
       "       1.        , 1.        , 1.        , 1.        , 1.        ,\n",
       "       1.        , 1.        , 1.        , 1.        , 1.        ,\n",
       "       1.        , 1.        , 1.        , 1.        , 1.        ,\n",
       "       1.        , 1.        , 1.        , 1.        , 1.        ,\n",
       "       1.        , 0.45381296, 1.        , 1.        , 0.11647981,\n",
       "       1.        , 1.        , 1.        , 1.        , 1.        ,\n",
       "       1.        , 1.        , 1.        , 1.        , 1.        ,\n",
       "       1.        , 1.        , 1.        , 1.        , 1.        ])"
      ]
     },
     "execution_count": 8,
     "metadata": {},
     "output_type": "execute_result"
    }
   ],
   "source": [
    "np.clip(list_pvalues[0] * size, 0, 1)"
   ]
  },
  {
   "cell_type": "markdown",
   "metadata": {
    "id": "BZgxCBX9MjT4"
   },
   "source": [
    "Функция выдаёт скорректированные $pvalue^* = min([1, pvalue \\times size])$, что эквивалентно сравнению исходного pvalue с порогом $\\dfrac{\\alpha}{size}$."
   ]
  },
  {
   "cell_type": "code",
   "execution_count": 9,
   "metadata": {
    "colab": {
     "base_uri": "https://localhost:8080/"
    },
    "executionInfo": {
     "elapsed": 25,
     "status": "ok",
     "timestamp": 1635867182143,
     "user": {
      "displayName": "Николай Иванович Назаров",
      "photoUrl": "https://lh3.googleusercontent.com/a/default-user=s64",
      "userId": "17968987284921496701"
     },
     "user_tz": -180
    },
    "id": "ynQJuKYYMjT4",
    "outputId": "05adc3da-04ef-47a7-8628-0fad4b989dbb"
   },
   "outputs": [
    {
     "name": "stdout",
     "output_type": "stream",
     "text": [
      "FWER с поправкой Бонферрони: 0.042\n"
     ]
    }
   ],
   "source": [
    "res_bonferroni = [\n",
    "    int(True in multipletests(pvalues, alpha=alpha, method='bonferroni')[0])\n",
    "    for pvalues in list_pvalues\n",
    "]\n",
    "print(f'FWER с поправкой Бонферрони: {np.mean(res_bonferroni):0.3f}')"
   ]
  },
  {
   "cell_type": "markdown",
   "metadata": {
    "id": "tjF1X3zeMjT5"
   },
   "source": [
    "Получили такой же результат"
   ]
  },
  {
   "cell_type": "markdown",
   "metadata": {
    "id": "klgGdauaMjT6"
   },
   "source": [
    "### 1.1.2. Метод Холма"
   ]
  },
  {
   "cell_type": "code",
   "execution_count": 10,
   "metadata": {
    "executionInfo": {
     "elapsed": 16,
     "status": "ok",
     "timestamp": 1635867182144,
     "user": {
      "displayName": "Николай Иванович Назаров",
      "photoUrl": "https://lh3.googleusercontent.com/a/default-user=s64",
      "userId": "17968987284921496701"
     },
     "user_tz": -180
    },
    "id": "tKPM51MEMjT6"
   },
   "outputs": [],
   "source": [
    "def method_holm(pvalues, alpha=0.05):\n",
    "    \"\"\"Применяет метод Холма для проверки значимости изменений.\n",
    "\n",
    "    pvalues - List[float] - список pvalue.\n",
    "    alpha - float, уровень значимости.\n",
    "    return - np.array, массив из нулей и единиц, 0 - эффекта нет, 1 - эффект есть.\n",
    "    \"\"\"\n",
    "    m = len(pvalues)\n",
    "    array_alpha = np.arange(m, 0, -1)\n",
    "    array_alpha = alpha / array_alpha\n",
    "    sorted_pvalue_indexes = np.argsort(pvalues)\n",
    "    res = np.zeros(m)\n",
    "    for idx, pvalue_index in enumerate(sorted_pvalue_indexes):\n",
    "        pvalue = pvalues[pvalue_index]\n",
    "        alpha_ = array_alpha[idx]\n",
    "        if pvalue < alpha_:\n",
    "            res[pvalue_index] = 1\n",
    "        else:\n",
    "            break\n",
    "    res = res.astype(int)\n",
    "    return res"
   ]
  },
  {
   "cell_type": "code",
   "execution_count": 11,
   "metadata": {
    "colab": {
     "base_uri": "https://localhost:8080/"
    },
    "executionInfo": {
     "elapsed": 311,
     "status": "ok",
     "timestamp": 1635867182441,
     "user": {
      "displayName": "Николай Иванович Назаров",
      "photoUrl": "https://lh3.googleusercontent.com/a/default-user=s64",
      "userId": "17968987284921496701"
     },
     "user_tz": -180
    },
    "id": "zG97yMrkMjT7",
    "outputId": "5935cfb9-0d1d-4b57-d726-6fe355d1937d"
   },
   "outputs": [
    {
     "name": "stdout",
     "output_type": "stream",
     "text": [
      "FWER с поправкой Холма: 0.042\n"
     ]
    }
   ],
   "source": [
    "res_holm = [int(np.sum(method_holm(pvalues)) > 0) for pvalues in list_pvalues]\n",
    "print(f'FWER с поправкой Холма: {np.mean(res_holm):0.3f}')"
   ]
  },
  {
   "cell_type": "markdown",
   "metadata": {
    "id": "3j2EKcpOMjT8"
   },
   "source": [
    "Сравним с функцией из statmodels."
   ]
  },
  {
   "cell_type": "code",
   "execution_count": 12,
   "metadata": {
    "colab": {
     "base_uri": "https://localhost:8080/",
     "height": 66,
     "referenced_widgets": [
      "755741781e2b4627ba4dd63f16033416",
      "2d6f11fef296444ba99fd87fcad3e5fe",
      "9d90c5a13d0442339769593a8264a11c",
      "dc89e0f2e73f4791812eff7fc05cb63b",
      "29fb0cecda8b48608048f37834a09588",
      "f0b25bc405fa46d1be09e3f36cec1d17",
      "d9811569dbb44c6d8514e83c04cc78dd",
      "343b5f6a1fc240ad8c09c5da8103028f",
      "d7b2ca129e064a0dae2e809b1cc8d177",
      "1d3a7e060fcb4827b866046d842dc0e3",
      "51f7b14e5cba4ebba36ff643fb73c41b"
     ]
    },
    "executionInfo": {
     "elapsed": 60335,
     "status": "ok",
     "timestamp": 1635867242766,
     "user": {
      "displayName": "Николай Иванович Назаров",
      "photoUrl": "https://lh3.googleusercontent.com/a/default-user=s64",
      "userId": "17968987284921496701"
     },
     "user_tz": -180
    },
    "id": "f3tksxfZMjT-",
    "outputId": "60b53959-95a3-4b11-f528-5f0cb54b2b32"
   },
   "outputs": [
    {
     "data": {
      "application/vnd.jupyter.widget-view+json": {
       "model_id": "755741781e2b4627ba4dd63f16033416",
       "version_major": 2,
       "version_minor": 0
      },
      "text/plain": [
       "  0%|          | 0/1000 [00:00<?, ?it/s]"
      ]
     },
     "metadata": {},
     "output_type": "display_data"
    },
    {
     "name": "stdout",
     "output_type": "stream",
     "text": [
      "FWER с поправкой Холма: 0.042\n"
     ]
    }
   ],
   "source": [
    "res_holm = [\n",
    "    int(True in multipletests(pvalues, alpha=alpha, method='holm')[0])\n",
    "    for pvalues in tqdm(list_pvalues)\n",
    "]\n",
    "print(f'FWER с поправкой Холма: {np.mean(res_holm):0.3f}')"
   ]
  },
  {
   "cell_type": "markdown",
   "metadata": {
    "id": "H4PMI82CMjT_"
   },
   "source": [
    "### 1.1.3. Метод Бенджамини-Хохберга"
   ]
  },
  {
   "cell_type": "code",
   "execution_count": 13,
   "metadata": {
    "executionInfo": {
     "elapsed": 26,
     "status": "ok",
     "timestamp": 1635867242768,
     "user": {
      "displayName": "Николай Иванович Назаров",
      "photoUrl": "https://lh3.googleusercontent.com/a/default-user=s64",
      "userId": "17968987284921496701"
     },
     "user_tz": -180
    },
    "id": "oVejwURBMjUA"
   },
   "outputs": [],
   "source": [
    "def method_benjamini_hochberg(pvalues, alpha=0.05):\n",
    "    \"\"\"Применяет метод Бенджамини-Хохберга для проверки значимости изменений.\n",
    "    \n",
    "    pvalues - List[float] - список pvalue.\n",
    "    alpha - float, уровень значимости.\n",
    "    return - np.array, массив из нулей и единиц, 0 - эффекта нет, 1 - эффект есть.\n",
    "    \"\"\"\n",
    "    m = len(pvalues)\n",
    "    array_alpha = np.arange(1, m+1)\n",
    "    array_alpha = alpha * array_alpha / m\n",
    "    sorted_pvalue_indexes = np.argsort(pvalues)\n",
    "    res = np.zeros(m)\n",
    "    for idx, pvalue_index in enumerate(sorted_pvalue_indexes):\n",
    "        pvalue = pvalues[pvalue_index]\n",
    "        alpha_ = array_alpha[idx]\n",
    "        if pvalue <= alpha_:\n",
    "            res[pvalue_index] = 1\n",
    "        else:\n",
    "            break\n",
    "    res = res.astype(int)\n",
    "    return res"
   ]
  },
  {
   "cell_type": "code",
   "execution_count": 14,
   "metadata": {
    "colab": {
     "base_uri": "https://localhost:8080/"
    },
    "executionInfo": {
     "elapsed": 25,
     "status": "ok",
     "timestamp": 1635867242769,
     "user": {
      "displayName": "Николай Иванович Назаров",
      "photoUrl": "https://lh3.googleusercontent.com/a/default-user=s64",
      "userId": "17968987284921496701"
     },
     "user_tz": -180
    },
    "id": "4r7PW6J8MjUA",
    "outputId": "61e546dd-1504-47aa-cc61-2d44cae6ee3b"
   },
   "outputs": [
    {
     "name": "stdout",
     "output_type": "stream",
     "text": [
      "FWER с поправкой Бенджамини-Хохберга: 0.042\n"
     ]
    }
   ],
   "source": [
    "res_bh = [int(np.sum(method_benjamini_hochberg(pvalues)) > 0) for pvalues in list_pvalues]\n",
    "print(f'FWER с поправкой Бенджамини-Хохберга: {np.mean(res_bh):0.3f}')"
   ]
  },
  {
   "cell_type": "markdown",
   "metadata": {
    "id": "U89EfZgFMjUB"
   },
   "source": [
    "Когда все эксперименты без эффекта, ошибки первого рода практически совпадают на этих данных."
   ]
  },
  {
   "cell_type": "markdown",
   "metadata": {
    "id": "9bB2PyjyMjUC"
   },
   "source": [
    "### 1.1.4. Сравнение методов.\n",
    "Будем увеличивать кол-во экспериментов и считать долю \"прокрасившихся\" экспериментов среди экспериментов без эффекта (ошибка I рода) и доля \"непрокрисившихся\" среди экспериментов с эффектом (ошибка II рода).\n",
    "\n",
    "Затем посмотрим как меняются:\n",
    "- FWER;\n",
    "- $\\mathbb{P}(FN > 0)$ --- аналог FWER для ошибок II рода, вероятность хоть одного эксперимента с FN;\n",
    "- FDR --- средняя доля ложных отклонений гипотез среди всех отклонений."
   ]
  },
  {
   "cell_type": "code",
   "execution_count": 15,
   "metadata": {
    "executionInfo": {
     "elapsed": 18,
     "status": "ok",
     "timestamp": 1635867242770,
     "user": {
      "displayName": "Николай Иванович Назаров",
      "photoUrl": "https://lh3.googleusercontent.com/a/default-user=s64",
      "userId": "17968987284921496701"
     },
     "user_tz": -180
    },
    "id": "yafa5wbqMjUD"
   },
   "outputs": [],
   "source": [
    "def get_minimal_determinable_effect(std, sample_size, alpha=0.05, beta=0.2):\n",
    "    t_alpha = stats.norm.ppf(1 - alpha / 2, loc=0, scale=1)\n",
    "    t_beta = stats.norm.ppf(1 - beta, loc=0, scale=1)\n",
    "    disp_sum_sqrt = (2 * (std ** 2)) ** 0.5\n",
    "    mde = (t_alpha + t_beta) * disp_sum_sqrt / np.sqrt(sample_size)\n",
    "    return mde\n",
    "\n",
    "\n",
    "def method_baseline(pvalues, alpha=0.05):\n",
    "    \"\"\"Проверет значимость без поправок.\n",
    "    \n",
    "    pvalues - List[float] - список pvalue.\n",
    "    alpha - float, уровень значимости.\n",
    "    return - np.array, массив из нулей и единиц, 0 - эффекта нет, 1 - эффект есть.\n",
    "    \"\"\"\n",
    "    res = (np.array(pvalues) <= alpha).astype(int)\n",
    "    return res"
   ]
  },
  {
   "cell_type": "code",
   "execution_count": 16,
   "metadata": {
    "executionInfo": {
     "elapsed": 18,
     "status": "ok",
     "timestamp": 1635867242771,
     "user": {
      "displayName": "Николай Иванович Назаров",
      "photoUrl": "https://lh3.googleusercontent.com/a/default-user=s64",
      "userId": "17968987284921496701"
     },
     "user_tz": -180
    },
    "id": "2IrhkWYjQJhy"
   },
   "outputs": [],
   "source": [
    "def plot_metrics(dict_method_error, graph_types, count_pilots=None):\n",
    "    \"\"\"Строит графики метрик: FWER, P(FN > 0), FDR.\n",
    "\n",
    "    :param dict_method_error: dict, словарь с ошибками методов. Пример,\n",
    "        {\n",
    "            'holm': { # название метода\n",
    "                100: { # число экспериментов, если count_pilots==None, иначе число экспериментов с эффектом\n",
    "                    'part_first_type_error': [0.2, ...], # списки ошибок I и II рода\n",
    "                    'part_second_type_error': [0.2, ...],\n",
    "                }\n",
    "            }\n",
    "        }\n",
    "    :param graph_types: List[str], список типов графиков, которые нужно построить.\n",
    "        Возможные значения: ['FWER', 'P(FN > 0)', 'FDR'].\n",
    "    :param count_pilots: int or None, если int - общее кол-во экспериментов среди которых есть с эффектом и без эффекта.\n",
    "    \"\"\"\n",
    "    available_graph_types = ['FWER', 'P(FN > 0)', 'FDR']\n",
    "    method_config = {'baseline': ['-o'], 'bonferroni': ['-v'], 'holm': ['-<'], 'benjamini_hochberg': ['->']}\n",
    "\n",
    "    fig, axes = plt.subplots(1, len(available_graph_types), figsize=(24, 6))\n",
    "\n",
    "    for graph_type in graph_types:\n",
    "        assert graph_type in available_graph_types, f'graph_type \"{graph_type}\" not available.'\n",
    "\n",
    "    for method_name, dict_errors in dict_method_error.items():\n",
    "        X = []\n",
    "        dict_Y = {graph_type: [] for graph_type in graph_types}\n",
    "        for count_pilot, dict_ in dict_errors.items():\n",
    "            X.append(count_pilot)\n",
    "            if 'FWER' in graph_types:\n",
    "                dict_Y['FWER'].append(np.mean(np.array(dict_['part_first_type_error']) > 0))\n",
    "            if 'P(FN > 0)' in graph_types:\n",
    "                dict_Y['P(FN > 0)'].append(np.mean(np.array(dict_['part_second_type_error']) > 0))\n",
    "            if ('FDR' in graph_types) and (count_pilots is not None):\n",
    "                fp = np.array(dict_['part_first_type_error']) * (count_pilots - count_pilot)\n",
    "                tp = (1 - np.array(dict_['part_second_type_error'])) * count_pilot\n",
    "                fp_tp = fp + tp\n",
    "                fp_tp[fp_tp < 1] = 1\n",
    "                dict_Y['FDR'].append(np.mean(fp / fp_tp))\n",
    "        for graph_type, Y in dict_Y.items():\n",
    "            idx = available_graph_types.index(graph_type)\n",
    "            if graph_type in graph_types:\n",
    "                axes[idx].plot(X, Y, method_config[method_name][0], label=method_name, alpha=0.7)\n",
    "\n",
    "    max_X = np.max(X)\n",
    "    if 'FWER' in graph_types:\n",
    "        axes[0].hlines(0.05, 0, max_X, 'k', linestyles='--', label='alpha=0.05')\n",
    "    if 'P(FN > 0)' in graph_types:\n",
    "        axes[1].hlines(0.2, 0, max_X, 'k', linestyles='--', label='beta=0.20')\n",
    "    if 'FDR' in graph_types:\n",
    "        axes[2].hlines(0.05, 0, max_X, 'k', linestyles='--', label='alpha=0.05')\n",
    "\n",
    "    for graph_type, ax in zip(available_graph_types, axes):\n",
    "        ax.set_title(graph_type)\n",
    "        ax.set_xlabel('count experiment with effect' if count_pilots else 'count experiment')\n",
    "        if graph_type in graph_types:\n",
    "            ax.legend()\n"
   ]
  },
  {
   "cell_type": "code",
   "execution_count": 17,
   "metadata": {
    "executionInfo": {
     "elapsed": 18,
     "status": "ok",
     "timestamp": 1635867242772,
     "user": {
      "displayName": "Николай Иванович Назаров",
      "photoUrl": "https://lh3.googleusercontent.com/a/default-user=s64",
      "userId": "17968987284921496701"
     },
     "user_tz": -180
    },
    "id": "SXRUASmypKIa"
   },
   "outputs": [],
   "source": [
    "dict_methods = {\n",
    "    'baseline': method_baseline,\n",
    "    'bonferroni': method_bonferroni,\n",
    "    'holm': method_holm,\n",
    "    'benjamini_hochberg': method_benjamini_hochberg\n",
    "}"
   ]
  },
  {
   "cell_type": "markdown",
   "metadata": {
    "id": "FkamjS4Qo2tD"
   },
   "source": [
    "#### Без эффекта"
   ]
  },
  {
   "cell_type": "code",
   "execution_count": 18,
   "metadata": {
    "colab": {
     "base_uri": "https://localhost:8080/",
     "height": 49,
     "referenced_widgets": [
      "b9227a39f80d4af48e3b2b851bdcbd4e",
      "3a2b28721100493496c3004ab95b8cd8",
      "7bf5b1248d0e4d16a8667dd41f697555",
      "ddd5e30b0d104bb380700f81d6fcf9a3",
      "46a5d8f40572400b9443cc41af344794",
      "b2dad7cd681f47acbf970877b3576f84",
      "0f8e666823704457ac7a207b6278fa76",
      "5a8f41aa565b4214b6ff8a92455e5070",
      "dac1229ae3b84c7c89768d09333bd2e3",
      "af90c56152094589b55ba8f23ec58e0c",
      "dc71123c29b14f45a4756aa7e2e675b0"
     ]
    },
    "executionInfo": {
     "elapsed": 80011,
     "status": "ok",
     "timestamp": 1635867322766,
     "user": {
      "displayName": "Николай Иванович Назаров",
      "photoUrl": "https://lh3.googleusercontent.com/a/default-user=s64",
      "userId": "17968987284921496701"
     },
     "user_tz": -180
    },
    "id": "X9PLU9y5o9cx",
    "outputId": "026123f7-153e-48fd-f868-f2485f175550"
   },
   "outputs": [
    {
     "data": {
      "application/vnd.jupyter.widget-view+json": {
       "model_id": "b9227a39f80d4af48e3b2b851bdcbd4e",
       "version_major": 2,
       "version_minor": 0
      },
      "text/plain": [
       "  0%|          | 0/11 [00:00<?, ?it/s]"
      ]
     },
     "metadata": {},
     "output_type": "display_data"
    }
   ],
   "source": [
    "count_pilots = 100\n",
    "group_size = 50\n",
    "effect_size = 0.0\n",
    "mean_ = 10\n",
    "std_ = 1\n",
    "n_iter = 500\n",
    "\n",
    "\n",
    "np.random.seed(43)\n",
    "\n",
    "list_count_pilot = [1] + list(range(10, count_pilots, 10)) + [count_pilots - 1]\n",
    "dict_method_error = {\n",
    "    method_name: {\n",
    "        count_pilot: {\n",
    "            'part_first_type_error': [], 'part_second_type_error': []\n",
    "        }\n",
    "        for count_pilot in list_count_pilot\n",
    "    }\n",
    "    for method_name in dict_methods\n",
    "}\n",
    "\n",
    "\n",
    "for count_pilot in tqdm(list_count_pilot):\n",
    "    # проведём несколько итераций для набора статистики и оценки FWER\n",
    "    for _ in range(n_iter):\n",
    "        # data experiments without effect\n",
    "        list_data = [\n",
    "            (\n",
    "                np.random.normal(mean_, std_, group_size),\n",
    "                np.random.normal(mean_, std_, group_size)\n",
    "            )\n",
    "            for _ in range(count_pilot)\n",
    "        ]\n",
    "        pvalues = [\n",
    "            stats.ttest_ind(data_pilot, data_control)[1]\n",
    "            for data_pilot, data_control in list_data\n",
    "        ]\n",
    "        for method_name, method in dict_methods.items():\n",
    "            result_experiments = method(pvalues)\n",
    "            dict_method_error[method_name][count_pilot]['part_first_type_error'].append(\n",
    "                np.mean(result_experiments)\n",
    "            )"
   ]
  },
  {
   "cell_type": "markdown",
   "metadata": {
    "id": "UnsnOfqBt__4"
   },
   "source": [
    "Для экспериментов без эффекта имеет смысл смотреть только FWER, так как без экспериментов с эффектом FN и TP всегда равны нулю."
   ]
  },
  {
   "cell_type": "code",
   "execution_count": 19,
   "metadata": {
    "colab": {
     "base_uri": "https://localhost:8080/",
     "height": 405
    },
    "executionInfo": {
     "elapsed": 1037,
     "status": "ok",
     "timestamp": 1635867323797,
     "user": {
      "displayName": "Николай Иванович Назаров",
      "photoUrl": "https://lh3.googleusercontent.com/a/default-user=s64",
      "userId": "17968987284921496701"
     },
     "user_tz": -180
    },
    "id": "02wShrPgprio",
    "outputId": "6fc27397-6606-481f-e638-bf2621e4af09"
   },
   "outputs": [
    {
     "data": {
      "image/png": "[encoded data removed]",
      "text/plain": [
       "<Figure size 1728x432 with 3 Axes>"
      ]
     },
     "metadata": {
      "needs_background": "light"
     },
     "output_type": "display_data"
    }
   ],
   "source": [
    "plot_metrics(dict_method_error, ['FWER'])"
   ]
  },
  {
   "cell_type": "markdown",
   "metadata": {
    "id": "AkHQuyIjvt4P"
   },
   "source": [
    "Для АА-тестов baseline проигрывает всем методам корректировок для множественного тестирования с точки зрения контроля FWER."
   ]
  },
  {
   "cell_type": "markdown",
   "metadata": {
    "id": "vMGuyuLnwIp5"
   },
   "source": [
    "#### C эффектом"
   ]
  },
  {
   "cell_type": "code",
   "execution_count": 20,
   "metadata": {
    "colab": {
     "base_uri": "https://localhost:8080/"
    },
    "executionInfo": {
     "elapsed": 14,
     "status": "ok",
     "timestamp": 1635867323799,
     "user": {
      "displayName": "Николай Иванович Назаров",
      "photoUrl": "https://lh3.googleusercontent.com/a/default-user=s64",
      "userId": "17968987284921496701"
     },
     "user_tz": -180
    },
    "id": "uyUDam-ow1PT",
    "outputId": "db44b87a-800b-4698-e853-0a6892095bf8"
   },
   "outputs": [
    {
     "name": "stdout",
     "output_type": "stream",
     "text": [
      "MDE = 0.56\n"
     ]
    }
   ],
   "source": [
    "count_pilots = 100\n",
    "group_size = 50\n",
    "effect_size = 0.056\n",
    "mean_ = 10\n",
    "std_ = 1\n",
    "n_iter = 500\n",
    "\n",
    "mde = get_minimal_determinable_effect(std_, group_size, alpha=0.05, beta=0.2)\n",
    "print(f'MDE = {mde:0.2f}')"
   ]
  },
  {
   "cell_type": "code",
   "execution_count": 21,
   "metadata": {
    "colab": {
     "base_uri": "https://localhost:8080/",
     "height": 49,
     "referenced_widgets": [
      "27d5a2b875784b85b31ade59b2641934",
      "985985d4c82246a0bf7dffe48c581642",
      "6a43039848aa4146bf80ca2a4cc8462c",
      "55012f81d4804f649cd3e569eed62d08",
      "fdea8cc280a3493b82c5b7b707d699a3",
      "046a3fbace794da285704e04a72ae130",
      "7cfed1fc1f8b48deab315d6aa3edec48",
      "04164d3f0f1f468ea421e175a8f4b752",
      "c8970d3753dd401da4443155ddec1bce",
      "40fc8e69662748cc9f05498ffb3df2ef",
      "36a5f2f7eb1f452d82a9f62476d54355"
     ]
    },
    "executionInfo": {
     "elapsed": 7553,
     "status": "ok",
     "timestamp": 1635867331341,
     "user": {
      "displayName": "Николай Иванович Назаров",
      "photoUrl": "https://lh3.googleusercontent.com/a/default-user=s64",
      "userId": "17968987284921496701"
     },
     "user_tz": -180
    },
    "id": "vMAAx6ZlwZ1E",
    "outputId": "efdebeb6-d8da-4366-d470-395653fb1082"
   },
   "outputs": [
    {
     "data": {
      "application/vnd.jupyter.widget-view+json": {
       "model_id": "27d5a2b875784b85b31ade59b2641934",
       "version_major": 2,
       "version_minor": 0
      },
      "text/plain": [
       "  0%|          | 0/5 [00:00<?, ?it/s]"
      ]
     },
     "metadata": {},
     "output_type": "display_data"
    }
   ],
   "source": [
    "np.random.seed(43)\n",
    "\n",
    "list_count_pilot = [1] + list(range(5, 21, 5))\n",
    "dict_method_error = {\n",
    "    method_name: {\n",
    "        count_pilot: {\n",
    "            'part_first_type_error': [], 'part_second_type_error': []\n",
    "        }\n",
    "        for count_pilot in list_count_pilot\n",
    "    }\n",
    "    for method_name in dict_methods\n",
    "}\n",
    "\n",
    "\n",
    "for count_pilot in tqdm(list_count_pilot):\n",
    "    # проведём несколько итераций для набора статистики и оценки FWER\n",
    "    for _ in range(n_iter):\n",
    "        # data experiments with effect\n",
    "        list_data = [\n",
    "            (\n",
    "                np.random.normal(mean_, std_, group_size),\n",
    "                np.random.normal(mean_ * (1 + effect_size), std_, group_size)\n",
    "            )\n",
    "            for _ in range(count_pilot)\n",
    "        ]\n",
    "        pvalues = [\n",
    "            stats.ttest_ind(data_pilot, data_control)[1]\n",
    "            for data_pilot, data_control in list_data\n",
    "        ]\n",
    "        for method_name, method in dict_methods.items():\n",
    "            result_experiments = method(pvalues)\n",
    "            dict_method_error[method_name][count_pilot]['part_second_type_error'].append(\n",
    "                1 - np.mean(result_experiments)\n",
    "            )"
   ]
  },
  {
   "cell_type": "code",
   "execution_count": 22,
   "metadata": {
    "colab": {
     "base_uri": "https://localhost:8080/",
     "height": 405
    },
    "executionInfo": {
     "elapsed": 731,
     "status": "ok",
     "timestamp": 1635867332068,
     "user": {
      "displayName": "Николай Иванович Назаров",
      "photoUrl": "https://lh3.googleusercontent.com/a/default-user=s64",
      "userId": "17968987284921496701"
     },
     "user_tz": -180
    },
    "id": "b7-WEXp8w9_-",
    "outputId": "7fc06f9a-3867-4b59-80e0-6e4a1ae49076"
   },
   "outputs": [
    {
     "data": {
      "image/png": "[encoded data removed]",
      "text/plain": [
       "<Figure size 1728x432 with 3 Axes>"
      ]
     },
     "metadata": {
      "needs_background": "light"
     },
     "output_type": "display_data"
    }
   ],
   "source": [
    "plot_metrics(dict_method_error, ['P(FN > 0)'])"
   ]
  },
  {
   "cell_type": "markdown",
   "metadata": {
    "id": "TtTolRP2zyx_"
   },
   "source": [
    "Доля групп экспериментов с FN > 0 быстро растёт для всех методов. Чем консервативнее метод, тем быстрее растёт $\\mathbb{P}(FN > 0)$ с ростом числа экспериментов."
   ]
  },
  {
   "cell_type": "markdown",
   "metadata": {
    "id": "7LdQKfPb0OwO"
   },
   "source": [
    "#### Смесь экспериментов с эффектом и без эффекта"
   ]
  },
  {
   "cell_type": "code",
   "execution_count": 23,
   "metadata": {
    "colab": {
     "base_uri": "https://localhost:8080/"
    },
    "executionInfo": {
     "elapsed": 20,
     "status": "ok",
     "timestamp": 1635867332069,
     "user": {
      "displayName": "Николай Иванович Назаров",
      "photoUrl": "https://lh3.googleusercontent.com/a/default-user=s64",
      "userId": "17968987284921496701"
     },
     "user_tz": -180
    },
    "id": "b693NZQ80-dl",
    "outputId": "48a796c4-1e9a-4b1b-821c-ddd41d1739c1"
   },
   "outputs": [
    {
     "name": "stdout",
     "output_type": "stream",
     "text": [
      "MDE = 0.56\n"
     ]
    }
   ],
   "source": [
    "count_pilots = 100\n",
    "group_size = 50\n",
    "effect_size = 0.1\n",
    "mean_ = 10\n",
    "std_ = 1\n",
    "n_iter = 500\n",
    "\n",
    "\n",
    "mde = get_minimal_determinable_effect(std_, group_size, alpha=0.05, beta=0.2)\n",
    "print(f'MDE = {mde:0.2f}')"
   ]
  },
  {
   "cell_type": "code",
   "execution_count": 24,
   "metadata": {
    "colab": {
     "base_uri": "https://localhost:8080/",
     "height": 49,
     "referenced_widgets": [
      "05b17f7cb7364c988cf6824e3f45d415",
      "9cd9bb48f193472cbdce164395bf8a8c",
      "f3fe44ecb7e042cd8aeed44d99128d05",
      "bc2274bd1158419c813bd180108ada18",
      "a5347aae48a14ac299245629e06aeffc",
      "f484cd844b6e4d3eb8a62f21d90ba284",
      "b9cf670eebe943ffa420257b840822f0",
      "396a3ed4186c4499bfa93afbe4a1ca53",
      "a2485ade42f34feaba656d6c1f98ee83",
      "807b93431bdf43f8af1fc497aab50363",
      "77ec41eef9344031a9f3f3325bf0cfe7"
     ]
    },
    "executionInfo": {
     "elapsed": 160698,
     "status": "ok",
     "timestamp": 1635867492758,
     "user": {
      "displayName": "Николай Иванович Назаров",
      "photoUrl": "https://lh3.googleusercontent.com/a/default-user=s64",
      "userId": "17968987284921496701"
     },
     "user_tz": -180
    },
    "id": "597cR-sVMjUE",
    "outputId": "36064e94-1ddc-45bc-a289-05ba1e02e84c"
   },
   "outputs": [
    {
     "data": {
      "application/vnd.jupyter.widget-view+json": {
       "model_id": "05b17f7cb7364c988cf6824e3f45d415",
       "version_major": 2,
       "version_minor": 0
      },
      "text/plain": [
       "  0%|          | 0/11 [00:00<?, ?it/s]"
      ]
     },
     "metadata": {},
     "output_type": "display_data"
    }
   ],
   "source": [
    "np.random.seed(43)\n",
    "\n",
    "\n",
    "list_count_pilot_with_effect = [1] + list(range(10, count_pilots, 10)) + [count_pilots - 1]\n",
    "dict_method_error = {\n",
    "    method_name: {\n",
    "        count_pilot_with_effect: {\n",
    "            'part_first_type_error': [], 'part_second_type_error': []\n",
    "        }\n",
    "        for count_pilot_with_effect in list_count_pilot_with_effect\n",
    "    }\n",
    "    for method_name in dict_methods\n",
    "}\n",
    "\n",
    "\n",
    "for count_pilot_with_effect in tqdm(list_count_pilot_with_effect):\n",
    "    count_pilot_without_effect = count_pilots - count_pilot_with_effect\n",
    "\n",
    "    # проведём несколько итераций для набора статистики и оценки FWER\n",
    "    for _ in range(n_iter):\n",
    "        # data experiments without effect\n",
    "        list_data = [\n",
    "            (\n",
    "                np.random.normal(mean_, std_, group_size),\n",
    "                np.random.normal(mean_, std_, group_size)\n",
    "            )\n",
    "            for _ in range(count_pilot_without_effect)\n",
    "        ]\n",
    "        # add data experiments with effect\n",
    "        list_data += [\n",
    "            (\n",
    "                np.random.normal(mean_, std_, group_size),\n",
    "                np.random.normal(mean_ * (1 + effect_size), std_, group_size)\n",
    "            )\n",
    "            for _ in range(count_pilot_with_effect)\n",
    "        ]\n",
    "        pvalues = [\n",
    "            stats.ttest_ind(data_pilot, data_control)[1]\n",
    "            for data_pilot, data_control in list_data\n",
    "        ]\n",
    "        for method_name, method in dict_methods.items():\n",
    "            result_experiments = method(pvalues)\n",
    "            dict_method_error[method_name][count_pilot_with_effect]['part_first_type_error'].append(\n",
    "                np.mean(result_experiments[:count_pilot_without_effect])\n",
    "            )\n",
    "            dict_method_error[method_name][count_pilot_with_effect]['part_second_type_error'].append(\n",
    "                1 - np.mean(result_experiments[count_pilot_without_effect:])\n",
    "            )"
   ]
  },
  {
   "cell_type": "code",
   "execution_count": 25,
   "metadata": {
    "colab": {
     "base_uri": "https://localhost:8080/",
     "height": 409
    },
    "executionInfo": {
     "elapsed": 886,
     "status": "ok",
     "timestamp": 1635867493638,
     "user": {
      "displayName": "Николай Иванович Назаров",
      "photoUrl": "https://lh3.googleusercontent.com/a/default-user=s64",
      "userId": "17968987284921496701"
     },
     "user_tz": -180
    },
    "id": "Qsf1Tvbr03it",
    "outputId": "ae5ac42c-5719-4071-acae-33b7d3e1bae7"
   },
   "outputs": [
    {
     "data": {
      "image/png": "[encoded data removed]",
      "text/plain": [
       "<Figure size 1728x432 with 3 Axes>"
      ]
     },
     "metadata": {
      "needs_background": "light"
     },
     "output_type": "display_data"
    }
   ],
   "source": [
    "plot_metrics(dict_method_error, ['FWER', 'P(FN > 0)', 'FDR'], count_pilots)"
   ]
  },
  {
   "cell_type": "markdown",
   "metadata": {
    "id": "fZHJX8nOGuxG"
   },
   "source": [
    "FWER:\n",
    "- **baseline** допускает ошибки I рода почти в 100% случаях, когда 100 экспериментов без эффекта, затем при уменьшении кол-ва экспериментоа ошибка падает до 0.05;\n",
    "- **bonferroni** контролируют FWER на уровне 0.05 когда все эксперименты без эффекта, при увеличении кол-ва экспериментов с эффектом FWER снижается;\n",
    "- **holm** контролируют FWER на уровне 0.05;\n",
    "- **benjamini_hochberg** занимает прмежуточное состояние между baseline и holm.\n",
    "\n",
    "$\\mathbb{P}(FN > 0)$:\n",
    "- **baseline** допускает меньше других ошибки II рода;\n",
    "- **bonferroni** чаще других ошибочно отвергает эксперименты с эффектом;\n",
    "- **holm** при небольшом кол-ве экспериментов с эффектом вероятность ошибок II рода похожа на bonferroni;\n",
    "- **benjamini_hochberg** занимает прмежуточное состояние между baseline и holm.\n",
    "\n",
    "FDR:\n",
    "- **benjamini_hochberg** лучше других контролирует FDR на уровне 0.05"
   ]
  },
  {
   "cell_type": "markdown",
   "metadata": {
    "id": "z7mlyl42MjUF"
   },
   "source": [
    "## 1.2. Большие выбросы\n",
    "Больше экспериментов - больше вероятность больших выбросов.\n",
    "\n",
    "Случайные выбросы могут быть больше ожидаемых эффектов.\n",
    "\n",
    "Проведём 1000 АА-тестов, вычислим максимальный эффект. Повторим много раз, построим распределение максимальных эффектов."
   ]
  },
  {
   "cell_type": "code",
   "execution_count": 27,
   "metadata": {
    "colab": {
     "base_uri": "https://localhost:8080/",
     "height": 49,
     "referenced_widgets": [
      "d426034b3eb34efb88e980eb19d405a3",
      "991d718942fc4655a6eb8fd8b2f00754",
      "463de3f6e3734007a2e317de04cc57af",
      "47d7881ea3844fd49827c8e1b2d59713",
      "7c14129c3a4e4b4ab8f759a6b7d67ac6",
      "def9c9a6ac5b41359b3ab6a63ab1757a",
      "c2156e1d16cb4fe9bacfd344a4e37978",
      "bf46cd1db0b54d69a423e37469484d9e",
      "8fb02c4f9e5443dfa01a7c4ab90875c0",
      "be74d9d837bf4c93ba9e1361c5fc8d57",
      "06167ccf794f4b66a22eac549d125667"
     ]
    },
    "executionInfo": {
     "elapsed": 40437,
     "status": "ok",
     "timestamp": 1635867535051,
     "user": {
      "displayName": "Николай Иванович Назаров",
      "photoUrl": "https://lh3.googleusercontent.com/a/default-user=s64",
      "userId": "17968987284921496701"
     },
     "user_tz": -180
    },
    "id": "5n-Ofs2RMjUG",
    "outputId": "8b98ea80-c09e-412f-b1e2-2f60a0e3337a"
   },
   "outputs": [
    {
     "data": {
      "application/vnd.jupyter.widget-view+json": {
       "model_id": "d426034b3eb34efb88e980eb19d405a3",
       "version_major": 2,
       "version_minor": 0
      },
      "text/plain": [
       "  0%|          | 0/10000 [00:00<?, ?it/s]"
      ]
     },
     "metadata": {},
     "output_type": "display_data"
    }
   ],
   "source": [
    "np.random.seed(6)\n",
    "\n",
    "group_size = 100\n",
    "n_group = 100\n",
    "n_iter = 10000\n",
    "\n",
    "list_max_effect = []\n",
    "for _ in tqdm(range(n_iter)):\n",
    "    effects = []\n",
    "    for _ in range(n_group):\n",
    "        data_one = np.random.normal(100, 10, group_size)\n",
    "        data_two = np.random.normal(100, 10, group_size)\n",
    "        effect = (np.mean(data_two) / np.mean(data_one) - 1) * 100\n",
    "        effects.append(effect)\n",
    "    list_max_effect.append(np.max(effects))"
   ]
  },
  {
   "cell_type": "code",
   "execution_count": 28,
   "metadata": {
    "colab": {
     "base_uri": "https://localhost:8080/",
     "height": 432
    },
    "executionInfo": {
     "elapsed": 1148,
     "status": "ok",
     "timestamp": 1635867536193,
     "user": {
      "displayName": "Николай Иванович Назаров",
      "photoUrl": "https://lh3.googleusercontent.com/a/default-user=s64",
      "userId": "17968987284921496701"
     },
     "user_tz": -180
    },
    "id": "1SSqN481MjUG",
    "outputId": "6ace7dfa-c9fd-45a4-a5f6-4bfc8b2d8a41"
   },
   "outputs": [
    {
     "data": {
      "image/png": "[encoded data removed]",
      "text/plain": [
       "<Figure size 720x432 with 1 Axes>"
      ]
     },
     "metadata": {
      "needs_background": "light"
     },
     "output_type": "display_data"
    }
   ],
   "source": [
    "plt.hist(list_max_effect, bins=30, rwidth=0.9)\n",
    "plt.title('Распределене максимального эффекта АА тестов')\n",
    "plt.xlabel('максимальный эффект, %')\n",
    "plt.savefig('graph_max_effect_aa.jpg', dpi=400)\n",
    "plt.show()"
   ]
  },
  {
   "cell_type": "markdown",
   "metadata": {
    "id": "-UXWris85IJJ"
   },
   "source": [
    "Видно, что в большинстве случаев среди 1000 АА-тестах найдётся хотя бы один со случайным эффектом более 3%. Размер таких случайных эффектов может превышать 6%."
   ]
  },
  {
   "cell_type": "markdown",
   "metadata": {
    "id": "sA1frKjwMjUH"
   },
   "source": [
    "## 1.3. Выбросы случайны или нет.\n",
    "Есть 20 зависимых экспериментов. Например, 20 метрик на одной паре групп.\n",
    "\n",
    "Прокрасилось 5 метрик, случайность?\n",
    "\n",
    "Можно построить распределение кол-ва прокрасившихся тестов при нулевой гипотезе и оценить 95 квантиль. Если прокрасилось тестов больше 95 квантиля, то на уровне значимости 0.05 можно сказать, что нулевая гипотеза неверна."
   ]
  },
  {
   "cell_type": "code",
   "execution_count": 29,
   "metadata": {
    "colab": {
     "base_uri": "https://localhost:8080/",
     "height": 49,
     "referenced_widgets": [
      "473f6473f6fd49d285f53c5390063669",
      "65267a878eca45979a7decae9e1cbd25",
      "19e4bab0bd09466d8c735c3a6693d9da",
      "e3b5f473d3234ceeb36a5a97eb1acd39",
      "4b549a55c2bb49e7b1d3096fba2dc12e",
      "8660c6c23b9c48ab8fd92e01a308e0b9",
      "9f89b2c0e1024144861cf3051ef27ca9",
      "ecb1a0e5fc2b4ea78f93791134f0b03d",
      "99105200dd7b4ce0803d69920d3cf1dc",
      "b685f3877b714474a751cc65ccc0c1e9",
      "ac4971d24ad74a809d68b7781820d2b5"
     ]
    },
    "executionInfo": {
     "elapsed": 67530,
     "status": "ok",
     "timestamp": 1635867603714,
     "user": {
      "displayName": "Николай Иванович Назаров",
      "photoUrl": "https://lh3.googleusercontent.com/a/default-user=s64",
      "userId": "17968987284921496701"
     },
     "user_tz": -180
    },
    "id": "Nb_BtuH1MjUI",
    "outputId": "b835c338-51a4-4753-9ed5-25b2059f6178"
   },
   "outputs": [
    {
     "data": {
      "application/vnd.jupyter.widget-view+json": {
       "model_id": "473f6473f6fd49d285f53c5390063669",
       "version_major": 2,
       "version_minor": 0
      },
      "text/plain": [
       "  0%|          | 0/10000 [00:00<?, ?it/s]"
      ]
     },
     "metadata": {},
     "output_type": "display_data"
    }
   ],
   "source": [
    "np.random.seed(6)\n",
    "\n",
    "group_size = 50\n",
    "n_metric = 20\n",
    "n_iter = 10000\n",
    "alpha = 0.05\n",
    "\n",
    "random_mean = np.full(n_metric, 10)\n",
    "random_cov = np.full((n_metric, n_metric), 2)\n",
    "random_cov[np.arange(n_metric), np.arange(n_metric)] = 3\n",
    "\n",
    "list_n_mark_metrics = []\n",
    "\n",
    "for _ in tqdm(range(n_iter)):\n",
    "    data_one = np.random.multivariate_normal(random_mean, random_cov, group_size)\n",
    "    data_two = np.random.multivariate_normal(random_mean, random_cov, group_size)\n",
    "    delta_mean = data_two.mean(axis=0) - data_one.mean(axis=0)\n",
    "    pvalues = []\n",
    "    for idx in range(n_metric):\n",
    "        _, pvalue = stats.ttest_ind(data_one[:, idx], data_two[:, idx])\n",
    "        pvalues.append(pvalue)\n",
    "    pvalues = np.array(pvalues)\n",
    "    n_mark_metrics = ((pvalues < alpha) * (delta_mean > 0)).sum()\n",
    "    list_n_mark_metrics.append(n_mark_metrics)"
   ]
  },
  {
   "cell_type": "code",
   "execution_count": 30,
   "metadata": {
    "colab": {
     "base_uri": "https://localhost:8080/",
     "height": 431
    },
    "executionInfo": {
     "elapsed": 886,
     "status": "ok",
     "timestamp": 1635867604592,
     "user": {
      "displayName": "Николай Иванович Назаров",
      "photoUrl": "https://lh3.googleusercontent.com/a/default-user=s64",
      "userId": "17968987284921496701"
     },
     "user_tz": -180
    },
    "id": "9EwQkWBOgt3T",
    "outputId": "9e965902-29b5-422e-baff-7aa0e9f3814f"
   },
   "outputs": [
    {
     "data": {
      "image/png": "[encoded data removed]",
      "text/plain": [
       "<Figure size 720x432 with 1 Axes>"
      ]
     },
     "metadata": {
      "needs_background": "light"
     },
     "output_type": "display_data"
    }
   ],
   "source": [
    "n_mark_count = pd.Series(list_n_mark_metrics, name='n').value_counts()\n",
    "bound = np.percentile(list_n_mark_metrics, 95)\n",
    "n_mark_count_lq_bound = n_mark_count[n_mark_count.index <= bound]\n",
    "n_mark_count_ge_bound = n_mark_count[n_mark_count.index > bound]\n",
    "plt.bar(n_mark_count_lq_bound.index, n_mark_count_lq_bound.values, log=True)\n",
    "plt.bar(n_mark_count_ge_bound.index, n_mark_count_ge_bound.values, color='r', log=True, alpha=0.7)\n",
    "plt.vlines(bound + 0.5, 0, n_iter / 2, color='k', linestyle='--', label='95% quantile')\n",
    "plt.title('Распределение кол-ва прокрасившихся тестов при H0')\n",
    "plt.xlabel('кол-во прокрасившихся тестов')\n",
    "plt.legend()\n",
    "plt.show()"
   ]
  },
  {
   "cell_type": "markdown",
   "metadata": {
    "id": "MlawVDT_MjUJ"
   },
   "source": [
    "В 5% случаях прокрашивается 4 и более метрик, когда эффекта нигде нет.\n",
    "\n",
    "Значит при 5 прокрасившихся тестах нулевая гипотеза отвергается."
   ]
  },
  {
   "cell_type": "markdown",
   "metadata": {
    "id": "vgLFYZINMjUK"
   },
   "source": [
    "# 2. Распределение пилотов по пользователям.\n",
    "Реализуем двойное хеширование"
   ]
  },
  {
   "cell_type": "markdown",
   "metadata": {
    "id": "Ua75c8sqMjUN"
   },
   "source": [
    "## 2.1. Вычисление остатка от деления по модулю хеш-функции.\n",
    "Напишем функцию, которая будет считать хеш от строки и возвращать остаток от деления хеша по модулю.\n",
    "\n",
    "Это нужно чтобы уметь распределять пользователей по группам с определёнными пилотами на лету."
   ]
  },
  {
   "cell_type": "code",
   "execution_count": 31,
   "metadata": {
    "executionInfo": {
     "elapsed": 22,
     "status": "ok",
     "timestamp": 1635867604593,
     "user": {
      "displayName": "Николай Иванович Назаров",
      "photoUrl": "https://lh3.googleusercontent.com/a/default-user=s64",
      "userId": "17968987284921496701"
     },
     "user_tz": -180
    },
    "id": "d1ru45FPIQ_V"
   },
   "outputs": [],
   "source": [
    "def get_hash_modulo(value: str, modulo: int, salt: str = '0'):\n",
    "    \"\"\"Вычисляем остаток от деления: (hash(value + salt)) % modulo.\"\"\"\n",
    "    hash_value = int(hashlib.md5(str.encode(str(value) + str(salt))).hexdigest(), 16)\n",
    "    return hash_value % modulo"
   ]
  },
  {
   "cell_type": "markdown",
   "metadata": {
    "id": "n-8al3mVMjUP"
   },
   "source": [
    "Посмотрим как она работает"
   ]
  },
  {
   "cell_type": "code",
   "execution_count": 32,
   "metadata": {
    "colab": {
     "base_uri": "https://localhost:8080/"
    },
    "executionInfo": {
     "elapsed": 21,
     "status": "ok",
     "timestamp": 1635867604594,
     "user": {
      "displayName": "Николай Иванович Назаров",
      "photoUrl": "https://lh3.googleusercontent.com/a/default-user=s64",
      "userId": "17968987284921496701"
     },
     "user_tz": -180
    },
    "id": "37tdTkcqMjUQ",
    "outputId": "e8038126-f96c-42c4-ccf5-195f4069a101"
   },
   "outputs": [
    {
     "name": "stdout",
     "output_type": "stream",
     "text": [
      "i=0  hash=7\n",
      "i=1  hash=4\n",
      "i=2  hash=3\n",
      "i=3  hash=9\n",
      "i=4  hash=6\n",
      "i=5  hash=1\n",
      "i=6  hash=2\n",
      "i=7  hash=9\n",
      "i=8  hash=1\n",
      "i=9  hash=7\n"
     ]
    }
   ],
   "source": [
    "for i in range(10):\n",
    "    hash_ = get_hash_modulo(f\"{i}\", 10, salt='salt_0')\n",
    "    print(f'i={i}  hash={hash_}')"
   ]
  },
  {
   "cell_type": "markdown",
   "metadata": {
    "id": "uvDifJvvMjUR"
   },
   "source": [
    "#### проверим равномерность распределения хеша от случайных чисел"
   ]
  },
  {
   "cell_type": "code",
   "execution_count": 33,
   "metadata": {
    "colab": {
     "base_uri": "https://localhost:8080/"
    },
    "executionInfo": {
     "elapsed": 19,
     "status": "ok",
     "timestamp": 1635867604595,
     "user": {
      "displayName": "Николай Иванович Назаров",
      "photoUrl": "https://lh3.googleusercontent.com/a/default-user=s64",
      "userId": "17968987284921496701"
     },
     "user_tz": -180
    },
    "id": "SDwKsZC6MjUR",
    "outputId": "61e42f26-b47e-4ad7-8916-2eb8b8f1e0ff"
   },
   "outputs": [
    {
     "name": "stdout",
     "output_type": "stream",
     "text": [
      "example str_values:\n",
      "['-0.9157196168005506' '0.3775414946371607' '1.0163722558438102']\n",
      "example hash_values:\n",
      "[10, 42, 0]\n"
     ]
    }
   ],
   "source": [
    "str_values = np.random.normal(0, 1, 10000).astype(str)\n",
    "print(f'example str_values:\\n{str_values[:3]}')\n",
    "\n",
    "hash_values = [get_hash_modulo(v, 100) for v in str_values]\n",
    "print(f'example hash_values:\\n{hash_values[:3]}')"
   ]
  },
  {
   "cell_type": "code",
   "execution_count": 34,
   "metadata": {
    "colab": {
     "base_uri": "https://localhost:8080/",
     "height": 406
    },
    "executionInfo": {
     "elapsed": 594,
     "status": "ok",
     "timestamp": 1635867605181,
     "user": {
      "displayName": "Николай Иванович Назаров",
      "photoUrl": "https://lh3.googleusercontent.com/a/default-user=s64",
      "userId": "17968987284921496701"
     },
     "user_tz": -180
    },
    "id": "zQ0NM_EMMjUR",
    "outputId": "aef35271-f612-4bf7-a60a-6be273de5c08"
   },
   "outputs": [
    {
     "data": {
      "image/png": "[encoded data removed]",
      "text/plain": [
       "<Figure size 720x432 with 1 Axes>"
      ]
     },
     "metadata": {
      "needs_background": "light"
     },
     "output_type": "display_data"
    }
   ],
   "source": [
    "plt.hist(hash_values, bins=100, cumulative=True, density=True)\n",
    "plt.grid()\n",
    "plt.xlabel('hash value')\n",
    "plt.show()"
   ]
  },
  {
   "cell_type": "markdown",
   "metadata": {
    "id": "qfGDlN8kMjUS"
   },
   "source": [
    "## 2.2. Распределение пилотов по слотам.\n",
    "Слот - группа пользователей с одинаковым значением остатка от хеша.\n",
    "\n",
    "Пусть будет 4 слота. Нужно раскидать 3 пилота, для каждого из которых нужно по 2 слота.\n",
    "\n",
    "### 2.2.1. Независимые изменения.\n",
    "Пилоты не влияют друг на друга. Будем распределять случайно."
   ]
  },
  {
   "cell_type": "code",
   "execution_count": 35,
   "metadata": {
    "executionInfo": {
     "elapsed": 75,
     "status": "ok",
     "timestamp": 1635867605182,
     "user": {
      "displayName": "Николай Иванович Назаров",
      "photoUrl": "https://lh3.googleusercontent.com/a/default-user=s64",
      "userId": "17968987284921496701"
     },
     "user_tz": -180
    },
    "id": "cJxguj3pMjUS"
   },
   "outputs": [],
   "source": [
    "def match_pilot_slot_one(pilots: list, slots: list):\n",
    "    \"\"\"Функция распределяет пилоты по слотам.\n",
    "    \n",
    "    pilots: список словарей, описывающих пилот. Содержит ключи:\n",
    "        pilot_id - идентификатор пилота,\n",
    "        count_slots - необходимое кол-во слотов.\n",
    "    slots: список с идентификаторами слотов.\n",
    "    \n",
    "    return: словарь соответствия на каких слотах какие пилоты запускаются,\n",
    "        {slot_id: list_pilot_id, ...}\n",
    "    \"\"\"\n",
    "    slot_to_pilot = {slot: [] for slot in slots}\n",
    "    for pilot in pilots:\n",
    "        if pilot['count_slots'] > len(slots):\n",
    "            print(f'ERROR: pilot_id={pilot[\"pilot_id\"]} needs too many slots.')\n",
    "            continue\n",
    "        pilot_slots = np.random.choice(slots, pilot['count_slots'], False)\n",
    "        for slot in pilot_slots:\n",
    "            slot_to_pilot[slot].append(pilot['pilot_id'])\n",
    "    return slot_to_pilot"
   ]
  },
  {
   "cell_type": "code",
   "execution_count": 45,
   "metadata": {
    "colab": {
     "base_uri": "https://localhost:8080/"
    },
    "executionInfo": {
     "elapsed": 892,
     "status": "ok",
     "timestamp": 1635870103732,
     "user": {
      "displayName": "Николай Иванович Назаров",
      "photoUrl": "https://lh3.googleusercontent.com/a/default-user=s64",
      "userId": "17968987284921496701"
     },
     "user_tz": -180
    },
    "id": "3M58VDZEMjUU",
    "outputId": "bd8b29ae-0ff0-4145-d5d5-399f27210c04"
   },
   "outputs": [
    {
     "data": {
      "text/plain": [
       "{1: ['pilot 2', 'pilot 3'],\n",
       " 2: ['pilot 1', 'pilot 2', 'pilot 3'],\n",
       " 3: [],\n",
       " 4: ['pilot 1']}"
      ]
     },
     "execution_count": 45,
     "metadata": {},
     "output_type": "execute_result"
    }
   ],
   "source": [
    "pilots = [\n",
    "    {'pilot_id': 'pilot 1', 'count_slots': 2},\n",
    "    {'pilot_id': 'pilot 2', 'count_slots': 2},\n",
    "    {'pilot_id': 'pilot 3', 'count_slots': 2},\n",
    "]\n",
    "\n",
    "slots = [i for i in range(1, 5)]\n",
    "\n",
    "match_pilot_slot_one(pilots, slots)"
   ]
  },
  {
   "cell_type": "markdown",
   "metadata": {
    "id": "u1u73-r2MjUV"
   },
   "source": [
    "### 2.2.2. Несовместные пилоты.\n",
    "Не все изменения можно применять к одной группе пользователей. Будем распределять случайно, учитывая ограничения.\n",
    "\n",
    "Добавим в описание пилотов атрибут, который будет содержать идентификаторы пилотов, с которыми они несовместны."
   ]
  },
  {
   "cell_type": "code",
   "execution_count": 37,
   "metadata": {
    "executionInfo": {
     "elapsed": 65,
     "status": "ok",
     "timestamp": 1635867605184,
     "user": {
      "displayName": "Николай Иванович Назаров",
      "photoUrl": "https://lh3.googleusercontent.com/a/default-user=s64",
      "userId": "17968987284921496701"
     },
     "user_tz": -180
    },
    "id": "5KlSoloxMjUW"
   },
   "outputs": [],
   "source": [
    "def match_pilot_slot_two(pilots: list, slots: list):\n",
    "    \"\"\"Функция распределяет пилоты по слотам.\n",
    "    \n",
    "    pilots: список словарей, описывающих пилот. Содержит ключи:\n",
    "        pilot_id - идентификатор пилота,\n",
    "        count_slots - необходимое кол-во слотов,\n",
    "        conflict_pilots - list, идентификаторы несовместных пилотов.\n",
    "    slots: список с идентификаторами слотов.\n",
    "    \n",
    "    return: словарь соответствия на каких слотах какие пилоты запускаются,\n",
    "        {slot_id: list_pilot_id, ...}\n",
    "    \"\"\"\n",
    "    slot_to_pilot = {slot: [] for slot in slots}\n",
    "    pilot_to_slot = {pilot['pilot_id']: [] for pilot in pilots}\n",
    "    for pilot in pilots:\n",
    "        if pilot['count_slots'] > len(slots):\n",
    "            print(f'ERROR: pilot_id={pilot[\"pilot_id\"]} needs too many slots.')\n",
    "            continue\n",
    "\n",
    "        # найдём доступные слоты\n",
    "        notavailable_slots = []\n",
    "        for conflict_pilot_id in pilot['conflict_pilots']:\n",
    "            notavailable_slots += pilot_to_slot[conflict_pilot_id]\n",
    "        available_slots = list(set(slots) - set(notavailable_slots))\n",
    "        \n",
    "        if pilot['count_slots'] > len(available_slots):\n",
    "            print(f'ERROR: pilot_id=\"{pilot[\"pilot_id\"]}\" not enough available slots.')\n",
    "            continue\n",
    "\n",
    "        pilot_slots = np.random.choice(available_slots, pilot['count_slots'], False)\n",
    "        pilot_to_slot[pilot['pilot_id']] = list(pilot_slots)\n",
    "        for slot in pilot_slots:\n",
    "            slot_to_pilot[slot].append(pilot['pilot_id'])\n",
    "    return slot_to_pilot"
   ]
  },
  {
   "cell_type": "code",
   "execution_count": 46,
   "metadata": {
    "colab": {
     "base_uri": "https://localhost:8080/"
    },
    "executionInfo": {
     "elapsed": 267,
     "status": "ok",
     "timestamp": 1635870203427,
     "user": {
      "displayName": "Николай Иванович Назаров",
      "photoUrl": "https://lh3.googleusercontent.com/a/default-user=s64",
      "userId": "17968987284921496701"
     },
     "user_tz": -180
    },
    "id": "_VU0jUJCMjUW",
    "outputId": "eef48a0f-2998-4c23-8f4b-6f76303ba789"
   },
   "outputs": [
    {
     "data": {
      "text/plain": [
       "{1: ['pilot 2'],\n",
       " 2: ['pilot 1'],\n",
       " 3: ['pilot 1', 'pilot 3'],\n",
       " 4: ['pilot 2', 'pilot 3']}"
      ]
     },
     "execution_count": 46,
     "metadata": {},
     "output_type": "execute_result"
    }
   ],
   "source": [
    "pilots = [\n",
    "    {'pilot_id': 'pilot 1', 'count_slots': 2, 'conflict_pilots': ['pilot 2']},\n",
    "    {'pilot_id': 'pilot 2', 'count_slots': 2, 'conflict_pilots': ['pilot 1']},\n",
    "    {'pilot_id': 'pilot 3', 'count_slots': 2, 'conflict_pilots': []},\n",
    "]\n",
    "\n",
    "slots = [i for i in range(1, 5)]\n",
    "\n",
    "match_pilot_slot_two(pilots, slots)"
   ]
  },
  {
   "cell_type": "markdown",
   "metadata": {
    "id": "mI72hBsOMjUX"
   },
   "source": [
    "Если третий эксперимент нельзя проводить с первыми двумя, то, скорее всего его не получится разместить. Проверим это."
   ]
  },
  {
   "cell_type": "code",
   "execution_count": 52,
   "metadata": {
    "colab": {
     "base_uri": "https://localhost:8080/"
    },
    "executionInfo": {
     "elapsed": 286,
     "status": "ok",
     "timestamp": 1635870240696,
     "user": {
      "displayName": "Николай Иванович Назаров",
      "photoUrl": "https://lh3.googleusercontent.com/a/default-user=s64",
      "userId": "17968987284921496701"
     },
     "user_tz": -180
    },
    "id": "xGOys7nWMjUX",
    "outputId": "bd814949-2878-44f8-9970-e7a0065002ec"
   },
   "outputs": [
    {
     "name": "stdout",
     "output_type": "stream",
     "text": [
      "ERROR: pilot_id=\"pilot 3\" not enough available slots.\n"
     ]
    },
    {
     "data": {
      "text/plain": [
       "{1: [], 2: ['pilot 1'], 3: ['pilot 1', 'pilot 2'], 4: ['pilot 2']}"
      ]
     },
     "execution_count": 52,
     "metadata": {},
     "output_type": "execute_result"
    }
   ],
   "source": [
    "pilots = [\n",
    "    {'pilot_id': 'pilot 1', 'count_slots': 2, 'conflict_pilots': ['pilot 3']},\n",
    "    {'pilot_id': 'pilot 2', 'count_slots': 2, 'conflict_pilots': ['pilot 3']},\n",
    "    {'pilot_id': 'pilot 3', 'count_slots': 2, 'conflict_pilots': ['pilot 1', 'pilot 2']},\n",
    "]\n",
    "\n",
    "slots = [i for i in range(1, 5)]\n",
    "\n",
    "match_pilot_slot_two(pilots, slots)"
   ]
  },
  {
   "cell_type": "markdown",
   "metadata": {
    "id": "bRPBb5_MMjUX"
   },
   "source": [
    "### 2.2.3. Сначала распределяем пилоты с наибольшим количеством конфликтов.\n",
    "Попробуем изменить наш алгоритм, чтобы в ситуации, описанной выше, подбирались слоты для всех пилотов. Для этого будем в первую очередь распределять пилоты с наибольшим кол-вом конфликтов."
   ]
  },
  {
   "cell_type": "code",
   "execution_count": 53,
   "metadata": {
    "executionInfo": {
     "elapsed": 283,
     "status": "ok",
     "timestamp": 1635870272233,
     "user": {
      "displayName": "Николай Иванович Назаров",
      "photoUrl": "https://lh3.googleusercontent.com/a/default-user=s64",
      "userId": "17968987284921496701"
     },
     "user_tz": -180
    },
    "id": "ykkH7MBVMjUY"
   },
   "outputs": [],
   "source": [
    "def match_pilot_slot_three(pilots: list, slots: list):\n",
    "    \"\"\"Функция распределяет пилоты по слотам.\n",
    "    \n",
    "    pilots: список словарей, описывающих пилот. Содержит ключи:\n",
    "        pilot_id - идентификатор пилота,\n",
    "        count_slots - необходимое кол-во слотов,\n",
    "        conflict_pilots - list, идентификаторы несовместных пилотов.\n",
    "    slots: список с идентификаторами слотов.\n",
    "    \n",
    "    return: словарь соответствия на каких слотах какие пилоты запускаются,\n",
    "        {slot_id: list_pilot_id, ...}\n",
    "    \"\"\"\n",
    "    pilots = sorted(pilots, key=lambda x: len(x['conflict_pilots']), reverse=True)\n",
    "    \n",
    "    slot_to_pilot = {slot: [] for slot in slots}\n",
    "    pilot_to_slot = {pilot['pilot_id']: [] for pilot in pilots}\n",
    "    for pilot in pilots:\n",
    "        if pilot['count_slots'] > len(slots):\n",
    "            print(f'ERROR: pilot_id={pilot[\"pilot_id\"]} needs too many slots.')\n",
    "            continue\n",
    "\n",
    "        # найдём доступные слоты\n",
    "        notavailable_slots = []\n",
    "        for conflict_pilot_id in pilot['conflict_pilots']:\n",
    "            notavailable_slots += pilot_to_slot[conflict_pilot_id]\n",
    "        available_slots = list(set(slots) - set(notavailable_slots))\n",
    "        \n",
    "        if pilot['count_slots'] > len(available_slots):\n",
    "            print(f'ERROR: pilot_id=\"{pilot[\"pilot_id\"]}\" not enough available slots.')\n",
    "            continue\n",
    "\n",
    "        pilot_slots = np.random.choice(available_slots, pilot['count_slots'], False)\n",
    "        pilot_to_slot[pilot['pilot_id']] = list(pilot_slots)\n",
    "        for slot in pilot_slots:\n",
    "            slot_to_pilot[slot].append(pilot['pilot_id'])\n",
    "    return slot_to_pilot"
   ]
  },
  {
   "cell_type": "code",
   "execution_count": 54,
   "metadata": {
    "colab": {
     "base_uri": "https://localhost:8080/"
    },
    "executionInfo": {
     "elapsed": 238,
     "status": "ok",
     "timestamp": 1635870273900,
     "user": {
      "displayName": "Николай Иванович Назаров",
      "photoUrl": "https://lh3.googleusercontent.com/a/default-user=s64",
      "userId": "17968987284921496701"
     },
     "user_tz": -180
    },
    "id": "6OUuJlk_MjUY",
    "outputId": "462832b3-0266-459f-bdd7-f51f782df515"
   },
   "outputs": [
    {
     "data": {
      "text/plain": [
       "{1: ['pilot 3'],\n",
       " 2: ['pilot 1', 'pilot 2'],\n",
       " 3: ['pilot 1', 'pilot 2'],\n",
       " 4: ['pilot 3']}"
      ]
     },
     "execution_count": 54,
     "metadata": {},
     "output_type": "execute_result"
    }
   ],
   "source": [
    "pilots = [\n",
    "    {'pilot_id': 'pilot 1', 'count_slots': 2, 'conflict_pilots': ['pilot 3']},\n",
    "    {'pilot_id': 'pilot 2', 'count_slots': 2, 'conflict_pilots': ['pilot 3']},\n",
    "    {'pilot_id': 'pilot 3', 'count_slots': 2, 'conflict_pilots': ['pilot 1', 'pilot 2']},\n",
    "]\n",
    "\n",
    "slots = [i for i in range(1, 5)]\n",
    "\n",
    "match_pilot_slot_three(pilots, slots)"
   ]
  },
  {
   "cell_type": "markdown",
   "metadata": {
    "id": "1Nqv8qaXi005"
   },
   "source": [
    "Получилось, всем пилотом нашлось место."
   ]
  },
  {
   "cell_type": "markdown",
   "metadata": {
    "id": "xwUgCgC5MjUY"
   },
   "source": [
    "Рассмотрим другой пример, когда наш алгоритм не будет распределять все пилоты по слотам, хотя это можно сделать.\n",
    "\n",
    "Пусть у нас будет две группы пилотов, пилоты из одной группы можно запускать на одних и тех же слотах, а пилоты из разных групп запускать на одних слотах нельзя."
   ]
  },
  {
   "cell_type": "code",
   "execution_count": 56,
   "metadata": {
    "colab": {
     "base_uri": "https://localhost:8080/"
    },
    "executionInfo": {
     "elapsed": 394,
     "status": "ok",
     "timestamp": 1635870310845,
     "user": {
      "displayName": "Николай Иванович Назаров",
      "photoUrl": "https://lh3.googleusercontent.com/a/default-user=s64",
      "userId": "17968987284921496701"
     },
     "user_tz": -180
    },
    "id": "iypNqfQEMjUY",
    "outputId": "f6817f43-31f8-45ae-b9a4-2d88c95ce596"
   },
   "outputs": [
    {
     "name": "stdout",
     "output_type": "stream",
     "text": [
      "ERROR: pilot_id=\"pilot 1\" not enough available slots.\n",
      "ERROR: pilot_id=\"pilot 2\" not enough available slots.\n",
      "ERROR: pilot_id=\"pilot 3\" not enough available slots.\n"
     ]
    },
    {
     "data": {
      "text/plain": [
       "{1: [], 2: ['pilot 4', 'pilot 5'], 3: ['pilot 4'], 4: ['pilot 5']}"
      ]
     },
     "execution_count": 56,
     "metadata": {},
     "output_type": "execute_result"
    }
   ],
   "source": [
    "# две группы пилотов, которые не должны пересекаться\n",
    "group_one = ['pilot 1', 'pilot 2', 'pilot 3']\n",
    "group_two = ['pilot 4', 'pilot 5']\n",
    "\n",
    "pilots = [\n",
    "    {'pilot_id': 'pilot 1', 'count_slots': 2, 'conflict_pilots': group_two},\n",
    "    {'pilot_id': 'pilot 2', 'count_slots': 2, 'conflict_pilots': group_two},\n",
    "    {'pilot_id': 'pilot 3', 'count_slots': 2, 'conflict_pilots': group_two},\n",
    "    {'pilot_id': 'pilot 4', 'count_slots': 2, 'conflict_pilots': group_one},\n",
    "    {'pilot_id': 'pilot 5', 'count_slots': 2, 'conflict_pilots': group_one},\n",
    "]\n",
    "\n",
    "slots = [i for i in range(1, 5)]\n",
    "\n",
    "match_pilot_slot_three(pilots, slots)"
   ]
  },
  {
   "cell_type": "markdown",
   "metadata": {
    "id": "acANaMYwMjUZ"
   },
   "source": [
    "### 2.2.4. В первую очередь заполняем допустимые слоты, в которых уже есть пилоты.\n",
    "Для решения прошлого кейса изменим наш алгоритм ещё раз. Будем в первую очередь назначать пилоты в доступные слоты, которые уже задействованы в других пилот."
   ]
  },
  {
   "cell_type": "code",
   "execution_count": 57,
   "metadata": {
    "executionInfo": {
     "elapsed": 309,
     "status": "ok",
     "timestamp": 1635870359887,
     "user": {
      "displayName": "Николай Иванович Назаров",
      "photoUrl": "https://lh3.googleusercontent.com/a/default-user=s64",
      "userId": "17968987284921496701"
     },
     "user_tz": -180
    },
    "id": "w--_FhXbMjUZ"
   },
   "outputs": [],
   "source": [
    "def match_pilot_slot_four(pilots: list, slots: list):\n",
    "    \"\"\"Функция распределяет пилоты по слотам.\n",
    "    \n",
    "    pilots: список словарей, описывающих пилот. Содержит ключи:\n",
    "        pilot_id - идентификатор пилота,\n",
    "        count_slots - необходимое кол-во слотов,\n",
    "        conflict_pilots - list, идентификаторы несовместных пилотов.\n",
    "    slots: список с идентификаторами слотов.\n",
    "    \n",
    "    return: словарь соответствия на каких слотах какие пилоты запускаются,\n",
    "        {slot_id: list_pilot_id, ...}\n",
    "    \"\"\"\n",
    "    pilots = sorted(pilots, key=lambda x: len(x['conflict_pilots']), reverse=True)\n",
    "    \n",
    "    slot_to_pilot = {slot: [] for slot in slots}\n",
    "    pilot_to_slot = {pilot['pilot_id']: [] for pilot in pilots}\n",
    "    for pilot in pilots:\n",
    "        if pilot['count_slots'] > len(slots):\n",
    "            print(f'ERROR: pilot_id={pilot[\"pilot_id\"]} needs too many slots.')\n",
    "            continue\n",
    "\n",
    "        # найдём доступные слоты\n",
    "        notavailable_slots = []\n",
    "        for conflict_pilot_id in pilot['conflict_pilots']:\n",
    "            notavailable_slots += pilot_to_slot[conflict_pilot_id]\n",
    "        available_slots = list(set(slots) - set(notavailable_slots))\n",
    "        \n",
    "        if pilot['count_slots'] > len(available_slots):\n",
    "            print(f'ERROR: pilot_id=\"{pilot[\"pilot_id\"]}\" not enough available slots.')\n",
    "            continue\n",
    "\n",
    "        # shuffle - чтобы внести случайность, иначе они все упорядочены будут по номеру slot\n",
    "        np.random.shuffle(available_slots)\n",
    "        available_slots_orderby_count_pilot = sorted(\n",
    "            available_slots,\n",
    "            key=lambda x: len(slot_to_pilot[x]), reverse=True\n",
    "        )\n",
    "        pilot_slots = available_slots_orderby_count_pilot[:pilot['count_slots']]\n",
    "        pilot_to_slot[pilot['pilot_id']] = pilot_slots\n",
    "        for slot in pilot_slots:\n",
    "            slot_to_pilot[slot].append(pilot['pilot_id'])\n",
    "    return slot_to_pilot"
   ]
  },
  {
   "cell_type": "code",
   "execution_count": 58,
   "metadata": {
    "colab": {
     "base_uri": "https://localhost:8080/"
    },
    "executionInfo": {
     "elapsed": 8,
     "status": "ok",
     "timestamp": 1635870361697,
     "user": {
      "displayName": "Николай Иванович Назаров",
      "photoUrl": "https://lh3.googleusercontent.com/a/default-user=s64",
      "userId": "17968987284921496701"
     },
     "user_tz": -180
    },
    "id": "Lkb9J-m_MjUZ",
    "outputId": "9f49a4ad-a9d9-4f7b-b377-84523806ca67"
   },
   "outputs": [
    {
     "data": {
      "text/plain": [
       "{1: ['pilot 4', 'pilot 5'],\n",
       " 2: ['pilot 1', 'pilot 2', 'pilot 3'],\n",
       " 3: ['pilot 4', 'pilot 5'],\n",
       " 4: ['pilot 1', 'pilot 2', 'pilot 3']}"
      ]
     },
     "execution_count": 58,
     "metadata": {},
     "output_type": "execute_result"
    }
   ],
   "source": [
    "# две группы пилотов, которые не должны пересекаться\n",
    "group_one = ['pilot 1', 'pilot 2', 'pilot 3']\n",
    "group_two = ['pilot 4', 'pilot 5']\n",
    "\n",
    "pilots = [\n",
    "    {'pilot_id': 'pilot 1', 'count_slots': 2, 'conflict_pilots': group_two},\n",
    "    {'pilot_id': 'pilot 2', 'count_slots': 2, 'conflict_pilots': group_two},\n",
    "    {'pilot_id': 'pilot 3', 'count_slots': 2, 'conflict_pilots': group_two},\n",
    "    {'pilot_id': 'pilot 4', 'count_slots': 2, 'conflict_pilots': group_one},\n",
    "    {'pilot_id': 'pilot 5', 'count_slots': 2, 'conflict_pilots': group_one},\n",
    "]\n",
    "\n",
    "slots = [i for i in range(1, 5)]\n",
    "\n",
    "match_pilot_slot_four(pilots, slots)"
   ]
  },
  {
   "cell_type": "markdown",
   "metadata": {
    "id": "pjhxvE7NjO4x"
   },
   "source": [
    "Получили возможно распределение всех пилотов."
   ]
  }
 ],
 "metadata": {
  "colab": {
   "collapsed_sections": [],
   "name": "seminar_6.ipynb",
   "provenance": []
  },
  "kernelspec": {
   "display_name": "Python 3",
   "language": "python",
   "name": "python3"
  },
  "language_info": {
   "codemirror_mode": {
    "name": "ipython",
    "version": 3
   },
   "file_extension": ".py",
   "mimetype": "text/x-python",
   "name": "python",
   "nbconvert_exporter": "python",
   "pygments_lexer": "ipython3",
   "version": "3.8.3"
  },
  "widgets": {
   "application/vnd.jupyter.widget-state+json": {
    "04164d3f0f1f468ea421e175a8f4b752": {
     "model_module": "@jupyter-widgets/controls",
     "model_module_version": "1.5.0",
     "model_name": "ProgressStyleModel",
     "state": {
      "_model_module": "@jupyter-widgets/controls",
      "_model_module_version": "1.5.0",
      "_model_name": "ProgressStyleModel",
      "_view_count": null,
      "_view_module": "@jupyter-widgets/base",
      "_view_module_version": "1.2.0",
      "_view_name": "StyleView",
      "bar_color": null,
      "description_width": ""
     }
    },
    "046a3fbace794da285704e04a72ae130": {
     "model_module": "@jupyter-widgets/controls",
     "model_module_version": "1.5.0",
     "model_name": "DescriptionStyleModel",
     "state": {
      "_model_module": "@jupyter-widgets/controls",
      "_model_module_version": "1.5.0",
      "_model_name": "DescriptionStyleModel",
      "_view_count": null,
      "_view_module": "@jupyter-widgets/base",
      "_view_module_version": "1.2.0",
      "_view_name": "StyleView",
      "description_width": ""
     }
    },
    "05b17f7cb7364c988cf6824e3f45d415": {
     "model_module": "@jupyter-widgets/controls",
     "model_module_version": "1.5.0",
     "model_name": "HBoxModel",
     "state": {
      "_dom_classes": [],
      "_model_module": "@jupyter-widgets/controls",
      "_model_module_version": "1.5.0",
      "_model_name": "HBoxModel",
      "_view_count": null,
      "_view_module": "@jupyter-widgets/controls",
      "_view_module_version": "1.5.0",
      "_view_name": "HBoxView",
      "box_style": "",
      "children": [
       "IPY_MODEL_f3fe44ecb7e042cd8aeed44d99128d05",
       "IPY_MODEL_bc2274bd1158419c813bd180108ada18",
       "IPY_MODEL_a5347aae48a14ac299245629e06aeffc"
      ],
      "layout": "IPY_MODEL_9cd9bb48f193472cbdce164395bf8a8c"
     }
    },
    "06167ccf794f4b66a22eac549d125667": {
     "model_module": "@jupyter-widgets/base",
     "model_module_version": "1.2.0",
     "model_name": "LayoutModel",
     "state": {
      "_model_module": "@jupyter-widgets/base",
      "_model_module_version": "1.2.0",
      "_model_name": "LayoutModel",
      "_view_count": null,
      "_view_module": "@jupyter-widgets/base",
      "_view_module_version": "1.2.0",
      "_view_name": "LayoutView",
      "align_content": null,
      "align_items": null,
      "align_self": null,
      "border": null,
      "bottom": null,
      "display": null,
      "flex": null,
      "flex_flow": null,
      "grid_area": null,
      "grid_auto_columns": null,
      "grid_auto_flow": null,
      "grid_auto_rows": null,
      "grid_column": null,
      "grid_gap": null,
      "grid_row": null,
      "grid_template_areas": null,
      "grid_template_columns": null,
      "grid_template_rows": null,
      "height": null,
      "justify_content": null,
      "justify_items": null,
      "left": null,
      "margin": null,
      "max_height": null,
      "max_width": null,
      "min_height": null,
      "min_width": null,
      "object_fit": null,
      "object_position": null,
      "order": null,
      "overflow": null,
      "overflow_x": null,
      "overflow_y": null,
      "padding": null,
      "right": null,
      "top": null,
      "visibility": null,
      "width": null
     }
    },
    "0f8e666823704457ac7a207b6278fa76": {
     "model_module": "@jupyter-widgets/base",
     "model_module_version": "1.2.0",
     "model_name": "LayoutModel",
     "state": {
      "_model_module": "@jupyter-widgets/base",
      "_model_module_version": "1.2.0",
      "_model_name": "LayoutModel",
      "_view_count": null,
      "_view_module": "@jupyter-widgets/base",
      "_view_module_version": "1.2.0",
      "_view_name": "LayoutView",
      "align_content": null,
      "align_items": null,
      "align_self": null,
      "border": null,
      "bottom": null,
      "display": null,
      "flex": null,
      "flex_flow": null,
      "grid_area": null,
      "grid_auto_columns": null,
      "grid_auto_flow": null,
      "grid_auto_rows": null,
      "grid_column": null,
      "grid_gap": null,
      "grid_row": null,
      "grid_template_areas": null,
      "grid_template_columns": null,
      "grid_template_rows": null,
      "height": null,
      "justify_content": null,
      "justify_items": null,
      "left": null,
      "margin": null,
      "max_height": null,
      "max_width": null,
      "min_height": null,
      "min_width": null,
      "object_fit": null,
      "object_position": null,
      "order": null,
      "overflow": null,
      "overflow_x": null,
      "overflow_y": null,
      "padding": null,
      "right": null,
      "top": null,
      "visibility": null,
      "width": null
     }
    },
    "19e4bab0bd09466d8c735c3a6693d9da": {
     "model_module": "@jupyter-widgets/controls",
     "model_module_version": "1.5.0",
     "model_name": "HTMLModel",
     "state": {
      "_dom_classes": [],
      "_model_module": "@jupyter-widgets/controls",
      "_model_module_version": "1.5.0",
      "_model_name": "HTMLModel",
      "_view_count": null,
      "_view_module": "@jupyter-widgets/controls",
      "_view_module_version": "1.5.0",
      "_view_name": "HTMLView",
      "description": "",
      "description_tooltip": null,
      "layout": "IPY_MODEL_9f89b2c0e1024144861cf3051ef27ca9",
      "placeholder": "​",
      "style": "IPY_MODEL_8660c6c23b9c48ab8fd92e01a308e0b9",
      "value": "100%"
     }
    },
    "1d3a7e060fcb4827b866046d842dc0e3": {
     "model_module": "@jupyter-widgets/controls",
     "model_module_version": "1.5.0",
     "model_name": "DescriptionStyleModel",
     "state": {
      "_model_module": "@jupyter-widgets/controls",
      "_model_module_version": "1.5.0",
      "_model_name": "DescriptionStyleModel",
      "_view_count": null,
      "_view_module": "@jupyter-widgets/base",
      "_view_module_version": "1.2.0",
      "_view_name": "StyleView",
      "description_width": ""
     }
    },
    "27d5a2b875784b85b31ade59b2641934": {
     "model_module": "@jupyter-widgets/controls",
     "model_module_version": "1.5.0",
     "model_name": "HBoxModel",
     "state": {
      "_dom_classes": [],
      "_model_module": "@jupyter-widgets/controls",
      "_model_module_version": "1.5.0",
      "_model_name": "HBoxModel",
      "_view_count": null,
      "_view_module": "@jupyter-widgets/controls",
      "_view_module_version": "1.5.0",
      "_view_name": "HBoxView",
      "box_style": "",
      "children": [
       "IPY_MODEL_6a43039848aa4146bf80ca2a4cc8462c",
       "IPY_MODEL_55012f81d4804f649cd3e569eed62d08",
       "IPY_MODEL_fdea8cc280a3493b82c5b7b707d699a3"
      ],
      "layout": "IPY_MODEL_985985d4c82246a0bf7dffe48c581642"
     }
    },
    "29fb0cecda8b48608048f37834a09588": {
     "model_module": "@jupyter-widgets/controls",
     "model_module_version": "1.5.0",
     "model_name": "HTMLModel",
     "state": {
      "_dom_classes": [],
      "_model_module": "@jupyter-widgets/controls",
      "_model_module_version": "1.5.0",
      "_model_name": "HTMLModel",
      "_view_count": null,
      "_view_module": "@jupyter-widgets/controls",
      "_view_module_version": "1.5.0",
      "_view_name": "HTMLView",
      "description": "",
      "description_tooltip": null,
      "layout": "IPY_MODEL_51f7b14e5cba4ebba36ff643fb73c41b",
      "placeholder": "​",
      "style": "IPY_MODEL_1d3a7e060fcb4827b866046d842dc0e3",
      "value": " 1000/1000 [01:00&lt;00:00, 13.30it/s]"
     }
    },
    "2d6f11fef296444ba99fd87fcad3e5fe": {
     "model_module": "@jupyter-widgets/base",
     "model_module_version": "1.2.0",
     "model_name": "LayoutModel",
     "state": {
      "_model_module": "@jupyter-widgets/base",
      "_model_module_version": "1.2.0",
      "_model_name": "LayoutModel",
      "_view_count": null,
      "_view_module": "@jupyter-widgets/base",
      "_view_module_version": "1.2.0",
      "_view_name": "LayoutView",
      "align_content": null,
      "align_items": null,
      "align_self": null,
      "border": null,
      "bottom": null,
      "display": null,
      "flex": null,
      "flex_flow": null,
      "grid_area": null,
      "grid_auto_columns": null,
      "grid_auto_flow": null,
      "grid_auto_rows": null,
      "grid_column": null,
      "grid_gap": null,
      "grid_row": null,
      "grid_template_areas": null,
      "grid_template_columns": null,
      "grid_template_rows": null,
      "height": null,
      "justify_content": null,
      "justify_items": null,
      "left": null,
      "margin": null,
      "max_height": null,
      "max_width": null,
      "min_height": null,
      "min_width": null,
      "object_fit": null,
      "object_position": null,
      "order": null,
      "overflow": null,
      "overflow_x": null,
      "overflow_y": null,
      "padding": null,
      "right": null,
      "top": null,
      "visibility": null,
      "width": null
     }
    },
    "343b5f6a1fc240ad8c09c5da8103028f": {
     "model_module": "@jupyter-widgets/controls",
     "model_module_version": "1.5.0",
     "model_name": "ProgressStyleModel",
     "state": {
      "_model_module": "@jupyter-widgets/controls",
      "_model_module_version": "1.5.0",
      "_model_name": "ProgressStyleModel",
      "_view_count": null,
      "_view_module": "@jupyter-widgets/base",
      "_view_module_version": "1.2.0",
      "_view_name": "StyleView",
      "bar_color": null,
      "description_width": ""
     }
    },
    "36a5f2f7eb1f452d82a9f62476d54355": {
     "model_module": "@jupyter-widgets/base",
     "model_module_version": "1.2.0",
     "model_name": "LayoutModel",
     "state": {
      "_model_module": "@jupyter-widgets/base",
      "_model_module_version": "1.2.0",
      "_model_name": "LayoutModel",
      "_view_count": null,
      "_view_module": "@jupyter-widgets/base",
      "_view_module_version": "1.2.0",
      "_view_name": "LayoutView",
      "align_content": null,
      "align_items": null,
      "align_self": null,
      "border": null,
      "bottom": null,
      "display": null,
      "flex": null,
      "flex_flow": null,
      "grid_area": null,
      "grid_auto_columns": null,
      "grid_auto_flow": null,
      "grid_auto_rows": null,
      "grid_column": null,
      "grid_gap": null,
      "grid_row": null,
      "grid_template_areas": null,
      "grid_template_columns": null,
      "grid_template_rows": null,
      "height": null,
      "justify_content": null,
      "justify_items": null,
      "left": null,
      "margin": null,
      "max_height": null,
      "max_width": null,
      "min_height": null,
      "min_width": null,
      "object_fit": null,
      "object_position": null,
      "order": null,
      "overflow": null,
      "overflow_x": null,
      "overflow_y": null,
      "padding": null,
      "right": null,
      "top": null,
      "visibility": null,
      "width": null
     }
    },
    "396a3ed4186c4499bfa93afbe4a1ca53": {
     "model_module": "@jupyter-widgets/controls",
     "model_module_version": "1.5.0",
     "model_name": "ProgressStyleModel",
     "state": {
      "_model_module": "@jupyter-widgets/controls",
      "_model_module_version": "1.5.0",
      "_model_name": "ProgressStyleModel",
      "_view_count": null,
      "_view_module": "@jupyter-widgets/base",
      "_view_module_version": "1.2.0",
      "_view_name": "StyleView",
      "bar_color": null,
      "description_width": ""
     }
    },
    "3a2b28721100493496c3004ab95b8cd8": {
     "model_module": "@jupyter-widgets/base",
     "model_module_version": "1.2.0",
     "model_name": "LayoutModel",
     "state": {
      "_model_module": "@jupyter-widgets/base",
      "_model_module_version": "1.2.0",
      "_model_name": "LayoutModel",
      "_view_count": null,
      "_view_module": "@jupyter-widgets/base",
      "_view_module_version": "1.2.0",
      "_view_name": "LayoutView",
      "align_content": null,
      "align_items": null,
      "align_self": null,
      "border": null,
      "bottom": null,
      "display": null,
      "flex": null,
      "flex_flow": null,
      "grid_area": null,
      "grid_auto_columns": null,
      "grid_auto_flow": null,
      "grid_auto_rows": null,
      "grid_column": null,
      "grid_gap": null,
      "grid_row": null,
      "grid_template_areas": null,
      "grid_template_columns": null,
      "grid_template_rows": null,
      "height": null,
      "justify_content": null,
      "justify_items": null,
      "left": null,
      "margin": null,
      "max_height": null,
      "max_width": null,
      "min_height": null,
      "min_width": null,
      "object_fit": null,
      "object_position": null,
      "order": null,
      "overflow": null,
      "overflow_x": null,
      "overflow_y": null,
      "padding": null,
      "right": null,
      "top": null,
      "visibility": null,
      "width": null
     }
    },
    "40fc8e69662748cc9f05498ffb3df2ef": {
     "model_module": "@jupyter-widgets/controls",
     "model_module_version": "1.5.0",
     "model_name": "DescriptionStyleModel",
     "state": {
      "_model_module": "@jupyter-widgets/controls",
      "_model_module_version": "1.5.0",
      "_model_name": "DescriptionStyleModel",
      "_view_count": null,
      "_view_module": "@jupyter-widgets/base",
      "_view_module_version": "1.2.0",
      "_view_name": "StyleView",
      "description_width": ""
     }
    },
    "463de3f6e3734007a2e317de04cc57af": {
     "model_module": "@jupyter-widgets/controls",
     "model_module_version": "1.5.0",
     "model_name": "HTMLModel",
     "state": {
      "_dom_classes": [],
      "_model_module": "@jupyter-widgets/controls",
      "_model_module_version": "1.5.0",
      "_model_name": "HTMLModel",
      "_view_count": null,
      "_view_module": "@jupyter-widgets/controls",
      "_view_module_version": "1.5.0",
      "_view_name": "HTMLView",
      "description": "",
      "description_tooltip": null,
      "layout": "IPY_MODEL_c2156e1d16cb4fe9bacfd344a4e37978",
      "placeholder": "​",
      "style": "IPY_MODEL_def9c9a6ac5b41359b3ab6a63ab1757a",
      "value": "100%"
     }
    },
    "46a5d8f40572400b9443cc41af344794": {
     "model_module": "@jupyter-widgets/controls",
     "model_module_version": "1.5.0",
     "model_name": "HTMLModel",
     "state": {
      "_dom_classes": [],
      "_model_module": "@jupyter-widgets/controls",
      "_model_module_version": "1.5.0",
      "_model_name": "HTMLModel",
      "_view_count": null,
      "_view_module": "@jupyter-widgets/controls",
      "_view_module_version": "1.5.0",
      "_view_name": "HTMLView",
      "description": "",
      "description_tooltip": null,
      "layout": "IPY_MODEL_dc71123c29b14f45a4756aa7e2e675b0",
      "placeholder": "​",
      "style": "IPY_MODEL_af90c56152094589b55ba8f23ec58e0c",
      "value": " 11/11 [01:19&lt;00:00, 11.43s/it]"
     }
    },
    "473f6473f6fd49d285f53c5390063669": {
     "model_module": "@jupyter-widgets/controls",
     "model_module_version": "1.5.0",
     "model_name": "HBoxModel",
     "state": {
      "_dom_classes": [],
      "_model_module": "@jupyter-widgets/controls",
      "_model_module_version": "1.5.0",
      "_model_name": "HBoxModel",
      "_view_count": null,
      "_view_module": "@jupyter-widgets/controls",
      "_view_module_version": "1.5.0",
      "_view_name": "HBoxView",
      "box_style": "",
      "children": [
       "IPY_MODEL_19e4bab0bd09466d8c735c3a6693d9da",
       "IPY_MODEL_e3b5f473d3234ceeb36a5a97eb1acd39",
       "IPY_MODEL_4b549a55c2bb49e7b1d3096fba2dc12e"
      ],
      "layout": "IPY_MODEL_65267a878eca45979a7decae9e1cbd25"
     }
    },
    "47d7881ea3844fd49827c8e1b2d59713": {
     "model_module": "@jupyter-widgets/controls",
     "model_module_version": "1.5.0",
     "model_name": "FloatProgressModel",
     "state": {
      "_dom_classes": [],
      "_model_module": "@jupyter-widgets/controls",
      "_model_module_version": "1.5.0",
      "_model_name": "FloatProgressModel",
      "_view_count": null,
      "_view_module": "@jupyter-widgets/controls",
      "_view_module_version": "1.5.0",
      "_view_name": "ProgressView",
      "bar_style": "success",
      "description": "",
      "description_tooltip": null,
      "layout": "IPY_MODEL_8fb02c4f9e5443dfa01a7c4ab90875c0",
      "max": 10000,
      "min": 0,
      "orientation": "horizontal",
      "style": "IPY_MODEL_bf46cd1db0b54d69a423e37469484d9e",
      "value": 10000
     }
    },
    "4b549a55c2bb49e7b1d3096fba2dc12e": {
     "model_module": "@jupyter-widgets/controls",
     "model_module_version": "1.5.0",
     "model_name": "HTMLModel",
     "state": {
      "_dom_classes": [],
      "_model_module": "@jupyter-widgets/controls",
      "_model_module_version": "1.5.0",
      "_model_name": "HTMLModel",
      "_view_count": null,
      "_view_module": "@jupyter-widgets/controls",
      "_view_module_version": "1.5.0",
      "_view_name": "HTMLView",
      "description": "",
      "description_tooltip": null,
      "layout": "IPY_MODEL_ac4971d24ad74a809d68b7781820d2b5",
      "placeholder": "​",
      "style": "IPY_MODEL_b685f3877b714474a751cc65ccc0c1e9",
      "value": " 10000/10000 [01:07&lt;00:00, 150.69it/s]"
     }
    },
    "51f7b14e5cba4ebba36ff643fb73c41b": {
     "model_module": "@jupyter-widgets/base",
     "model_module_version": "1.2.0",
     "model_name": "LayoutModel",
     "state": {
      "_model_module": "@jupyter-widgets/base",
      "_model_module_version": "1.2.0",
      "_model_name": "LayoutModel",
      "_view_count": null,
      "_view_module": "@jupyter-widgets/base",
      "_view_module_version": "1.2.0",
      "_view_name": "LayoutView",
      "align_content": null,
      "align_items": null,
      "align_self": null,
      "border": null,
      "bottom": null,
      "display": null,
      "flex": null,
      "flex_flow": null,
      "grid_area": null,
      "grid_auto_columns": null,
      "grid_auto_flow": null,
      "grid_auto_rows": null,
      "grid_column": null,
      "grid_gap": null,
      "grid_row": null,
      "grid_template_areas": null,
      "grid_template_columns": null,
      "grid_template_rows": null,
      "height": null,
      "justify_content": null,
      "justify_items": null,
      "left": null,
      "margin": null,
      "max_height": null,
      "max_width": null,
      "min_height": null,
      "min_width": null,
      "object_fit": null,
      "object_position": null,
      "order": null,
      "overflow": null,
      "overflow_x": null,
      "overflow_y": null,
      "padding": null,
      "right": null,
      "top": null,
      "visibility": null,
      "width": null
     }
    },
    "55012f81d4804f649cd3e569eed62d08": {
     "model_module": "@jupyter-widgets/controls",
     "model_module_version": "1.5.0",
     "model_name": "FloatProgressModel",
     "state": {
      "_dom_classes": [],
      "_model_module": "@jupyter-widgets/controls",
      "_model_module_version": "1.5.0",
      "_model_name": "FloatProgressModel",
      "_view_count": null,
      "_view_module": "@jupyter-widgets/controls",
      "_view_module_version": "1.5.0",
      "_view_name": "ProgressView",
      "bar_style": "success",
      "description": "",
      "description_tooltip": null,
      "layout": "IPY_MODEL_c8970d3753dd401da4443155ddec1bce",
      "max": 5,
      "min": 0,
      "orientation": "horizontal",
      "style": "IPY_MODEL_04164d3f0f1f468ea421e175a8f4b752",
      "value": 5
     }
    },
    "5a8f41aa565b4214b6ff8a92455e5070": {
     "model_module": "@jupyter-widgets/controls",
     "model_module_version": "1.5.0",
     "model_name": "ProgressStyleModel",
     "state": {
      "_model_module": "@jupyter-widgets/controls",
      "_model_module_version": "1.5.0",
      "_model_name": "ProgressStyleModel",
      "_view_count": null,
      "_view_module": "@jupyter-widgets/base",
      "_view_module_version": "1.2.0",
      "_view_name": "StyleView",
      "bar_color": null,
      "description_width": ""
     }
    },
    "65267a878eca45979a7decae9e1cbd25": {
     "model_module": "@jupyter-widgets/base",
     "model_module_version": "1.2.0",
     "model_name": "LayoutModel",
     "state": {
      "_model_module": "@jupyter-widgets/base",
      "_model_module_version": "1.2.0",
      "_model_name": "LayoutModel",
      "_view_count": null,
      "_view_module": "@jupyter-widgets/base",
      "_view_module_version": "1.2.0",
      "_view_name": "LayoutView",
      "align_content": null,
      "align_items": null,
      "align_self": null,
      "border": null,
      "bottom": null,
      "display": null,
      "flex": null,
      "flex_flow": null,
      "grid_area": null,
      "grid_auto_columns": null,
      "grid_auto_flow": null,
      "grid_auto_rows": null,
      "grid_column": null,
      "grid_gap": null,
      "grid_row": null,
      "grid_template_areas": null,
      "grid_template_columns": null,
      "grid_template_rows": null,
      "height": null,
      "justify_content": null,
      "justify_items": null,
      "left": null,
      "margin": null,
      "max_height": null,
      "max_width": null,
      "min_height": null,
      "min_width": null,
      "object_fit": null,
      "object_position": null,
      "order": null,
      "overflow": null,
      "overflow_x": null,
      "overflow_y": null,
      "padding": null,
      "right": null,
      "top": null,
      "visibility": null,
      "width": null
     }
    },
    "6a43039848aa4146bf80ca2a4cc8462c": {
     "model_module": "@jupyter-widgets/controls",
     "model_module_version": "1.5.0",
     "model_name": "HTMLModel",
     "state": {
      "_dom_classes": [],
      "_model_module": "@jupyter-widgets/controls",
      "_model_module_version": "1.5.0",
      "_model_name": "HTMLModel",
      "_view_count": null,
      "_view_module": "@jupyter-widgets/controls",
      "_view_module_version": "1.5.0",
      "_view_name": "HTMLView",
      "description": "",
      "description_tooltip": null,
      "layout": "IPY_MODEL_7cfed1fc1f8b48deab315d6aa3edec48",
      "placeholder": "​",
      "style": "IPY_MODEL_046a3fbace794da285704e04a72ae130",
      "value": "100%"
     }
    },
    "755741781e2b4627ba4dd63f16033416": {
     "model_module": "@jupyter-widgets/controls",
     "model_module_version": "1.5.0",
     "model_name": "HBoxModel",
     "state": {
      "_dom_classes": [],
      "_model_module": "@jupyter-widgets/controls",
      "_model_module_version": "1.5.0",
      "_model_name": "HBoxModel",
      "_view_count": null,
      "_view_module": "@jupyter-widgets/controls",
      "_view_module_version": "1.5.0",
      "_view_name": "HBoxView",
      "box_style": "",
      "children": [
       "IPY_MODEL_9d90c5a13d0442339769593a8264a11c",
       "IPY_MODEL_dc89e0f2e73f4791812eff7fc05cb63b",
       "IPY_MODEL_29fb0cecda8b48608048f37834a09588"
      ],
      "layout": "IPY_MODEL_2d6f11fef296444ba99fd87fcad3e5fe"
     }
    },
    "77ec41eef9344031a9f3f3325bf0cfe7": {
     "model_module": "@jupyter-widgets/base",
     "model_module_version": "1.2.0",
     "model_name": "LayoutModel",
     "state": {
      "_model_module": "@jupyter-widgets/base",
      "_model_module_version": "1.2.0",
      "_model_name": "LayoutModel",
      "_view_count": null,
      "_view_module": "@jupyter-widgets/base",
      "_view_module_version": "1.2.0",
      "_view_name": "LayoutView",
      "align_content": null,
      "align_items": null,
      "align_self": null,
      "border": null,
      "bottom": null,
      "display": null,
      "flex": null,
      "flex_flow": null,
      "grid_area": null,
      "grid_auto_columns": null,
      "grid_auto_flow": null,
      "grid_auto_rows": null,
      "grid_column": null,
      "grid_gap": null,
      "grid_row": null,
      "grid_template_areas": null,
      "grid_template_columns": null,
      "grid_template_rows": null,
      "height": null,
      "justify_content": null,
      "justify_items": null,
      "left": null,
      "margin": null,
      "max_height": null,
      "max_width": null,
      "min_height": null,
      "min_width": null,
      "object_fit": null,
      "object_position": null,
      "order": null,
      "overflow": null,
      "overflow_x": null,
      "overflow_y": null,
      "padding": null,
      "right": null,
      "top": null,
      "visibility": null,
      "width": null
     }
    },
    "7bf5b1248d0e4d16a8667dd41f697555": {
     "model_module": "@jupyter-widgets/controls",
     "model_module_version": "1.5.0",
     "model_name": "HTMLModel",
     "state": {
      "_dom_classes": [],
      "_model_module": "@jupyter-widgets/controls",
      "_model_module_version": "1.5.0",
      "_model_name": "HTMLModel",
      "_view_count": null,
      "_view_module": "@jupyter-widgets/controls",
      "_view_module_version": "1.5.0",
      "_view_name": "HTMLView",
      "description": "",
      "description_tooltip": null,
      "layout": "IPY_MODEL_0f8e666823704457ac7a207b6278fa76",
      "placeholder": "​",
      "style": "IPY_MODEL_b2dad7cd681f47acbf970877b3576f84",
      "value": "100%"
     }
    },
    "7c14129c3a4e4b4ab8f759a6b7d67ac6": {
     "model_module": "@jupyter-widgets/controls",
     "model_module_version": "1.5.0",
     "model_name": "HTMLModel",
     "state": {
      "_dom_classes": [],
      "_model_module": "@jupyter-widgets/controls",
      "_model_module_version": "1.5.0",
      "_model_name": "HTMLModel",
      "_view_count": null,
      "_view_module": "@jupyter-widgets/controls",
      "_view_module_version": "1.5.0",
      "_view_name": "HTMLView",
      "description": "",
      "description_tooltip": null,
      "layout": "IPY_MODEL_06167ccf794f4b66a22eac549d125667",
      "placeholder": "​",
      "style": "IPY_MODEL_be74d9d837bf4c93ba9e1361c5fc8d57",
      "value": " 10000/10000 [00:41&lt;00:00, 242.67it/s]"
     }
    },
    "7cfed1fc1f8b48deab315d6aa3edec48": {
     "model_module": "@jupyter-widgets/base",
     "model_module_version": "1.2.0",
     "model_name": "LayoutModel",
     "state": {
      "_model_module": "@jupyter-widgets/base",
      "_model_module_version": "1.2.0",
      "_model_name": "LayoutModel",
      "_view_count": null,
      "_view_module": "@jupyter-widgets/base",
      "_view_module_version": "1.2.0",
      "_view_name": "LayoutView",
      "align_content": null,
      "align_items": null,
      "align_self": null,
      "border": null,
      "bottom": null,
      "display": null,
      "flex": null,
      "flex_flow": null,
      "grid_area": null,
      "grid_auto_columns": null,
      "grid_auto_flow": null,
      "grid_auto_rows": null,
      "grid_column": null,
      "grid_gap": null,
      "grid_row": null,
      "grid_template_areas": null,
      "grid_template_columns": null,
      "grid_template_rows": null,
      "height": null,
      "justify_content": null,
      "justify_items": null,
      "left": null,
      "margin": null,
      "max_height": null,
      "max_width": null,
      "min_height": null,
      "min_width": null,
      "object_fit": null,
      "object_position": null,
      "order": null,
      "overflow": null,
      "overflow_x": null,
      "overflow_y": null,
      "padding": null,
      "right": null,
      "top": null,
      "visibility": null,
      "width": null
     }
    },
    "807b93431bdf43f8af1fc497aab50363": {
     "model_module": "@jupyter-widgets/controls",
     "model_module_version": "1.5.0",
     "model_name": "DescriptionStyleModel",
     "state": {
      "_model_module": "@jupyter-widgets/controls",
      "_model_module_version": "1.5.0",
      "_model_name": "DescriptionStyleModel",
      "_view_count": null,
      "_view_module": "@jupyter-widgets/base",
      "_view_module_version": "1.2.0",
      "_view_name": "StyleView",
      "description_width": ""
     }
    },
    "8660c6c23b9c48ab8fd92e01a308e0b9": {
     "model_module": "@jupyter-widgets/controls",
     "model_module_version": "1.5.0",
     "model_name": "DescriptionStyleModel",
     "state": {
      "_model_module": "@jupyter-widgets/controls",
      "_model_module_version": "1.5.0",
      "_model_name": "DescriptionStyleModel",
      "_view_count": null,
      "_view_module": "@jupyter-widgets/base",
      "_view_module_version": "1.2.0",
      "_view_name": "StyleView",
      "description_width": ""
     }
    },
    "8fb02c4f9e5443dfa01a7c4ab90875c0": {
     "model_module": "@jupyter-widgets/base",
     "model_module_version": "1.2.0",
     "model_name": "LayoutModel",
     "state": {
      "_model_module": "@jupyter-widgets/base",
      "_model_module_version": "1.2.0",
      "_model_name": "LayoutModel",
      "_view_count": null,
      "_view_module": "@jupyter-widgets/base",
      "_view_module_version": "1.2.0",
      "_view_name": "LayoutView",
      "align_content": null,
      "align_items": null,
      "align_self": null,
      "border": null,
      "bottom": null,
      "display": null,
      "flex": null,
      "flex_flow": null,
      "grid_area": null,
      "grid_auto_columns": null,
      "grid_auto_flow": null,
      "grid_auto_rows": null,
      "grid_column": null,
      "grid_gap": null,
      "grid_row": null,
      "grid_template_areas": null,
      "grid_template_columns": null,
      "grid_template_rows": null,
      "height": null,
      "justify_content": null,
      "justify_items": null,
      "left": null,
      "margin": null,
      "max_height": null,
      "max_width": null,
      "min_height": null,
      "min_width": null,
      "object_fit": null,
      "object_position": null,
      "order": null,
      "overflow": null,
      "overflow_x": null,
      "overflow_y": null,
      "padding": null,
      "right": null,
      "top": null,
      "visibility": null,
      "width": null
     }
    },
    "985985d4c82246a0bf7dffe48c581642": {
     "model_module": "@jupyter-widgets/base",
     "model_module_version": "1.2.0",
     "model_name": "LayoutModel",
     "state": {
      "_model_module": "@jupyter-widgets/base",
      "_model_module_version": "1.2.0",
      "_model_name": "LayoutModel",
      "_view_count": null,
      "_view_module": "@jupyter-widgets/base",
      "_view_module_version": "1.2.0",
      "_view_name": "LayoutView",
      "align_content": null,
      "align_items": null,
      "align_self": null,
      "border": null,
      "bottom": null,
      "display": null,
      "flex": null,
      "flex_flow": null,
      "grid_area": null,
      "grid_auto_columns": null,
      "grid_auto_flow": null,
      "grid_auto_rows": null,
      "grid_column": null,
      "grid_gap": null,
      "grid_row": null,
      "grid_template_areas": null,
      "grid_template_columns": null,
      "grid_template_rows": null,
      "height": null,
      "justify_content": null,
      "justify_items": null,
      "left": null,
      "margin": null,
      "max_height": null,
      "max_width": null,
      "min_height": null,
      "min_width": null,
      "object_fit": null,
      "object_position": null,
      "order": null,
      "overflow": null,
      "overflow_x": null,
      "overflow_y": null,
      "padding": null,
      "right": null,
      "top": null,
      "visibility": null,
      "width": null
     }
    },
    "99105200dd7b4ce0803d69920d3cf1dc": {
     "model_module": "@jupyter-widgets/base",
     "model_module_version": "1.2.0",
     "model_name": "LayoutModel",
     "state": {
      "_model_module": "@jupyter-widgets/base",
      "_model_module_version": "1.2.0",
      "_model_name": "LayoutModel",
      "_view_count": null,
      "_view_module": "@jupyter-widgets/base",
      "_view_module_version": "1.2.0",
      "_view_name": "LayoutView",
      "align_content": null,
      "align_items": null,
      "align_self": null,
      "border": null,
      "bottom": null,
      "display": null,
      "flex": null,
      "flex_flow": null,
      "grid_area": null,
      "grid_auto_columns": null,
      "grid_auto_flow": null,
      "grid_auto_rows": null,
      "grid_column": null,
      "grid_gap": null,
      "grid_row": null,
      "grid_template_areas": null,
      "grid_template_columns": null,
      "grid_template_rows": null,
      "height": null,
      "justify_content": null,
      "justify_items": null,
      "left": null,
      "margin": null,
      "max_height": null,
      "max_width": null,
      "min_height": null,
      "min_width": null,
      "object_fit": null,
      "object_position": null,
      "order": null,
      "overflow": null,
      "overflow_x": null,
      "overflow_y": null,
      "padding": null,
      "right": null,
      "top": null,
      "visibility": null,
      "width": null
     }
    },
    "991d718942fc4655a6eb8fd8b2f00754": {
     "model_module": "@jupyter-widgets/base",
     "model_module_version": "1.2.0",
     "model_name": "LayoutModel",
     "state": {
      "_model_module": "@jupyter-widgets/base",
      "_model_module_version": "1.2.0",
      "_model_name": "LayoutModel",
      "_view_count": null,
      "_view_module": "@jupyter-widgets/base",
      "_view_module_version": "1.2.0",
      "_view_name": "LayoutView",
      "align_content": null,
      "align_items": null,
      "align_self": null,
      "border": null,
      "bottom": null,
      "display": null,
      "flex": null,
      "flex_flow": null,
      "grid_area": null,
      "grid_auto_columns": null,
      "grid_auto_flow": null,
      "grid_auto_rows": null,
      "grid_column": null,
      "grid_gap": null,
      "grid_row": null,
      "grid_template_areas": null,
      "grid_template_columns": null,
      "grid_template_rows": null,
      "height": null,
      "justify_content": null,
      "justify_items": null,
      "left": null,
      "margin": null,
      "max_height": null,
      "max_width": null,
      "min_height": null,
      "min_width": null,
      "object_fit": null,
      "object_position": null,
      "order": null,
      "overflow": null,
      "overflow_x": null,
      "overflow_y": null,
      "padding": null,
      "right": null,
      "top": null,
      "visibility": null,
      "width": null
     }
    },
    "9cd9bb48f193472cbdce164395bf8a8c": {
     "model_module": "@jupyter-widgets/base",
     "model_module_version": "1.2.0",
     "model_name": "LayoutModel",
     "state": {
      "_model_module": "@jupyter-widgets/base",
      "_model_module_version": "1.2.0",
      "_model_name": "LayoutModel",
      "_view_count": null,
      "_view_module": "@jupyter-widgets/base",
      "_view_module_version": "1.2.0",
      "_view_name": "LayoutView",
      "align_content": null,
      "align_items": null,
      "align_self": null,
      "border": null,
      "bottom": null,
      "display": null,
      "flex": null,
      "flex_flow": null,
      "grid_area": null,
      "grid_auto_columns": null,
      "grid_auto_flow": null,
      "grid_auto_rows": null,
      "grid_column": null,
      "grid_gap": null,
      "grid_row": null,
      "grid_template_areas": null,
      "grid_template_columns": null,
      "grid_template_rows": null,
      "height": null,
      "justify_content": null,
      "justify_items": null,
      "left": null,
      "margin": null,
      "max_height": null,
      "max_width": null,
      "min_height": null,
      "min_width": null,
      "object_fit": null,
      "object_position": null,
      "order": null,
      "overflow": null,
      "overflow_x": null,
      "overflow_y": null,
      "padding": null,
      "right": null,
      "top": null,
      "visibility": null,
      "width": null
     }
    },
    "9d90c5a13d0442339769593a8264a11c": {
     "model_module": "@jupyter-widgets/controls",
     "model_module_version": "1.5.0",
     "model_name": "HTMLModel",
     "state": {
      "_dom_classes": [],
      "_model_module": "@jupyter-widgets/controls",
      "_model_module_version": "1.5.0",
      "_model_name": "HTMLModel",
      "_view_count": null,
      "_view_module": "@jupyter-widgets/controls",
      "_view_module_version": "1.5.0",
      "_view_name": "HTMLView",
      "description": "",
      "description_tooltip": null,
      "layout": "IPY_MODEL_d9811569dbb44c6d8514e83c04cc78dd",
      "placeholder": "​",
      "style": "IPY_MODEL_f0b25bc405fa46d1be09e3f36cec1d17",
      "value": "100%"
     }
    },
    "9f89b2c0e1024144861cf3051ef27ca9": {
     "model_module": "@jupyter-widgets/base",
     "model_module_version": "1.2.0",
     "model_name": "LayoutModel",
     "state": {
      "_model_module": "@jupyter-widgets/base",
      "_model_module_version": "1.2.0",
      "_model_name": "LayoutModel",
      "_view_count": null,
      "_view_module": "@jupyter-widgets/base",
      "_view_module_version": "1.2.0",
      "_view_name": "LayoutView",
      "align_content": null,
      "align_items": null,
      "align_self": null,
      "border": null,
      "bottom": null,
      "display": null,
      "flex": null,
      "flex_flow": null,
      "grid_area": null,
      "grid_auto_columns": null,
      "grid_auto_flow": null,
      "grid_auto_rows": null,
      "grid_column": null,
      "grid_gap": null,
      "grid_row": null,
      "grid_template_areas": null,
      "grid_template_columns": null,
      "grid_template_rows": null,
      "height": null,
      "justify_content": null,
      "justify_items": null,
      "left": null,
      "margin": null,
      "max_height": null,
      "max_width": null,
      "min_height": null,
      "min_width": null,
      "object_fit": null,
      "object_position": null,
      "order": null,
      "overflow": null,
      "overflow_x": null,
      "overflow_y": null,
      "padding": null,
      "right": null,
      "top": null,
      "visibility": null,
      "width": null
     }
    },
    "a2485ade42f34feaba656d6c1f98ee83": {
     "model_module": "@jupyter-widgets/base",
     "model_module_version": "1.2.0",
     "model_name": "LayoutModel",
     "state": {
      "_model_module": "@jupyter-widgets/base",
      "_model_module_version": "1.2.0",
      "_model_name": "LayoutModel",
      "_view_count": null,
      "_view_module": "@jupyter-widgets/base",
      "_view_module_version": "1.2.0",
      "_view_name": "LayoutView",
      "align_content": null,
      "align_items": null,
      "align_self": null,
      "border": null,
      "bottom": null,
      "display": null,
      "flex": null,
      "flex_flow": null,
      "grid_area": null,
      "grid_auto_columns": null,
      "grid_auto_flow": null,
      "grid_auto_rows": null,
      "grid_column": null,
      "grid_gap": null,
      "grid_row": null,
      "grid_template_areas": null,
      "grid_template_columns": null,
      "grid_template_rows": null,
      "height": null,
      "justify_content": null,
      "justify_items": null,
      "left": null,
      "margin": null,
      "max_height": null,
      "max_width": null,
      "min_height": null,
      "min_width": null,
      "object_fit": null,
      "object_position": null,
      "order": null,
      "overflow": null,
      "overflow_x": null,
      "overflow_y": null,
      "padding": null,
      "right": null,
      "top": null,
      "visibility": null,
      "width": null
     }
    },
    "a5347aae48a14ac299245629e06aeffc": {
     "model_module": "@jupyter-widgets/controls",
     "model_module_version": "1.5.0",
     "model_name": "HTMLModel",
     "state": {
      "_dom_classes": [],
      "_model_module": "@jupyter-widgets/controls",
      "_model_module_version": "1.5.0",
      "_model_name": "HTMLModel",
      "_view_count": null,
      "_view_module": "@jupyter-widgets/controls",
      "_view_module_version": "1.5.0",
      "_view_name": "HTMLView",
      "description": "",
      "description_tooltip": null,
      "layout": "IPY_MODEL_77ec41eef9344031a9f3f3325bf0cfe7",
      "placeholder": "​",
      "style": "IPY_MODEL_807b93431bdf43f8af1fc497aab50363",
      "value": " 11/11 [02:40&lt;00:00, 14.62s/it]"
     }
    },
    "ac4971d24ad74a809d68b7781820d2b5": {
     "model_module": "@jupyter-widgets/base",
     "model_module_version": "1.2.0",
     "model_name": "LayoutModel",
     "state": {
      "_model_module": "@jupyter-widgets/base",
      "_model_module_version": "1.2.0",
      "_model_name": "LayoutModel",
      "_view_count": null,
      "_view_module": "@jupyter-widgets/base",
      "_view_module_version": "1.2.0",
      "_view_name": "LayoutView",
      "align_content": null,
      "align_items": null,
      "align_self": null,
      "border": null,
      "bottom": null,
      "display": null,
      "flex": null,
      "flex_flow": null,
      "grid_area": null,
      "grid_auto_columns": null,
      "grid_auto_flow": null,
      "grid_auto_rows": null,
      "grid_column": null,
      "grid_gap": null,
      "grid_row": null,
      "grid_template_areas": null,
      "grid_template_columns": null,
      "grid_template_rows": null,
      "height": null,
      "justify_content": null,
      "justify_items": null,
      "left": null,
      "margin": null,
      "max_height": null,
      "max_width": null,
      "min_height": null,
      "min_width": null,
      "object_fit": null,
      "object_position": null,
      "order": null,
      "overflow": null,
      "overflow_x": null,
      "overflow_y": null,
      "padding": null,
      "right": null,
      "top": null,
      "visibility": null,
      "width": null
     }
    },
    "af90c56152094589b55ba8f23ec58e0c": {
     "model_module": "@jupyter-widgets/controls",
     "model_module_version": "1.5.0",
     "model_name": "DescriptionStyleModel",
     "state": {
      "_model_module": "@jupyter-widgets/controls",
      "_model_module_version": "1.5.0",
      "_model_name": "DescriptionStyleModel",
      "_view_count": null,
      "_view_module": "@jupyter-widgets/base",
      "_view_module_version": "1.2.0",
      "_view_name": "StyleView",
      "description_width": ""
     }
    },
    "b2dad7cd681f47acbf970877b3576f84": {
     "model_module": "@jupyter-widgets/controls",
     "model_module_version": "1.5.0",
     "model_name": "DescriptionStyleModel",
     "state": {
      "_model_module": "@jupyter-widgets/controls",
      "_model_module_version": "1.5.0",
      "_model_name": "DescriptionStyleModel",
      "_view_count": null,
      "_view_module": "@jupyter-widgets/base",
      "_view_module_version": "1.2.0",
      "_view_name": "StyleView",
      "description_width": ""
     }
    },
    "b685f3877b714474a751cc65ccc0c1e9": {
     "model_module": "@jupyter-widgets/controls",
     "model_module_version": "1.5.0",
     "model_name": "DescriptionStyleModel",
     "state": {
      "_model_module": "@jupyter-widgets/controls",
      "_model_module_version": "1.5.0",
      "_model_name": "DescriptionStyleModel",
      "_view_count": null,
      "_view_module": "@jupyter-widgets/base",
      "_view_module_version": "1.2.0",
      "_view_name": "StyleView",
      "description_width": ""
     }
    },
    "b9227a39f80d4af48e3b2b851bdcbd4e": {
     "model_module": "@jupyter-widgets/controls",
     "model_module_version": "1.5.0",
     "model_name": "HBoxModel",
     "state": {
      "_dom_classes": [],
      "_model_module": "@jupyter-widgets/controls",
      "_model_module_version": "1.5.0",
      "_model_name": "HBoxModel",
      "_view_count": null,
      "_view_module": "@jupyter-widgets/controls",
      "_view_module_version": "1.5.0",
      "_view_name": "HBoxView",
      "box_style": "",
      "children": [
       "IPY_MODEL_7bf5b1248d0e4d16a8667dd41f697555",
       "IPY_MODEL_ddd5e30b0d104bb380700f81d6fcf9a3",
       "IPY_MODEL_46a5d8f40572400b9443cc41af344794"
      ],
      "layout": "IPY_MODEL_3a2b28721100493496c3004ab95b8cd8"
     }
    },
    "b9cf670eebe943ffa420257b840822f0": {
     "model_module": "@jupyter-widgets/base",
     "model_module_version": "1.2.0",
     "model_name": "LayoutModel",
     "state": {
      "_model_module": "@jupyter-widgets/base",
      "_model_module_version": "1.2.0",
      "_model_name": "LayoutModel",
      "_view_count": null,
      "_view_module": "@jupyter-widgets/base",
      "_view_module_version": "1.2.0",
      "_view_name": "LayoutView",
      "align_content": null,
      "align_items": null,
      "align_self": null,
      "border": null,
      "bottom": null,
      "display": null,
      "flex": null,
      "flex_flow": null,
      "grid_area": null,
      "grid_auto_columns": null,
      "grid_auto_flow": null,
      "grid_auto_rows": null,
      "grid_column": null,
      "grid_gap": null,
      "grid_row": null,
      "grid_template_areas": null,
      "grid_template_columns": null,
      "grid_template_rows": null,
      "height": null,
      "justify_content": null,
      "justify_items": null,
      "left": null,
      "margin": null,
      "max_height": null,
      "max_width": null,
      "min_height": null,
      "min_width": null,
      "object_fit": null,
      "object_position": null,
      "order": null,
      "overflow": null,
      "overflow_x": null,
      "overflow_y": null,
      "padding": null,
      "right": null,
      "top": null,
      "visibility": null,
      "width": null
     }
    },
    "bc2274bd1158419c813bd180108ada18": {
     "model_module": "@jupyter-widgets/controls",
     "model_module_version": "1.5.0",
     "model_name": "FloatProgressModel",
     "state": {
      "_dom_classes": [],
      "_model_module": "@jupyter-widgets/controls",
      "_model_module_version": "1.5.0",
      "_model_name": "FloatProgressModel",
      "_view_count": null,
      "_view_module": "@jupyter-widgets/controls",
      "_view_module_version": "1.5.0",
      "_view_name": "ProgressView",
      "bar_style": "success",
      "description": "",
      "description_tooltip": null,
      "layout": "IPY_MODEL_a2485ade42f34feaba656d6c1f98ee83",
      "max": 11,
      "min": 0,
      "orientation": "horizontal",
      "style": "IPY_MODEL_396a3ed4186c4499bfa93afbe4a1ca53",
      "value": 11
     }
    },
    "be74d9d837bf4c93ba9e1361c5fc8d57": {
     "model_module": "@jupyter-widgets/controls",
     "model_module_version": "1.5.0",
     "model_name": "DescriptionStyleModel",
     "state": {
      "_model_module": "@jupyter-widgets/controls",
      "_model_module_version": "1.5.0",
      "_model_name": "DescriptionStyleModel",
      "_view_count": null,
      "_view_module": "@jupyter-widgets/base",
      "_view_module_version": "1.2.0",
      "_view_name": "StyleView",
      "description_width": ""
     }
    },
    "bf46cd1db0b54d69a423e37469484d9e": {
     "model_module": "@jupyter-widgets/controls",
     "model_module_version": "1.5.0",
     "model_name": "ProgressStyleModel",
     "state": {
      "_model_module": "@jupyter-widgets/controls",
      "_model_module_version": "1.5.0",
      "_model_name": "ProgressStyleModel",
      "_view_count": null,
      "_view_module": "@jupyter-widgets/base",
      "_view_module_version": "1.2.0",
      "_view_name": "StyleView",
      "bar_color": null,
      "description_width": ""
     }
    },
    "c2156e1d16cb4fe9bacfd344a4e37978": {
     "model_module": "@jupyter-widgets/base",
     "model_module_version": "1.2.0",
     "model_name": "LayoutModel",
     "state": {
      "_model_module": "@jupyter-widgets/base",
      "_model_module_version": "1.2.0",
      "_model_name": "LayoutModel",
      "_view_count": null,
      "_view_module": "@jupyter-widgets/base",
      "_view_module_version": "1.2.0",
      "_view_name": "LayoutView",
      "align_content": null,
      "align_items": null,
      "align_self": null,
      "border": null,
      "bottom": null,
      "display": null,
      "flex": null,
      "flex_flow": null,
      "grid_area": null,
      "grid_auto_columns": null,
      "grid_auto_flow": null,
      "grid_auto_rows": null,
      "grid_column": null,
      "grid_gap": null,
      "grid_row": null,
      "grid_template_areas": null,
      "grid_template_columns": null,
      "grid_template_rows": null,
      "height": null,
      "justify_content": null,
      "justify_items": null,
      "left": null,
      "margin": null,
      "max_height": null,
      "max_width": null,
      "min_height": null,
      "min_width": null,
      "object_fit": null,
      "object_position": null,
      "order": null,
      "overflow": null,
      "overflow_x": null,
      "overflow_y": null,
      "padding": null,
      "right": null,
      "top": null,
      "visibility": null,
      "width": null
     }
    },
    "c8970d3753dd401da4443155ddec1bce": {
     "model_module": "@jupyter-widgets/base",
     "model_module_version": "1.2.0",
     "model_name": "LayoutModel",
     "state": {
      "_model_module": "@jupyter-widgets/base",
      "_model_module_version": "1.2.0",
      "_model_name": "LayoutModel",
      "_view_count": null,
      "_view_module": "@jupyter-widgets/base",
      "_view_module_version": "1.2.0",
      "_view_name": "LayoutView",
      "align_content": null,
      "align_items": null,
      "align_self": null,
      "border": null,
      "bottom": null,
      "display": null,
      "flex": null,
      "flex_flow": null,
      "grid_area": null,
      "grid_auto_columns": null,
      "grid_auto_flow": null,
      "grid_auto_rows": null,
      "grid_column": null,
      "grid_gap": null,
      "grid_row": null,
      "grid_template_areas": null,
      "grid_template_columns": null,
      "grid_template_rows": null,
      "height": null,
      "justify_content": null,
      "justify_items": null,
      "left": null,
      "margin": null,
      "max_height": null,
      "max_width": null,
      "min_height": null,
      "min_width": null,
      "object_fit": null,
      "object_position": null,
      "order": null,
      "overflow": null,
      "overflow_x": null,
      "overflow_y": null,
      "padding": null,
      "right": null,
      "top": null,
      "visibility": null,
      "width": null
     }
    },
    "d426034b3eb34efb88e980eb19d405a3": {
     "model_module": "@jupyter-widgets/controls",
     "model_module_version": "1.5.0",
     "model_name": "HBoxModel",
     "state": {
      "_dom_classes": [],
      "_model_module": "@jupyter-widgets/controls",
      "_model_module_version": "1.5.0",
      "_model_name": "HBoxModel",
      "_view_count": null,
      "_view_module": "@jupyter-widgets/controls",
      "_view_module_version": "1.5.0",
      "_view_name": "HBoxView",
      "box_style": "",
      "children": [
       "IPY_MODEL_463de3f6e3734007a2e317de04cc57af",
       "IPY_MODEL_47d7881ea3844fd49827c8e1b2d59713",
       "IPY_MODEL_7c14129c3a4e4b4ab8f759a6b7d67ac6"
      ],
      "layout": "IPY_MODEL_991d718942fc4655a6eb8fd8b2f00754"
     }
    },
    "d7b2ca129e064a0dae2e809b1cc8d177": {
     "model_module": "@jupyter-widgets/base",
     "model_module_version": "1.2.0",
     "model_name": "LayoutModel",
     "state": {
      "_model_module": "@jupyter-widgets/base",
      "_model_module_version": "1.2.0",
      "_model_name": "LayoutModel",
      "_view_count": null,
      "_view_module": "@jupyter-widgets/base",
      "_view_module_version": "1.2.0",
      "_view_name": "LayoutView",
      "align_content": null,
      "align_items": null,
      "align_self": null,
      "border": null,
      "bottom": null,
      "display": null,
      "flex": null,
      "flex_flow": null,
      "grid_area": null,
      "grid_auto_columns": null,
      "grid_auto_flow": null,
      "grid_auto_rows": null,
      "grid_column": null,
      "grid_gap": null,
      "grid_row": null,
      "grid_template_areas": null,
      "grid_template_columns": null,
      "grid_template_rows": null,
      "height": null,
      "justify_content": null,
      "justify_items": null,
      "left": null,
      "margin": null,
      "max_height": null,
      "max_width": null,
      "min_height": null,
      "min_width": null,
      "object_fit": null,
      "object_position": null,
      "order": null,
      "overflow": null,
      "overflow_x": null,
      "overflow_y": null,
      "padding": null,
      "right": null,
      "top": null,
      "visibility": null,
      "width": null
     }
    },
    "d9811569dbb44c6d8514e83c04cc78dd": {
     "model_module": "@jupyter-widgets/base",
     "model_module_version": "1.2.0",
     "model_name": "LayoutModel",
     "state": {
      "_model_module": "@jupyter-widgets/base",
      "_model_module_version": "1.2.0",
      "_model_name": "LayoutModel",
      "_view_count": null,
      "_view_module": "@jupyter-widgets/base",
      "_view_module_version": "1.2.0",
      "_view_name": "LayoutView",
      "align_content": null,
      "align_items": null,
      "align_self": null,
      "border": null,
      "bottom": null,
      "display": null,
      "flex": null,
      "flex_flow": null,
      "grid_area": null,
      "grid_auto_columns": null,
      "grid_auto_flow": null,
      "grid_auto_rows": null,
      "grid_column": null,
      "grid_gap": null,
      "grid_row": null,
      "grid_template_areas": null,
      "grid_template_columns": null,
      "grid_template_rows": null,
      "height": null,
      "justify_content": null,
      "justify_items": null,
      "left": null,
      "margin": null,
      "max_height": null,
      "max_width": null,
      "min_height": null,
      "min_width": null,
      "object_fit": null,
      "object_position": null,
      "order": null,
      "overflow": null,
      "overflow_x": null,
      "overflow_y": null,
      "padding": null,
      "right": null,
      "top": null,
      "visibility": null,
      "width": null
     }
    },
    "dac1229ae3b84c7c89768d09333bd2e3": {
     "model_module": "@jupyter-widgets/base",
     "model_module_version": "1.2.0",
     "model_name": "LayoutModel",
     "state": {
      "_model_module": "@jupyter-widgets/base",
      "_model_module_version": "1.2.0",
      "_model_name": "LayoutModel",
      "_view_count": null,
      "_view_module": "@jupyter-widgets/base",
      "_view_module_version": "1.2.0",
      "_view_name": "LayoutView",
      "align_content": null,
      "align_items": null,
      "align_self": null,
      "border": null,
      "bottom": null,
      "display": null,
      "flex": null,
      "flex_flow": null,
      "grid_area": null,
      "grid_auto_columns": null,
      "grid_auto_flow": null,
      "grid_auto_rows": null,
      "grid_column": null,
      "grid_gap": null,
      "grid_row": null,
      "grid_template_areas": null,
      "grid_template_columns": null,
      "grid_template_rows": null,
      "height": null,
      "justify_content": null,
      "justify_items": null,
      "left": null,
      "margin": null,
      "max_height": null,
      "max_width": null,
      "min_height": null,
      "min_width": null,
      "object_fit": null,
      "object_position": null,
      "order": null,
      "overflow": null,
      "overflow_x": null,
      "overflow_y": null,
      "padding": null,
      "right": null,
      "top": null,
      "visibility": null,
      "width": null
     }
    },
    "dc71123c29b14f45a4756aa7e2e675b0": {
     "model_module": "@jupyter-widgets/base",
     "model_module_version": "1.2.0",
     "model_name": "LayoutModel",
     "state": {
      "_model_module": "@jupyter-widgets/base",
      "_model_module_version": "1.2.0",
      "_model_name": "LayoutModel",
      "_view_count": null,
      "_view_module": "@jupyter-widgets/base",
      "_view_module_version": "1.2.0",
      "_view_name": "LayoutView",
      "align_content": null,
      "align_items": null,
      "align_self": null,
      "border": null,
      "bottom": null,
      "display": null,
      "flex": null,
      "flex_flow": null,
      "grid_area": null,
      "grid_auto_columns": null,
      "grid_auto_flow": null,
      "grid_auto_rows": null,
      "grid_column": null,
      "grid_gap": null,
      "grid_row": null,
      "grid_template_areas": null,
      "grid_template_columns": null,
      "grid_template_rows": null,
      "height": null,
      "justify_content": null,
      "justify_items": null,
      "left": null,
      "margin": null,
      "max_height": null,
      "max_width": null,
      "min_height": null,
      "min_width": null,
      "object_fit": null,
      "object_position": null,
      "order": null,
      "overflow": null,
      "overflow_x": null,
      "overflow_y": null,
      "padding": null,
      "right": null,
      "top": null,
      "visibility": null,
      "width": null
     }
    },
    "dc89e0f2e73f4791812eff7fc05cb63b": {
     "model_module": "@jupyter-widgets/controls",
     "model_module_version": "1.5.0",
     "model_name": "FloatProgressModel",
     "state": {
      "_dom_classes": [],
      "_model_module": "@jupyter-widgets/controls",
      "_model_module_version": "1.5.0",
      "_model_name": "FloatProgressModel",
      "_view_count": null,
      "_view_module": "@jupyter-widgets/controls",
      "_view_module_version": "1.5.0",
      "_view_name": "ProgressView",
      "bar_style": "success",
      "description": "",
      "description_tooltip": null,
      "layout": "IPY_MODEL_d7b2ca129e064a0dae2e809b1cc8d177",
      "max": 1000,
      "min": 0,
      "orientation": "horizontal",
      "style": "IPY_MODEL_343b5f6a1fc240ad8c09c5da8103028f",
      "value": 1000
     }
    },
    "ddd5e30b0d104bb380700f81d6fcf9a3": {
     "model_module": "@jupyter-widgets/controls",
     "model_module_version": "1.5.0",
     "model_name": "FloatProgressModel",
     "state": {
      "_dom_classes": [],
      "_model_module": "@jupyter-widgets/controls",
      "_model_module_version": "1.5.0",
      "_model_name": "FloatProgressModel",
      "_view_count": null,
      "_view_module": "@jupyter-widgets/controls",
      "_view_module_version": "1.5.0",
      "_view_name": "ProgressView",
      "bar_style": "success",
      "description": "",
      "description_tooltip": null,
      "layout": "IPY_MODEL_dac1229ae3b84c7c89768d09333bd2e3",
      "max": 11,
      "min": 0,
      "orientation": "horizontal",
      "style": "IPY_MODEL_5a8f41aa565b4214b6ff8a92455e5070",
      "value": 11
     }
    },
    "def9c9a6ac5b41359b3ab6a63ab1757a": {
     "model_module": "@jupyter-widgets/controls",
     "model_module_version": "1.5.0",
     "model_name": "DescriptionStyleModel",
     "state": {
      "_model_module": "@jupyter-widgets/controls",
      "_model_module_version": "1.5.0",
      "_model_name": "DescriptionStyleModel",
      "_view_count": null,
      "_view_module": "@jupyter-widgets/base",
      "_view_module_version": "1.2.0",
      "_view_name": "StyleView",
      "description_width": ""
     }
    },
    "e3b5f473d3234ceeb36a5a97eb1acd39": {
     "model_module": "@jupyter-widgets/controls",
     "model_module_version": "1.5.0",
     "model_name": "FloatProgressModel",
     "state": {
      "_dom_classes": [],
      "_model_module": "@jupyter-widgets/controls",
      "_model_module_version": "1.5.0",
      "_model_name": "FloatProgressModel",
      "_view_count": null,
      "_view_module": "@jupyter-widgets/controls",
      "_view_module_version": "1.5.0",
      "_view_name": "ProgressView",
      "bar_style": "success",
      "description": "",
      "description_tooltip": null,
      "layout": "IPY_MODEL_99105200dd7b4ce0803d69920d3cf1dc",
      "max": 10000,
      "min": 0,
      "orientation": "horizontal",
      "style": "IPY_MODEL_ecb1a0e5fc2b4ea78f93791134f0b03d",
      "value": 10000
     }
    },
    "ecb1a0e5fc2b4ea78f93791134f0b03d": {
     "model_module": "@jupyter-widgets/controls",
     "model_module_version": "1.5.0",
     "model_name": "ProgressStyleModel",
     "state": {
      "_model_module": "@jupyter-widgets/controls",
      "_model_module_version": "1.5.0",
      "_model_name": "ProgressStyleModel",
      "_view_count": null,
      "_view_module": "@jupyter-widgets/base",
      "_view_module_version": "1.2.0",
      "_view_name": "StyleView",
      "bar_color": null,
      "description_width": ""
     }
    },
    "f0b25bc405fa46d1be09e3f36cec1d17": {
     "model_module": "@jupyter-widgets/controls",
     "model_module_version": "1.5.0",
     "model_name": "DescriptionStyleModel",
     "state": {
      "_model_module": "@jupyter-widgets/controls",
      "_model_module_version": "1.5.0",
      "_model_name": "DescriptionStyleModel",
      "_view_count": null,
      "_view_module": "@jupyter-widgets/base",
      "_view_module_version": "1.2.0",
      "_view_name": "StyleView",
      "description_width": ""
     }
    },
    "f3fe44ecb7e042cd8aeed44d99128d05": {
     "model_module": "@jupyter-widgets/controls",
     "model_module_version": "1.5.0",
     "model_name": "HTMLModel",
     "state": {
      "_dom_classes": [],
      "_model_module": "@jupyter-widgets/controls",
      "_model_module_version": "1.5.0",
      "_model_name": "HTMLModel",
      "_view_count": null,
      "_view_module": "@jupyter-widgets/controls",
      "_view_module_version": "1.5.0",
      "_view_name": "HTMLView",
      "description": "",
      "description_tooltip": null,
      "layout": "IPY_MODEL_b9cf670eebe943ffa420257b840822f0",
      "placeholder": "​",
      "style": "IPY_MODEL_f484cd844b6e4d3eb8a62f21d90ba284",
      "value": "100%"
     }
    },
    "f484cd844b6e4d3eb8a62f21d90ba284": {
     "model_module": "@jupyter-widgets/controls",
     "model_module_version": "1.5.0",
     "model_name": "DescriptionStyleModel",
     "state": {
      "_model_module": "@jupyter-widgets/controls",
      "_model_module_version": "1.5.0",
      "_model_name": "DescriptionStyleModel",
      "_view_count": null,
      "_view_module": "@jupyter-widgets/base",
      "_view_module_version": "1.2.0",
      "_view_name": "StyleView",
      "description_width": ""
     }
    },
    "fdea8cc280a3493b82c5b7b707d699a3": {
     "model_module": "@jupyter-widgets/controls",
     "model_module_version": "1.5.0",
     "model_name": "HTMLModel",
     "state": {
      "_dom_classes": [],
      "_model_module": "@jupyter-widgets/controls",
      "_model_module_version": "1.5.0",
      "_model_name": "HTMLModel",
      "_view_count": null,
      "_view_module": "@jupyter-widgets/controls",
      "_view_module_version": "1.5.0",
      "_view_name": "HTMLView",
      "description": "",
      "description_tooltip": null,
      "layout": "IPY_MODEL_36a5f2f7eb1f452d82a9f62476d54355",
      "placeholder": "​",
      "style": "IPY_MODEL_40fc8e69662748cc9f05498ffb3df2ef",
      "value": " 5/5 [00:07&lt;00:00,  2.01s/it]"
     }
    }
   }
  }
 },
 "nbformat": 4,
 "nbformat_minor": 1
}
