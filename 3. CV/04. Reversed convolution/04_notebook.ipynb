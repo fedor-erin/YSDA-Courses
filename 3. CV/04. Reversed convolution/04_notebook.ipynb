{
 "cells": [
  {
   "cell_type": "code",
   "execution_count": 1,
   "metadata": {},
   "outputs": [
    {
     "data": {
      "text/plain": [
       "('1.18.5', '3.8.3')"
      ]
     },
     "execution_count": 1,
     "metadata": {},
     "output_type": "execute_result"
    }
   ],
   "source": [
    "import numpy as np\n",
    "import pandas as pd\n",
    "import pickle\n",
    "from skimage.io import imread, imsave\n",
    "from skimage import img_as_ubyte\n",
    "from matplotlib import pyplot as plt\n",
    "from collections import Counter\n",
    "\n",
    "from platform import python_version\n",
    "\n",
    "%matplotlib inline\n",
    "\n",
    "np.__version__, python_version()"
   ]
  },
  {
   "cell_type": "markdown",
   "metadata": {},
   "source": [
    "### gaussian_kernel"
   ]
  },
  {
   "cell_type": "code",
   "execution_count": 43,
   "metadata": {},
   "outputs": [],
   "source": [
    "def gaussian_kernel(size, sigma):\n",
    "    \"\"\"\n",
    "    Построение ядра фильтра Гаусса.\n",
    "\n",
    "    @param  size  int    размер фильтра (нечетный)\n",
    "    @param  sigma float  параметр размытия\n",
    "    @return numpy array  фильтр Гаусса размером size x size\n",
    "    \"\"\"\n",
    "    center = size // 2\n",
    "    x_grid, y_grid = np.mgrid[:size, :size]\n",
    "    dists = np.sqrt((x_grid - center)**2 + (y_grid - center)**2)\n",
    "    gaussian_filter = 1 / (2 * np.pi * sigma**2) * np.exp(- dists**2 / (2 * sigma**2))\n",
    "    gaussian_filter = gaussian_filter / np.sum(gaussian_filter)\n",
    "    return gaussian_filter"
   ]
  },
  {
   "cell_type": "code",
   "execution_count": 44,
   "metadata": {},
   "outputs": [
    {
     "data": {
      "text/plain": [
       "array([[0.00296902, 0.01330621, 0.02193823, 0.01330621, 0.00296902],\n",
       "       [0.01330621, 0.0596343 , 0.09832033, 0.0596343 , 0.01330621],\n",
       "       [0.02193823, 0.09832033, 0.16210282, 0.09832033, 0.02193823],\n",
       "       [0.01330621, 0.0596343 , 0.09832033, 0.0596343 , 0.01330621],\n",
       "       [0.00296902, 0.01330621, 0.02193823, 0.01330621, 0.00296902]])"
      ]
     },
     "execution_count": 44,
     "metadata": {},
     "output_type": "execute_result"
    }
   ],
   "source": [
    "gaussian_kernel(size=5, sigma=1)"
   ]
  },
  {
   "cell_type": "markdown",
   "metadata": {},
   "source": [
    "### fourier_transform"
   ]
  },
  {
   "cell_type": "code",
   "execution_count": 154,
   "metadata": {},
   "outputs": [],
   "source": [
    "from scipy.fft import fft2\n",
    "\n",
    "def fourier_transform(h, shape):\n",
    "    \"\"\"\n",
    "    Получение Фурье-образа искажающей функции\n",
    "\n",
    "    @param  h            numpy array  искажающая функция h (ядро свертки)\n",
    "    @param  shape        list         требуемый размер образа\n",
    "    @return numpy array  H            Фурье-образ искажающей функции h\n",
    "    \"\"\"\n",
    "    return fft2(h, s=shape)"
   ]
  },
  {
   "cell_type": "code",
   "execution_count": 155,
   "metadata": {},
   "outputs": [
    {
     "data": {
      "text/plain": [
       "array([[1.-0.j, 1.+0.j, 1.-0.j],\n",
       "       [1.+0.j, 1.+0.j, 1.-0.j],\n",
       "       [1.-0.j, 1.+0.j, 1.-0.j]])"
      ]
     },
     "execution_count": 155,
     "metadata": {},
     "output_type": "execute_result"
    }
   ],
   "source": [
    "fourier_transform([[1]], [3, 3])"
   ]
  },
  {
   "cell_type": "markdown",
   "metadata": {},
   "source": [
    "### inverse_kernel"
   ]
  },
  {
   "cell_type": "code",
   "execution_count": 177,
   "metadata": {},
   "outputs": [],
   "source": [
    "def inverse_kernel(H, threshold=1e-10):\n",
    "    \"\"\"\n",
    "    Получение H_inv\n",
    "\n",
    "    @param  H            numpy array    Фурье-образ искажающей функции h\n",
    "    @param  threshold    float          порог отсечения для избежания деления на 0\n",
    "    @return numpy array  H_inv\n",
    "    \"\"\"\n",
    "    H_inv = np.zeros(H.shape, dtype=np.complex64)\n",
    "    mask = (np.abs(H) > threshold)\n",
    "    H_inv[mask] = 1 / H[mask]\n",
    "    return H_inv"
   ]
  },
  {
   "cell_type": "code",
   "execution_count": 178,
   "metadata": {},
   "outputs": [
    {
     "data": {
      "text/plain": [
       "array([[ 0.1 +0.j  , -0.  +0.1j ,  0.01+0.j  ,  0.  +0.j  ],\n",
       "       [ 0.  +0.j  ,  0.  +0.j  ,  0.  +0.j  ,  0.01+0.j  ],\n",
       "       [ 0.  -0.01j,  0.  +0.j  ,  0.1 +0.j  ,  0.04+0.08j]],\n",
       "      dtype=complex64)"
      ]
     },
     "execution_count": 178,
     "metadata": {},
     "output_type": "execute_result"
    }
   ],
   "source": [
    "inverse_kernel(np.array([\n",
    "    [10.,   -10.j, 100, 2.j],\n",
    "    [2.j,   5.j,   0,   100.],\n",
    "    [100.j, 1.j,   10., 5. - 10.j]\n",
    "]), threshold=5)"
   ]
  },
  {
   "cell_type": "markdown",
   "metadata": {},
   "source": [
    "### inverse_filtering"
   ]
  },
  {
   "cell_type": "code",
   "execution_count": 242,
   "metadata": {},
   "outputs": [],
   "source": [
    "from scipy.fft import ifft2\n",
    "\n",
    "def inverse_filtering(blurred_img, h, threshold=1e-10):\n",
    "    \"\"\"\n",
    "    Метод инверсной фильтрации\n",
    "\n",
    "    @param  blurred_img    numpy array  искаженное изображение\n",
    "    @param  h              numpy array  искажающая функция\n",
    "    @param  threshold      float        параметр получения H_inv\n",
    "    @return numpy array                 восстановленное изображение\n",
    "    \"\"\"\n",
    "    G = fourier_transform(blurred_img, blurred_img.shape)\n",
    "    H = fourier_transform(h, G.shape)\n",
    "    H_inv = inverse_kernel(H, threshold)\n",
    "    F = G * H_inv\n",
    "    f = np.abs(ifft2(F))\n",
    "    return f"
   ]
  },
  {
   "cell_type": "code",
   "execution_count": 245,
   "metadata": {},
   "outputs": [
    {
     "data": {
      "text/plain": [
       "array([[1., 2., 3.],\n",
       "       [4., 5., 6.],\n",
       "       [7., 8., 9.]])"
      ]
     },
     "execution_count": 245,
     "metadata": {},
     "output_type": "execute_result"
    }
   ],
   "source": [
    "inverse_filtering(np.array([\n",
    "    [1, 2, 3],\n",
    "    [4, 5, 6],\n",
    "    [7, 8, 9]\n",
    "]), np.array([[1]]), threshold=0)"
   ]
  },
  {
   "cell_type": "markdown",
   "metadata": {},
   "source": [
    "### wiener_filtering"
   ]
  },
  {
   "cell_type": "code",
   "execution_count": 252,
   "metadata": {},
   "outputs": [],
   "source": [
    "def wiener_filtering(blurred_img, h, K=0):\n",
    "    \"\"\"\n",
    "    Винеровская фильтрация\n",
    "\n",
    "    @param  blurred_img    numpy array  искаженное изображение\n",
    "    @param  h              numpy array  искажающая функция\n",
    "    @param  K              float        константа из выражения (8)\n",
    "    @return numpy array                 восстановленное изображение\n",
    "    \"\"\"\n",
    "    G = fourier_transform(blurred_img, blurred_img.shape)\n",
    "    H = fourier_transform(h, G.shape)\n",
    "    H_conj = np.conjugate(H)\n",
    "    H_square = H_conj * H\n",
    "    F = H_conj / (H_square + K) * G\n",
    "    f = np.abs(ifft2(F))\n",
    "    return f"
   ]
  },
  {
   "cell_type": "code",
   "execution_count": 253,
   "metadata": {},
   "outputs": [
    {
     "data": {
      "text/plain": [
       "array([[1.11022302e-16, 1.00000000e+00, 1.11022302e-16],\n",
       "       [1.00000000e+00, 1.00000000e+00, 1.00000000e+00],\n",
       "       [1.66533454e-16, 1.00000000e+00, 1.66533454e-16]])"
      ]
     },
     "execution_count": 253,
     "metadata": {},
     "output_type": "execute_result"
    }
   ],
   "source": [
    "wiener_filtering(np.array([\n",
    "        [0.4, 0.4, 0.6],\n",
    "        [0.4, 0.4, 0.6],\n",
    "        [0.6, 0.6, 1.]\n",
    "    ]), np.array([\n",
    "        [0,   0.2, 0],\n",
    "        [0.2, 0.2, 0.2],\n",
    "        [0,   0.2, 0]\n",
    "    ]))"
   ]
  },
  {
   "cell_type": "markdown",
   "metadata": {},
   "source": [
    "### compute_psnr"
   ]
  },
  {
   "cell_type": "code",
   "execution_count": 292,
   "metadata": {},
   "outputs": [],
   "source": [
    "def compute_psnr(img1, img2):\n",
    "    \"\"\"\n",
    "    PSNR metric\n",
    "\n",
    "    @param  img1    numpy array   оригинальное изображение\n",
    "    @param  img2    numpy array   искаженное изображение\n",
    "    @return float   PSNR(img1, img2)\n",
    "    \"\"\"\n",
    "    h, w = img1.shape\n",
    "    MSE = np.sum((img1 - img2)**2) / (h*w)\n",
    "    PSNR = 20 * np.log10(255 / np.sqrt(MSE))\n",
    "    return PSNR"
   ]
  },
  {
   "cell_type": "code",
   "execution_count": 293,
   "metadata": {},
   "outputs": [
    {
     "data": {
      "text/plain": [
       "43.69382861635198"
      ]
     },
     "execution_count": 293,
     "metadata": {},
     "output_type": "execute_result"
    }
   ],
   "source": [
    "compute_psnr(np.array([\n",
    "        [1, 2, 3],\n",
    "        [4, 0, 6],\n",
    "        [7, 8, 9]\n",
    "    ]), np.array([\n",
    "        [1, 2, 3],\n",
    "        [4, 5, 6],\n",
    "        [7, 8, 9]\n",
    "    ]))"
   ]
  },
  {
   "cell_type": "markdown",
   "metadata": {},
   "source": [
    "### optimal K for wiener_filtering"
   ]
  },
  {
   "cell_type": "code",
   "execution_count": 299,
   "metadata": {},
   "outputs": [],
   "source": [
    "original_img = np.load('tests/06_unittest_filtering_constant_input/original_img.npy')\n",
    "noisy_img = np.load('tests/06_unittest_filtering_constant_input/noisy_img.npy')\n",
    "\n",
    "kernel = gaussian_kernel(size=15, sigma=5)"
   ]
  },
  {
   "cell_type": "code",
   "execution_count": 316,
   "metadata": {},
   "outputs": [],
   "source": [
    "res = []\n",
    "for K in np.linspace(0,0.01,100):\n",
    "    filtered_img = wiener_filtering(noisy_img, kernel, K=K)\n",
    "    res.append((K, compute_psnr(filtered_img, original_img) - compute_psnr(noisy_img, original_img)))"
   ]
  },
  {
   "cell_type": "code",
   "execution_count": 317,
   "metadata": {},
   "outputs": [
    {
     "data": {
      "text/plain": [
       "[(0.00010101010101010101, 10.24266167903923),\n",
       " (0.00020202020202020202, 9.759180476815132),\n",
       " (0.00030303030303030303, 9.36357855058651),\n",
       " (0.00040404040404040404, 9.047576858179283),\n",
       " (0.000505050505050505, 8.78752490778686)]"
      ]
     },
     "execution_count": 317,
     "metadata": {},
     "output_type": "execute_result"
    }
   ],
   "source": [
    "sorted(res, key=lambda x: x[1], reverse=True)[:5]"
   ]
  },
  {
   "cell_type": "code",
   "execution_count": null,
   "metadata": {},
   "outputs": [],
   "source": []
  }
 ],
 "metadata": {
  "kernelspec": {
   "display_name": "Python 3",
   "language": "python",
   "name": "python3"
  },
  "language_info": {
   "codemirror_mode": {
    "name": "ipython",
    "version": 3
   },
   "file_extension": ".py",
   "mimetype": "text/x-python",
   "name": "python",
   "nbconvert_exporter": "python",
   "pygments_lexer": "ipython3",
   "version": "3.8.3"
  }
 },
 "nbformat": 4,
 "nbformat_minor": 4
}
